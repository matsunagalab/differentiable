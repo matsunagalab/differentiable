{
 "cells": [
  {
   "cell_type": "markdown",
   "id": "ba56db51-c51f-4797-a801-181417497ac0",
   "metadata": {},
   "source": [
    "## シミュレーションを流し、学習するファイル"
   ]
  },
  {
   "cell_type": "code",
   "execution_count": 1,
   "id": "8846cd84-d95a-40bf-90bf-bf1b8d528d77",
   "metadata": {},
   "outputs": [
    {
     "data": {
      "text/plain": [
       "5000000"
      ]
     },
     "execution_count": 1,
     "metadata": {},
     "output_type": "execute_result"
    }
   ],
   "source": [
    "#path\n",
    "pdb_filepath = \"./alanine-dipeptide-nowater.pdb\"\n",
    "ff_filepath  = \"./output.xml\" #startのffのパス\n",
    "out_dir = \"./outdir/\"\n",
    "isdir(out_dir) || mkdir(out_dir)\n",
    "\n",
    "#setting\n",
    "username = \"ysako\" #自分のusername\n",
    "n_jobs = 5 #並列して流すシミュレーションの数\n",
    "nsteps = 5000000 #シミュレーションのステップ数\n",
    "epoch_n = 0 #epoch_nは学習を繰り返した数"
   ]
  },
  {
   "cell_type": "code",
   "execution_count": 2,
   "id": "c4689b95-d72e-4bbc-8416-17bcd80b854e",
   "metadata": {},
   "outputs": [
    {
     "data": {
      "text/plain": [
       "run_job (generic function with 1 method)"
      ]
     },
     "execution_count": 2,
     "metadata": {},
     "output_type": "execute_result"
    }
   ],
   "source": [
    "# 一つのシミュレーションを流すジョブスクリプト\n",
    "# ff_filepath　　　  :xml formatの力場ファイルのパス\n",
    "# epoch_dir         :アウトプットするディレクトリのパス\n",
    "# i                 :流すシミュレーションの通し番号\n",
    "\n",
    "function run_job(ff_filepath, epoch_n, epoch_dir, i)\n",
    "    sbatch_file = \"temp_epoch$(epoch_n)_$(i).sh\"\n",
    "    traj_filepath = joinpath(epoch_dir, \"traj\")\n",
    "    \n",
    "    open(sbatch_file, \"w\") do of\n",
    "        println(of, \"#!/bin/bash\")\n",
    "        println(of, \"#SBATCH -p all\")\n",
    "        println(of, \"#SBATCH -J sim$(i) # job name\")\n",
    "        println(of, \"#SBATCH -n 1  # num of total mpi processes\")\n",
    "        println(of, \"#SBATCH -c 1  # num of threads per mpi processes\")\n",
    "        println(of, \"#SBATCH -o $(epoch_dir)/run$(i).log\")\n",
    "        println(of, \"#SBATCH -w n4\")\n",
    "        println(of, \"python sim.py $(pdb_filepath) $(ff_filepath) $(traj_filepath)$(i) $(nsteps)\")\n",
    "    end\n",
    "    run(`sbatch $(sbatch_file)`)\n",
    "    sleep(5)\n",
    "    rm(sbatch_file)\n",
    "end"
   ]
  },
  {
   "cell_type": "code",
   "execution_count": 3,
   "id": "2da2ba59-a84b-4a5d-930d-9309cbee9131",
   "metadata": {},
   "outputs": [
    {
     "data": {
      "text/plain": [
       "run_jobs (generic function with 1 method)"
      ]
     },
     "execution_count": 3,
     "metadata": {},
     "output_type": "execute_result"
    }
   ],
   "source": [
    "#epoch_n\n",
    "function run_jobs(epoch_n)\n",
    "    epoch_dir = joinpath(out_dir, \"epoch_$(epoch_n)\") #epoch_nで出力するディレクトリ\n",
    "    isdir(epoch_dir) || mkdir(epoch_dir)\n",
    "\n",
    "    completed = false #全てのシミュレーションを終えたらtrueに\n",
    "\n",
    "    #njobsの数だけシミュレーションを並列に流す\n",
    "    for i in 1:n_jobs\n",
    "        run_job(ff_filepath, epoch_n, epoch_dir, i)\n",
    "    end\n",
    "\n",
    "    #シミュレーションが全て終わるまで待機\n",
    "    while(!completed)\n",
    "        n_completed = n_jobs - length(readlines(`squeue -u $(username)`)) + 1 #終了したシミュレーションの数\n",
    "        #シミュレーションが終わっていないとき\n",
    "        if(n_completed < n_jobs)\n",
    "            println(\"--- $(n_completed) of $(n_jobs) jobs completed\")\n",
    "            sleep(120) #2分待機\n",
    "        #全てのシミュレーションが終わったとき\n",
    "        else\n",
    "            completed = true\n",
    "        end\n",
    "    end\n",
    "    println(\"--- all jobs completed\")\n",
    "end"
   ]
  },
  {
   "cell_type": "code",
   "execution_count": null,
   "id": "90835f9e-08de-4527-a2bb-c3ce6de80f8e",
   "metadata": {},
   "outputs": [
    {
     "name": "stdout",
     "output_type": "stream",
     "text": [
      "Submitted batch job 101\n",
      "Submitted batch job 102\n",
      "Submitted batch job 103\n",
      "Submitted batch job 104\n",
      "Submitted batch job 105\n",
      "--- -1 of 5 jobs completed\n",
      "--- -1 of 5 jobs completed\n",
      "--- -1 of 5 jobs completed\n",
      "--- -1 of 5 jobs completed\n",
      "--- -1 of 5 jobs completed\n",
      "--- -1 of 5 jobs completed\n",
      "--- -1 of 5 jobs completed\n",
      "--- -1 of 5 jobs completed\n",
      "--- -1 of 5 jobs completed\n",
      "--- -1 of 5 jobs completed\n",
      "--- -1 of 5 jobs completed\n",
      "--- -1 of 5 jobs completed\n",
      "--- -1 of 5 jobs completed\n",
      "--- -1 of 5 jobs completed\n",
      "--- -1 of 5 jobs completed\n",
      "--- -1 of 5 jobs completed\n",
      "--- -1 of 5 jobs completed\n",
      "--- -1 of 5 jobs completed\n",
      "--- -1 of 5 jobs completed\n",
      "--- -1 of 5 jobs completed\n",
      "--- -1 of 5 jobs completed\n",
      "--- -1 of 5 jobs completed\n",
      "--- -1 of 5 jobs completed\n",
      "--- -1 of 5 jobs completed\n",
      "--- -1 of 5 jobs completed\n",
      "--- -1 of 5 jobs completed\n",
      "--- -1 of 5 jobs completed\n",
      "--- -1 of 5 jobs completed\n",
      "--- -1 of 5 jobs completed\n",
      "--- -1 of 5 jobs completed\n",
      "--- -1 of 5 jobs completed\n",
      "--- -1 of 5 jobs completed\n",
      "--- -1 of 5 jobs completed\n",
      "--- -1 of 5 jobs completed\n",
      "--- -1 of 5 jobs completed\n",
      "--- -1 of 5 jobs completed\n",
      "--- -1 of 5 jobs completed\n",
      "--- -1 of 5 jobs completed\n",
      "--- -1 of 5 jobs completed\n",
      "--- -1 of 5 jobs completed\n",
      "--- -1 of 5 jobs completed\n",
      "--- -1 of 5 jobs completed\n",
      "--- -1 of 5 jobs completed\n",
      "--- -1 of 5 jobs completed\n",
      "--- -1 of 5 jobs completed\n",
      "--- -1 of 5 jobs completed\n",
      "--- -1 of 5 jobs completed\n",
      "--- -1 of 5 jobs completed\n",
      "--- -1 of 5 jobs completed\n",
      "--- -1 of 5 jobs completed\n",
      "--- -1 of 5 jobs completed\n",
      "--- -1 of 5 jobs completed\n",
      "--- -1 of 5 jobs completed\n",
      "--- -1 of 5 jobs completed\n",
      "--- -1 of 5 jobs completed\n",
      "--- -1 of 5 jobs completed\n",
      "--- -1 of 5 jobs completed\n",
      "--- -1 of 5 jobs completed\n",
      "--- -1 of 5 jobs completed\n",
      "--- -1 of 5 jobs completed\n",
      "--- -1 of 5 jobs completed\n",
      "--- -1 of 5 jobs completed\n",
      "--- -1 of 5 jobs completed\n",
      "--- -1 of 5 jobs completed\n",
      "--- -1 of 5 jobs completed\n",
      "--- -1 of 5 jobs completed\n",
      "--- -1 of 5 jobs completed\n",
      "--- -1 of 5 jobs completed\n",
      "--- -1 of 5 jobs completed\n",
      "--- -1 of 5 jobs completed\n",
      "--- -1 of 5 jobs completed\n",
      "--- -1 of 5 jobs completed\n",
      "--- -1 of 5 jobs completed\n",
      "--- -1 of 5 jobs completed\n",
      "--- -1 of 5 jobs completed\n",
      "--- -1 of 5 jobs completed\n",
      "--- -1 of 5 jobs completed\n",
      "--- -1 of 5 jobs completed\n",
      "--- -1 of 5 jobs completed\n",
      "--- -1 of 5 jobs completed\n",
      "--- -1 of 5 jobs completed\n",
      "--- -1 of 5 jobs completed\n",
      "--- -1 of 5 jobs completed\n",
      "--- -1 of 5 jobs completed\n",
      "--- -1 of 5 jobs completed\n",
      "--- -1 of 5 jobs completed\n",
      "--- -1 of 5 jobs completed\n",
      "--- -1 of 5 jobs completed\n",
      "--- -1 of 5 jobs completed\n",
      "--- -1 of 5 jobs completed\n",
      "--- -1 of 5 jobs completed\n",
      "--- -1 of 5 jobs completed\n",
      "--- -1 of 5 jobs completed\n",
      "--- -1 of 5 jobs completed\n",
      "--- -1 of 5 jobs completed\n",
      "--- -1 of 5 jobs completed\n",
      "--- -1 of 5 jobs completed\n",
      "--- -1 of 5 jobs completed\n",
      "--- -1 of 5 jobs completed\n",
      "--- -1 of 5 jobs completed\n",
      "--- -1 of 5 jobs completed\n",
      "--- -1 of 5 jobs completed\n",
      "--- -1 of 5 jobs completed\n",
      "--- -1 of 5 jobs completed\n",
      "--- -1 of 5 jobs completed\n",
      "--- -1 of 5 jobs completed\n",
      "--- -1 of 5 jobs completed\n",
      "--- -1 of 5 jobs completed\n",
      "--- -1 of 5 jobs completed\n",
      "--- -1 of 5 jobs completed\n",
      "--- -1 of 5 jobs completed\n",
      "--- -1 of 5 jobs completed\n",
      "--- -1 of 5 jobs completed\n",
      "--- -1 of 5 jobs completed\n",
      "--- -1 of 5 jobs completed\n",
      "--- -1 of 5 jobs completed\n",
      "--- -1 of 5 jobs completed\n",
      "--- -1 of 5 jobs completed\n",
      "--- -1 of 5 jobs completed\n",
      "--- -1 of 5 jobs completed\n",
      "--- -1 of 5 jobs completed\n",
      "--- -1 of 5 jobs completed\n",
      "--- -1 of 5 jobs completed\n",
      "--- -1 of 5 jobs completed\n",
      "--- -1 of 5 jobs completed\n",
      "--- -1 of 5 jobs completed\n",
      "--- -1 of 5 jobs completed\n",
      "--- -1 of 5 jobs completed\n",
      "--- -1 of 5 jobs completed\n",
      "--- -1 of 5 jobs completed\n",
      "--- -1 of 5 jobs completed\n",
      "--- -1 of 5 jobs completed\n",
      "--- -1 of 5 jobs completed\n",
      "--- -1 of 5 jobs completed\n",
      "--- -1 of 5 jobs completed\n",
      "--- -1 of 5 jobs completed\n",
      "--- -1 of 5 jobs completed\n",
      "--- -1 of 5 jobs completed\n",
      "--- -1 of 5 jobs completed\n",
      "--- -1 of 5 jobs completed\n",
      "--- -1 of 5 jobs completed\n",
      "--- -1 of 5 jobs completed\n",
      "--- -1 of 5 jobs completed\n",
      "--- -1 of 5 jobs completed\n",
      "--- -1 of 5 jobs completed\n",
      "--- -1 of 5 jobs completed\n",
      "--- -1 of 5 jobs completed\n",
      "--- -1 of 5 jobs completed\n",
      "--- -1 of 5 jobs completed\n",
      "--- -1 of 5 jobs completed\n",
      "--- -1 of 5 jobs completed\n",
      "--- -1 of 5 jobs completed\n"
     ]
    }
   ],
   "source": [
    "epoch_n = 1\n",
    "run_jobs(epoch_n)"
   ]
  },
  {
   "cell_type": "code",
   "execution_count": 17,
   "id": "b126e3e3-b36a-46b3-a9de-c67ae1a800a2",
   "metadata": {},
   "outputs": [
    {
     "data": {
      "text/plain": [
       "6-element Vector{String}:\n",
       " \"             JOBID PARTITION   \" ⋯ 22 bytes ⋯ \"   TIME  NODES NODELIST(REASON)\"\n",
       " \"                83       all     sim1    ysako  R       2:16      1 n4\"\n",
       " \"                84       all     sim2    ysako  R       2:11      1 n4\"\n",
       " \"                85       all     sim3    ysako  R       2:06      1 n4\"\n",
       " \"                86       all     sim4    ysako  R       2:01      1 n4\"\n",
       " \"                87       all     sim5    ysako  R       1:56      1 n4\""
      ]
     },
     "execution_count": 17,
     "metadata": {},
     "output_type": "execute_result"
    }
   ],
   "source": [
    "readlines(`squeue -u $(username)`)"
   ]
  },
  {
   "cell_type": "code",
   "execution_count": null,
   "id": "8355c2d8-5a5e-4a08-b9a0-a428146fe0d2",
   "metadata": {},
   "outputs": [],
   "source": []
  }
 ],
 "metadata": {
  "kernelspec": {
   "display_name": "Julia 1.9.3",
   "language": "julia",
   "name": "julia-1.9"
  },
  "language_info": {
   "file_extension": ".jl",
   "mimetype": "application/julia",
   "name": "julia",
   "version": "1.9.3"
  }
 },
 "nbformat": 4,
 "nbformat_minor": 5
}
