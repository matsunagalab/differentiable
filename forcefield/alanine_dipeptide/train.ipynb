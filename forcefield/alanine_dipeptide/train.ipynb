{
 "cells": [
  {
   "cell_type": "markdown",
   "id": "ba56db51-c51f-4797-a801-181417497ac0",
   "metadata": {},
   "source": [
    "## シミュレーションを流し、学習するファイル"
   ]
  },
  {
   "cell_type": "code",
   "execution_count": 14,
   "id": "8846cd84-d95a-40bf-90bf-bf1b8d528d77",
   "metadata": {},
   "outputs": [
    {
     "data": {
      "text/plain": [
       "0.01"
      ]
     },
     "execution_count": 14,
     "metadata": {},
     "output_type": "execute_result"
    }
   ],
   "source": [
    "#path\n",
    "pdb_filepath = \"./alanine-dipeptide-nowater.pdb\" #pdbのパス\n",
    "ff_start_filepath  = \"./GB99dms_start.xml\" #startのffのパス\n",
    "out_dir = \"./outdir/\" #出力するディレクトリ\n",
    "isdir(out_dir) || mkdir(out_dir)\n",
    "\n",
    "#setting\n",
    "username = \"ysako\" #自分のusername\n",
    "n_jobs = 5 #並列して流すシミュレーションの数\n",
    "nsteps = 100000 #シミュレーションのステップ数\n",
    "\n",
    "maximum_update_ratio = 0.01 #forcefieldをどの程度変えるか"
   ]
  },
  {
   "cell_type": "markdown",
   "id": "fd4a1b3e-2b2a-401e-8d94-123746918ce2",
   "metadata": {},
   "source": [
    "## 現在のepochの情報"
   ]
  },
  {
   "cell_type": "code",
   "execution_count": 5,
   "id": "ec205899-461e-433f-a573-9117920b5f7b",
   "metadata": {},
   "outputs": [
    {
     "data": {
      "text/plain": [
       "\"./outdir/epoch_1/forcefield\""
      ]
     },
     "execution_count": 5,
     "metadata": {},
     "output_type": "execute_result"
    }
   ],
   "source": [
    "epoch_n = 1 # 現在のエポック\n",
    "epoch_dir = joinpath(out_dir, \"epoch_$(epoch_n)\") #epochごとにディレクトリを作る\n",
    "isdir(epoch_dir) || mkdir(epoch_dir)\n",
    "ff_dir = joinpath(epoch_dir, \"forcefield\") #シミュレーションに用いるffのディレクトリのパス\n",
    "isdir(ff_dir) || mkdir(ff_dir)"
   ]
  },
  {
   "cell_type": "markdown",
   "id": "5c7874ee-d48e-4c71-8a87-58587c08b683",
   "metadata": {},
   "source": [
    "## 最初のforcefieldからシミュレーションに用いるxmlファイルを作成"
   ]
  },
  {
   "cell_type": "code",
   "execution_count": 6,
   "id": "aa497b26-b996-4d8d-a68d-63aecb991440",
   "metadata": {},
   "outputs": [],
   "source": [
    "for i in 1:n_jobs\n",
    "    ff_filepath = ff_start_filepath\n",
    "    ff_output_xml_filepath = joinpath(ff_dir, \"epoch_$(epoch_n)_$(i).xml\")\n",
    "    ff_output_txt_filepath = joinpath(ff_dir, \"epoch_$(epoch_n)_$(i).txt\")\n",
    "    if i == 1\n",
    "        run(`python convert_xml_to_txt.py $(ff_filepath) $(ff_output_txt_filepath)`)\n",
    "        run(`cp $(ff_filepath) $(ff_output_xml_filepath)`)\n",
    "    else\n",
    "        run(`python create_ff.py $(ff_filepath) $(ff_output_xml_filepath) $(ff_output_txt_filepath) $(maximum_update_ratio)`)\n",
    "    end\n",
    "end"
   ]
  },
  {
   "cell_type": "markdown",
   "id": "67fe90bc-b301-449d-bc35-1a569f904f95",
   "metadata": {},
   "source": [
    "## targetと現在のパラメータがどの程度ずれているか"
   ]
  },
  {
   "cell_type": "code",
   "execution_count": 7,
   "id": "9059d8e7-d0dc-43ec-82ba-9c07106a2605",
   "metadata": {},
   "outputs": [
    {
     "data": {
      "text/plain": [
       "output_ff_parameter (generic function with 1 method)"
      ]
     },
     "execution_count": 7,
     "metadata": {},
     "output_type": "execute_result"
    }
   ],
   "source": [
    "# txtファイルから力場パラメータを取り出す関数\n",
    "function output_ff_parameter(ff_input_txt_filepath)\n",
    "    f = open(ff_input_txt_filepath, \"r\")\n",
    "    datalist = readlines(f)\n",
    "    close\n",
    "        \n",
    "    #output\n",
    "    theta_zero_phi = []\n",
    "    k_phi = []\n",
    "    n_phi = []\n",
    "    theta_zero_psi = []\n",
    "    k_psi = []\n",
    "    n_psi = []\n",
    "    \n",
    "    current = \"PHI\"   \n",
    "    #create phi parameter\n",
    "    for line in datalist\n",
    "        if(line == \"PHI_PARAMETER\")\n",
    "            continue\n",
    "        #\"PSI_PARAMETER\"が現れたらcurrent->\"PSI\"\n",
    "        elseif(line == \"PSI_PARAMETER\")\n",
    "            current = \"PSI\"\n",
    "            continue\n",
    "        end        \n",
    "        #parameterを配列に格納していく\n",
    "        #phi\n",
    "        if(current == \"PHI\")\n",
    "            if(occursin(r\"type.*\", split(line)[1]))\n",
    "                continue\n",
    "            elseif(occursin(r\"periodicity.*\", split(line)[1]))\n",
    "                push!(n_phi, parse(Float64, split(line)[2]))\n",
    "            elseif(occursin(r\"phase.*\", split(line)[1]))\n",
    "                push!(theta_zero_phi, parse(Float64, split(line)[2]))\n",
    "            elseif(occursin(r\"k.*\", split(line)[1]))\n",
    "                push!(k_phi, parse(Float64, split(line)[2]))\n",
    "            else\n",
    "                println(\"ERROR\")\n",
    "            end\n",
    "        end \n",
    "        #psi\n",
    "        if(current == \"PSI\")\n",
    "            if(occursin(r\"type.*\", split(line)[1]))\n",
    "                continue\n",
    "            elseif(occursin(r\"periodicity.*\", split(line)[1]))\n",
    "                push!(n_psi, parse(Float64, split(line)[2]))\n",
    "            elseif(occursin(r\"phase.*\", split(line)[1]))\n",
    "                push!(theta_zero_psi, parse(Float64, split(line)[2]))\n",
    "            elseif(occursin(r\"k.*\", split(line)[1]))\n",
    "                push!(k_psi, parse(Float64, split(line)[2]))\n",
    "            else\n",
    "                println(\"ERROR\")\n",
    "            end\n",
    "        end\n",
    "    end\n",
    "    return theta_zero_phi, k_phi, n_phi, theta_zero_psi, k_psi, n_psi\n",
    "end"
   ]
  },
  {
   "cell_type": "code",
   "execution_count": 20,
   "id": "99ee4b78-8e0f-45e9-9cab-c2d3bfd7c286",
   "metadata": {},
   "outputs": [
    {
     "name": "stdout",
     "output_type": "stream",
     "text": [
      "phi_dif = sum((k_phi_target .- k_phi_current) .^ 2) = 0.003292228289939123\n",
      "psi_dif = sum((k_psi_target .- k_psi_current) .^ 2) = 0.013468668279455153\n"
     ]
    },
    {
     "data": {
      "text/plain": [
       "0.013468668279455153"
      ]
     },
     "execution_count": 20,
     "metadata": {},
     "output_type": "execute_result"
    }
   ],
   "source": [
    "target_ff_filepath = \"./target.txt\"\n",
    "_, k_phi_target, _, _, k_psi_target, _ = output_ff_parameter(target_ff_filepath)\n",
    "\n",
    "current_ff_filepath = joinpath(ff_dir, \"epoch_$(epoch_n)_1.txt\")\n",
    "_, k_phi_current, _, _, k_psi_current, _ = output_ff_parameter(current_ff_filepath)\n",
    "\n",
    "@show phi_dif = sum((k_phi_target .- k_phi_current) .^ 2)\n",
    "@show psi_dif = sum((k_psi_target .- k_psi_current) .^ 2)"
   ]
  },
  {
   "cell_type": "markdown",
   "id": "db59bf3a-ccf8-4c9f-bb4c-acfdea567965",
   "metadata": {},
   "source": [
    "## シミュレーション"
   ]
  },
  {
   "cell_type": "code",
   "execution_count": 11,
   "id": "c4689b95-d72e-4bbc-8416-17bcd80b854e",
   "metadata": {},
   "outputs": [
    {
     "data": {
      "text/plain": [
       "run_job (generic function with 1 method)"
      ]
     },
     "execution_count": 11,
     "metadata": {},
     "output_type": "execute_result"
    }
   ],
   "source": [
    "# 一つのシミュレーションを流すジョブスクリプト\n",
    "# ff_filepath　　　  :xml formatの力場ファイルのパス\n",
    "# epoch_dir         :アウトプットするディレクトリのパス\n",
    "# i                 :流すシミュレーションの通し番号\n",
    "\n",
    "function run_job(ff_filepath, epoch_n, out_traj_dir, i)\n",
    "    sbatch_file = \"temp_epoch$(epoch_n)_$(i).sh\"\n",
    "    traj_filepath = joinpath(out_traj_dir, \"traj\")\n",
    "    \n",
    "    open(sbatch_file, \"w\") do of\n",
    "        println(of, \"#!/bin/bash\")\n",
    "        println(of, \"#SBATCH -p all\")\n",
    "        println(of, \"#SBATCH -J sim$(i) # job name\")\n",
    "        println(of, \"#SBATCH -n 1  # num of total mpi processes\")\n",
    "        println(of, \"#SBATCH -c 1  # num of threads per mpi processes\")\n",
    "        println(of, \"#SBATCH -o $(out_traj_dir)/run$(i).log\")\n",
    "        println(of, \"#SBATCH -w n4\")\n",
    "        println(of, \"python sim.py $(pdb_filepath) $(ff_filepath) $(traj_filepath)$(i) $(nsteps)\")\n",
    "    end\n",
    "    run(`sbatch $(sbatch_file)`)\n",
    "    sleep(5)\n",
    "    rm(sbatch_file)\n",
    "end"
   ]
  },
  {
   "cell_type": "code",
   "execution_count": 12,
   "id": "2da2ba59-a84b-4a5d-930d-9309cbee9131",
   "metadata": {},
   "outputs": [
    {
     "data": {
      "text/plain": [
       "run_jobs (generic function with 1 method)"
      ]
     },
     "execution_count": 12,
     "metadata": {},
     "output_type": "execute_result"
    }
   ],
   "source": [
    "#epoch_n\n",
    "function run_jobs(epoch_n)\n",
    "    epoch_dir = joinpath(out_dir, \"epoch_$(epoch_n)\") #epoch_nで出力するディレクトリ\n",
    "    isdir(epoch_dir) || mkdir(epoch_dir)\n",
    "\n",
    "    out_traj_dir = joinpath(epoch_dir, \"traj\")\n",
    "    isdir(out_traj_dir) || mkdir(out_traj_dir)\n",
    "    \n",
    "    completed = false #全てのシミュレーションを終えたらtrueに\n",
    "\n",
    "    ff_dir = joinpath(epoch_dir, \"forcefield\") #xml formatのディレクトリ\n",
    "    #njobsの数だけシミュレーションを並列に流す\n",
    "    for i in 1:n_jobs\n",
    "        ff_filepath = joinpath(ff_dir, \"epoch_$(epoch_n)_$(i).xml\")\n",
    "        run_job(ff_filepath, epoch_n, out_traj_dir, i)\n",
    "    end\n",
    "\n",
    "    #シミュレーションが全て終わるまで待機\n",
    "    while(!completed)\n",
    "        n_completed = n_jobs - length(readlines(`squeue -u $(username)`)) + 1 #終了したシミュレーションの数\n",
    "        #シミュレーションが終わっていないとき\n",
    "        if(n_completed < n_jobs)\n",
    "            println(\"--- $(n_completed) of $(n_jobs) jobs completed\")\n",
    "            sleep(120) #2分待機\n",
    "        #全てのシミュレーションが終わったとき\n",
    "        else\n",
    "            completed = true\n",
    "        end\n",
    "    end\n",
    "    println(\"--- all jobs completed\")\n",
    "end"
   ]
  },
  {
   "cell_type": "code",
   "execution_count": null,
   "id": "90835f9e-08de-4527-a2bb-c3ce6de80f8e",
   "metadata": {},
   "outputs": [
    {
     "name": "stdout",
     "output_type": "stream",
     "text": [
      "Submitted batch job 152\n",
      "Submitted batch job 153\n",
      "Submitted batch job 154\n",
      "Submitted batch job 155\n",
      "Submitted batch job 157\n",
      "--- 0 of 5 jobs completed\n",
      "--- 0 of 5 jobs completed\n",
      "--- 0 of 5 jobs completed\n",
      "--- 0 of 5 jobs completed\n",
      "--- 0 of 5 jobs completed\n",
      "--- 0 of 5 jobs completed\n",
      "--- 0 of 5 jobs completed\n",
      "--- 0 of 5 jobs completed\n",
      "--- 0 of 5 jobs completed\n",
      "--- 0 of 5 jobs completed\n",
      "--- 0 of 5 jobs completed\n",
      "--- 0 of 5 jobs completed\n"
     ]
    }
   ],
   "source": [
    "epoch_n = 1\n",
    "@time run_jobs(epoch_n)"
   ]
  },
  {
   "cell_type": "markdown",
   "id": "fc0d3a9f-1377-4b80-a0ed-d8b76b0f965a",
   "metadata": {},
   "source": [
    "## dcdファイルをtxtファイルに変換"
   ]
  },
  {
   "cell_type": "code",
   "execution_count": 22,
   "id": "e2f64cd5-dee2-4270-ad88-247ab2a56cea",
   "metadata": {},
   "outputs": [],
   "source": [
    "input_dir = joinpath(epoch_dir, \"traj\")\n",
    "output_dir = joinpath(epoch_dir, \"dihedral\")\n",
    "isdir(output_dir) || mkdir(output_dir)\n",
    "for i in 1:n_jobs\n",
    "    dcd_filepath = joinpath(input_dir, \"traj$(i).dcd\")\n",
    "    output_filepath = joinpath(output_dir, \"traj$(i).txt\")\n",
    "    run(`python create_dihedral_traj.py $(pdb_filepath) $(dcd_filepath) $(output_filepath)`)\n",
    "end"
   ]
  },
  {
   "cell_type": "code",
   "execution_count": 21,
   "id": "2a36bf39-6d63-4daf-ac66-cc372cb14ac3",
   "metadata": {},
   "outputs": [
    {
     "data": {
      "text/plain": [
       "\"./outdir/epoch_1\""
      ]
     },
     "execution_count": 21,
     "metadata": {},
     "output_type": "execute_result"
    }
   ],
   "source": [
    "epoch_dir"
   ]
  },
  {
   "cell_type": "code",
   "execution_count": null,
   "id": "fd57a5b6-a2e2-4531-90ce-7241de71b805",
   "metadata": {},
   "outputs": [],
   "source": []
  }
 ],
 "metadata": {
  "kernelspec": {
   "display_name": "Julia 1.9.3",
   "language": "julia",
   "name": "julia-1.9"
  },
  "language_info": {
   "file_extension": ".jl",
   "mimetype": "application/julia",
   "name": "julia",
   "version": "1.9.3"
  }
 },
 "nbformat": 4,
 "nbformat_minor": 5
}
