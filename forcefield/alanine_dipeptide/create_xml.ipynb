{
 "cells": [
  {
   "cell_type": "markdown",
   "id": "30527147-fd7b-4179-a92a-ad6f284c9914",
   "metadata": {},
   "source": [
    "## テスト用のxmlフォーマットの力場を作るノートブック"
   ]
  },
  {
   "cell_type": "markdown",
   "id": "0db03d46-be70-4bfd-84c0-d8a4741d8902",
   "metadata": {},
   "source": [
    "- inputは元々のxmlファイル\n",
    "- outputは変換後のxmlファイルと変更箇所のtxtファイル"
   ]
  },
  {
   "cell_type": "code",
   "execution_count": 114,
   "id": "c0c104a8-0156-40f1-9591-850cd83cd0f1",
   "metadata": {},
   "outputs": [],
   "source": [
    "import xml.etree.ElementTree as ET\n",
    "import itertools\n",
    "import random\n",
    "import copy\n",
    "import re\n",
    "import os"
   ]
  },
  {
   "cell_type": "code",
   "execution_count": 133,
   "id": "34d96687-e192-4472-a87a-325521a3c602",
   "metadata": {},
   "outputs": [],
   "source": [
    "#path\n",
    "pdb_filepath = \"./alanine-dipeptide-nowater.pdb\"\n",
    "ff_input_filepath  = \"./GB99dms.xml\"\n",
    "ff_output_xml_filepath = \"./output.xml\"\n",
    "ff_output_txt_filepath = \"./output.txt\"\n",
    "\n",
    "epoch_n = 1 #今何epoch目かを表す変数"
   ]
  },
  {
   "cell_type": "code",
   "execution_count": 132,
   "id": "40ae091c-65fe-4a28-b424-fd2c4c05883c",
   "metadata": {},
   "outputs": [],
   "source": [
    "#parameter\n",
    "maximum_update_ratio = 0.03 #最大でffのパラメータをどの程度変えるか"
   ]
  },
  {
   "cell_type": "code",
   "execution_count": 98,
   "id": "309fd889-7657-42c2-a0b2-e2d9ea9a2565",
   "metadata": {},
   "outputs": [],
   "source": [
    "#atom_type\n",
    "phi_atom_type = [['C'], ['N'], ['CT'], ['C']]\n",
    "psi_atom_type = [['N'], ['CT'], ['C'], ['N']]"
   ]
  },
  {
   "cell_type": "markdown",
   "id": "590a5b08-affd-44c8-8166-f13800cc1ec8",
   "metadata": {},
   "source": [
    "## input xml format"
   ]
  },
  {
   "cell_type": "code",
   "execution_count": 99,
   "id": "8f9194aa-f974-45ab-8fa1-e217d9de88b8",
   "metadata": {},
   "outputs": [],
   "source": [
    "tree = copy.deepcopy(ET.parse(ff_input_filepath)) #xml formatのff\n",
    "root = tree.getroot()"
   ]
  },
  {
   "cell_type": "code",
   "execution_count": 100,
   "id": "194d0cb9-3e5c-4c82-bf08-7d306cadd91f",
   "metadata": {},
   "outputs": [],
   "source": [
    "# XMLから'PeriodicTorsionForce'を検索\n",
    "for torsion in root.iter('PeriodicTorsionForce'):\n",
    "\n",
    "    #各要素の中から、phiとpsiに関するパラメータを検索\n",
    "    for ff_local in torsion:\n",
    "        #print(list(ff_local.attrib.values())[0:4]) [0:4]でスライスすることで、アトムタイプを取り出す\n",
    "        #phiに関係する二面角のパラメータを取り出す\n",
    "        if list(ff_local.attrib.values())[0:4] == list(itertools.chain.from_iterable(phi_atom_type)):\n",
    "            phi_ff_element = ff_local #xml.etree.ElementTree.Element型でphiに関連する行を抜き出す\n",
    "            \n",
    "        #psiに関係する二面角のパラメータを取り出す\n",
    "        if list(ff_local.attrib.values())[0:4] == list(itertools.chain.from_iterable(psi_atom_type)):        \n",
    "            psi_ff_element = ff_local"
   ]
  },
  {
   "cell_type": "code",
   "execution_count": 101,
   "id": "1f5e8855-81f6-401b-8a71-07c18b83d0ea",
   "metadata": {},
   "outputs": [
    {
     "data": {
      "text/plain": [
       "xml.etree.ElementTree.Element"
      ]
     },
     "execution_count": 101,
     "metadata": {},
     "output_type": "execute_result"
    }
   ],
   "source": [
    "type(phi_ff_element)"
   ]
  },
  {
   "cell_type": "code",
   "execution_count": 102,
   "id": "7b160474-12bb-43df-9367-8db6eb47e9a8",
   "metadata": {},
   "outputs": [],
   "source": [
    "#辞書型でパラメータの値を取り出す\n",
    "phi_ff_param_original = copy.deepcopy(phi_ff_element.attrib)\n",
    "psi_ff_param_original = copy.deepcopy(psi_ff_element.attrib)"
   ]
  },
  {
   "cell_type": "code",
   "execution_count": 103,
   "id": "4f0fb125-67a7-4cda-80f3-dd3629dfafa8",
   "metadata": {},
   "outputs": [
    {
     "name": "stdout",
     "output_type": "stream",
     "text": [
      "<class 'dict'>\n"
     ]
    },
    {
     "data": {
      "text/plain": [
       "{'type1': 'C',\n",
       " 'type2': 'N',\n",
       " 'type3': 'CT',\n",
       " 'type4': 'C',\n",
       " 'periodicity1': '1',\n",
       " 'phase1': '0.0',\n",
       " 'k1': '-0.1396954369058983',\n",
       " 'periodicity2': '2',\n",
       " 'phase2': '0.0',\n",
       " 'k2': '1.4020721749174487',\n",
       " 'periodicity3': '3',\n",
       " 'phase3': '0.0',\n",
       " 'k3': '2.2722793075263983',\n",
       " 'periodicity4': '4',\n",
       " 'phase4': '0.0',\n",
       " 'k4': '0.33249158784820976',\n",
       " 'periodicity5': '2',\n",
       " 'phase5': '1.5707963267948966',\n",
       " 'k5': '1.669819011164073'}"
      ]
     },
     "execution_count": 103,
     "metadata": {},
     "output_type": "execute_result"
    }
   ],
   "source": [
    "print(type(phi_ff_param))\n",
    "phi_ff_param"
   ]
  },
  {
   "cell_type": "code",
   "execution_count": 104,
   "id": "5fa700d8-2d6e-4c2b-ac7d-4b348dfd8b0b",
   "metadata": {},
   "outputs": [],
   "source": [
    "#create forcefield\n",
    "phi_ff_param_updated = dict()\n",
    "psi_ff_param_updated = dict()\n",
    "\n",
    "for key, value in phi_ff_param_original.items():\n",
    "    #keyで条件分岐\n",
    "    #type\n",
    "    if re.search(r'type.*', key):\n",
    "        phi_ff_param_updated[key] = value\n",
    "        continue\n",
    "    #periodicity\n",
    "    if re.search(r'periodicity.*', key):\n",
    "        phi_ff_param_updated[key] = value\n",
    "        continue\n",
    "    #phase\n",
    "    if re.search(r'phase.*', key):\n",
    "        phi_ff_param_updated[key] = value\n",
    "        continue\n",
    "    #k\n",
    "    if re.search(r'k.*', key):\n",
    "        k = float(value)\n",
    "        #[-maximum_update_ratio, maximum_update_ratio]の範囲の乱数\n",
    "        rnd = random.uniform(-maximum_update_ratio, maximum_update_ratio)\n",
    "        k = k * (1 + rnd)\n",
    "        phi_ff_param_updated[key] = str(k)\n",
    "        continue\n",
    "\n",
    "for key, value in psi_ff_param_original.items():\n",
    "    #keyで条件分岐\n",
    "    #type\n",
    "    if re.search(r'type.*', key):\n",
    "        psi_ff_param_updated[key] = value\n",
    "        continue\n",
    "    #periodicity\n",
    "    if re.search(r'periodicity.*', key):\n",
    "        psi_ff_param_updated[key] = value\n",
    "        continue\n",
    "    #phase\n",
    "    if re.search(r'phase.*', key):\n",
    "        psi_ff_param_updated[key] = value\n",
    "        continue\n",
    "    #k\n",
    "    if re.search(r'k.*', key):\n",
    "        k = float(value)\n",
    "        #[-maximum_update_ratio, maximum_update_ratio]の範囲の乱数\n",
    "        rnd = random.uniform(-maximum_update_ratio, maximum_update_ratio) \n",
    "        k = k * (1 + rnd)\n",
    "        psi_ff_param_updated[key] = str(k)\n",
    "        continue"
   ]
  },
  {
   "cell_type": "code",
   "execution_count": 105,
   "id": "253be904-0821-46f2-b39f-0ba748bea938",
   "metadata": {},
   "outputs": [],
   "source": [
    "#create xml file\n",
    "tree = copy.deepcopy(ET.parse(ff_input_filepath)) #xml formatのff\n",
    "root = tree.getroot()"
   ]
  },
  {
   "cell_type": "code",
   "execution_count": 106,
   "id": "f3312aee-3f8f-4209-90a3-24bb035f686b",
   "metadata": {},
   "outputs": [],
   "source": [
    "# XMLから'PeriodicTorsionForce'を検索\n",
    "for torsion in root.iter('PeriodicTorsionForce'):\n",
    "\n",
    "    #各要素の中から、phiとpsiに関するパラメータを検索\n",
    "    for ff_local in torsion:\n",
    "        #print(list(ff_local.attrib.values())[0:4]) [0:4]でスライスすることで、アトムタイプを取り出す\n",
    "        #phiに関係する二面角のパラメータを取り出す\n",
    "        if list(ff_local.attrib.values())[0:4] == list(itertools.chain.from_iterable(phi_atom_type)):\n",
    "            ff_local.attrib = phi_ff_param_updated\n",
    "            \n",
    "        #psiに関係する二面角のパラメータを取り出す\n",
    "        if list(ff_local.attrib.values())[0:4] == list(itertools.chain.from_iterable(psi_atom_type)):        \n",
    "            ff_local.attrib = psi_ff_param_updated\n",
    "\n",
    "#output\n",
    "tree.write(ff_output_xml_filepath)"
   ]
  },
  {
   "cell_type": "code",
   "execution_count": 112,
   "id": "071a8163-927c-42aa-8092-8a5b0d003304",
   "metadata": {},
   "outputs": [
    {
     "data": {
      "text/plain": [
       "{'type1': 'C',\n",
       " 'type2': 'N',\n",
       " 'type3': 'CT',\n",
       " 'type4': 'C',\n",
       " 'periodicity1': '1',\n",
       " 'phase1': '0.0',\n",
       " 'k1': '-0.14138935790247983',\n",
       " 'periodicity2': '2',\n",
       " 'phase2': '0.0',\n",
       " 'k2': '1.3790236468189723',\n",
       " 'periodicity3': '3',\n",
       " 'phase3': '0.0',\n",
       " 'k3': '2.22147001071864',\n",
       " 'periodicity4': '4',\n",
       " 'phase4': '0.0',\n",
       " 'k4': '0.32333508420380236',\n",
       " 'periodicity5': '2',\n",
       " 'phase5': '1.5707963267948966',\n",
       " 'k5': '1.6794469950133148'}"
      ]
     },
     "execution_count": 112,
     "metadata": {},
     "output_type": "execute_result"
    }
   ],
   "source": [
    "phi_ff_param_updated"
   ]
  },
  {
   "cell_type": "markdown",
   "id": "f1c0924e-d147-41e8-af4c-2fd24e995601",
   "metadata": {},
   "source": [
    "## .txtファイルへの書き込み"
   ]
  },
  {
   "cell_type": "code",
   "execution_count": 127,
   "id": "e2965fe9-23fe-4165-80ea-6eea2d4e2d9f",
   "metadata": {},
   "outputs": [],
   "source": [
    "with open(ff_output_txt_filepath, 'w') as f:\n",
    "    #phiに関係する情報\n",
    "    f.write('PHI_PARAMETER\\n')\n",
    "    for key,value in phi_ff_param_updated.items():\n",
    "    \tf.write(f'{key}\\t{value}\\n')\n",
    "    #psiに関係する情報\n",
    "    f.write('PSI_PARAMETER\\n')\n",
    "    for key,value in psi_ff_param_updated.items():\n",
    "    \tf.write(f'{key}\\t{value}\\n')"
   ]
  }
 ],
 "metadata": {
  "kernelspec": {
   "display_name": "Python 3 (ipykernel)",
   "language": "python",
   "name": "python3"
  },
  "language_info": {
   "codemirror_mode": {
    "name": "ipython",
    "version": 3
   },
   "file_extension": ".py",
   "mimetype": "text/x-python",
   "name": "python",
   "nbconvert_exporter": "python",
   "pygments_lexer": "ipython3",
   "version": "3.9.16"
  }
 },
 "nbformat": 4,
 "nbformat_minor": 5
}
