{
 "cells": [
  {
   "cell_type": "code",
   "execution_count": 1,
   "id": "43576478-14b8-4b5e-bee4-ad2a4805f680",
   "metadata": {},
   "outputs": [],
   "source": [
    "import mdtraj as md\n",
    "import numpy as np\n",
    "import pandas as pd\n",
    "import csv\n",
    "import pprint\n",
    "import matplotlib.pyplot as plt"
   ]
  },
  {
   "cell_type": "code",
   "execution_count": 2,
   "id": "98ba8263-18fc-4232-9397-0ab4e79830dc",
   "metadata": {},
   "outputs": [],
   "source": [
    "t = md.load('alanine-dipeptide-nowater.pdb')"
   ]
  },
  {
   "cell_type": "code",
   "execution_count": 3,
   "id": "e599cb76-cbfb-43ba-9c2e-f93ac80060ad",
   "metadata": {
    "tags": []
   },
   "outputs": [],
   "source": [
    "top = t.topology"
   ]
  },
  {
   "cell_type": "code",
   "execution_count": 4,
   "id": "098c32cc-c2cd-427a-a716-5158d47fe880",
   "metadata": {},
   "outputs": [
    {
     "data": {
      "text/plain": [
       "mdtraj.core.trajectory.Trajectory"
      ]
     },
     "execution_count": 4,
     "metadata": {},
     "output_type": "execute_result"
    }
   ],
   "source": [
    "type(t)"
   ]
  },
  {
   "cell_type": "code",
   "execution_count": null,
   "id": "9ea15a39-b77e-4ca4-a9ca-16ec7e4bb34f",
   "metadata": {},
   "outputs": [],
   "source": [
    "traj_target_path = 'traj_org.dcd'\n",
    "traj_path = 'traj_new.dcd'\n",
    "traj_target = md.load_dcd(traj_target_path, top=top)\n",
    "traj = md.load_dcd(traj_path, top=top)"
   ]
  },
  {
   "cell_type": "code",
   "execution_count": null,
   "id": "e8a416b2-a7d4-47e7-bc96-803e95e0e7f5",
   "metadata": {},
   "outputs": [],
   "source": [
    "#phi C-N-CT-C psi N-CT-C-N\n",
    "phi_indices, psi_indices = [4, 6, 8, 14],[6, 8, 14, 16] # phiはC-N-Cα-C,psiはN-Cα-C-N\n",
    "angles_target = md.compute_dihedrals(traj_target, [phi_indices, psi_indices])\n",
    "angles = md.compute_dihedrals(traj, [phi_indices, psi_indices])"
   ]
  },
  {
   "cell_type": "code",
   "execution_count": null,
   "id": "686567df-43df-46b0-8ee2-62a595b6daab",
   "metadata": {},
   "outputs": [],
   "source": [
    "#ラマチャンドランプロット\n",
    "%matplotlib inline\n",
    "from pylab import *\n",
    "from math import pi\n",
    "\n",
    "figure()\n",
    "title('Dihedral Map: Alanine dipeptide')\n",
    "scatter(angles[:, 0], angles[:, 1], marker='x')\n",
    "cbar = colorbar()\n",
    "cbar.set_label('Time [ps]')\n",
    "xlabel(r'$\\Phi$ Angle [radians]')\n",
    "xlim(-pi, pi)\n",
    "ylabel(r'$\\Psi$ Angle [radians]')\n",
    "ylim(-pi, pi)"
   ]
  },
  {
   "cell_type": "code",
   "execution_count": null,
   "id": "f5c8cdf6-681d-4c2b-84ad-4084ecbe4161",
   "metadata": {},
   "outputs": [],
   "source": [
    "#ラマチャンドランプロット\n",
    "%matplotlib inline\n",
    "from pylab import *\n",
    "from math import pi\n",
    "\n",
    "figure()\n",
    "title('Dihedral Map: Alanine dipeptide')\n",
    "scatter(angles_target[:, 0], angles_target[:, 1], marker='x')\n",
    "cbar = colorbar()\n",
    "cbar.set_label('Time [ps]')\n",
    "xlabel(r'$\\Phi$ Angle [radians]')\n",
    "xlim(-pi, pi)\n",
    "ylabel(r'$\\Psi$ Angle [radians]')\n",
    "ylim(-pi, pi)"
   ]
  },
  {
   "cell_type": "code",
   "execution_count": null,
   "id": "b282e690-b8f8-44c2-8f8e-425c5e3bfd0d",
   "metadata": {},
   "outputs": [],
   "source": [
    "#ファイルへの書き込み\n",
    "with open('traj_target.txt', 'w') as f:\n",
    "    for i in range(angles_target.shape[0]):\n",
    "        s = f'{angles_target[i,0]}\\t{angles_target[i,1]}\\n'\n",
    "        f.write(s)"
   ]
  },
  {
   "cell_type": "code",
   "execution_count": null,
   "id": "4581dccf-9418-4965-8742-64b0e3463426",
   "metadata": {},
   "outputs": [],
   "source": [
    "with open('traj.txt', 'w') as f:\n",
    "    for i in range(angles.shape[0]):\n",
    "        s = f'{angles[i,0]}\\t{angles[i,1]}\\n'\n",
    "        f.write(s)"
   ]
  },
  {
   "cell_type": "code",
   "execution_count": null,
   "id": "3a444e32-fc5f-4433-8ad1-e267ef382d0f",
   "metadata": {},
   "outputs": [],
   "source": []
  }
 ],
 "metadata": {
  "kernelspec": {
   "display_name": "Python 3 (ipykernel)",
   "language": "python",
   "name": "python3"
  },
  "language_info": {
   "codemirror_mode": {
    "name": "ipython",
    "version": 3
   },
   "file_extension": ".py",
   "mimetype": "text/x-python",
   "name": "python",
   "nbconvert_exporter": "python",
   "pygments_lexer": "ipython3",
   "version": "3.9.16"
  }
 },
 "nbformat": 4,
 "nbformat_minor": 5
}
