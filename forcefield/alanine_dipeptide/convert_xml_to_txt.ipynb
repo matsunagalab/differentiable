{
 "cells": [
  {
   "cell_type": "markdown",
   "id": "30527147-fd7b-4179-a92a-ad6f284c9914",
   "metadata": {},
   "source": [
    "## xmlフォーマットの力場ファイルから必要な行を抜き出し.txtファイルにするノートブック"
   ]
  },
  {
   "cell_type": "code",
   "execution_count": 83,
   "id": "c0c104a8-0156-40f1-9591-850cd83cd0f1",
   "metadata": {},
   "outputs": [],
   "source": [
    "import xml.etree.ElementTree as ET\n",
    "import itertools\n",
    "import random\n",
    "import copy\n",
    "import re\n",
    "import os.path"
   ]
  },
  {
   "cell_type": "code",
   "execution_count": 73,
   "id": "34d96687-e192-4472-a87a-325521a3c602",
   "metadata": {},
   "outputs": [],
   "source": [
    "#path\n",
    "input_dir = \"./\"\n",
    "if not os.path.exists(input_dir):\n",
    "    print(\"INPUT DIRECTORY IS NOT EXIST\")\n",
    "ff_input_xml_filepath = os.path.join(input_dir, \"output.xml\") #xmlファイル\n",
    "ff_input_txt_filepath = os.path.join(input_dir, \"output.txt\") #txtファイル\n",
    "\n",
    "output_dir = \"./\"\n",
    "if not os.path.exists(output_dir):\n",
    "    os.makedirs(output_dir)\n",
    "ff_output_xml_filepath = os.path.join(output_dir, \"output.xml\") #xmlファイル"
   ]
  },
  {
   "cell_type": "code",
   "execution_count": 74,
   "id": "309fd889-7657-42c2-a0b2-e2d9ea9a2565",
   "metadata": {},
   "outputs": [],
   "source": [
    "#atom_type\n",
    "phi_atom_type = [['C'], ['N'], ['CT'], ['C']]\n",
    "psi_atom_type = [['N'], ['CT'], ['C'], ['N']]"
   ]
  },
  {
   "cell_type": "markdown",
   "id": "f03f5452-ec33-4bf5-a4d2-6824a183c01a",
   "metadata": {},
   "source": [
    "## input txt file"
   ]
  },
  {
   "cell_type": "code",
   "execution_count": 75,
   "id": "f65ff036-7ba0-40ee-92cd-21fce48786b3",
   "metadata": {},
   "outputs": [],
   "source": [
    "#txt file\n",
    "with open(ff_input_txt_filepath, \"r\") as f:\n",
    "    datalist = f.readlines()"
   ]
  },
  {
   "cell_type": "markdown",
   "id": "a4dbe622-d3b3-46d6-90a6-da8022016f3a",
   "metadata": {},
   "source": [
    "## テキストファイルの情報を辞書型に変換"
   ]
  },
  {
   "cell_type": "code",
   "execution_count": 79,
   "id": "e49bf586-5c31-4d8f-a30b-0696637b2470",
   "metadata": {},
   "outputs": [],
   "source": [
    "#create forcefield\n",
    "phi_ff_param_updated = dict()\n",
    "psi_ff_param_updated = dict()\n",
    "\n",
    "current = phi_ff_param_updated #更新する配列\n",
    "#phi_ff_param_updatedを更新\n",
    "for line in datalist:\n",
    "    if(len(line.split()) < 2 and line.split()[0] == \"PHI_PARAMETER\"):\n",
    "        continue\n",
    "    #PSI_PARAMETERが現れたらcurrent->psi_ff_param_updatedにしてcontinue\n",
    "    if(len(line.split()) < 2 and line.split()[0] == \"PSI_PARAMETER\"):\n",
    "        current = psi_ff_param_updated \n",
    "        continue\n",
    "    #辞書を更新\n",
    "    elif(line.split()[0] != \"PSI_PARAMETER\\n\"):\n",
    "        current[line.split()[0]] = line.split()[1]\n",
    "    else:\n",
    "        print(\"ERROR\")"
   ]
  },
  {
   "cell_type": "markdown",
   "id": "590a5b08-affd-44c8-8166-f13800cc1ec8",
   "metadata": {},
   "source": [
    "## input xml format"
   ]
  },
  {
   "cell_type": "code",
   "execution_count": 80,
   "id": "253be904-0821-46f2-b39f-0ba748bea938",
   "metadata": {},
   "outputs": [],
   "source": [
    "#create xml file\n",
    "tree = copy.deepcopy(ET.parse(ff_input_filepath)) #xml formatのff\n",
    "root = tree.getroot()"
   ]
  },
  {
   "cell_type": "code",
   "execution_count": 82,
   "id": "f3312aee-3f8f-4209-90a3-24bb035f686b",
   "metadata": {},
   "outputs": [],
   "source": [
    "# XMLから'PeriodicTorsionForce'を検索\n",
    "for torsion in root.iter('PeriodicTorsionForce'):\n",
    "\n",
    "    #各要素の中から、phiとpsiに関するパラメータを検索\n",
    "    for ff_local in torsion:\n",
    "        #print(list(ff_local.attrib.values())[0:4]) [0:4]でスライスすることで、アトムタイプを取り出す\n",
    "        #phiに関係する二面角のパラメータを取り出す\n",
    "        if list(ff_local.attrib.values())[0:4] == list(itertools.chain.from_iterable(phi_atom_type)):\n",
    "            ff_local.attrib = phi_ff_param_updated\n",
    "            \n",
    "        #psiに関係する二面角のパラメータを取り出す\n",
    "        if list(ff_local.attrib.values())[0:4] == list(itertools.chain.from_iterable(psi_atom_type)):        \n",
    "            ff_local.attrib = psi_ff_param_updated\n",
    "\n",
    "#output\n",
    "tree.write(ff_output_xml_filepath)"
   ]
  }
 ],
 "metadata": {
  "kernelspec": {
   "display_name": "Python 3 (ipykernel)",
   "language": "python",
   "name": "python3"
  },
  "language_info": {
   "codemirror_mode": {
    "name": "ipython",
    "version": 3
   },
   "file_extension": ".py",
   "mimetype": "text/x-python",
   "name": "python",
   "nbconvert_exporter": "python",
   "pygments_lexer": "ipython3",
   "version": "3.9.16"
  }
 },
 "nbformat": 4,
 "nbformat_minor": 5
}
