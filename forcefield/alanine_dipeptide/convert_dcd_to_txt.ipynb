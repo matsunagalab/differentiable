{
 "cells": [
  {
   "cell_type": "code",
   "execution_count": 15,
   "id": "f393f968-6ce7-4616-804d-a164790c563f",
   "metadata": {},
   "outputs": [],
   "source": [
    "import mdtraj as md\n",
    "import numpy as np\n",
    "import pandas as pd\n",
    "import csv\n",
    "import pprint\n",
    "import matplotlib.pyplot as plt\n",
    "import os\n",
    "import itertools"
   ]
  },
  {
   "cell_type": "code",
   "execution_count": 29,
   "id": "b588c12c-2656-477d-9aa3-e58a48d17baf",
   "metadata": {},
   "outputs": [],
   "source": [
    "pdb_filepath = \"./alanine-dipeptide-nowater.pdb\"\n",
    "input_dir = f'./outdir/epoch_{epoch_n}' #dcdファイルのディレクトリ\n",
    "output_dir = os.path.join(input_dir, 'dihedral')\n",
    "if not os.path.exists(output_dir):\n",
    "    os.makedirs(output_dir)\n",
    "epoch_n = 1 #現在のエポック数\n",
    "njobs = 5 #並列に流しているシミュレーション数"
   ]
  },
  {
   "cell_type": "code",
   "execution_count": 30,
   "id": "bd9f899b-f4d8-4d60-84db-ed52f30d8b0f",
   "metadata": {},
   "outputs": [],
   "source": [
    "t= md.load(pdb_filepath)\n",
    "top = t.topology"
   ]
  },
  {
   "cell_type": "markdown",
   "id": "754412da-19ff-4cac-99d3-f9d9f98d503e",
   "metadata": {},
   "source": [
    "## output dihedral"
   ]
  },
  {
   "cell_type": "code",
   "execution_count": 33,
   "id": "34ff8efc-3f88-4f36-8240-79524fc92e3d",
   "metadata": {},
   "outputs": [],
   "source": [
    "for i in range(njobs):\n",
    "    traj_path = os.path.join(traj_dir, f'traj{i+1}.dcd') #dcdファイルのpath\n",
    "    traj = md.load_dcd(traj_path, top=top) #mdtrajでdcdファイルを読み込む\n",
    "    phi_indices = list(itertools.chain.from_iterable(md.compute_phi(traj)[0])) #phiのindex\n",
    "    psi_indices = list(itertools.chain.from_iterable(md.compute_psi(traj)[0])) #psiのindex\n",
    "    angles = md.compute_dihedrals(traj, [phi_indices, psi_indices]) #dihedralのtrajデータ\n",
    "    \n",
    "    #output txt file\n",
    "    output_filepath = os.path.join(output_dir, f'traj{i+1}.txt') #出力するファイルのpath\n",
    "    with open(output_filepath, 'w') as f:\n",
    "        for i in range(angles.shape[0]):\n",
    "            s = f'{angles[i,0]}\\t{angles[i,1]}\\n'\n",
    "            f.write(s)"
   ]
  },
  {
   "cell_type": "code",
   "execution_count": 34,
   "id": "69f0741c-9c4a-46e9-bef6-a3e80ccc2b84",
   "metadata": {},
   "outputs": [],
   "source": [
    "traj_path = \"traj_target.dcd\" #dcdファイルのpath\n",
    "traj = md.load_dcd(traj_path, top=top) #mdtrajでdcdファイルを読み込む\n",
    "phi_indices = list(itertools.chain.from_iterable(md.compute_phi(traj)[0])) #phiのindex\n",
    "psi_indices = list(itertools.chain.from_iterable(md.compute_psi(traj)[0])) #psiのindex\n",
    "angles = md.compute_dihedrals(traj, [phi_indices, psi_indices]) #dihedralのtrajデータ\n",
    "\n",
    "#output txt file\n",
    "output_filepath = os.path.join(output_dir, 'traj_target.txt') #出力するファイルのpath\n",
    "with open(output_filepath, 'w') as f:\n",
    "    for i in range(angles.shape[0]):\n",
    "        s = f'{angles[i,0]}\\t{angles[i,1]}\\n'\n",
    "        f.write(s)"
   ]
  },
  {
   "cell_type": "code",
   "execution_count": null,
   "id": "096fc9a2-9e38-4420-ad00-59e2e8dad6b7",
   "metadata": {},
   "outputs": [],
   "source": []
  }
 ],
 "metadata": {
  "kernelspec": {
   "display_name": "Python 3 (ipykernel)",
   "language": "python",
   "name": "python3"
  },
  "language_info": {
   "codemirror_mode": {
    "name": "ipython",
    "version": 3
   },
   "file_extension": ".py",
   "mimetype": "text/x-python",
   "name": "python",
   "nbconvert_exporter": "python",
   "pygments_lexer": "ipython3",
   "version": "3.9.16"
  }
 },
 "nbformat": 4,
 "nbformat_minor": 5
}
