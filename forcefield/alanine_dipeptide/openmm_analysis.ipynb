{
 "cells": [
  {
   "cell_type": "code",
   "execution_count": 579,
   "id": "a8bfeb69-eeca-48fa-b9fc-055220d755e5",
   "metadata": {},
   "outputs": [],
   "source": [
    "from openmm.app import *\n",
    "from openmm import *\n",
    "from openmm.unit import *\n",
    "from openmm.app import element as E\n",
    "from math import ceil\n",
    "import os\n",
    "import sys\n",
    "import mdtraj as md\n",
    "import numpy as np\n",
    "import pandas as pd\n",
    "import csv\n",
    "import pprint\n",
    "import matplotlib.pyplot as plt\n",
    "import random\n",
    "import copy"
   ]
  },
  {
   "cell_type": "code",
   "execution_count": 580,
   "id": "eeca26e9-0a9f-4b52-9956-2e8ae590eb61",
   "metadata": {},
   "outputs": [],
   "source": [
    "pdb_filepath = \"./alanine-dipeptide-nowater.pdb\"\n",
    "ff_filepath  = \"./GB99dms.xml\""
   ]
  },
  {
   "cell_type": "code",
   "execution_count": 581,
   "id": "b0d91cd0-e34f-43a6-81c3-c49a4f8a6a19",
   "metadata": {},
   "outputs": [],
   "source": [
    "pdb = PDBFile(pdb_filepath)\n",
    "ff = ForceField(ff_filepath)\n",
    "top = pdb.topology"
   ]
  },
  {
   "cell_type": "code",
   "execution_count": 139,
   "id": "41070db9-79d8-4f3d-960e-b3ae2a075317",
   "metadata": {},
   "outputs": [],
   "source": [
    "nonbondedMethod=CutoffNonPeriodic\n",
    "dt = 0.004 # ps\n",
    "n_steps       = int(ceil(2e6 / dt)) # 2 μs\n",
    "n_steps_equil = int(ceil(10 / dt)) # 500 ps\n",
    "n_steps_save  = int(ceil(10 / dt)) # 500 ps\n",
    "temperature = 300.0 * kelvin\n",
    "kappa = 0.7 / nanometer\n",
    "friction = 1 / picosecond\n",
    "nonbondedCutoff = 2 * nanometer\n",
    "restraint_fc = 500.0 # kJ/mol\n",
    "\n",
    "system = ff.createSystem(\n",
    "    pdb.topology,\n",
    "    nonbondedMethod=nonbondedMethod,\n",
    "    nonbondedCutoff=nonbondedCutoff,\n",
    "    constraints=HBonds,\n",
    "    hydrogenMass=2*amu,\n",
    "    implicitSolventKappa=kappa,\n",
    ")"
   ]
  },
  {
   "cell_type": "code",
   "execution_count": 140,
   "id": "4078a47f-41fd-4c68-87b5-2d84fa633d91",
   "metadata": {},
   "outputs": [
    {
     "data": {
      "text/plain": [
       "[[], []]"
      ]
     },
     "execution_count": 140,
     "metadata": {},
     "output_type": "execute_result"
    }
   ],
   "source": [
    "ff.generateTemplatesForUnmatchedResidues(top) #力場が利用できない残基"
   ]
  },
  {
   "cell_type": "code",
   "execution_count": 141,
   "id": "5b36c2aa-a8b7-4012-a295-9909f4c17744",
   "metadata": {},
   "outputs": [
    {
     "data": {
      "text/plain": [
       "[<openmm.app.forcefield.HarmonicBondGenerator at 0x7f6fc2391dc0>,\n",
       " <openmm.app.forcefield.HarmonicAngleGenerator at 0x7f6fc2391df0>,\n",
       " <openmm.app.forcefield.PeriodicTorsionGenerator at 0x7f6fc2391ee0>,\n",
       " <openmm.app.forcefield.NonbondedGenerator at 0x7f6fc2391f40>]"
      ]
     },
     "execution_count": 141,
     "metadata": {},
     "output_type": "execute_result"
    }
   ],
   "source": [
    "ff.getGenerators() #全てのgeneratorをプリント"
   ]
  },
  {
   "cell_type": "code",
   "execution_count": 142,
   "id": "158bba44-af44-4e45-9f6e-f3dc55ac56a6",
   "metadata": {},
   "outputs": [
    {
     "name": "stdout",
     "output_type": "stream",
     "text": [
      "Residue 1 ACE matched template ACE\n",
      "Residue 2 ALA matched template ALA\n",
      "Residue 3 NME matched template NME\n"
     ]
    }
   ],
   "source": [
    "templates = ff.getMatchingTemplates(top,ignoreExternalBonds=False) #指定されたトポロジーの残基にマッチする力場残基テンプレートのリストを返す\n",
    "for(residue, template) in zip(top.residues(), templates):\n",
    "    print(f'Residue {residue.id} {residue.name} matched template {template.name}' )"
   ]
  },
  {
   "cell_type": "code",
   "execution_count": 143,
   "id": "3be12503-59eb-4ebd-bc60-518b96aa4a65",
   "metadata": {},
   "outputs": [
    {
     "data": {
      "text/plain": [
       "[]"
      ]
     },
     "execution_count": 143,
     "metadata": {},
     "output_type": "execute_result"
    }
   ],
   "source": [
    "ff.getUnmatchedResidues(top) #力場テンプレートが使用できない、残基のリストを返す"
   ]
  },
  {
   "cell_type": "code",
   "execution_count": 144,
   "id": "5a1cfbd1-2c81-41d0-bc80-1b60117f1a4e",
   "metadata": {},
   "outputs": [
    {
     "data": {
      "text/plain": [
       "<bound method ForceField.registerAtomType of <openmm.app.forcefield.ForceField object at 0x7f6fc05c4b80>>"
      ]
     },
     "execution_count": 144,
     "metadata": {},
     "output_type": "execute_result"
    }
   ],
   "source": [
    "ff.loadFile #指定したXMLファイルを読み込みこのFFに追加する\n",
    "ff.registerAtomType #アトムタイプの追加"
   ]
  },
  {
   "cell_type": "code",
   "execution_count": null,
   "id": "76cc9f7e-7e04-4dd4-89f6-163e7a8d9280",
   "metadata": {},
   "outputs": [],
   "source": [
    "class HarmonicBondGenerator(object):\n",
    "    \"\"\"A HarmonicBondGenerator constructs a HarmonicBondForce.\"\"\"\n",
    "\n",
    "    def __init__(self, forcefield):\n",
    "        self.ff = forcefield\n",
    "        self.bondsForAtomType = defaultdict(set)\n",
    "        self.types1 = []\n",
    "        self.types2 = []\n",
    "        self.length = []\n",
    "        self.k = []\n",
    "    \n",
    "class HarmonicAngleGenerator(object):\n",
    "    \"\"\"A HarmonicAngleGenerator constructs a HarmonicAngleForce.\"\"\"\n",
    "\n",
    "    def __init__(self, forcefield):\n",
    "        self.ff = forcefield\n",
    "        self.anglesForAtom2Type = defaultdict(list)\n",
    "        self.types1 = []\n",
    "        self.types2 = []\n",
    "        self.types3 = []\n",
    "        self.angle = []\n",
    "        self.k = []\n",
    "\n",
    "#二面角\n",
    "class PeriodicTorsion(object):\n",
    "    \"\"\"A PeriodicTorsion records the information for a periodic torsion definition.\"\"\"\n",
    "\n",
    "    def __init__(self, types):\n",
    "        self.types1 = types[0]\n",
    "        self.types2 = types[1]\n",
    "        self.types3 = types[2]\n",
    "        self.types4 = types[3]\n",
    "        self.periodicity = []\n",
    "        self.phase = []\n",
    "        self.k = []\n",
    "        self.ordering = 'default'\n",
    "\n",
    "class PeriodicTorsionGenerator(object):\n",
    "    \"\"\"A PeriodicTorsionGenerator constructs a PeriodicTorsionForce.\"\"\"\n",
    "\n",
    "    def __init__(self, forcefield):\n",
    "        self.ff = forcefield\n",
    "        self.proper = []\n",
    "        self.improper = []\n",
    "        self.propersForAtomType = defaultdict(set)\n",
    "\n",
    "class NonbondedGenerator(object):\n",
    "    \"\"\"A NonbondedGenerator constructs a NonbondedForce.\"\"\"\n",
    "\n",
    "    SCALETOL = 1e-5\n",
    "\n",
    "    def __init__(self, forcefield, coulomb14scale, lj14scale, useDispersionCorrection):\n",
    "        self.ff = forcefield\n",
    "        self.coulomb14scale = coulomb14scale\n",
    "        self.lj14scale = lj14scale\n",
    "        self.useDispersionCorrection = useDispersionCorrection\n",
    "        self.params = ForceField._AtomTypeParameters(forcefield, 'NonbondedForce', 'Atom', ('charge', 'sigma', 'epsilon'))\n",
    "\n",
    "class _AtomTypeParameters(object):\n",
    "        \"\"\"Inner class used to record parameter values for atom types.\"\"\"\n",
    "        def __init__(self, forcefield, forceName, atomTag, paramNames):\n",
    "            self.ff = forcefield\n",
    "            self.forceName = forceName\n",
    "            self.atomTag = atomTag\n",
    "            self.paramNames = paramNames\n",
    "            self.paramsForType = {}\n",
    "            self.extraParamsForType = {}"
   ]
  },
  {
   "cell_type": "code",
   "execution_count": 145,
   "id": "b683f358-9b1a-4fcf-b1c8-18a1e9217867",
   "metadata": {},
   "outputs": [],
   "source": [
    "generator = copy.deepcopy(ff.getGenerators()) #ここからffのパラメータの値を参照できる\n",
    "harmonic_bond_generator = copy.deepcopy(generator[0])\n",
    "hormonic_angle_generator = copy.deepcopy(generator[1])\n",
    "periodic_torsion_generator = copy.deepcopy(generator[2])\n",
    "non_bond_generator = copy.deepcopy(generator[3])"
   ]
  },
  {
   "cell_type": "code",
   "execution_count": 146,
   "id": "6aeb00f3-06ea-47da-8139-02830ea8a720",
   "metadata": {},
   "outputs": [
    {
     "data": {
      "text/plain": [
       "[265265.6,\n",
       " 284512.0,\n",
       " 282001.60000000003,\n",
       " 307105.6,\n",
       " 462750.39999999997,\n",
       " 267776.0,\n",
       " 267776.0,\n",
       " 259408.0,\n",
       " 259408.0,\n",
       " 284512.0]"
      ]
     },
     "execution_count": 146,
     "metadata": {},
     "output_type": "execute_result"
    }
   ],
   "source": [
    "#HarmonicBond\n",
    "harmonic_bond_generator.types1 #types1\n",
    "harmonic_bond_generator.types2 #types2\n",
    "harmonic_bond_generator.length #length\n",
    "harmonic_bond_generator.k[0:10]#k"
   ]
  },
  {
   "cell_type": "code",
   "execution_count": 147,
   "id": "b42c8aa0-ac8d-4616-9a06-964eb125d180",
   "metadata": {},
   "outputs": [
    {
     "data": {
      "text/plain": [
       "[-2.6944457920000002, -6.6866596000000005, -1.671106336, 0.3141874384]"
      ]
     },
     "execution_count": 147,
     "metadata": {},
     "output_type": "execute_result"
    }
   ],
   "source": [
    "#PeriodicTorsion\n",
    "periodic_torsion_generator.proper[1].k"
   ]
  },
  {
   "cell_type": "code",
   "execution_count": 148,
   "id": "6ab2ec52-f766-43d9-84f2-f7d8a982260b",
   "metadata": {},
   "outputs": [
    {
     "data": {
      "text/plain": [
       "{'H': {'sigma': 0.1051327626910855, 'epsilon': 0.06495320495709334},\n",
       " 'HB': {'sigma': 0.10690784617684071, 'epsilon': 0.06568879999999999},\n",
       " 'HO': {'sigma': 0.0, 'epsilon': 0.0},\n",
       " 'HS': {'sigma': 0.10690784617684071, 'epsilon': 0.06568879999999999},\n",
       " 'HC': {'sigma': 0.25861690367065504, 'epsilon': 0.06367916271616703},\n",
       " 'H1': {'sigma': 0.24577349171567348, 'epsilon': 0.06558010092036579},\n",
       " 'H2': {'sigma': 0.22931733004932334, 'epsilon': 0.06568879999999999},\n",
       " 'H3': {'sigma': 0.2114993556865165, 'epsilon': 0.06568879999999999},\n",
       " 'HP': {'sigma': 0.1964271265155058, 'epsilon': 0.0657702120349221},\n",
       " 'HA': {'sigma': 0.2606875475881734, 'epsilon': 0.06298040345497975},\n",
       " 'H4': {'sigma': 0.25105525877194756, 'epsilon': 0.06276},\n",
       " 'H5': {'sigma': 0.2421462715905442, 'epsilon': 0.06276},\n",
       " 'HW': {'sigma': 0.0, 'epsilon': 0.0},\n",
       " 'HZ': {'sigma': 0.259964245953351, 'epsilon': 0.06276},\n",
       " 'O': {'sigma': 0.29614478406579436, 'epsilon': 0.8627567000561271},\n",
       " 'OB': {'sigma': 0.2959921901149463, 'epsilon': 0.87864},\n",
       " 'O2': {'sigma': 0.2979109185211241, 'epsilon': 0.8791625616724192},\n",
       " 'OW': {'sigma': 0.3150752406575124, 'epsilon': 0.635968},\n",
       " 'OH': {'sigma': 0.3053966590352295, 'epsilon': 0.8787948627393632},\n",
       " 'O3': {'sigma': 0.30664733878390477, 'epsilon': 0.8803136},\n",
       " 'OS': {'sigma': 0.3000012343465778, 'epsilon': 0.7112800000000001},\n",
       " 'C*': {'sigma': 0.33996695084235345, 'epsilon': 0.359824},\n",
       " 'CC': {'sigma': 0.33996695084235345, 'epsilon': 0.359824},\n",
       " 'CN': {'sigma': 0.33996695084235345, 'epsilon': 0.359824},\n",
       " 'CB': {'sigma': 0.33996695084235345, 'epsilon': 0.359824},\n",
       " 'CA': {'sigma': 0.3417951135121156, 'epsilon': 0.364343225537488},\n",
       " 'CV': {'sigma': 0.33996695084235345, 'epsilon': 0.359824},\n",
       " 'CR': {'sigma': 0.33996695084235345, 'epsilon': 0.359824},\n",
       " 'CW': {'sigma': 0.33996695084235345, 'epsilon': 0.359824},\n",
       " 'CT': {'sigma': 0.3369307945637109, 'epsilon': 0.44661439792269036},\n",
       " 'C9': {'sigma': 0.3394721514661528, 'epsilon': 0.4556904032555},\n",
       " 'C8': {'sigma': 0.3394298685842723, 'epsilon': 0.45657827794938766},\n",
       " 'C': {'sigma': 0.3516335876423704, 'epsilon': 0.3813265798346199},\n",
       " 'N': {'sigma': 0.33851482206359357, 'epsilon': 0.7373227496078056},\n",
       " 'N2': {'sigma': 0.32499985237759577, 'epsilon': 0.7112800000000001},\n",
       " 'NB': {'sigma': 0.32499985237759577, 'epsilon': 0.7112800000000001},\n",
       " 'NA': {'sigma': 0.32499985237759577, 'epsilon': 0.7112800000000001},\n",
       " 'N3': {'sigma': 0.32517854513068195, 'epsilon': 0.7113815044280224},\n",
       " 'S': {'sigma': 0.3563594872561357, 'epsilon': 1.046},\n",
       " 'SH': {'sigma': 0.3563594872561357, 'epsilon': 1.046},\n",
       " 'P': {'sigma': 0.3741774616189425, 'epsilon': 0.8368000000000001},\n",
       " 'IM': {'sigma': 0.44010396676132757, 'epsilon': 0.41840000000000005},\n",
       " 'Li': {'sigma': 0.20259036850511314, 'epsilon': 0.0765672},\n",
       " 'IP': {'sigma': 0.33283976109723074, 'epsilon': 0.01158968},\n",
       " 'Na': {'sigma': 0.33283976109723074, 'epsilon': 0.01158968},\n",
       " 'K': {'sigma': 0.47360175856340436, 'epsilon': 0.001372352},\n",
       " 'Rb': {'sigma': 0.5266993221645686, 'epsilon': 0.0007112800000000001},\n",
       " 'Cs': {'sigma': 0.6049202296172903, 'epsilon': 0.00033723039999999997},\n",
       " 'MG': {'sigma': 0.14122526479960656, 'epsilon': 3.7434248000000006},\n",
       " 'C0': {'sigma': 0.30523971880924305, 'epsilon': 1.923757176},\n",
       " 'Zn': {'sigma': 0.19599771799087465, 'epsilon': 0.052300000000000006},\n",
       " 'F': {'sigma': 0.31181455134911873, 'epsilon': 0.255224},\n",
       " 'Cl': {'sigma': 0.3470941405874762, 'epsilon': 1.1087600000000002},\n",
       " 'Br': {'sigma': 0.3955590308543106, 'epsilon': 1.33888},\n",
       " 'I': {'sigma': 0.4187223975259594, 'epsilon': 1.6736000000000002},\n",
       " 'IB': {'sigma': 0.8908987181403392, 'epsilon': 0.41840000000000005},\n",
       " 'LP': {'sigma': 0.0, 'epsilon': 0.0},\n",
       " 'C7': {'sigma': 0.33996695084235345, 'epsilon': 0.4577296},\n",
       " 'C3': {'sigma': 0.33996695084235345, 'epsilon': 0.4577296},\n",
       " 'C4': {'sigma': 0.33996695084235345, 'epsilon': 0.4577296},\n",
       " 'C5': {'sigma': 0.33996695084235345, 'epsilon': 0.359824},\n",
       " 'C6': {'sigma': 0.33996695084235345, 'epsilon': 0.359824},\n",
       " 'C1': {'sigma': 0.33999999999999997, 'epsilon': 0.359824}}"
      ]
     },
     "execution_count": 148,
     "metadata": {},
     "output_type": "execute_result"
    }
   ],
   "source": [
    "#NonBondGenerator\n",
    "non_bond_generator.params.paramsForType"
   ]
  },
  {
   "cell_type": "code",
   "execution_count": 149,
   "id": "702258c6-67fa-4075-82ee-7c785c885390",
   "metadata": {},
   "outputs": [
    {
     "name": "stdout",
     "output_type": "stream",
     "text": [
      "['C'] ['C1'] 0.1522 265265.6\n",
      "['C1'] ['H1'] 0.10900000000000001 284512.0\n",
      "['C1'] ['N'] 0.1449 282001.60000000003\n",
      "['C1'] ['N3'] 0.1471 307105.6\n",
      "['HO'] ['O3'] 0.096 462750.39999999997\n",
      "['C8'] ['O3'] 0.141 267776.0\n",
      "['C8'] ['OH'] 0.141 267776.0\n",
      "['CT'] ['C8'] 0.1526 259408.0\n",
      "['CT'] ['C9'] 0.1526 259408.0\n",
      "['C9'] ['HC'] 0.10900000000000001 284512.0\n",
      "['C9'] ['H1'] 0.10900000000000001 284512.0\n",
      "['C9'] ['S'] 0.181 189953.6\n",
      "['C9'] ['C'] 0.1522 265265.6\n",
      "['C8'] ['H1'] 0.10900000000000001 284512.0\n",
      "['C8'] ['HC'] 0.10900000000000001 284512.0\n",
      "['OW'] ['HW'] 0.09572 462750.39999999997\n",
      "['HW'] ['HW'] 0.15136 462750.39999999997\n",
      "['C'] ['C'] 0.1525 259408.0\n",
      "['C'] ['CA'] 0.1409 392459.2\n",
      "['C'] ['CB'] 0.1419 374049.60000000003\n",
      "['C'] ['CM'] 0.1444 343088.0\n",
      "['C'] ['CT'] 0.1522 265265.6\n",
      "['C'] ['N'] 0.1335 410032.0\n",
      "['C'] ['N*'] 0.1383 354803.2\n",
      "['C'] ['NA'] 0.13879999999999998 349782.4\n",
      "['C'] ['NC'] 0.1358 382417.6\n",
      "['C'] ['O'] 0.12290000000000001 476976.0\n",
      "['C'] ['O2'] 0.125 548940.8\n",
      "['C'] ['OH'] 0.13640000000000002 376560.00000000006\n",
      "['C'] ['OS'] 0.1323 376560.00000000006\n",
      "['C'] ['H4'] 0.10800000000000001 307105.6\n",
      "['C'] ['H5'] 0.10800000000000001 307105.6\n",
      "['CA'] ['CA'] 0.13999999999999999 392459.2\n",
      "['CA'] ['CB'] 0.1404 392459.2\n",
      "['CA'] ['CM'] 0.1433 357313.6\n",
      "['CA'] ['CN'] 0.13999999999999999 392459.2\n",
      "['CA'] ['CT'] 0.151 265265.6\n",
      "['CA'] ['HA'] 0.10800000000000001 307105.6\n",
      "['CA'] ['H4'] 0.10800000000000001 307105.6\n",
      "['CA'] ['N2'] 0.134 402500.80000000005\n",
      "['CA'] ['NA'] 0.1381 357313.6\n",
      "['CA'] ['NC'] 0.1339 404174.4\n",
      "['CA'] ['OH'] 0.13640000000000002 376560.00000000006\n",
      "['CB'] ['CB'] 0.137 435136.00000000006\n",
      "['CB'] ['N*'] 0.13740000000000002 364844.80000000005\n",
      "['CB'] ['NB'] 0.1391 346435.2\n",
      "['CB'] ['NC'] 0.13540000000000002 385764.8\n",
      "['CD'] ['HA'] 0.10800000000000001 307105.6\n",
      "['CD'] ['CD'] 0.13999999999999999 392459.2\n",
      "['CD'] ['CM'] 0.135 459403.2\n",
      "['CD'] ['CT'] 0.151 265265.6\n",
      "['CK'] ['H5'] 0.10800000000000001 307105.6\n",
      "['CK'] ['N*'] 0.1371 368192.0\n",
      "['CK'] ['NB'] 0.13040000000000002 442667.20000000007\n",
      "['CM'] ['CM'] 0.135 459403.2\n",
      "['CM'] ['CT'] 0.151 265265.6\n",
      "['CM'] ['HA'] 0.10800000000000001 307105.6\n",
      "['CM'] ['H4'] 0.10800000000000001 307105.6\n",
      "['CM'] ['H5'] 0.10800000000000001 307105.6\n",
      "['CM'] ['N*'] 0.1365 374886.4\n",
      "['CM'] ['OS'] 0.124 401664.00000000006\n",
      "['CQ'] ['H5'] 0.10800000000000001 307105.6\n",
      "['CQ'] ['NC'] 0.13240000000000002 420073.6\n",
      "['CT'] ['CT'] 0.1526 259408.0\n",
      "['CT'] ['HC'] 0.10900000000000001 284512.0\n",
      "['CT'] ['H1'] 0.10900000000000001 284512.0\n",
      "['CT'] ['H2'] 0.10900000000000001 284512.0\n",
      "['CT'] ['H3'] 0.10900000000000001 284512.0\n",
      "['CT'] ['HP'] 0.10900000000000001 284512.0\n",
      "['CT'] ['N*'] 0.14750000000000002 282001.60000000003\n",
      "['CT'] ['N2'] 0.1463 282001.60000000003\n",
      "['CT'] ['OH'] 0.141 267776.0\n",
      "['CT'] ['OS'] 0.141 267776.0\n",
      "['C*'] ['HC'] 0.10800000000000001 307105.6\n",
      "['C*'] ['CB'] 0.1459 324678.4\n",
      "['C*'] ['CT'] 0.14950000000000002 265265.6\n",
      "['C*'] ['CW'] 0.13520000000000001 456892.8\n",
      "['CB'] ['CN'] 0.1419 374049.60000000003\n",
      "['CC'] ['CT'] 0.1504 265265.6\n",
      "['CC'] ['CV'] 0.1375 428441.60000000003\n",
      "['CC'] ['CW'] 0.1371 433462.39999999997\n",
      "['CC'] ['NA'] 0.1385 353129.60000000003\n",
      "['CC'] ['NB'] 0.1394 343088.0\n",
      "['CN'] ['NA'] 0.13799999999999998 358150.4\n",
      "['CR'] ['H5'] 0.10800000000000001 307105.6\n",
      "['CR'] ['NA'] 0.1343 399153.6\n",
      "['CR'] ['NB'] 0.1335 408358.4\n",
      "['CT'] ['N'] 0.1449 282001.60000000003\n",
      "['CT'] ['N3'] 0.1471 307105.6\n",
      "['CT'] ['NT'] 0.1471 307105.6\n",
      "['CT'] ['S'] 0.181 189953.6\n",
      "['CT'] ['SH'] 0.181 198321.6\n",
      "['CT'] ['CY'] 0.14579999999999999 334720.0\n",
      "['CT'] ['CZ'] 0.1459 334720.0\n",
      "['CV'] ['H4'] 0.10800000000000001 307105.6\n",
      "['CV'] ['NB'] 0.1394 343088.0\n",
      "['CW'] ['H4'] 0.10800000000000001 307105.6\n",
      "['CW'] ['NA'] 0.1381 357313.6\n",
      "['CY'] ['NY'] 0.11499999999999999 502080.0\n",
      "['CZ'] ['CZ'] 0.1206 502080.0\n",
      "['CZ'] ['HZ'] 0.1056 334720.0\n",
      "['O2'] ['P'] 0.148 439320.0\n",
      "['OH'] ['P'] 0.161 192464.0\n",
      "['OS'] ['P'] 0.161 192464.0\n",
      "['H'] ['N2'] 0.101 363171.2\n",
      "['H'] ['N*'] 0.101 363171.2\n",
      "['H'] ['NA'] 0.101 363171.2\n",
      "['H'] ['N'] 0.101 363171.2\n",
      "['H'] ['N3'] 0.101 363171.2\n",
      "['H'] ['NT'] 0.101 363171.2\n",
      "['HO'] ['OH'] 0.096 462750.39999999997\n",
      "['HO'] ['OS'] 0.096 462750.39999999997\n",
      "['HS'] ['SH'] 0.1336 229283.19999999998\n",
      "['S'] ['S'] 0.20379999999999998 138908.8\n",
      "['F'] ['CT'] 0.13799999999999998 307105.6\n",
      "['Cl'] ['CT'] 0.1766 194137.6\n",
      "['Br'] ['CT'] 0.1944 133051.19999999998\n",
      "['I'] ['CT'] 0.2166 123846.4\n",
      "['F'] ['CA'] 0.1359 323004.80000000005\n",
      "['Cl'] ['CA'] 0.17270000000000002 161502.40000000002\n",
      "['I'] ['CA'] 0.20750000000000002 143092.80000000002\n",
      "['Br'] ['CA'] 0.189 143929.6\n",
      "['LP'] ['O'] 0.02 502080.0\n",
      "['LP'] ['OH'] 0.02 502080.0\n",
      "['LP'] ['OS'] 0.02 502080.0\n",
      "['LP'] ['N3'] 0.02 502080.0\n",
      "['LP'] ['NT'] 0.02 502080.0\n",
      "['LP'] ['NB'] 0.02 502080.0\n",
      "['LP'] ['NC'] 0.02 502080.0\n",
      "['LP'] ['S'] 0.06999999999999999 502080.0\n",
      "['LP'] ['SH'] 0.06999999999999999 502080.0\n",
      "['C7'] ['CT'] 0.1526 259408.0\n",
      "['C'] ['C7'] 0.1522 265265.6\n",
      "['C7'] ['H1'] 0.10900000000000001 284512.0\n",
      "['C7'] ['HP'] 0.10900000000000001 284512.0\n",
      "['C7'] ['N'] 0.1449 282001.60000000003\n",
      "['C7'] ['N3'] 0.1471 307105.6\n",
      "['C3'] ['HC'] 0.10900000000000001 284512.0\n",
      "['C4'] ['HC'] 0.10900000000000001 284512.0\n",
      "['CT'] ['C3'] 0.1526 259408.0\n",
      "['CT'] ['C4'] 0.1526 259408.0\n",
      "['C6'] ['O2'] 0.125 548940.8\n",
      "['CC'] ['O2'] 0.125 548940.8\n",
      "['C5'] ['O'] 0.12290000000000001 476976.0\n",
      "['C5'] ['N'] 0.1335 410032.0\n",
      "['C5'] ['CT'] 0.1522 265265.6\n",
      "['C6'] ['CT'] 0.1522 265265.6\n",
      "['C1'] ['HP'] 0.10900000000000001 284512.0\n"
     ]
    }
   ],
   "source": [
    "#for example\n",
    "for g in ff.getGenerators():\n",
    "  if isinstance(g, app.forcefield.HarmonicBondGenerator ):\n",
    "    for i in range(len(g.types1)):\n",
    "      print(g.types1[i], g.types2[i], g.length[i], g.k[i])"
   ]
  },
  {
   "cell_type": "markdown",
   "id": "576f5219-5bc8-480b-b339-3cb1804a8e91",
   "metadata": {},
   "source": [
    "### 二面角のパラメータ修正に用いるコード"
   ]
  },
  {
   "cell_type": "code",
   "execution_count": 150,
   "id": "512a61cc-c8bd-4687-a757-63b5b7ba4df2",
   "metadata": {},
   "outputs": [
    {
     "data": {
      "text/plain": [
       "193"
      ]
     },
     "execution_count": 150,
     "metadata": {},
     "output_type": "execute_result"
    }
   ],
   "source": [
    "nff = len(periodic_torsion_generator.proper) #対象にするパラメータ数\n",
    "nff"
   ]
  },
  {
   "cell_type": "code",
   "execution_count": 151,
   "id": "512c3f36-da16-44c6-9f08-f158d02ba284",
   "metadata": {},
   "outputs": [
    {
     "data": {
      "text/plain": [
       "<openmm.app.forcefield.PeriodicTorsionGenerator at 0x7f6fc0615730>"
      ]
     },
     "execution_count": 151,
     "metadata": {},
     "output_type": "execute_result"
    }
   ],
   "source": [
    "periodic_torsion_generator"
   ]
  },
  {
   "cell_type": "code",
   "execution_count": 152,
   "id": "e48e32c5-a064-4a83-a656-ca1620d54caa",
   "metadata": {},
   "outputs": [
    {
     "name": "stdout",
     "output_type": "stream",
     "text": [
      "[['C'], ['N'], ['C1'], ['C']]\n"
     ]
    }
   ],
   "source": [
    "#create AtomType list\n",
    "import itertools\n",
    "atom_type_list = [] #AtomTypeを格納するリスト\n",
    "for i in range(nff):\n",
    "    tmp = []\n",
    "    tmp.append(periodic_torsion_generator.proper[i].types1 if type(periodic_torsion_generator.proper[i].types1) == list else ['*'] )\n",
    "    tmp.append(periodic_torsion_generator.proper[i].types2 if type(periodic_torsion_generator.proper[i].types2) == list else ['*'] )\n",
    "    tmp.append(periodic_torsion_generator.proper[i].types3 if type(periodic_torsion_generator.proper[i].types3) == list else ['*'] )\n",
    "    tmp.append(periodic_torsion_generator.proper[i].types4 if type(periodic_torsion_generator.proper[i].types4) == list else ['*'] )\n",
    "    #tmp = list(itertools.chain.from_iterable(tmp)) #二次元リストを一次元に\n",
    "    atom_type_list.append(tmp)\n",
    "\n",
    "print(atom_type_list[0])"
   ]
  },
  {
   "cell_type": "markdown",
   "id": "9b436223-c918-41c0-823c-27f7778d65be",
   "metadata": {},
   "source": [
    "### openffでのatom type"
   ]
  },
  {
   "cell_type": "code",
   "execution_count": 153,
   "id": "5714b9a8-5e8b-4d3a-89b4-4ea4b3a342bb",
   "metadata": {},
   "outputs": [
    {
     "name": "stdout",
     "output_type": "stream",
     "text": [
      "top_atom : ['H1', 'CH3', 'H2', 'H3', 'C', 'O', 'N', 'H', 'CA', 'HA', 'CB', 'HB1', 'HB2', 'HB3', 'C', 'O', 'N', 'H', 'C', 'H1', 'H2', 'H3']\n",
      "ff_atom : ['HC', 'CT', 'HC', 'HC', 'C', 'O', 'N', 'H', 'CT', 'H1', 'CT', 'HC', 'HC', 'HC', 'C', 'O', 'N', 'H', 'CT', 'H1', 'H1', 'H1']\n"
     ]
    }
   ],
   "source": [
    "top_atom = [atom.name for atom in top.atoms()] #topologyのatom type\n",
    "templates = ff.getMatchingTemplates(top) # topologyのresidueごとのtemplateのリスト\n",
    "\n",
    "data = ff._SystemData(top)\n",
    "ff._matchAllResiduesToTemplates(data, top, ff._buildBondedToAtomList(top), templates, False)\n",
    "\n",
    "ff_atom = []\n",
    "for atom in top.atoms():\n",
    "        typename = data.atomType[atom]\n",
    "        ff_atom.append(typename)\n",
    "\n",
    "print(\"top_atom :\", top_atom)\n",
    "print(\"ff_atom :\", ff_atom)"
   ]
  },
  {
   "cell_type": "markdown",
   "id": "aede1096-be7d-49c5-ab20-022206ff9fc3",
   "metadata": {},
   "source": [
    "### mdtrajからalanine_dipeptideの二面角phiとpsiのインデックスを持ってくる"
   ]
  },
  {
   "cell_type": "code",
   "execution_count": 154,
   "id": "6f470cec-5dd6-4a3d-a031-263da1e7a593",
   "metadata": {},
   "outputs": [],
   "source": [
    "#mdtraj\n",
    "#analysis alanine_dipeptide\n",
    "t= md.load('alanine-dipeptide-nowater.pdb')\n",
    "top = t.topology"
   ]
  },
  {
   "cell_type": "code",
   "execution_count": 155,
   "id": "f6cbf710-9590-4f75-a72e-ca066e8a66dc",
   "metadata": {},
   "outputs": [],
   "source": [
    "traj_target_path = 'traj_org.dcd'\n",
    "traj_path = 'traj_new.dcd'\n",
    "traj_target = md.load_dcd(traj_target_path, top=top)\n",
    "traj = md.load_dcd(traj_path, top=top)"
   ]
  },
  {
   "cell_type": "code",
   "execution_count": 156,
   "id": "983df53a-6018-422d-b5a8-a21ac5f51c60",
   "metadata": {},
   "outputs": [
    {
     "name": "stdout",
     "output_type": "stream",
     "text": [
      "0 H1\n",
      "1 CH3\n",
      "2 H2\n",
      "3 H3\n",
      "4 C\n",
      "5 O\n",
      "6 N\n",
      "7 H\n",
      "8 CA\n",
      "9 HA\n",
      "10 CB\n",
      "11 HB1\n",
      "12 HB2\n",
      "13 HB3\n",
      "14 C\n",
      "15 O\n",
      "16 N\n",
      "17 H\n",
      "18 C\n",
      "19 H1\n",
      "20 H2\n",
      "21 H3\n",
      "phi_top_index : [4, 6, 8, 14]\n",
      "psi_top_index : [6, 8, 14, 16]\n",
      "phi_atom_type : [['C'], ['N'], ['CT'], ['C']]\n",
      "psi_atom_type : [['N'], ['CT'], ['C'], ['N']]\n"
     ]
    }
   ],
   "source": [
    "for i in range(top.n_atoms):\n",
    "    print( i, top.atom(i).name)\n",
    "phi_top_index = list(itertools.chain.from_iterable(md.compute_phi(traj)[0])) #toplogyでのphiのインデックス\n",
    "psi_top_index = list(itertools.chain.from_iterable(md.compute_psi(traj)[0]))\n",
    "\n",
    "print(\"phi_top_index :\", phi_top_index)\n",
    "print(\"psi_top_index :\", psi_top_index)\n",
    "\n",
    "phi_atom_type = []\n",
    "psi_atom_type = []\n",
    "\n",
    "for i in range(len(phi_top_index)):\n",
    "    phi_atom_type.append([ff_atom[phi_top_index[i]]]) #ffでのatom type\n",
    "    psi_atom_type.append([ff_atom[psi_top_index[i]]])\n",
    "\n",
    "print(\"phi_atom_type :\", phi_atom_type)\n",
    "print(\"psi_atom_type :\", psi_atom_type)"
   ]
  },
  {
   "cell_type": "markdown",
   "id": "2d77cd87-3c50-41f4-910c-b48d19587bac",
   "metadata": {},
   "source": [
    "## To do\n",
    "atom_type_listからphi_atom_typeとpsi_atom_typeを含んでいるものを出力\n",
    "ffの値を変更する\n",
    "それをxmlファイルで出力して、シミュレーションを行う"
   ]
  },
  {
   "cell_type": "code",
   "execution_count": 182,
   "id": "4b1c422f-46bb-4427-941b-6e4904884aee",
   "metadata": {},
   "outputs": [
    {
     "name": "stdout",
     "output_type": "stream",
     "text": [
      "[113]\n"
     ]
    }
   ],
   "source": [
    "pdb = PDBFile(pdb_filepath)\n",
    "ff = ForceField(ff_filepath)\n",
    "top = pdb.topology\n",
    "\n",
    "phi_ff_index = [] #ffでphiに関係するパラメータのインデックス\n",
    "psi_ff_index = [] #ffでpsiに関係するパラメータのインデックス\n",
    "for i in range(len(atom_type_list)):\n",
    "    if(atom_type_list[i] == phi_atom_type):\n",
    "        phi_ff_index.append(i)\n",
    "    if(atom_type_list[i] == psi_atom_type):\n",
    "        psi_ff_index.append(i)\n",
    "\n",
    "print(phi_ff_index)"
   ]
  },
  {
   "cell_type": "markdown",
   "id": "d9784a7d-ba0a-4b07-ac60-d94563434c86",
   "metadata": {},
   "source": [
    "## create ff"
   ]
  },
  {
   "cell_type": "code",
   "execution_count": 183,
   "id": "ae29c02f-e184-4fae-99e6-55eb15f13c74",
   "metadata": {},
   "outputs": [
    {
     "name": "stdout",
     "output_type": "stream",
     "text": [
      "{'types1': ['C'], 'types2': ['N'], 'types3': ['CT'], 'types4': ['C'], 'periodicity': [1, 2, 3, 4, 2], 'phase': [0.0, 0.0, 0.0, 0.0, 1.5707963267948966], 'k': [-0.13725408041057408, 1.3803857819285754, 2.339932407964332, 0.3283656547765962, 1.6668558389770463], 'ordering': 'default'}\n",
      "{'types1': ['C'], 'types2': ['N'], 'types3': ['CT'], 'types4': ['C'], 'periodicity': [], 'phase': [], 'k': [], 'ordering': 'default'}\n"
     ]
    }
   ],
   "source": [
    "phi_original = periodic_torsion_generator.proper[phi_ff_index[0]] #ffでphiに関するtorsionの力場パラメータの行を抜き出す\n",
    "psi_original = periodic_torsion_generator.proper[psi_ff_index[0]] #ffでpsiに関するtorsionの力場パラメータの行を抜き出す\n",
    "\n",
    "#空のインスタンスを作成\n",
    "phi_updated = app.forcefield.PeriodicTorsion(phi_atom_type) \n",
    "psi_updated = app.forcefield.PeriodicTorsion(psi_atom_type)\n",
    "\n",
    "print(vars(phi_original))\n",
    "print(vars(phi_updated))"
   ]
  },
  {
   "cell_type": "code",
   "execution_count": 184,
   "id": "b3cccc4b-51cb-4236-83c7-df3d8203d076",
   "metadata": {},
   "outputs": [
    {
     "name": "stdout",
     "output_type": "stream",
     "text": [
      "-0.020189204705566618\n"
     ]
    }
   ],
   "source": [
    "maximum_update_ratio = 0.03 #[0, maximum_update_ratio]の範囲でパラメータの値を変える\n",
    "rnd = random.uniform(-maximum_update_ratio, maximum_update_ratio) #[0, maximum_update_ratio]の範囲の乱数\n",
    "print(rnd)"
   ]
  },
  {
   "cell_type": "code",
   "execution_count": 185,
   "id": "b0bd0b04-9247-483e-87e1-5120f670fb6b",
   "metadata": {},
   "outputs": [],
   "source": [
    "#periodicity\n",
    "phi_updated.periodicity = phi_original.periodicity\n",
    "psi_updated.periodicity = psi_original.periodicity\n",
    "\n",
    "#phase\n",
    "phi_updated.phase = phi_original.phase\n",
    "psi_updated.phase = psi_original.phase"
   ]
  },
  {
   "cell_type": "code",
   "execution_count": 186,
   "id": "b4e32351-3e08-47a1-b8e1-f52b83e5ed11",
   "metadata": {},
   "outputs": [
    {
     "data": {
      "text/plain": [
       "<openmm.app.forcefield.PeriodicTorsion at 0x7f6fc2088d30>"
      ]
     },
     "execution_count": 186,
     "metadata": {},
     "output_type": "execute_result"
    }
   ],
   "source": [
    "phi_updated"
   ]
  },
  {
   "cell_type": "code",
   "execution_count": 187,
   "id": "4ed46247-28af-45a7-962b-80694148fa0f",
   "metadata": {},
   "outputs": [],
   "source": [
    "#k\n",
    "#今回はkのみ変える\n",
    "for i in range(len(phi_original.k)):\n",
    "    rnd = random.uniform(-maximum_update_ratio, maximum_update_ratio) #最大でamximum_update_ratioの割合でパラメータを変える\n",
    "    phi_updated.k.append(phi_original.k[i] * (1 + rnd))\n",
    "    \n",
    "for i in range(len(psi_original.k)):\n",
    "    rnd = random.uniform(-maximum_update_ratio, maximum_update_ratio)\n",
    "    psi_updated.k.append(psi_original.k[i] * (1 + rnd))"
   ]
  },
  {
   "cell_type": "code",
   "execution_count": 343,
   "id": "b314b3e4-94ac-4d46-8113-826c250ae45a",
   "metadata": {},
   "outputs": [
    {
     "data": {
      "text/plain": [
       "{'types1': ['C'],\n",
       " 'types2': ['N'],\n",
       " 'types3': ['CT'],\n",
       " 'types4': ['C'],\n",
       " 'periodicity': [1, 2, 3, 4, 2],\n",
       " 'phase': [0.0, 0.0, 0.0, 0.0, 1.5707963267948966],\n",
       " 'k': [-0.14131023094487127,\n",
       "  1.3931040613985428,\n",
       "  2.283760283655059,\n",
       "  0.3221007267272557,\n",
       "  1.7115868963324152],\n",
       " 'ordering': 'default'}"
      ]
     },
     "execution_count": 343,
     "metadata": {},
     "output_type": "execute_result"
    }
   ],
   "source": [
    "vars(phi_updated) #辞書型"
   ]
  },
  {
   "cell_type": "code",
   "execution_count": 189,
   "id": "3ec35f72-fa4e-4011-a5c8-4df3499b9f78",
   "metadata": {},
   "outputs": [],
   "source": [
    "periodic_torsion_generator.proper[phi_ff_index[0]] = phi_updated\n",
    "periodic_torsion_generator.proper[psi_ff_index[0]] = psi_updated"
   ]
  },
  {
   "cell_type": "code",
   "execution_count": 190,
   "id": "ffba9880-d8b0-43c4-87c0-61210890087d",
   "metadata": {},
   "outputs": [],
   "source": [
    "generator[2] = periodic_torsion_generator #torsionに関するffをアップデート"
   ]
  },
  {
   "cell_type": "code",
   "execution_count": 191,
   "id": "48d66b73-f0b6-4fd5-a6e4-56f64a144b6f",
   "metadata": {},
   "outputs": [],
   "source": [
    "updated_ff = copy.deepcopy(ff) #元のffをコピー"
   ]
  },
  {
   "cell_type": "code",
   "execution_count": 192,
   "id": "597495fd-d4a5-45c1-84e6-516ff747677d",
   "metadata": {},
   "outputs": [
    {
     "data": {
      "text/plain": [
       "[-0.1396954369058983,\n",
       " 1.4020721749174487,\n",
       " 2.2722793075263983,\n",
       " 0.33249158784820976,\n",
       " 1.669819011164073]"
      ]
     },
     "execution_count": 192,
     "metadata": {},
     "output_type": "execute_result"
    }
   ],
   "source": [
    "updated_ff.getGenerators()[2].proper[phi_ff_index[0]].k #値の確認"
   ]
  },
  {
   "cell_type": "code",
   "execution_count": 193,
   "id": "a0f8080a-cd93-4f99-ab9f-3c81781354e7",
   "metadata": {},
   "outputs": [
    {
     "data": {
      "text/plain": [
       "[-0.1396954369058983,\n",
       " 1.4020721749174487,\n",
       " 2.2722793075263983,\n",
       " 0.33249158784820976,\n",
       " 1.669819011164073]"
      ]
     },
     "execution_count": 193,
     "metadata": {},
     "output_type": "execute_result"
    }
   ],
   "source": [
    "ff.getGenerators()[2].proper[phi_ff_index[0]].k #値の確認"
   ]
  },
  {
   "cell_type": "code",
   "execution_count": 194,
   "id": "947b83b5-f665-4dd1-a553-b8d334333154",
   "metadata": {},
   "outputs": [],
   "source": [
    "updated_ff.getGenerators()[2] = generator[2] #ffをアップデート"
   ]
  },
  {
   "cell_type": "code",
   "execution_count": 195,
   "id": "f78221eb-daee-4242-8b5e-dac07834a5b1",
   "metadata": {},
   "outputs": [
    {
     "data": {
      "text/plain": [
       "[-0.14131023094487127,\n",
       " 1.3931040613985428,\n",
       " 2.283760283655059,\n",
       " 0.3221007267272557,\n",
       " 1.7115868963324152]"
      ]
     },
     "execution_count": 195,
     "metadata": {},
     "output_type": "execute_result"
    }
   ],
   "source": [
    "updated_ff.getGenerators()[2].proper[phi_ff_index[0]].k"
   ]
  },
  {
   "cell_type": "markdown",
   "id": "e88a32d6-8828-4ebb-8bff-6187c86d2480",
   "metadata": {},
   "source": [
    "## updated_ffをXMLファイルに記述できるように辞書型に変換"
   ]
  },
  {
   "cell_type": "code",
   "execution_count": 536,
   "id": "f32e9832-847c-45d8-9b1a-21819f931783",
   "metadata": {},
   "outputs": [],
   "source": [
    "def convert_openmm_to_XML(openmm_dict):\n",
    "    xml_dict = dict() #変換後の辞書\n",
    "    nparam = len(openmm_dict['k']) #param数\n",
    "\n",
    "    #atom_typeの定義\n",
    "    xml_dict['types1'] = openmm_dict['types1'][0]\n",
    "    xml_dict['types2'] = openmm_dict['types2'][0]\n",
    "    xml_dict['types3'] = openmm_dict['types3'][0]\n",
    "    xml_dict['types4'] = openmm_dict['types4'][0]\n",
    "\n",
    "    #paramを定義\n",
    "    for i in range(nparam):\n",
    "        xml_dict[f'periodicity{i+1}'] = str(openmm_dict['periodicity'][i])\n",
    "        xml_dict[f'phase{i+1}'] = str(openmm_dict['phase'][i])\n",
    "        xml_dict[f'k{i+1}'] = str(openmm_dict['k'][i])\n",
    "    \n",
    "    return xml_dict      "
   ]
  },
  {
   "cell_type": "code",
   "execution_count": 537,
   "id": "15bce220-fa71-4043-aef1-42e32e5c217d",
   "metadata": {},
   "outputs": [],
   "source": [
    "phi_xml = convert_openmm_to_XML(vars(phi_updated))\n",
    "psi_xml = convert_openmm_to_XML(vars(psi_updated))"
   ]
  },
  {
   "cell_type": "code",
   "execution_count": 587,
   "id": "4460741b-08a3-4e09-b55e-ae5c640d0077",
   "metadata": {},
   "outputs": [
    {
     "data": {
      "text/plain": [
       "{'types1': 'C',\n",
       " 'types2': 'N',\n",
       " 'types3': 'CT',\n",
       " 'types4': 'C',\n",
       " 'periodicity1': '1',\n",
       " 'phase1': '0.0',\n",
       " 'k1': '-0.14131023094487127',\n",
       " 'periodicity2': '2',\n",
       " 'phase2': '0.0',\n",
       " 'k2': '1.3931040613985428',\n",
       " 'periodicity3': '3',\n",
       " 'phase3': '0.0',\n",
       " 'k3': '2.283760283655059',\n",
       " 'periodicity4': '4',\n",
       " 'phase4': '0.0',\n",
       " 'k4': '0.3221007267272557',\n",
       " 'periodicity5': '2',\n",
       " 'phase5': '1.5707963267948966',\n",
       " 'k5': '1.7115868963324152'}"
      ]
     },
     "execution_count": 587,
     "metadata": {},
     "output_type": "execute_result"
    }
   ],
   "source": [
    "phi_xml"
   ]
  },
  {
   "cell_type": "markdown",
   "id": "7b8e80d0-5cc9-4eee-8387-343f13a993b3",
   "metadata": {},
   "source": [
    "## Create XML File"
   ]
  },
  {
   "cell_type": "markdown",
   "id": "31bdd714-a439-40d9-a1c9-d4e0f7a981e0",
   "metadata": {},
   "source": [
    "## To do\n",
    "- とりあえずコメントを綺麗に書く\n",
    "- xmlの属性を変えられるようにする"
   ]
  },
  {
   "cell_type": "code",
   "execution_count": 573,
   "id": "75b07e63-c163-4f7f-9316-1b74264bb890",
   "metadata": {},
   "outputs": [],
   "source": [
    "import xml.etree.ElementTree as ET\n",
    "tree = ET.parse(ff_filepath)\n",
    "root = tree.getroot()"
   ]
  },
  {
   "cell_type": "code",
   "execution_count": 574,
   "id": "4738cc77-12f8-46d1-9dff-029a836546aa",
   "metadata": {},
   "outputs": [
    {
     "data": {
      "text/plain": [
       "'ForceField'"
      ]
     },
     "execution_count": 574,
     "metadata": {},
     "output_type": "execute_result"
    }
   ],
   "source": [
    "root.tag #最上位のノード"
   ]
  },
  {
   "cell_type": "code",
   "execution_count": 575,
   "id": "3673a787-6a13-4883-90fd-07b1fad8001a",
   "metadata": {},
   "outputs": [
    {
     "name": "stdout",
     "output_type": "stream",
     "text": [
      "Info {}\n",
      "AtomTypes {}\n",
      "Residues {}\n",
      "HarmonicBondForce {}\n",
      "HarmonicAngleForce {}\n",
      "PeriodicTorsionForce {'ordering': 'amber'}\n",
      "NonbondedForce {'coulomb14scale': '0.8785442959154057', 'lj14scale': '0.5097903551017255'}\n",
      "Script {}\n"
     ]
    }
   ],
   "source": [
    "#rootはイテレート可能な子ノードをもつ\n",
    "for child in root:\n",
    "    print(child.tag, child.attrib)"
   ]
  },
  {
   "cell_type": "code",
   "execution_count": 578,
   "id": "187a1e4a-1e80-48c9-b4d1-c1531c8350ed",
   "metadata": {},
   "outputs": [
    {
     "name": "stdout",
     "output_type": "stream",
     "text": [
      "{'types1': 'N', 'types2': 'CT', 'types3': 'C', 'types4': 'N', 'periodicity1': '1', 'phase1': '2.8080339837817268', 'k1': '2.7562247284353925', 'periodicity2': '1', 'phase2': '3.141592653589793', 'k2': '-0.7939603369252063', 'periodicity3': '2', 'phase3': '3.141592653589793', 'k3': '6.117627658952802', 'periodicity4': '3', 'phase4': '3.141592653589793', 'k4': '1.9447873754479845', 'periodicity5': '4', 'phase5': '3.141592653589793', 'k5': '-0.07607467117953355', 'periodicity6': '5', 'phase6': '3.141592653589793', 'k6': '-0.01603476759412381', 'periodicity7': '1', 'phase7': '1.5707963267948966', 'k7': '-1.0933094406995865', 'periodicity8': '2', 'phase8': '1.5707963267948966', 'k8': '0.31242669067675943', 'periodicity9': '3', 'phase9': '1.5707963267948966', 'k9': '0.25025337772182615', 'periodicity10': '4', 'phase10': '1.5707963267948966', 'k10': '0.10948330165418166', 'periodicity11': '5', 'phase11': '1.5707963267948966', 'k11': '-0.04510471639170056'}\n",
      "{'types1': 'N', 'types2': 'CT', 'types3': 'C', 'types4': 'N', 'periodicity1': '1', 'phase1': '2.8080339837817268', 'k1': '2.7562247284353925', 'periodicity2': '1', 'phase2': '3.141592653589793', 'k2': '-0.7939603369252063', 'periodicity3': '2', 'phase3': '3.141592653589793', 'k3': '6.117627658952802', 'periodicity4': '3', 'phase4': '3.141592653589793', 'k4': '1.9447873754479845', 'periodicity5': '4', 'phase5': '3.141592653589793', 'k5': '-0.07607467117953355', 'periodicity6': '5', 'phase6': '3.141592653589793', 'k6': '-0.01603476759412381', 'periodicity7': '1', 'phase7': '1.5707963267948966', 'k7': '-1.0933094406995865', 'periodicity8': '2', 'phase8': '1.5707963267948966', 'k8': '0.31242669067675943', 'periodicity9': '3', 'phase9': '1.5707963267948966', 'k9': '0.25025337772182615', 'periodicity10': '4', 'phase10': '1.5707963267948966', 'k10': '0.10948330165418166', 'periodicity11': '5', 'phase11': '1.5707963267948966', 'k11': '-0.04510471639170056'}\n",
      "\n",
      "{'types1': 'C', 'types2': 'N', 'types3': 'CT', 'types4': 'C', 'periodicity1': '1', 'phase1': '0.0', 'k1': '-0.14131023094487127', 'periodicity2': '2', 'phase2': '0.0', 'k2': '1.3931040613985428', 'periodicity3': '3', 'phase3': '0.0', 'k3': '2.283760283655059', 'periodicity4': '4', 'phase4': '0.0', 'k4': '0.3221007267272557', 'periodicity5': '2', 'phase5': '1.5707963267948966', 'k5': '1.7115868963324152'}\n",
      "{'types1': 'C', 'types2': 'N', 'types3': 'CT', 'types4': 'C', 'periodicity1': '1', 'phase1': '0.0', 'k1': '-0.14131023094487127', 'periodicity2': '2', 'phase2': '0.0', 'k2': '1.3931040613985428', 'periodicity3': '3', 'phase3': '0.0', 'k3': '2.283760283655059', 'periodicity4': '4', 'phase4': '0.0', 'k4': '0.3221007267272557', 'periodicity5': '2', 'phase5': '1.5707963267948966', 'k5': '1.7115868963324152'}\n",
      "\n"
     ]
    }
   ],
   "source": [
    "# XMLから'PeriodicTorsionForce'を検索\n",
    "for torsion in root.iter('PeriodicTorsionForce'):\n",
    "\n",
    "    #各要素の中から、phiとpsiに関するパラメータを検索\n",
    "    for ff_local in torsion:\n",
    "        #print(list(ff_local.attrib.values())[0:4]) [0:4]でスライスすることで、アトムタイプを取り出す\n",
    "        #phiのXMLを更新\n",
    "        if list(ff_local.attrib.values())[0:4] == list(itertools.chain.from_iterable(phi_atom_type)):\n",
    "            print(ff_local.attrib)\n",
    "            ff_local.clear() #初期化する\n",
    "            for item in phi_xml.items():\n",
    "                ff_local.set(item[0], item[1])\n",
    "            print(ff_local.attrib)\n",
    "            print()\n",
    "        \n",
    "        #psiのXMLを更新\n",
    "        if list(ff_local.attrib.values())[0:4] == list(itertools.chain.from_iterable(psi_atom_type)):\n",
    "            print(ff_local.attrib)\n",
    "            ff_local.clear() #初期化する\n",
    "            for item in psi_xml.items():\n",
    "                #print(item)\n",
    "                ff_local.set(item[0], item[1])\n",
    "            print(ff_local.attrib)\n",
    "            print()\n",
    "\n",
    "tree.write('output.xml')"
   ]
  },
  {
   "cell_type": "code",
   "execution_count": 584,
   "id": "9d497474-9164-420d-a84e-2d0959956993",
   "metadata": {},
   "outputs": [
    {
     "data": {
      "text/plain": [
       "[['C'], ['N'], ['CT'], ['C']]"
      ]
     },
     "execution_count": 584,
     "metadata": {},
     "output_type": "execute_result"
    }
   ],
   "source": [
    "phi_atom_type"
   ]
  },
  {
   "cell_type": "code",
   "execution_count": 586,
   "id": "1b33adaa-1461-4bfa-889a-34e19320ba6f",
   "metadata": {},
   "outputs": [
    {
     "data": {
      "text/plain": [
       "[['N'], ['CT'], ['C'], ['N']]"
      ]
     },
     "execution_count": 586,
     "metadata": {},
     "output_type": "execute_result"
    }
   ],
   "source": [
    "psi_atom_type"
   ]
  },
  {
   "cell_type": "code",
   "execution_count": null,
   "id": "283ed862-9323-4c66-9816-a5c5c7280279",
   "metadata": {},
   "outputs": [],
   "source": []
  }
 ],
 "metadata": {
  "kernelspec": {
   "display_name": "Python 3 (ipykernel)",
   "language": "python",
   "name": "python3"
  },
  "language_info": {
   "codemirror_mode": {
    "name": "ipython",
    "version": 3
   },
   "file_extension": ".py",
   "mimetype": "text/x-python",
   "name": "python",
   "nbconvert_exporter": "python",
   "pygments_lexer": "ipython3",
   "version": "3.9.16"
  }
 },
 "nbformat": 4,
 "nbformat_minor": 5
}
