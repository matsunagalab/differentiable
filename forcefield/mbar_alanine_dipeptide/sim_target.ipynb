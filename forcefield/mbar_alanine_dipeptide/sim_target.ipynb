{
 "cells": [
  {
   "cell_type": "markdown",
   "id": "ba56db51-c51f-4797-a801-181417497ac0",
   "metadata": {},
   "source": [
    "## シミュレーションを流すノートブック"
   ]
  },
  {
   "cell_type": "code",
   "execution_count": null,
   "id": "8846cd84-d95a-40bf-90bf-bf1b8d528d77",
   "metadata": {},
   "outputs": [],
   "source": [
    "#path\n",
    "using CUDA\n",
    "using EzXML\n",
    "using MDToolbox\n",
    "using Statistics\n",
    "device!(1)\n",
    "pdb_filepath = \"./alanine-dipeptide-nowater.pdb\" #pdbのパス\n",
    "top = readpdb(pdb_filepath)\n",
    "ff_start_filepath  = \"./data/amber14/protein.ff14SB.xml\" #startのffのパス\n",
    "out_dir = \"./target\" #出力するディレクトリ\n",
    "isdir(out_dir) || mkdir(out_dir)\n",
    "\n",
    "#setting\n",
    "njobs = 1 #並列して流すシミュレーションの数\n",
    "nsteps = 2_500_000_000 #シミュレーションのステップ数\n",
    "gpu_id = \"n4\""
   ]
  },
  {
   "cell_type": "markdown",
   "id": "bdd885b6-b3bc-418d-9d18-43b977f877d9",
   "metadata": {},
   "source": [
    "## シミュレーション"
   ]
  },
  {
   "cell_type": "code",
   "execution_count": null,
   "id": "f0b87b5e-c49a-4eb2-91e0-7c763c6d5832",
   "metadata": {},
   "outputs": [],
   "source": [
    "# 一つのシミュレーションを流すジョブスクリプト\n",
    "# ff_filepath　　　  :xml formatの力場ファイルのパス\n",
    "# out_traj_dir      :アウトプットするディレクトリのパス\n",
    "# i                 :流すシミュレーションの通し番号\n",
    "\n",
    "function run_job(ff_filepath, traj_filepath, log_filepath, i)\n",
    "    sbatch_file = \"temp_$(i).sh\"\n",
    "    \n",
    "    open(sbatch_file, \"w\") do of\n",
    "        println(of, \"#!/bin/bash\")\n",
    "        println(of, \"#SBATCH -p all\")\n",
    "        println(of, \"#SBATCH -J sim$(i) # job name\")\n",
    "        println(of, \"#SBATCH -n 1  # num of total mpi processes\")\n",
    "        println(of, \"#SBATCH -c 1  # num of threads per mpi processes\")\n",
    "        println(of, \"#SBATCH -o $(log_filepath)\")\n",
    "        println(of, \"export CUDA_VISIBLE_DEVICES=$(i)\")\n",
    "        #println(of, \"python sim.py $(pdb_filepath) $(ff_filepath) $(traj_filepath) $(nsteps)\")\n",
    "        println(of, \"time python sim.py $(pdb_filepath) $(ff_filepath) $(traj_filepath) $(nsteps)\")\n",
    "    end\n",
    "    sleep(5)\n",
    "    run(`sbatch --gpus-per-node=1 -w $(gpu_id) $(sbatch_file)`)\n",
    "    #run(`sbatch -w $(gpu_id) $(sbatch_file)`)\n",
    "    sleep(5)\n",
    "    rm(sbatch_file)\n",
    "end"
   ]
  },
  {
   "cell_type": "code",
   "execution_count": null,
   "id": "6a143bbe-f941-403a-9c73-2ed941c0e3f3",
   "metadata": {},
   "outputs": [],
   "source": [
    "ff_filepath = ff_start_filepath\n",
    "\n",
    "traj_filepath = joinpath(out_dir, \"traj_target\")\n",
    "log_filepath = joinpath(out_dir, \"sim_target.log\")\n",
    "\n",
    "run_job(ff_filepath, traj_filepath, log_filepath, 1)"
   ]
  }
 ],
 "metadata": {
  "kernelspec": {
   "display_name": "julia 1.10.1",
   "language": "julia",
   "name": "julia-1.10"
  },
  "language_info": {
   "file_extension": ".jl",
   "mimetype": "application/julia",
   "name": "julia",
   "version": "1.10.1"
  }
 },
 "nbformat": 4,
 "nbformat_minor": 5
}
