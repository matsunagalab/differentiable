{
 "cells": [
  {
   "cell_type": "markdown",
   "id": "ba56db51-c51f-4797-a801-181417497ac0",
   "metadata": {},
   "source": [
    "## シミュレーションを流し、学習するファイル"
   ]
  },
  {
   "cell_type": "code",
   "execution_count": 23,
   "id": "8846cd84-d95a-40bf-90bf-bf1b8d528d77",
   "metadata": {},
   "outputs": [
    {
     "data": {
      "text/plain": [
       "0.2"
      ]
     },
     "execution_count": 23,
     "metadata": {},
     "output_type": "execute_result"
    }
   ],
   "source": [
    "#path\n",
    "using CUDA\n",
    "using EzXML\n",
    "using MDToolbox\n",
    "device!(1)\n",
    "pdb_filepath = \"./alanine-dipeptide-nowater.pdb\" #pdbのパス\n",
    "ff_start_filepath  = \"./data/amber14/protein.ff14SB.xml\" #startのffのパス\n",
    "out_dir = \"sim_result\" #出力するディレクトリ\n",
    "isdir(out_dir) || mkdir(out_dir)\n",
    "\n",
    "#setting\n",
    "username = \"ysako\" #自分のusername\n",
    "njobs = 10 #並列して流すシミュレーショ\"ンの数\n",
    "nepoch = 50\n",
    "#nsteps = 10000000 #シミュレーションのステップ数\n",
    "nsteps = 1000000\n",
    "\n",
    "gpu_id = \"n5\"\n",
    "update_ratio = 0.20 #forcefieldをどの程度変えるか"
   ]
  },
  {
   "cell_type": "markdown",
   "id": "bdd885b6-b3bc-418d-9d18-43b977f877d9",
   "metadata": {},
   "source": [
    "## シミュレーション"
   ]
  },
  {
   "cell_type": "code",
   "execution_count": 8,
   "id": "f0b87b5e-c49a-4eb2-91e0-7c763c6d5832",
   "metadata": {},
   "outputs": [
    {
     "data": {
      "text/plain": [
       "run_job (generic function with 1 method)"
      ]
     },
     "execution_count": 8,
     "metadata": {},
     "output_type": "execute_result"
    }
   ],
   "source": [
    "# 一つのシミュレーションを流すジョブスクリプト\n",
    "# ff_filepath　　　  :xml formatの力場ファイルのパス\n",
    "# out_traj_dir      :アウトプットするディレクトリのパス\n",
    "# i                 :流すシミュレーションの通し番号\n",
    "\n",
    "function run_job(ff_filepath, traj_filepath, log_filepath, i)\n",
    "    sbatch_file = \"temp_epoch_$(i).sh\"\n",
    "    \n",
    "    open(sbatch_file, \"w\") do of\n",
    "        println(of, \"#!/bin/bash\")\n",
    "        println(of, \"#SBATCH -p all\")\n",
    "        println(of, \"#SBATCH -J sim$(i) # job name\")\n",
    "        println(of, \"#SBATCH -n 1  # num of total mpi processes\")\n",
    "        println(of, \"#SBATCH -c 1  # num of threads per mpi processes\")\n",
    "        println(of, \"#SBATCH -o $(log_filepath)\")\n",
    "        println(of, \"python sim.py $(pdb_filepath) $(ff_filepath) $(traj_filepath) $(nsteps)\")\n",
    "    end\n",
    "    sleep(5)\n",
    "    run(`sbatch --gpus-per-node=1 -w $(gpu_id) $(sbatch_file)`)\n",
    "    sleep(5)\n",
    "    rm(sbatch_file)\n",
    "end"
   ]
  },
  {
   "cell_type": "markdown",
   "id": "5c7874ee-d48e-4c71-8a87-58587c08b683",
   "metadata": {},
   "source": [
    "## ffを作成する関数"
   ]
  },
  {
   "cell_type": "code",
   "execution_count": 10,
   "id": "af208ae2-a60b-4d6d-8eb7-7b0ad32fe524",
   "metadata": {},
   "outputs": [
    {
     "data": {
      "text/plain": [
       "224141"
      ]
     },
     "execution_count": 10,
     "metadata": {},
     "output_type": "execute_result"
    }
   ],
   "source": [
    "phi_atom_type = [\"protein-C\", \"protein-N\", \"protein-CX\", \"protein-C\"]\n",
    "psi_atom_type = [\"protein-N\", \"protein-CX\", \"protein-C\", \"protein-N\"]\n",
    "function create_ff(ff_input_filepath, ff_output_filepath, update_ratio)\n",
    "    input_xml = readxml(ff_input_filepath)\n",
    "    output_xml = deepcopy(input_xml)\n",
    "    xmlroot = root(output_xml)\n",
    "    children = elements(xmlroot)\n",
    "    children_name = nodename.(children)\n",
    "    torsion_index = children_name .== \"PeriodicTorsionForce\"\n",
    "    torsion = children[torsion_index][1] #これでtorsion内の要素にアクセスできる\n",
    "\n",
    "    for ff_params in eachelement(torsion)\n",
    "        params_name = [nodename(i) for i in eachattribute(ff_params)]\n",
    "        params_content = [nodecontent(i) for i in eachattribute(ff_params)]\n",
    "        atom_type = [params_content[params_name .== \"type$(i)\"][1] for i in 1:4]\n",
    "        if atom_type == phi_atom_type\n",
    "            for a in eachattribute(ff_params)\n",
    "                if occursin(r\"k.*\", a.name)\n",
    "                    #ここにkを変える処理を入力\n",
    "                    k = parse(Float32, a.content)\n",
    "                    k_updated = k * (1 + update_ratio*rand())\n",
    "                    a.content = string(k_updated)\n",
    "                end\n",
    "            end\n",
    "            params_name = [nodename(i) for i in eachattribute(ff_params)]\n",
    "            params_content = [nodecontent(i) for i in eachattribute(ff_params)]\n",
    "        end\n",
    "        #ここから処理を書き忘れていたため追加した部分\n",
    "        if atom_type == psi_atom_type\n",
    "            for a in eachattribute(ff_params)\n",
    "                if occursin(r\"k.*\", a.name)\n",
    "                    #ここにkを変える処理を入力\n",
    "                    k = parse(Float32, a.content)\n",
    "                    k_updated = k * (1 + update_ratio*rand())\n",
    "                    a.content = string(k_updated)\n",
    "                end\n",
    "            end\n",
    "            params_name = [nodename(i) for i in eachattribute(ff_params)]\n",
    "            params_content = [nodecontent(i) for i in eachattribute(ff_params)]\n",
    "        end\n",
    "        #ここまで\n",
    "    end\n",
    "    write(ff_output_filepath, output_xml)\n",
    "end\n",
    "\n",
    "create_ff(ff_start_filepath, \"./new.xml\", 0.001)"
   ]
  },
  {
   "cell_type": "code",
   "execution_count": null,
   "id": "f208dee7-c7df-4ae6-8c74-8ac4cb024195",
   "metadata": {},
   "outputs": [
    {
     "name": "stdout",
     "output_type": "stream",
     "text": [
      "Submitted batch job 1019\n",
      "Submitted batch job 1020\n",
      "Submitted batch job 1021\n",
      "Submitted batch job 1022\n",
      "Submitted batch job 1023\n",
      "Submitted batch job 1024\n",
      "Submitted batch job 1025\n",
      "Submitted batch job 1026\n",
      "Submitted batch job 1027\n",
      "Submitted batch job 1028\n",
      "--- 0 of 10 jobs completed\n",
      "--- 0 of 10 jobs completed\n",
      "--- 0 of 10 jobs completed\n",
      "--- 0 of 10 jobs completed\n",
      "--- 0 of 10 jobs completed\n",
      "--- 0 of 10 jobs completed\n",
      "--- 0 of 10 jobs completed\n",
      "--- 0 of 10 jobs completed\n"
     ]
    }
   ],
   "source": [
    "##最初のtrajを生成\n",
    "for i in 1:njobs\n",
    "    epoch_dir = joinpath(out_dir, \"epoch$(i)\") #epoch(i)のディレクトリ\n",
    "    isdir(epoch_dir) || mkdir(epoch_dir)\n",
    "\n",
    "    ff_filepath = joinpath(epoch_dir, \"sim_$(i).xml\")\n",
    "    traj_filepath = joinpath(epoch_dir, \"traj_$(i)\")\n",
    "    log_filepath = joinpath(epoch_dir, \"sim_$(i).log\")\n",
    "    #create_ff_qoulomb(ff_start_filepath, ff_filepath, update_ratio)\n",
    "    create_ff(ff_start_filepath, ff_filepath, update_ratio)\n",
    "\n",
    "    run_job(ff_filepath, traj_filepath,log_filepath, i)\n",
    "end\n",
    "\n",
    "#シミュレーションが全て終わるまで待機\n",
    "completed = false\n",
    "while(!completed)\n",
    "    n_completed = njobs - length(readlines(`squeue -u $(username)`)) + 1 #終了したシミュレーションの数\n",
    "    #シミュレーションが終わっていないとき\n",
    "    if(n_completed < njobs)\n",
    "        println(\"--- $(n_completed) of $(njobs) jobs completed\")\n",
    "        sleep(600) #10分待機\n",
    "    #全てのシミュレーションが終わったとき\n",
    "    else\n",
    "        completed = true\n",
    "    end\n",
    "end\n",
    "println(\"--- all jobs completed\")"
   ]
  }
 ],
 "metadata": {
  "kernelspec": {
   "display_name": "julia 1.10.1",
   "language": "julia",
   "name": "julia-1.10"
  },
  "language_info": {
   "file_extension": ".jl",
   "mimetype": "application/julia",
   "name": "julia",
   "version": "1.10.1"
  }
 },
 "nbformat": 4,
 "nbformat_minor": 5
}
