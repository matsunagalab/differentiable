{
 "cells": [
  {
   "cell_type": "markdown",
   "id": "52e9acc6",
   "metadata": {},
   "source": [
    "### 座標とポテンシャルエネルギーを訓練データとして、エネルギー関数のパラメータ($\\epsilon$と$\\sigma$)を学習する"
   ]
  },
  {
   "cell_type": "markdown",
   "id": "49a459f6",
   "metadata": {},
   "source": [
    "### 必要なパッケージを読み込む"
   ]
  },
  {
   "cell_type": "code",
   "execution_count": null,
   "id": "0403461b-dea0-4b9e-9559-6e74fcccbe63",
   "metadata": {
    "tags": []
   },
   "outputs": [],
   "source": [
    "using Flux, Plots\n",
    "using ChainRulesCore\n",
    "using Statistics\n",
    "using Random\n",
    "using Distributions\n",
    "using MDToolbox"
   ]
  },
  {
   "cell_type": "markdown",
   "id": "1f79f36a",
   "metadata": {},
   "source": [
    "### ポテンシャルエネルギー関数の定義"
   ]
  },
  {
   "cell_type": "code",
   "execution_count": null,
   "id": "08e558bf-297d-453e-ac00-54451d820cf4",
   "metadata": {
    "tags": []
   },
   "outputs": [],
   "source": [
    "function compute_energy(coords1, coords2, epsilon, sigma)\n",
    "    r = sqrt(sum((coords1 .- coords2).^2))\n",
    "    U = epsilon * ((sigma/r)^12 - 2 * (sigma/r)^6)\n",
    "    return U\n",
    "end"
   ]
  },
  {
   "cell_type": "code",
   "execution_count": null,
   "id": "888ab664",
   "metadata": {
    "tags": []
   },
   "outputs": [],
   "source": [
    "function ChainRulesCore.rrule(::typeof(compute_energy), coords1, coords2, epsilon, sigma)\n",
    "    dx = coords1 .- coords2\n",
    "    r = sqrt(sum(dx.^2))\n",
    "    U = epsilon * ((sigma / r)^12 - 2 * (sigma / r)^6) \n",
    "\n",
    "    function compute_energy_pullback(dU)\n",
    "        dcoords1 = -12 * epsilon * ((sigma^12 / r^14) - (sigma^6 / r^8)) .* dx .* dU\n",
    "        dcoords2 = - dcoords1\n",
    "        depsilon = ((sigma / r)^12 - 2 * (sigma / r)^6) * dU\n",
    "        dsigma = 12 * epsilon * (sigma^11 / r^12 - sigma^5 / r^6) * dU \n",
    "        return NoTangent(), dcoords1, dcoords2, depsilon, dsigma\n",
    "    end\n",
    "    return U, compute_energy_pullback\n",
    "end"
   ]
  },
  {
   "cell_type": "code",
   "execution_count": null,
   "id": "eaffbc48-ef07-49d6-bfb2-11e37c279654",
   "metadata": {
    "tags": []
   },
   "outputs": [],
   "source": [
    "#二原子のトラジェクトリからFを計算\n",
    "function compute_free_energy(coords1_trj, coords2_trj, beta, epsilon, sigma)\n",
    "    N = size(coords1_trj, 1)\n",
    "    U_array = [compute_energy(coords1, coords2, epsilon, sigma) for (coords1, coords2) in zip(coords1_trj, coords2_trj)]\n",
    "    #F = (-1 / beta) * log((1 / N) * sum(exp.(-beta .* U_array)))\n",
    "    F = (-1 / beta) * (log(1 / N) + MDToolbox.logsumexp_1d(-beta .* U_array))\n",
    "    return F\n",
    "end"
   ]
  },
  {
   "cell_type": "code",
   "execution_count": null,
   "id": "45d50ab6-3298-4fe1-9848-3430fd7ddac7",
   "metadata": {
    "tags": []
   },
   "outputs": [],
   "source": [
    "# exponential averaging\n",
    "function compute_deltaF(coords_trj , beta, epsilon, sigma, U_array)\n",
    "    N = size(coords_trj, 1)\n",
    "    U_target_array = [compute_energy(coords1, coords2, epsilon, sigma) for (coords1, coords2) in coords_trj]\n",
    "    deltaU = U_target_array .- U_array\n",
    "    #@show deltaU\n",
    "    #deltaF = (-1 / beta) * log((1 / N) * sum(exp.(-beta .* deltaU)))\n",
    "    deltaF = (-1 / beta) * (log(1 / N) + MDToolbox.logsumexp_1d(-beta .* deltaU))\n",
    "    return deltaF\n",
    "end"
   ]
  },
  {
   "cell_type": "code",
   "execution_count": null,
   "id": "09ae0cae-5151-4cf3-b67e-47f30669cdda",
   "metadata": {},
   "outputs": [],
   "source": [
    "function compute_distance(coords1, coords2)\n",
    "    r = sqrt(sum((coords1 .- coords2).^2))\n",
    "    return r\n",
    "end"
   ]
  },
  {
   "cell_type": "markdown",
   "id": "64ec8d9d-aeb0-4b82-ad12-89fe1c349759",
   "metadata": {},
   "source": [
    "### MCMCの定義"
   ]
  },
  {
   "cell_type": "code",
   "execution_count": null,
   "id": "6e571359-5ee0-4916-b2ac-89d1e51a41f4",
   "metadata": {
    "tags": []
   },
   "outputs": [],
   "source": [
    "#次のステップ候補点\n",
    "function next_coords(coords1, coords2, delta_x = 1e-3 * 5)\n",
    "    next_coords1 = coords1 .+ (rand(3) .- 0.5) .* delta_x\n",
    "    next_coords2 = coords2 .+ (rand(3) .- 0.5) .* delta_x\n",
    "    return next_coords1, next_coords2\n",
    "end"
   ]
  },
  {
   "cell_type": "code",
   "execution_count": null,
   "id": "6e9b2792-d193-4d38-98fb-972025d925d3",
   "metadata": {
    "tags": []
   },
   "outputs": [],
   "source": [
    "#MCMC,メトロポリス法\n",
    "function mcmc(coords1, coords2, epsilon, sigma, nstep = 100, beta = 1.0)\n",
    "    coords1_trj = []\n",
    "    coords2_trj = []\n",
    "    alpha_trj = []\n",
    "    push!(coords1_trj, coords1)\n",
    "    push!(coords2_trj, coords2)\n",
    "    \n",
    "    for i in 1:nstep\n",
    "        next_coords1, next_coords2 = next_coords(coords1, coords2) #候補点\n",
    "        next_U = compute_energy(next_coords1, next_coords2, epsilon, sigma)\n",
    "        current_U = compute_energy(coords1, coords2, epsilon, sigma)\n",
    "        delta_U = next_U - current_U\n",
    "        alpha = exp(-beta * delta_U) #相対確率\n",
    "        \n",
    "        #alpha>=1またはalpha<1のとき確率alphaで候補を受理\n",
    "        if alpha > rand()\n",
    "            coords1 .= next_coords1\n",
    "            coords2 .= next_coords2\n",
    "        end     \n",
    "        push!(coords1_trj, copy(coords1))\n",
    "        push!(coords2_trj, copy(coords2))\n",
    "        push!(alpha_trj, alpha)\n",
    "    end\n",
    "    return coords1_trj, coords2_trj, alpha_trj\n",
    "end"
   ]
  },
  {
   "cell_type": "markdown",
   "id": "b7f074c5",
   "metadata": {},
   "source": [
    "### ΔFを求める"
   ]
  },
  {
   "cell_type": "code",
   "execution_count": null,
   "id": "70a05901-ac5e-4eea-9fa7-8f379c9c111c",
   "metadata": {
    "tags": []
   },
   "outputs": [],
   "source": [
    "kBT = 0.1\n",
    "beta = 1.0/(kBT)\n",
    "nstep = 100000\n",
    "\n",
    "Random.seed!(11)\n",
    "K = 3\n",
    "\n",
    "epsilon = Vector{Float64}(undef, K)\n",
    "sigma = Vector{Float64}(undef, K)\n",
    "\n",
    "\n",
    "epsilon[1] = 1.0\n",
    "sigma[1] = 4.0\n",
    "\n",
    "epsilon[2] = 1.2\n",
    "sigma[2] = 4.2\n",
    "\n",
    "epsilon[3] = 1.1\n",
    "sigma[3] = 4.1\n",
    "\n",
    "#=\n",
    "for i in 1:K\n",
    "    epsilon[i] = 1.0 + 0.02 * (i - 1)\n",
    "    sigma[i] = 4.0 + 0.02 * (i - 1)\n",
    "end\n",
    "=#\n",
    "\n",
    "trj1 = Vector{Any}(undef, K)\n",
    "trj2 = Vector{Any}(undef, K)\n",
    "for k = 1:K\n",
    "    trj1[k], trj2[k], alpha = mcmc(rand(3), rand(3) .+ 2, epsilon[k], sigma[k], nstep, beta)\n",
    "end"
   ]
  },
  {
   "cell_type": "code",
   "execution_count": null,
   "id": "43d497b8-52b9-4257-94bd-8648c59e034c",
   "metadata": {
    "tags": []
   },
   "outputs": [],
   "source": [
    "u_kl = Array{Any}(undef, (K, K))\n",
    "\n",
    "for k = 1:K\n",
    "    for l = 1:K\n",
    "        u_kl[k, l] = map(x -> beta * compute_energy(x[1], x[2], epsilon[l], sigma[l]), zip(trj1[k], trj2[k]))\n",
    "    end\n",
    "end"
   ]
  },
  {
   "cell_type": "code",
   "execution_count": null,
   "id": "3fd9b83e-2e75-4a1b-930d-ad979e74157f",
   "metadata": {
    "tags": []
   },
   "outputs": [],
   "source": [
    "f_k = mbar(u_kl)\n",
    "(1 ./ beta) .* f_k"
   ]
  },
  {
   "cell_type": "code",
   "execution_count": null,
   "id": "2011ba2e",
   "metadata": {
    "tags": []
   },
   "outputs": [],
   "source": [
    "epsilon_target = 1.1\n",
    "sigma_target = 4.1\n",
    "\n",
    "trj1_target, trj2_target, alpha = mcmc(rand(3), rand(3) .+ 2, epsilon_target, sigma_target, nstep, beta);"
   ]
  },
  {
   "cell_type": "markdown",
   "id": "99998bdf-291e-4526-a0ed-bc1bdcef7de9",
   "metadata": {},
   "source": [
    "### 距離を計算"
   ]
  },
  {
   "cell_type": "code",
   "execution_count": null,
   "id": "1d32eca6-c7ed-4fb9-9ddd-4a152a4c3c3a",
   "metadata": {},
   "outputs": [],
   "source": [
    "@show r1 = mean(compute_distance.(trj1[1], trj2[1])) \n",
    "@show r_target = mean(compute_distance.(trj1_target, trj2_target))"
   ]
  },
  {
   "cell_type": "code",
   "execution_count": null,
   "id": "4fe53f53-139d-4710-a22f-1cdee498d302",
   "metadata": {},
   "outputs": [],
   "source": [
    "function _mbar_weight(u_kl, f_k, u_k=nothing)\n",
    "    # K: number of umbrella windows\n",
    "    K, L = size(u_kl)\n",
    "\n",
    "    # N_k: number of data in k-th umbrella window\n",
    "    N_k = zeros(Int64, K)\n",
    "    for k = 1:K\n",
    "        N_k[k] = length(u_kl[k, 1])\n",
    "    end\n",
    "    N_max = maximum(N_k)\n",
    "    \n",
    "    # conversion from array of array (u_kl) to array (u_kln)\n",
    "    u_kln = zeros(Float64, K, K, N_max)\n",
    "    for k = 1:K\n",
    "        for l = 1:K\n",
    "            u_kln[k, l, 1:N_k[k]] .= u_kl[k, l]\n",
    "        end\n",
    "    end\n",
    "\n",
    "    # conversion from cell (u_k) to array (u_kn)\n",
    "    u_kn = zeros(Float64, K, N_max)\n",
    "    for k = 1:K\n",
    "        if u_k === nothing\n",
    "            u_kn[1, 1:N_k[k]] .= zero(Float64)\n",
    "        else\n",
    "            u_kn[k, 1:N_k[k]] .= u_k[k]\n",
    "        end\n",
    "    end\n",
    "\n",
    "    log_w_kn = zeros(Float64, K, N_max)\n",
    "    for k = 1:K\n",
    "      log_w_kn[k, 1:N_k[k]] .= 1.0\n",
    "    end\n",
    "    idx = log_w_kn .> 0.5;\n",
    "\n",
    "    log_w_kn = MDToolbox.mbar_log_wi_jn(N_k, f_k, u_kln, u_kn, K, N_max)\n",
    "    log_w_n  = log_w_kn[idx]\n",
    "\n",
    "    s = MDToolbox.logsumexp_1d(log_w_n)\n",
    "    w_k = Vector{Vector{Float64}}(undef, K)\n",
    "    for k = 1:K\n",
    "      w_k[k] = exp.((log_w_kn[k, 1:N_k[k]] .- s))\n",
    "    end\n",
    "\n",
    "    return w_k\n",
    "end\n",
    "\n",
    "\n",
    "function ChainRulesCore.rrule(::typeof(_mbar_weight), u_kl, f_k, u_k)\n",
    "    w_k = _mbar_weight(u_kl, f_k, u_k)\n",
    "\n",
    "    function _mbar_weight_pullback(dw_k)\n",
    "        # まず dw_k .* w_k を総和したスカラー T を計算\n",
    "        T = 0.0\n",
    "        for i in eachindex(w_k)\n",
    "            for j in eachindex(w_k[i])\n",
    "                T += dw_k[i][j] * w_k[i][j]\n",
    "            end\n",
    "        end\n",
    "\n",
    "        # du_k の領域を用意し、各要素をまとめて計算\n",
    "        du_k = similar(w_k)  # w_k と同じ「配列の配列」構造をもつ\n",
    "\n",
    "        for i in eachindex(w_k)\n",
    "            du_k[i] = similar(w_k[i])  # 内側の配列部分も同様に確保\n",
    "            for j in eachindex(w_k[i])\n",
    "                # du_k[i][j] = w_k[i][j] * (T - dw_k[i][j])\n",
    "                du_k[i][j] = w_k[i][j] * (T - dw_k[i][j])\n",
    "            end\n",
    "        end\n",
    "\n",
    "        # 戻り値は ( ∂u_kl無関係, ∂f_k無関係, ∂u_k無関係, du_k )\n",
    "        return NoTangent(), ZeroTangent(), NoTangent(), du_k\n",
    "    end\n",
    "\n",
    "    return w_k, _mbar_weight_pullback\n",
    "end\n"
   ]
  },
  {
   "cell_type": "code",
   "execution_count": null,
   "id": "69d28379-47bb-4d82-937d-9b464f7bba86",
   "metadata": {
    "tags": []
   },
   "outputs": [],
   "source": [
    "# Sanity check\n",
    "u_k = Vector{Any}(undef, K)\n",
    "\n",
    "for k = 1:K\n",
    "    u_k[k] = map(x -> beta * compute_energy(x[1], x[2], epsilon_target, sigma_target), zip(trj1[k], trj2[k])) #あとでチェック\n",
    "end\n",
    "\n",
    "#f_target = mbar_f(u_kl, f_k, u_k)\n",
    "\n",
    "weight_target = _mbar_weight(u_kl, f_k, u_k)\n",
    "\n",
    "r = Vector{Float64}(undef, K)\n",
    "for k = 1:K\n",
    "    r[k] = sum(compute_distance.(trj1[k], trj2[k]) .* weight_target[k])\n",
    "end\n",
    "@show r_target = mean(compute_distance.(trj1_target, trj2_target))\n",
    "@show sum(r)"
   ]
  },
  {
   "cell_type": "code",
   "execution_count": null,
   "id": "cee5d811-9aab-41d1-9b34-aab5b2becea4",
   "metadata": {
    "tags": []
   },
   "outputs": [],
   "source": [
    "k = 1\n",
    "r = compute_distance.(trj1[k][1:100:end], trj2[k][1:100:end])\n",
    "histogram(r,label=\"current\", c=:blue, alpha=0.5, fill=false, seriestype=:stephist)\n",
    "r = compute_distance.(trj1_target[1:100:end], trj2_target[1:100:end])\n",
    "histogram!(r,label=\"target\", c=:red, alpha=0.5, fill=false, seriestype=:stephist)\n",
    "\n",
    "plot!(#title=\"MCMC-sampled pair distances\", \n",
    "    xlim=(3, 5), xlabel=\"Pair distance r [nm]\",\n",
    "    ylabel=\"Frequency\", size=(400,300), dpi=900)"
   ]
  },
  {
   "cell_type": "code",
   "execution_count": null,
   "id": "2d413747-795e-419d-b35f-106dcb291a31",
   "metadata": {
    "tags": []
   },
   "outputs": [],
   "source": [
    "#パラメータ推定に用いる原子の軌跡と距離の平均\n",
    "X_train = []\n",
    "for k = 1:K\n",
    "    push!(X_train, (trj1[k], trj2[k]))\n",
    "end\n",
    "y_train = r_target"
   ]
  },
  {
   "cell_type": "code",
   "execution_count": null,
   "id": "d4c3cf8f-1af9-4a0b-9c0c-3d379f54620a",
   "metadata": {},
   "outputs": [],
   "source": [
    "i = 1\n",
    "u = compute_energy.(trj1[i], trj2[i], epsilon[1], sigma[1])"
   ]
  },
  {
   "cell_type": "markdown",
   "id": "b0b1e371",
   "metadata": {},
   "source": [
    "### 勾配法で訓練してK(バネ定数)とR(平衡長)を推定"
   ]
  },
  {
   "cell_type": "code",
   "execution_count": null,
   "id": "ccae9b9a-93f1-4c3d-944a-9a8f04a9242f",
   "metadata": {
    "tags": []
   },
   "outputs": [],
   "source": [
    "function compute_weighted_distance(X, f_k, u_kl, beta, epsilon, sigma)\n",
    "    #K = length(f_k)\n",
    "    #u_k = Vector{Vector{Float64}}(undef, 0)\n",
    "    #for k = 1:K\n",
    "        #for istep = 1:nstep\n",
    "        #    u_k[k][istep] = beta * compute_energy(X[1][k][istep], X[2][k][istep], m.P[1], m.P[2])\n",
    "        #end\n",
    "        #push!(u_k, map(x -> beta * compute_energy(x[1], x[2], epsilon, sigma), zip(X[1][k], X[2][k])))\n",
    "    #end\n",
    "    #u_k = map(XX -> map(x -> beta * compute_energy(x[1], x[2], epsilon, sigma), zip(XX[1], XX[2])), X)\n",
    "    u_k = [compute_energy.(trj1[k], trj2[k], epsilon, sigma) for k in 1:K]\n",
    "    weight_target = _mbar_weight(u_kl, f_k, u_k)\n",
    "    #r = Vector{Float64}(undef, K)\n",
    "    #for k = 1:K\n",
    "        #r[k] = sum(compute_distance.(trj1[k], trj2[k]) .* weight_target[k])\n",
    "    #end\n",
    "    weighted_distance = sum([sum(compute_distance.(trj1[k], trj2[k]) .* weight_target[k]) for k in 1:K])\n",
    "    return weighted_distance\n",
    "end"
   ]
  },
  {
   "cell_type": "code",
   "execution_count": null,
   "id": "38749ca7-4228-4f00-9148-5e74a840a02f",
   "metadata": {
    "tags": []
   },
   "outputs": [],
   "source": [
    "struct MBAR\n",
    "    P::AbstractArray #P[1] = epsilon, P[2] = sigma\n",
    "end\n",
    "\n",
    "Flux.@functor MBAR (P,)\n",
    "\n",
    "(m::MBAR)(X) = compute_weighted_distance(X, f_k, u_kl, beta, m.P[1], m.P[2])"
   ]
  },
  {
   "cell_type": "code",
   "execution_count": null,
   "id": "a8d16ce6-4f33-4eaa-a4f7-15d5f77e4324",
   "metadata": {
    "tags": []
   },
   "outputs": [],
   "source": [
    "# Sanity check\n",
    "m = MBAR([epsilon_target, sigma_target])\n",
    "loss(X, y) = Flux.Losses.mse(m(X), y)\n",
    "loss(X_train, y_train)"
   ]
  },
  {
   "cell_type": "code",
   "execution_count": null,
   "id": "59e4098e",
   "metadata": {
    "tags": []
   },
   "outputs": [],
   "source": [
    "m = MBAR([epsilon[1], sigma[1]])\n",
    "loss(X, y) = Flux.Losses.mse(m(X), y)\n",
    "loss(X_train, y_train)"
   ]
  },
  {
   "cell_type": "code",
   "execution_count": null,
   "id": "bc2f3c77",
   "metadata": {
    "tags": []
   },
   "outputs": [],
   "source": [
    "# DataやOptimizerの定義\n",
    "#train_loader = Flux.Data.DataLoader(X_train, batchsize=10, shuffle=true)\n",
    "ps = Flux.params(m)\n",
    "opt = ADAM(1e-2)"
   ]
  },
  {
   "cell_type": "code",
   "execution_count": null,
   "id": "1b7dd901-cf9e-4d4b-9b68-5f9410b1eed0",
   "metadata": {},
   "outputs": [],
   "source": [
    "@time gs = gradient(() -> loss(X_train, y_train), ps)"
   ]
  },
  {
   "cell_type": "code",
   "execution_count": null,
   "id": "c07d6ea0-4a49-4d43-a78a-e17726c31078",
   "metadata": {
    "tags": []
   },
   "outputs": [],
   "source": [
    "# コールバック関数の定義\n",
    "function print_callback(epoch, loss, ps)\n",
    "    println(\"Epoch: $epoch, loss: $loss\")\n",
    "    println(\"param: $(ps[1])\")\n",
    "end"
   ]
  },
  {
   "cell_type": "code",
   "execution_count": null,
   "id": "63c99d1e",
   "metadata": {
    "tags": []
   },
   "outputs": [],
   "source": [
    "loss_train = []\n",
    "\n",
    "for epoch in 1:10\n",
    "    gs = gradient(() -> loss(X_train, y_train), ps)\n",
    "    Flux.Optimise.update!(opt, ps, gs)\n",
    "    \n",
    "    L = loss(X_train, y_train)\n",
    "    push!(loss_train, L)\n",
    "    print_callback(epoch, L, ps)\n",
    "end"
   ]
  },
  {
   "cell_type": "code",
   "execution_count": null,
   "id": "b1b2c87c",
   "metadata": {
    "tags": []
   },
   "outputs": [],
   "source": [
    "# Plot\n",
    "plot(loss_train,\n",
    "     xlabel = \"Epoch\",              # x軸ラベル\n",
    "     ylabel = \"Loss\",               # y軸ラベル\n",
    "     #title  = \"Training Loss per Epoch\",  # タイトル\n",
    "     label  = \"Training Loss\",      # 凡例に表示される名前\n",
    "     lw     = 2,                    # 線の太さ\n",
    "     framestyle=:box,\n",
    "     legend = :topright,\n",
    "     size=(400, 300),\n",
    "     dpi=900)            # 凡例の位置（右上に表示）\n",
    "#savefig(\"./figure/mcmc_loss\")"
   ]
  },
  {
   "cell_type": "code",
   "execution_count": null,
   "id": "209bb1c6",
   "metadata": {
    "tags": []
   },
   "outputs": [],
   "source": [
    "println(\"Initial epsilon:   \", epsilon[1])\n",
    "println(\"Estimated epsilon: \", m.P[1])\n",
    "println(\"Target epsilon:    \", epsilon_target)\n",
    "println()\n",
    "println(\"Initial sigma:   \", sigma[1])\n",
    "println(\"Estimated sigma: \", m.P[2])\n",
    "println(\"Target sigma:    \", sigma_target)"
   ]
  },
  {
   "cell_type": "code",
   "execution_count": null,
   "id": "cb9546fb-784b-4a3c-b101-9d76a118a31d",
   "metadata": {},
   "outputs": [],
   "source": [
    "epsilon_estimated = deepcopy(m.P[1])\n",
    "sigma_estimated = deepcopy(m.P[2])\n",
    "Random.seed!(10)\n",
    "trj1_estimated, trj2_estimated, alpha = mcmc(rand(3), rand(3) .+ 2, epsilon_estimated, sigma_estimated, nstep, beta);"
   ]
  },
  {
   "cell_type": "code",
   "execution_count": null,
   "id": "94b14a0e-e5ca-4c2f-8a65-a5a901344d79",
   "metadata": {},
   "outputs": [],
   "source": [
    "using Statistics, StatsBase, Plots\n",
    "\n",
    "# KLダイバージェンスの計算\n",
    "function kl_divergence(p::Vector{Float64}, q::Vector{Float64})\n",
    "    mask = (p .> 0) .& (q .> 0)  # 0 にならないようにマスク\n",
    "    return sum(p[mask] .* log.(p[mask] ./ q[mask]))\n",
    "end\n",
    "\n",
    "# JSD の計算\n",
    "function js_divergence(p::Vector{Float64}, q::Vector{Float64})\n",
    "    p = p / sum(p)  # 正規化（確率分布にする）\n",
    "    q = q / sum(q)\n",
    "    m = (p + q) / 2\n",
    "    return 0.5 * kl_divergence(p, m) + 0.5 * kl_divergence(q, m)\n",
    "end\n",
    "\n",
    "# 2つのデータセットのヒストグラムを計算し、JSD を求める関数\n",
    "function histogram_js_divergence(data1::Vector{Float64}, data2::Vector{Float64}; bins=20)\n",
    "    # ヒストグラムの計算\n",
    "    hist1 = fit(Histogram, data1, range(minimum(vcat(data1, data2)), maximum(vcat(data1, data2)), length=bins+1))\n",
    "    hist2 = fit(Histogram, data2, range(minimum(vcat(data1, data2)), maximum(vcat(data1, data2)), length=bins+1))\n",
    "\n",
    "    # 各ビンの確率分布を計算（正規化）\n",
    "    p = hist1.weights ./ sum(hist1.weights)\n",
    "    q = hist2.weights ./ sum(hist2.weights)\n",
    "\n",
    "    # JSD の計算\n",
    "    return js_divergence(p, q)\n",
    "end\n",
    "\n",
    "# 2つのランダムデータセットを作成\n",
    "using Random\n",
    "Random.seed!(123)\n",
    "\n",
    "data1 = randn(1000)          # 標準正規分布\n",
    "data2 = randn(1000) .+ 1.0   # 平均を 1 ずらした正規分布\n",
    "\n",
    "# JSD の計算\n",
    "jsd_value = histogram_js_divergence(data1, data2, bins=30)\n",
    "\n",
    "println(\"Jensen-Shannon ダイバージェンス: \", jsd_value)\n",
    "\n",
    "# ヒストグラムの描画\n",
    "histogram(data1, bins=30, alpha=0.5, label=\"Data 1\", normalize=true, color=:blue)\n",
    "histogram!(data2, bins=30, alpha=0.5, label=\"Data 2\", normalize=true, color=:red)\n",
    "title!(\"Histogram Comparison of Two Distributions\")\n",
    "xlabel!(\"Value\")\n",
    "ylabel!(\"Probability Density\")\n"
   ]
  },
  {
   "cell_type": "code",
   "execution_count": null,
   "id": "89641855-b90b-4260-acfc-29114a73ac1e",
   "metadata": {},
   "outputs": [],
   "source": [
    "k = 1\n",
    "r = compute_distance.(trj1[k][1:100:end], trj2[k][1:100:end])\n",
    "histogram(r,label=\"current\", c=:blue, alpha=0.5, fill=false, seriestype=:stephist, bins=30)\n",
    "r = compute_distance.(trj1_target[1:100:end], trj2_target[1:100:end])\n",
    "histogram!(r,label=\"target\", c=:red, alpha=0.5, fill=false, seriestype=:stephist, bins=30)\n",
    "plot!(\n",
    "    #title=\"Pair distances : before training\", \n",
    "    xlim=(3, 5), xlabel=\"Pair distance r [nm]\", ylabel=\"Frequency\", size=(400,300), dpi=900, framestyle=:box)\n",
    "\n",
    "#savefig(\"./figure/mcmc_before_training\")"
   ]
  },
  {
   "cell_type": "code",
   "execution_count": null,
   "id": "eb08df28-49fd-4970-9967-77b02090141c",
   "metadata": {},
   "outputs": [],
   "source": [
    "r_current = compute_distance.(trj1[1], trj2[1])\n",
    "r_target = compute_distance.(trj1_target, trj2_target)\n",
    "jsd = histogram_js_divergence(r_current, r_target, bins=30)"
   ]
  },
  {
   "cell_type": "code",
   "execution_count": null,
   "id": "8b466ef7-cf7e-481d-984e-25a0a346cfdd",
   "metadata": {},
   "outputs": [],
   "source": [
    "r = compute_distance.(trj1_estimated[1:100:end], trj2_estimated[1:100:end])\n",
    "histogram(r,label=\"estimated\", c=:blue, alpha=0.5, fill=false, seriestype=:stephist, bins=30)\n",
    "r = compute_distance.(trj1_target[1:100:end], trj2_target[1:100:end])\n",
    "histogram!(r,label=\"target\", c=:red, alpha=0.5, fill=false, seriestype=:stephist, bins=30)\n",
    "plot!(#title=\"Pair distances : after training\", \n",
    "    xlim=(3, 5), xlabel=\"Pair distance r [nm]\", ylabel=\"Frequency\", size=(400, 300), dpi=900, framestyle=:box)\n",
    "#savefig(\"./figure/mcmc_after_training\")"
   ]
  },
  {
   "cell_type": "code",
   "execution_count": null,
   "id": "a3b6f43a-e7d0-48e1-9923-ce282c2af272",
   "metadata": {},
   "outputs": [],
   "source": [
    "r_estimated = compute_distance.(trj1_estimated, trj2_estimated)\n",
    "r_target = compute_distance.(trj1_target, trj2_target)\n",
    "jsd = histogram_js_divergence(r_estimated, r_target, bins=30)"
   ]
  }
 ],
 "metadata": {
  "kernelspec": {
   "display_name": "julia 1.10.1",
   "language": "julia",
   "name": "julia-1.10"
  },
  "language_info": {
   "file_extension": ".jl",
   "mimetype": "application/julia",
   "name": "julia",
   "version": "1.10.1"
  }
 },
 "nbformat": 4,
 "nbformat_minor": 5
}
