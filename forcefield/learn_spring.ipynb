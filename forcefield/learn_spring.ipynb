{
 "cells": [
  {
   "attachments": {},
   "cell_type": "markdown",
   "id": "52e9acc6",
   "metadata": {},
   "source": [
    "### 座標とポテンシャルエネルギーを訓練データとして、エネルギー関数のパラメータ(バネ定数Kと平衡長R)を学習する"
   ]
  },
  {
   "attachments": {},
   "cell_type": "markdown",
   "id": "49a459f6",
   "metadata": {},
   "source": [
    "### 必要なパッケージを読み込む"
   ]
  },
  {
   "cell_type": "code",
   "execution_count": 60,
   "id": "0403461b-dea0-4b9e-9559-6e74fcccbe63",
   "metadata": {
    "tags": []
   },
   "outputs": [],
   "source": [
    "using Flux, Plots\n",
    "using ChainRulesCore"
   ]
  },
  {
   "attachments": {},
   "cell_type": "markdown",
   "id": "1f79f36a",
   "metadata": {},
   "source": [
    "### ポテンシャルエネルギー関数の定義"
   ]
  },
  {
   "cell_type": "code",
   "execution_count": 61,
   "id": "08e558bf-297d-453e-ac00-54451d820cf4",
   "metadata": {
    "tags": []
   },
   "outputs": [
    {
     "data": {
      "text/plain": [
       "compute_energy (generic function with 1 method)"
      ]
     },
     "metadata": {},
     "output_type": "display_data"
    }
   ],
   "source": [
    "function compute_energy(coords1, coords2, K, R)\n",
    "    ene = K * (sqrt(sum((coords1 .- coords2).^2)) .- R).^2\n",
    "    return ene\n",
    "end"
   ]
  },
  {
   "cell_type": "code",
   "execution_count": 62,
   "id": "888ab664",
   "metadata": {},
   "outputs": [],
   "source": [
    "function ChainRulesCore.rrule(::typeof(compute_energy), coords1, coords2, K, R)\n",
    "    dx = coords1 .- coords2\n",
    "    r = sqrt(sum(dx.^2))\n",
    "    fac = 2.0 * K * (r - R) / r\n",
    "    ene = K * (r - R)^2\n",
    "\n",
    "    function compute_energy_pullback(dE)\n",
    "        dcoords1 = fac .* dx .* dE\n",
    "        dcoords2 = - dcoords1\n",
    "        dK = (r - R)^2 * dE\n",
    "        dR = - 2 * K * (r - R) * dE\n",
    "        return NoTangent(), dcoords1, dcoords2, dK, dR\n",
    "    end\n",
    "    return ene, compute_energy_pullback\n",
    "end"
   ]
  },
  {
   "attachments": {},
   "cell_type": "markdown",
   "id": "e3803dc7",
   "metadata": {},
   "source": [
    "### ポテンシャルエネルギー関数を持つFluxのカスタムレイヤの定義"
   ]
  },
  {
   "cell_type": "code",
   "execution_count": 63,
   "id": "5977aaea",
   "metadata": {},
   "outputs": [],
   "source": [
    "struct Energy\n",
    "    P::AbstractArray #P[1] = K, P[2] = R\n",
    "end\n",
    "\n",
    "Flux.@functor Energy (P,)\n",
    "\n",
    "(m::Energy)(coords) = compute_energy(coords..., m.P[1], m.P[2])"
   ]
  },
  {
   "cell_type": "code",
   "execution_count": 64,
   "id": "77a66691",
   "metadata": {},
   "outputs": [
    {
     "data": {
      "text/plain": [
       "4.0"
      ]
     },
     "metadata": {},
     "output_type": "display_data"
    }
   ],
   "source": [
    "# カスタムレイヤでポテンシャルエネルギー値を計算できるかテスト\n",
    "m = Energy([1.0, 1.0])\n",
    "coords = ([0.0, 0.0, 0.0], [3.0, 0.0, 0.0])\n",
    "m(coords)"
   ]
  },
  {
   "attachments": {},
   "cell_type": "markdown",
   "id": "b7f074c5",
   "metadata": {},
   "source": [
    "### 訓練データの作成"
   ]
  },
  {
   "cell_type": "code",
   "execution_count": 65,
   "id": "2011ba2e",
   "metadata": {},
   "outputs": [],
   "source": [
    "K_true = 3.0\n",
    "R_true = 0.3\n",
    "nframe = 100\n",
    "\n",
    "X_train = []\n",
    "y_train = []\n",
    "for iframe = 1:nframe\n",
    "    coords1 = randn(3)\n",
    "    coords2 = randn(3)\n",
    "    push!(X_train, (coords1, coords2))\n",
    "    push!(y_train, compute_energy(coords1, coords2, K_true, R_true))\n",
    "end"
   ]
  },
  {
   "attachments": {},
   "cell_type": "markdown",
   "id": "b0b1e371",
   "metadata": {},
   "source": [
    "### 勾配法で訓練してK(バネ定数)とR(平衡長)を推定"
   ]
  },
  {
   "cell_type": "code",
   "execution_count": 66,
   "id": "59e4098e",
   "metadata": {},
   "outputs": [
    {
     "data": {
      "text/plain": [
       "295.2708405075154"
      ]
     },
     "metadata": {},
     "output_type": "display_data"
    }
   ],
   "source": [
    "# Lossの定義\n",
    "m = Energy([1.0, 1.0])\n",
    "loss(X, y) = Flux.Losses.mse(m.(X), y)\n",
    "loss(X_train, y_train)"
   ]
  },
  {
   "cell_type": "code",
   "execution_count": 67,
   "id": "bc2f3c77",
   "metadata": {},
   "outputs": [
    {
     "data": {
      "text/plain": [
       "Adam(0.1, (0.9, 0.999), 1.0e-8, IdDict{Any, Any}())"
      ]
     },
     "metadata": {},
     "output_type": "display_data"
    }
   ],
   "source": [
    "# DataやOptimizerの定義\n",
    "train_loader = Flux.Data.DataLoader((data=X_train, label=y_train), batchsize=10, shuffle=true)\n",
    "ps = Flux.params(m)\n",
    "opt = ADAM(0.1)"
   ]
  },
  {
   "cell_type": "code",
   "execution_count": 68,
   "id": "63c99d1e",
   "metadata": {},
   "outputs": [],
   "source": [
    "# 訓練\n",
    "loss_train = []\n",
    "\n",
    "for epoch in 1:100\n",
    "    for (X, y) in train_loader\n",
    "        gs = gradient(() -> loss(X, y), ps)\n",
    "        Flux.Optimise.update!(opt, ps, gs)\n",
    "    end\n",
    "    push!(loss_train, loss(X_train, y_train))\n",
    "end"
   ]
  },
  {
   "cell_type": "code",
   "execution_count": 69,
   "id": "b1b2c87c",
   "metadata": {},
   "outputs": [
    {
     "data": {
      "image/png": "[encoded data removed]",
      "image/svg+xml": [
       "<?xml version=\"1.0\" encoding=\"utf-8\"?>\n",
       "<svg xmlns=\"http://www.w3.org/2000/svg\" xmlns:xlink=\"http://www.w3.org/1999/xlink\" width=\"600\" height=\"400\" viewBox=\"0 0 2400 1600\">\n",
       "<defs>\n",
       "  <clipPath id=\"clip870\">\n",
       "    <rect x=\"0\" y=\"0\" width=\"2400\" height=\"1600\"/>\n",
       "  </clipPath>\n",
       "</defs>\n",
       "<path clip-path=\"url(#clip870)\" d=\"M0 1600 L2400 1600 L2400 0 L0 0  Z\" fill=\"#ffffff\" fill-rule=\"evenodd\" fill-opacity=\"1\"/>\n",
       "<defs>\n",
       "  <clipPath id=\"clip871\">\n",
       "    <rect x=\"480\" y=\"0\" width=\"1681\" height=\"1600\"/>\n",
       "  </clipPath>\n",
       "</defs>\n",
       "<path clip-path=\"url(#clip870)\" d=\"M203.964 1423.18 L2352.76 1423.18 L2352.76 47.2441 L203.964 47.2441  Z\" fill=\"#ffffff\" fill-rule=\"evenodd\" fill-opacity=\"1\"/>\n",
       "<defs>\n",
       "  <clipPath id=\"clip872\">\n",
       "    <rect x=\"203\" y=\"47\" width=\"2150\" height=\"1377\"/>\n",
       "  </clipPath>\n",
       "</defs>\n",
       "<polyline clip-path=\"url(#clip872)\" style=\"stroke:#000000; stroke-linecap:round; stroke-linejoin:round; stroke-width:2; stroke-opacity:0.1; fill:none\" points=\"244.302,1423.18 244.302,47.2441 \"/>\n",
       "<polyline clip-path=\"url(#clip872)\" style=\"stroke:#000000; stroke-linecap:round; stroke-linejoin:round; stroke-width:2; stroke-opacity:0.1; fill:none\" points=\"756.212,1423.18 756.212,47.2441 \"/>\n",
       "<polyline clip-path=\"url(#clip872)\" style=\"stroke:#000000; stroke-linecap:round; stroke-linejoin:round; stroke-width:2; stroke-opacity:0.1; fill:none\" points=\"1268.12,1423.18 1268.12,47.2441 \"/>\n",
       "<polyline clip-path=\"url(#clip872)\" style=\"stroke:#000000; stroke-linecap:round; stroke-linejoin:round; stroke-width:2; stroke-opacity:0.1; fill:none\" points=\"1780.03,1423.18 1780.03,47.2441 \"/>\n",
       "<polyline clip-path=\"url(#clip872)\" style=\"stroke:#000000; stroke-linecap:round; stroke-linejoin:round; stroke-width:2; stroke-opacity:0.1; fill:none\" points=\"2291.94,1423.18 2291.94,47.2441 \"/>\n",
       "<polyline clip-path=\"url(#clip870)\" style=\"stroke:#000000; stroke-linecap:round; stroke-linejoin:round; stroke-width:4; stroke-opacity:1; fill:none\" points=\"203.964,1423.18 2352.76,1423.18 \"/>\n",
       "<polyline clip-path=\"url(#clip870)\" style=\"stroke:#000000; stroke-linecap:round; stroke-linejoin:round; stroke-width:4; stroke-opacity:1; fill:none\" points=\"203.964,47.2441 2352.76,47.2441 \"/>\n",
       "<polyline clip-path=\"url(#clip870)\" style=\"stroke:#000000; stroke-linecap:round; stroke-linejoin:round; stroke-width:4; stroke-opacity:1; fill:none\" points=\"244.302,1423.18 244.302,1404.28 \"/>\n",
       "<polyline clip-path=\"url(#clip870)\" style=\"stroke:#000000; stroke-linecap:round; stroke-linejoin:round; stroke-width:4; stroke-opacity:1; fill:none\" points=\"756.212,1423.18 756.212,1404.28 \"/>\n",
       "<polyline clip-path=\"url(#clip870)\" style=\"stroke:#000000; stroke-linecap:round; stroke-linejoin:round; stroke-width:4; stroke-opacity:1; fill:none\" points=\"1268.12,1423.18 1268.12,1404.28 \"/>\n",
       "<polyline clip-path=\"url(#clip870)\" style=\"stroke:#000000; stroke-linecap:round; stroke-linejoin:round; stroke-width:4; stroke-opacity:1; fill:none\" points=\"1780.03,1423.18 1780.03,1404.28 \"/>\n",
       "<polyline clip-path=\"url(#clip870)\" style=\"stroke:#000000; stroke-linecap:round; stroke-linejoin:round; stroke-width:4; stroke-opacity:1; fill:none\" points=\"2291.94,1423.18 2291.94,1404.28 \"/>\n",
       "<path clip-path=\"url(#clip870)\" d=\"M244.302 1454.1 Q240.691 1454.1 238.862 1457.66 Q237.057 1461.2 237.057 1468.33 Q237.057 1475.44 238.862 1479.01 Q240.691 1482.55 244.302 1482.55 Q247.936 1482.55 249.742 1479.01 Q251.571 1475.44 251.571 1468.33 Q251.571 1461.2 249.742 1457.66 Q247.936 1454.1 244.302 1454.1 M244.302 1450.39 Q250.112 1450.39 253.168 1455 Q256.246 1459.58 256.246 1468.33 Q256.246 1477.06 253.168 1481.67 Q250.112 1486.25 244.302 1486.25 Q238.492 1486.25 235.413 1481.67 Q232.358 1477.06 232.358 1468.33 Q232.358 1459.58 235.413 1455 Q238.492 1450.39 244.302 1450.39 Z\" fill=\"#000000\" fill-rule=\"nonzero\" fill-opacity=\"1\" /><path clip-path=\"url(#clip870)\" d=\"M735.483 1481.64 L751.802 1481.64 L751.802 1485.58 L729.858 1485.58 L729.858 1481.64 Q732.52 1478.89 737.103 1474.26 Q741.71 1469.61 742.89 1468.27 Q745.135 1465.74 746.015 1464.01 Q746.918 1462.25 746.918 1460.56 Q746.918 1457.8 744.973 1456.07 Q743.052 1454.33 739.95 1454.33 Q737.751 1454.33 735.298 1455.09 Q732.867 1455.86 730.089 1457.41 L730.089 1452.69 Q732.913 1451.55 735.367 1450.97 Q737.821 1450.39 739.858 1450.39 Q745.228 1450.39 748.422 1453.08 Q751.617 1455.77 751.617 1460.26 Q751.617 1462.39 750.807 1464.31 Q750.02 1466.2 747.913 1468.8 Q747.335 1469.47 744.233 1472.69 Q741.131 1475.88 735.483 1481.64 Z\" fill=\"#000000\" fill-rule=\"nonzero\" fill-opacity=\"1\" /><path clip-path=\"url(#clip870)\" d=\"M761.663 1451.02 L780.02 1451.02 L780.02 1454.96 L765.946 1454.96 L765.946 1463.43 Q766.964 1463.08 767.983 1462.92 Q769.001 1462.73 770.02 1462.73 Q775.807 1462.73 779.186 1465.9 Q782.566 1469.08 782.566 1474.49 Q782.566 1480.07 779.094 1483.17 Q775.621 1486.25 769.302 1486.25 Q767.126 1486.25 764.858 1485.88 Q762.612 1485.51 760.205 1484.77 L760.205 1480.07 Q762.288 1481.2 764.51 1481.76 Q766.733 1482.32 769.209 1482.32 Q773.214 1482.32 775.552 1480.21 Q777.89 1478.1 777.89 1474.49 Q777.89 1470.88 775.552 1468.77 Q773.214 1466.67 769.209 1466.67 Q767.334 1466.67 765.459 1467.08 Q763.608 1467.5 761.663 1468.38 L761.663 1451.02 Z\" fill=\"#000000\" fill-rule=\"nonzero\" fill-opacity=\"1\" /><path clip-path=\"url(#clip870)\" d=\"M1242.82 1451.02 L1261.18 1451.02 L1261.18 1454.96 L1247.1 1454.96 L1247.1 1463.43 Q1248.12 1463.08 1249.14 1462.92 Q1250.16 1462.73 1251.18 1462.73 Q1256.96 1462.73 1260.34 1465.9 Q1263.72 1469.08 1263.72 1474.49 Q1263.72 1480.07 1260.25 1483.17 Q1256.78 1486.25 1250.46 1486.25 Q1248.28 1486.25 1246.02 1485.88 Q1243.77 1485.51 1241.36 1484.77 L1241.36 1480.07 Q1243.45 1481.2 1245.67 1481.76 Q1247.89 1482.32 1250.37 1482.32 Q1254.37 1482.32 1256.71 1480.21 Q1259.05 1478.1 1259.05 1474.49 Q1259.05 1470.88 1256.71 1468.77 Q1254.37 1466.67 1250.37 1466.67 Q1248.49 1466.67 1246.62 1467.08 Q1244.77 1467.5 1242.82 1468.38 L1242.82 1451.02 Z\" fill=\"#000000\" fill-rule=\"nonzero\" fill-opacity=\"1\" /><path clip-path=\"url(#clip870)\" d=\"M1282.94 1454.1 Q1279.33 1454.1 1277.5 1457.66 Q1275.69 1461.2 1275.69 1468.33 Q1275.69 1475.44 1277.5 1479.01 Q1279.33 1482.55 1282.94 1482.55 Q1286.57 1482.55 1288.38 1479.01 Q1290.2 1475.44 1290.2 1468.33 Q1290.2 1461.2 1288.38 1457.66 Q1286.57 1454.1 1282.94 1454.1 M1282.94 1450.39 Q1288.75 1450.39 1291.8 1455 Q1294.88 1459.58 1294.88 1468.33 Q1294.88 1477.06 1291.8 1481.67 Q1288.75 1486.25 1282.94 1486.25 Q1277.13 1486.25 1274.05 1481.67 Q1270.99 1477.06 1270.99 1468.33 Q1270.99 1459.58 1274.05 1455 Q1277.13 1450.39 1282.94 1450.39 Z\" fill=\"#000000\" fill-rule=\"nonzero\" fill-opacity=\"1\" /><path clip-path=\"url(#clip870)\" d=\"M1753.89 1451.02 L1776.11 1451.02 L1776.11 1453.01 L1763.56 1485.58 L1758.68 1485.58 L1770.48 1454.96 L1753.89 1454.96 L1753.89 1451.02 Z\" fill=\"#000000\" fill-rule=\"nonzero\" fill-opacity=\"1\" /><path clip-path=\"url(#clip870)\" d=\"M1785.27 1451.02 L1803.63 1451.02 L1803.63 1454.96 L1789.56 1454.96 L1789.56 1463.43 Q1790.58 1463.08 1791.59 1462.92 Q1792.61 1462.73 1793.63 1462.73 Q1799.42 1462.73 1802.8 1465.9 Q1806.18 1469.08 1806.18 1474.49 Q1806.18 1480.07 1802.7 1483.17 Q1799.23 1486.25 1792.91 1486.25 Q1790.74 1486.25 1788.47 1485.88 Q1786.22 1485.51 1783.82 1484.77 L1783.82 1480.07 Q1785.9 1481.2 1788.12 1481.76 Q1790.34 1482.32 1792.82 1482.32 Q1796.83 1482.32 1799.16 1480.21 Q1801.5 1478.1 1801.5 1474.49 Q1801.5 1470.88 1799.16 1468.77 Q1796.83 1466.67 1792.82 1466.67 Q1790.95 1466.67 1789.07 1467.08 Q1787.22 1467.5 1785.27 1468.38 L1785.27 1451.02 Z\" fill=\"#000000\" fill-rule=\"nonzero\" fill-opacity=\"1\" /><path clip-path=\"url(#clip870)\" d=\"M2251.55 1481.64 L2259.19 1481.64 L2259.19 1455.28 L2250.88 1456.95 L2250.88 1452.69 L2259.14 1451.02 L2263.82 1451.02 L2263.82 1481.64 L2271.46 1481.64 L2271.46 1485.58 L2251.55 1485.58 L2251.55 1481.64 Z\" fill=\"#000000\" fill-rule=\"nonzero\" fill-opacity=\"1\" /><path clip-path=\"url(#clip870)\" d=\"M2290.9 1454.1 Q2287.29 1454.1 2285.46 1457.66 Q2283.65 1461.2 2283.65 1468.33 Q2283.65 1475.44 2285.46 1479.01 Q2287.29 1482.55 2290.9 1482.55 Q2294.53 1482.55 2296.34 1479.01 Q2298.17 1475.44 2298.17 1468.33 Q2298.17 1461.2 2296.34 1457.66 Q2294.53 1454.1 2290.9 1454.1 M2290.9 1450.39 Q2296.71 1450.39 2299.77 1455 Q2302.84 1459.58 2302.84 1468.33 Q2302.84 1477.06 2299.77 1481.67 Q2296.71 1486.25 2290.9 1486.25 Q2285.09 1486.25 2282.01 1481.67 Q2278.95 1477.06 2278.95 1468.33 Q2278.95 1459.58 2282.01 1455 Q2285.09 1450.39 2290.9 1450.39 Z\" fill=\"#000000\" fill-rule=\"nonzero\" fill-opacity=\"1\" /><path clip-path=\"url(#clip870)\" d=\"M2321.06 1454.1 Q2317.45 1454.1 2315.62 1457.66 Q2313.82 1461.2 2313.82 1468.33 Q2313.82 1475.44 2315.62 1479.01 Q2317.45 1482.55 2321.06 1482.55 Q2324.7 1482.55 2326.5 1479.01 Q2328.33 1475.44 2328.33 1468.33 Q2328.33 1461.2 2326.5 1457.66 Q2324.7 1454.1 2321.06 1454.1 M2321.06 1450.39 Q2326.87 1450.39 2329.93 1455 Q2333.01 1459.58 2333.01 1468.33 Q2333.01 1477.06 2329.93 1481.67 Q2326.87 1486.25 2321.06 1486.25 Q2315.25 1486.25 2312.17 1481.67 Q2309.12 1477.06 2309.12 1468.33 Q2309.12 1459.58 2312.17 1455 Q2315.25 1450.39 2321.06 1450.39 Z\" fill=\"#000000\" fill-rule=\"nonzero\" fill-opacity=\"1\" /><path clip-path=\"url(#clip870)\" d=\"M1184.53 1520.52 L1214.58 1520.52 L1214.58 1525.93 L1190.96 1525.93 L1190.96 1540 L1213.59 1540 L1213.59 1545.41 L1190.96 1545.41 L1190.96 1562.63 L1215.15 1562.63 L1215.15 1568.04 L1184.53 1568.04 L1184.53 1520.52 Z\" fill=\"#000000\" fill-rule=\"nonzero\" fill-opacity=\"1\" /><path clip-path=\"url(#clip870)\" d=\"M1231.13 1562.7 L1231.13 1581.6 L1225.24 1581.6 L1225.24 1532.4 L1231.13 1532.4 L1231.13 1537.81 Q1232.97 1534.62 1235.77 1533.1 Q1238.61 1531.54 1242.52 1531.54 Q1249.01 1531.54 1253.06 1536.69 Q1257.13 1541.85 1257.13 1550.25 Q1257.13 1558.65 1253.06 1563.81 Q1249.01 1568.97 1242.52 1568.97 Q1238.61 1568.97 1235.77 1567.44 Q1232.97 1565.88 1231.13 1562.7 M1251.05 1550.25 Q1251.05 1543.79 1248.38 1540.13 Q1245.74 1536.44 1241.09 1536.44 Q1236.44 1536.44 1233.77 1540.13 Q1231.13 1543.79 1231.13 1550.25 Q1231.13 1556.71 1233.77 1560.4 Q1236.44 1564.07 1241.09 1564.07 Q1245.74 1564.07 1248.38 1560.4 Q1251.05 1556.71 1251.05 1550.25 Z\" fill=\"#000000\" fill-rule=\"nonzero\" fill-opacity=\"1\" /><path clip-path=\"url(#clip870)\" d=\"M1280.65 1536.5 Q1275.94 1536.5 1273.2 1540.19 Q1270.47 1543.85 1270.47 1550.25 Q1270.47 1556.65 1273.17 1560.34 Q1275.91 1564 1280.65 1564 Q1285.33 1564 1288.07 1560.31 Q1290.8 1556.62 1290.8 1550.25 Q1290.8 1543.92 1288.07 1540.23 Q1285.33 1536.5 1280.65 1536.5 M1280.65 1531.54 Q1288.29 1531.54 1292.65 1536.5 Q1297.01 1541.47 1297.01 1550.25 Q1297.01 1559 1292.65 1564 Q1288.29 1568.97 1280.65 1568.97 Q1272.98 1568.97 1268.62 1564 Q1264.29 1559 1264.29 1550.25 Q1264.29 1541.47 1268.62 1536.5 Q1272.98 1531.54 1280.65 1531.54 Z\" fill=\"#000000\" fill-rule=\"nonzero\" fill-opacity=\"1\" /><path clip-path=\"url(#clip870)\" d=\"M1332.37 1533.76 L1332.37 1539.24 Q1329.89 1537.87 1327.38 1537.2 Q1324.89 1536.5 1322.35 1536.5 Q1316.65 1536.5 1313.5 1540.13 Q1310.35 1543.73 1310.35 1550.25 Q1310.35 1556.78 1313.5 1560.4 Q1316.65 1564 1322.35 1564 Q1324.89 1564 1327.38 1563.33 Q1329.89 1562.63 1332.37 1561.26 L1332.37 1566.68 Q1329.92 1567.82 1327.28 1568.39 Q1324.67 1568.97 1321.71 1568.97 Q1313.66 1568.97 1308.92 1563.91 Q1304.17 1558.85 1304.17 1550.25 Q1304.17 1541.53 1308.95 1536.53 Q1313.75 1531.54 1322.09 1531.54 Q1324.8 1531.54 1327.38 1532.11 Q1329.95 1532.65 1332.37 1533.76 Z\" fill=\"#000000\" fill-rule=\"nonzero\" fill-opacity=\"1\" /><path clip-path=\"url(#clip870)\" d=\"M1372.19 1546.53 L1372.19 1568.04 L1366.33 1568.04 L1366.33 1546.72 Q1366.33 1541.66 1364.36 1539.14 Q1362.39 1536.63 1358.44 1536.63 Q1353.7 1536.63 1350.96 1539.65 Q1348.22 1542.68 1348.22 1547.9 L1348.22 1568.04 L1342.34 1568.04 L1342.34 1518.52 L1348.22 1518.52 L1348.22 1537.93 Q1350.32 1534.72 1353.16 1533.13 Q1356.02 1531.54 1359.75 1531.54 Q1365.89 1531.54 1369.04 1535.36 Q1372.19 1539.14 1372.19 1546.53 Z\" fill=\"#000000\" fill-rule=\"nonzero\" fill-opacity=\"1\" /><polyline clip-path=\"url(#clip872)\" style=\"stroke:#000000; stroke-linecap:round; stroke-linejoin:round; stroke-width:2; stroke-opacity:0.1; fill:none\" points=\"203.964,1384.24 2352.76,1384.24 \"/>\n",
       "<polyline clip-path=\"url(#clip872)\" style=\"stroke:#000000; stroke-linecap:round; stroke-linejoin:round; stroke-width:2; stroke-opacity:0.1; fill:none\" points=\"203.964,1155.42 2352.76,1155.42 \"/>\n",
       "<polyline clip-path=\"url(#clip872)\" style=\"stroke:#000000; stroke-linecap:round; stroke-linejoin:round; stroke-width:2; stroke-opacity:0.1; fill:none\" points=\"203.964,926.595 2352.76,926.595 \"/>\n",
       "<polyline clip-path=\"url(#clip872)\" style=\"stroke:#000000; stroke-linecap:round; stroke-linejoin:round; stroke-width:2; stroke-opacity:0.1; fill:none\" points=\"203.964,697.774 2352.76,697.774 \"/>\n",
       "<polyline clip-path=\"url(#clip872)\" style=\"stroke:#000000; stroke-linecap:round; stroke-linejoin:round; stroke-width:2; stroke-opacity:0.1; fill:none\" points=\"203.964,468.953 2352.76,468.953 \"/>\n",
       "<polyline clip-path=\"url(#clip872)\" style=\"stroke:#000000; stroke-linecap:round; stroke-linejoin:round; stroke-width:2; stroke-opacity:0.1; fill:none\" points=\"203.964,240.131 2352.76,240.131 \"/>\n",
       "<polyline clip-path=\"url(#clip870)\" style=\"stroke:#000000; stroke-linecap:round; stroke-linejoin:round; stroke-width:4; stroke-opacity:1; fill:none\" points=\"203.964,1423.18 203.964,47.2441 \"/>\n",
       "<polyline clip-path=\"url(#clip870)\" style=\"stroke:#000000; stroke-linecap:round; stroke-linejoin:round; stroke-width:4; stroke-opacity:1; fill:none\" points=\"2352.76,1423.18 2352.76,47.2441 \"/>\n",
       "<polyline clip-path=\"url(#clip870)\" style=\"stroke:#000000; stroke-linecap:round; stroke-linejoin:round; stroke-width:4; stroke-opacity:1; fill:none\" points=\"203.964,1384.24 222.861,1384.24 \"/>\n",
       "<polyline clip-path=\"url(#clip870)\" style=\"stroke:#000000; stroke-linecap:round; stroke-linejoin:round; stroke-width:4; stroke-opacity:1; fill:none\" points=\"203.964,1155.42 222.861,1155.42 \"/>\n",
       "<polyline clip-path=\"url(#clip870)\" style=\"stroke:#000000; stroke-linecap:round; stroke-linejoin:round; stroke-width:4; stroke-opacity:1; fill:none\" points=\"203.964,926.595 222.861,926.595 \"/>\n",
       "<polyline clip-path=\"url(#clip870)\" style=\"stroke:#000000; stroke-linecap:round; stroke-linejoin:round; stroke-width:4; stroke-opacity:1; fill:none\" points=\"203.964,697.774 222.861,697.774 \"/>\n",
       "<polyline clip-path=\"url(#clip870)\" style=\"stroke:#000000; stroke-linecap:round; stroke-linejoin:round; stroke-width:4; stroke-opacity:1; fill:none\" points=\"203.964,468.953 222.861,468.953 \"/>\n",
       "<polyline clip-path=\"url(#clip870)\" style=\"stroke:#000000; stroke-linecap:round; stroke-linejoin:round; stroke-width:4; stroke-opacity:1; fill:none\" points=\"203.964,240.131 222.861,240.131 \"/>\n",
       "<path clip-path=\"url(#clip870)\" d=\"M156.019 1370.04 Q152.408 1370.04 150.579 1373.6 Q148.774 1377.14 148.774 1384.27 Q148.774 1391.38 150.579 1394.94 Q152.408 1398.49 156.019 1398.49 Q159.653 1398.49 161.459 1394.94 Q163.288 1391.38 163.288 1384.27 Q163.288 1377.14 161.459 1373.6 Q159.653 1370.04 156.019 1370.04 M156.019 1366.33 Q161.829 1366.33 164.885 1370.94 Q167.964 1375.52 167.964 1384.27 Q167.964 1393 164.885 1397.61 Q161.829 1402.19 156.019 1402.19 Q150.209 1402.19 147.13 1397.61 Q144.075 1393 144.075 1384.27 Q144.075 1375.52 147.13 1370.94 Q150.209 1366.33 156.019 1366.33 Z\" fill=\"#000000\" fill-rule=\"nonzero\" fill-opacity=\"1\" /><path clip-path=\"url(#clip870)\" d=\"M147.061 1138.14 L165.417 1138.14 L165.417 1142.07 L151.343 1142.07 L151.343 1150.54 Q152.362 1150.2 153.38 1150.03 Q154.399 1149.85 155.417 1149.85 Q161.204 1149.85 164.584 1153.02 Q167.964 1156.19 167.964 1161.61 Q167.964 1167.19 164.491 1170.29 Q161.019 1173.37 154.7 1173.37 Q152.524 1173.37 150.255 1173 Q148.01 1172.63 145.603 1171.89 L145.603 1167.19 Q147.686 1168.32 149.908 1168.88 Q152.13 1169.43 154.607 1169.43 Q158.612 1169.43 160.95 1167.33 Q163.288 1165.22 163.288 1161.61 Q163.288 1158 160.95 1155.89 Q158.612 1153.78 154.607 1153.78 Q152.732 1153.78 150.857 1154.2 Q149.005 1154.62 147.061 1155.5 L147.061 1138.14 Z\" fill=\"#000000\" fill-rule=\"nonzero\" fill-opacity=\"1\" /><path clip-path=\"url(#clip870)\" d=\"M116.668 939.94 L124.306 939.94 L124.306 913.575 L115.996 915.241 L115.996 910.982 L124.26 909.315 L128.936 909.315 L128.936 939.94 L136.575 939.94 L136.575 943.875 L116.668 943.875 L116.668 939.94 Z\" fill=\"#000000\" fill-rule=\"nonzero\" fill-opacity=\"1\" /><path clip-path=\"url(#clip870)\" d=\"M156.019 912.394 Q152.408 912.394 150.579 915.959 Q148.774 919.501 148.774 926.63 Q148.774 933.737 150.579 937.301 Q152.408 940.843 156.019 940.843 Q159.653 940.843 161.459 937.301 Q163.288 933.737 163.288 926.63 Q163.288 919.501 161.459 915.959 Q159.653 912.394 156.019 912.394 M156.019 908.69 Q161.829 908.69 164.885 913.297 Q167.964 917.88 167.964 926.63 Q167.964 935.357 164.885 939.963 Q161.829 944.547 156.019 944.547 Q150.209 944.547 147.13 939.963 Q144.075 935.357 144.075 926.63 Q144.075 917.88 147.13 913.297 Q150.209 908.69 156.019 908.69 Z\" fill=\"#000000\" fill-rule=\"nonzero\" fill-opacity=\"1\" /><path clip-path=\"url(#clip870)\" d=\"M117.663 711.119 L125.302 711.119 L125.302 684.753 L116.992 686.42 L116.992 682.161 L125.255 680.494 L129.931 680.494 L129.931 711.119 L137.57 711.119 L137.57 715.054 L117.663 715.054 L117.663 711.119 Z\" fill=\"#000000\" fill-rule=\"nonzero\" fill-opacity=\"1\" /><path clip-path=\"url(#clip870)\" d=\"M147.061 680.494 L165.417 680.494 L165.417 684.429 L151.343 684.429 L151.343 692.901 Q152.362 692.554 153.38 692.392 Q154.399 692.207 155.417 692.207 Q161.204 692.207 164.584 695.378 Q167.964 698.55 167.964 703.966 Q167.964 709.545 164.491 712.647 Q161.019 715.725 154.7 715.725 Q152.524 715.725 150.255 715.355 Q148.01 714.985 145.603 714.244 L145.603 709.545 Q147.686 710.679 149.908 711.235 Q152.13 711.79 154.607 711.79 Q158.612 711.79 160.95 709.684 Q163.288 707.577 163.288 703.966 Q163.288 700.355 160.95 698.249 Q158.612 696.142 154.607 696.142 Q152.732 696.142 150.857 696.559 Q149.005 696.975 147.061 697.855 L147.061 680.494 Z\" fill=\"#000000\" fill-rule=\"nonzero\" fill-opacity=\"1\" /><path clip-path=\"url(#clip870)\" d=\"M119.885 482.297 L136.204 482.297 L136.204 486.233 L114.26 486.233 L114.26 482.297 Q116.922 479.543 121.505 474.913 Q126.112 470.261 127.292 468.918 Q129.538 466.395 130.417 464.659 Q131.32 462.899 131.32 461.21 Q131.32 458.455 129.376 456.719 Q127.455 454.983 124.353 454.983 Q122.154 454.983 119.7 455.747 Q117.269 456.511 114.492 458.061 L114.492 453.339 Q117.316 452.205 119.769 451.626 Q122.223 451.048 124.26 451.048 Q129.63 451.048 132.825 453.733 Q136.019 456.418 136.019 460.909 Q136.019 463.038 135.209 464.96 Q134.422 466.858 132.316 469.45 Q131.737 470.122 128.635 473.339 Q125.533 476.534 119.885 482.297 Z\" fill=\"#000000\" fill-rule=\"nonzero\" fill-opacity=\"1\" /><path clip-path=\"url(#clip870)\" d=\"M156.019 454.751 Q152.408 454.751 150.579 458.316 Q148.774 461.858 148.774 468.987 Q148.774 476.094 150.579 479.659 Q152.408 483.2 156.019 483.2 Q159.653 483.2 161.459 479.659 Q163.288 476.094 163.288 468.987 Q163.288 461.858 161.459 458.316 Q159.653 454.751 156.019 454.751 M156.019 451.048 Q161.829 451.048 164.885 455.654 Q167.964 460.237 167.964 468.987 Q167.964 477.714 164.885 482.321 Q161.829 486.904 156.019 486.904 Q150.209 486.904 147.13 482.321 Q144.075 477.714 144.075 468.987 Q144.075 460.237 147.13 455.654 Q150.209 451.048 156.019 451.048 Z\" fill=\"#000000\" fill-rule=\"nonzero\" fill-opacity=\"1\" /><path clip-path=\"url(#clip870)\" d=\"M120.88 253.476 L137.2 253.476 L137.2 257.411 L115.256 257.411 L115.256 253.476 Q117.918 250.721 122.501 246.092 Q127.107 241.439 128.288 240.097 Q130.533 237.573 131.413 235.837 Q132.316 234.078 132.316 232.388 Q132.316 229.634 130.371 227.898 Q128.45 226.161 125.348 226.161 Q123.149 226.161 120.695 226.925 Q118.265 227.689 115.487 229.24 L115.487 224.518 Q118.311 223.384 120.765 222.805 Q123.218 222.226 125.255 222.226 Q130.626 222.226 133.82 224.911 Q137.015 227.597 137.015 232.087 Q137.015 234.217 136.204 236.138 Q135.417 238.036 133.311 240.629 Q132.732 241.3 129.63 244.518 Q126.529 247.712 120.88 253.476 Z\" fill=\"#000000\" fill-rule=\"nonzero\" fill-opacity=\"1\" /><path clip-path=\"url(#clip870)\" d=\"M147.061 222.851 L165.417 222.851 L165.417 226.786 L151.343 226.786 L151.343 235.259 Q152.362 234.911 153.38 234.749 Q154.399 234.564 155.417 234.564 Q161.204 234.564 164.584 237.735 Q167.964 240.907 167.964 246.323 Q167.964 251.902 164.491 255.004 Q161.019 258.083 154.7 258.083 Q152.524 258.083 150.255 257.712 Q148.01 257.342 145.603 256.601 L145.603 251.902 Q147.686 253.036 149.908 253.592 Q152.13 254.147 154.607 254.147 Q158.612 254.147 160.95 252.041 Q163.288 249.934 163.288 246.323 Q163.288 242.712 160.95 240.606 Q158.612 238.499 154.607 238.499 Q152.732 238.499 150.857 238.916 Q149.005 239.333 147.061 240.212 L147.061 222.851 Z\" fill=\"#000000\" fill-rule=\"nonzero\" fill-opacity=\"1\" /><path clip-path=\"url(#clip870)\" d=\"M16.4842 801.909 L16.4842 795.479 L58.5933 795.479 L58.5933 772.34 L64.0042 772.34 L64.0042 801.909 L16.4842 801.909 Z\" fill=\"#000000\" fill-rule=\"nonzero\" fill-opacity=\"1\" /><path clip-path=\"url(#clip870)\" d=\"M32.4621 753.179 Q32.4621 757.89 36.1542 760.627 Q39.8145 763.364 46.212 763.364 Q52.6095 763.364 56.3017 760.659 Q59.9619 757.922 59.9619 753.179 Q59.9619 748.5 56.2698 745.763 Q52.5777 743.026 46.212 743.026 Q39.8781 743.026 36.186 745.763 Q32.4621 748.5 32.4621 753.179 M27.4968 753.179 Q27.4968 745.54 32.4621 741.18 Q37.4273 736.819 46.212 736.819 Q54.9649 736.819 59.9619 741.18 Q64.9272 745.54 64.9272 753.179 Q64.9272 760.85 59.9619 765.21 Q54.9649 769.539 46.212 769.539 Q37.4273 769.539 32.4621 765.21 Q27.4968 760.85 27.4968 753.179 Z\" fill=\"#000000\" fill-rule=\"nonzero\" fill-opacity=\"1\" /><path clip-path=\"url(#clip870)\" d=\"M29.4065 704.386 L34.9447 704.386 Q33.6716 706.869 33.035 709.542 Q32.3984 712.216 32.3984 715.08 Q32.3984 719.441 33.7352 721.637 Q35.072 723.801 37.7456 723.801 Q39.7826 723.801 40.9603 722.242 Q42.1061 720.682 43.1565 715.972 L43.6021 713.966 Q44.9389 707.728 47.3897 705.118 Q49.8086 702.476 54.1691 702.476 Q59.1344 702.476 62.0308 706.423 Q64.9272 710.338 64.9272 717.213 Q64.9272 720.078 64.3543 723.197 Q63.8132 726.284 62.6992 729.722 L56.6518 729.722 Q58.3387 726.475 59.198 723.324 Q60.0256 720.173 60.0256 717.086 Q60.0256 712.948 58.6251 710.72 Q57.1929 708.492 54.6147 708.492 Q52.2276 708.492 50.9545 710.115 Q49.6813 711.707 48.5037 717.149 L48.0262 719.186 Q46.8804 724.629 44.5251 727.048 Q42.138 729.467 38.0002 729.467 Q32.9713 729.467 30.2341 725.902 Q27.4968 722.337 27.4968 715.781 Q27.4968 712.534 27.9743 709.67 Q28.4517 706.805 29.4065 704.386 Z\" fill=\"#000000\" fill-rule=\"nonzero\" fill-opacity=\"1\" /><path clip-path=\"url(#clip870)\" d=\"M29.4065 670.425 L34.9447 670.425 Q33.6716 672.908 33.035 675.581 Q32.3984 678.255 32.3984 681.119 Q32.3984 685.48 33.7352 687.676 Q35.072 689.84 37.7456 689.84 Q39.7826 689.84 40.9603 688.281 Q42.1061 686.721 43.1565 682.011 L43.6021 680.005 Q44.9389 673.767 47.3897 671.157 Q49.8086 668.515 54.1691 668.515 Q59.1344 668.515 62.0308 672.462 Q64.9272 676.377 64.9272 683.252 Q64.9272 686.116 64.3543 689.236 Q63.8132 692.323 62.6992 695.761 L56.6518 695.761 Q58.3387 692.514 59.198 689.363 Q60.0256 686.212 60.0256 683.125 Q60.0256 678.987 58.6251 676.759 Q57.1929 674.531 54.6147 674.531 Q52.2276 674.531 50.9545 676.154 Q49.6813 677.746 48.5037 683.188 L48.0262 685.225 Q46.8804 690.668 44.5251 693.087 Q42.138 695.506 38.0002 695.506 Q32.9713 695.506 30.2341 691.941 Q27.4968 688.376 27.4968 681.82 Q27.4968 678.573 27.9743 675.709 Q28.4517 672.844 29.4065 670.425 Z\" fill=\"#000000\" fill-rule=\"nonzero\" fill-opacity=\"1\" /><polyline clip-path=\"url(#clip872)\" style=\"stroke:#009af9; stroke-linecap:round; stroke-linejoin:round; stroke-width:8; stroke-opacity:1; fill:none\" points=\"264.778,86.1857 285.255,101.03 305.731,1077.18 326.208,1258.1 346.684,1245.35 367.16,1299.62 387.637,1332.84 408.113,1344.59 428.59,1354.64 449.066,1362.39 469.542,1368.03 490.019,1372.41 510.495,1375.88 530.972,1378.59 551.448,1380.3 571.924,1381.37 592.401,1382.38 612.877,1382.99 633.353,1383.43 653.83,1383.68 674.306,1383.91 694.783,1384.03 715.259,1384.11 735.735,1384.16 756.212,1384.19 776.688,1384.21 797.165,1384.22 817.641,1384.23 838.117,1384.23 858.594,1384.24 879.07,1384.24 899.547,1384.24 920.023,1384.24 940.499,1384.24 960.976,1384.24 981.452,1384.24 1001.93,1384.24 1022.4,1384.24 1042.88,1384.24 1063.36,1384.24 1083.83,1384.24 1104.31,1384.24 1124.79,1384.24 1145.26,1384.24 1165.74,1384.24 1186.22,1384.24 1206.69,1384.24 1227.17,1384.24 1247.65,1384.24 1268.12,1384.24 1288.6,1384.24 1309.07,1384.24 1329.55,1384.24 1350.03,1384.24 1370.5,1384.24 1390.98,1384.24 1411.46,1384.24 1431.93,1384.24 1452.41,1384.24 1472.89,1384.24 1493.36,1384.24 1513.84,1384.24 1534.31,1384.24 1554.79,1384.24 1575.27,1384.24 1595.74,1384.24 1616.22,1384.24 1636.7,1384.24 1657.17,1384.24 1677.65,1384.24 1698.13,1384.24 1718.6,1384.24 1739.08,1384.24 1759.55,1384.24 1780.03,1384.24 1800.51,1384.24 1820.98,1384.24 1841.46,1384.24 1861.94,1384.24 1882.41,1384.24 1902.89,1384.24 1923.37,1384.24 1943.84,1384.24 1964.32,1384.24 1984.8,1384.24 2005.27,1384.24 2025.75,1384.24 2046.22,1384.24 2066.7,1384.24 2087.18,1384.24 2107.65,1384.24 2128.13,1384.24 2148.61,1384.24 2169.08,1384.24 2189.56,1384.24 2210.04,1384.24 2230.51,1384.24 2250.99,1384.24 2271.46,1384.24 2291.94,1384.24 \"/>\n",
       "</svg>\n"
      ],
      "text/html": [
       "<?xml version=\"1.0\" encoding=\"utf-8\"?>\n",
       "<svg xmlns=\"http://www.w3.org/2000/svg\" xmlns:xlink=\"http://www.w3.org/1999/xlink\" width=\"600\" height=\"400\" viewBox=\"0 0 2400 1600\">\n",
       "<defs>\n",
       "  <clipPath id=\"clip920\">\n",
       "    <rect x=\"0\" y=\"0\" width=\"2400\" height=\"1600\"/>\n",
       "  </clipPath>\n",
       "</defs>\n",
       "<path clip-path=\"url(#clip920)\" d=\"M0 1600 L2400 1600 L2400 0 L0 0  Z\" fill=\"#ffffff\" fill-rule=\"evenodd\" fill-opacity=\"1\"/>\n",
       "<defs>\n",
       "  <clipPath id=\"clip921\">\n",
       "    <rect x=\"480\" y=\"0\" width=\"1681\" height=\"1600\"/>\n",
       "  </clipPath>\n",
       "</defs>\n",
       "<path clip-path=\"url(#clip920)\" d=\"M203.964 1423.18 L2352.76 1423.18 L2352.76 47.2441 L203.964 47.2441  Z\" fill=\"#ffffff\" fill-rule=\"evenodd\" fill-opacity=\"1\"/>\n",
       "<defs>\n",
       "  <clipPath id=\"clip922\">\n",
       "    <rect x=\"203\" y=\"47\" width=\"2150\" height=\"1377\"/>\n",
       "  </clipPath>\n",
       "</defs>\n",
       "<polyline clip-path=\"url(#clip922)\" style=\"stroke:#000000; stroke-linecap:round; stroke-linejoin:round; stroke-width:2; stroke-opacity:0.1; fill:none\" points=\"244.302,1423.18 244.302,47.2441 \"/>\n",
       "<polyline clip-path=\"url(#clip922)\" style=\"stroke:#000000; stroke-linecap:round; stroke-linejoin:round; stroke-width:2; stroke-opacity:0.1; fill:none\" points=\"756.212,1423.18 756.212,47.2441 \"/>\n",
       "<polyline clip-path=\"url(#clip922)\" style=\"stroke:#000000; stroke-linecap:round; stroke-linejoin:round; stroke-width:2; stroke-opacity:0.1; fill:none\" points=\"1268.12,1423.18 1268.12,47.2441 \"/>\n",
       "<polyline clip-path=\"url(#clip922)\" style=\"stroke:#000000; stroke-linecap:round; stroke-linejoin:round; stroke-width:2; stroke-opacity:0.1; fill:none\" points=\"1780.03,1423.18 1780.03,47.2441 \"/>\n",
       "<polyline clip-path=\"url(#clip922)\" style=\"stroke:#000000; stroke-linecap:round; stroke-linejoin:round; stroke-width:2; stroke-opacity:0.1; fill:none\" points=\"2291.94,1423.18 2291.94,47.2441 \"/>\n",
       "<polyline clip-path=\"url(#clip920)\" style=\"stroke:#000000; stroke-linecap:round; stroke-linejoin:round; stroke-width:4; stroke-opacity:1; fill:none\" points=\"203.964,1423.18 2352.76,1423.18 \"/>\n",
       "<polyline clip-path=\"url(#clip920)\" style=\"stroke:#000000; stroke-linecap:round; stroke-linejoin:round; stroke-width:4; stroke-opacity:1; fill:none\" points=\"203.964,47.2441 2352.76,47.2441 \"/>\n",
       "<polyline clip-path=\"url(#clip920)\" style=\"stroke:#000000; stroke-linecap:round; stroke-linejoin:round; stroke-width:4; stroke-opacity:1; fill:none\" points=\"244.302,1423.18 244.302,1404.28 \"/>\n",
       "<polyline clip-path=\"url(#clip920)\" style=\"stroke:#000000; stroke-linecap:round; stroke-linejoin:round; stroke-width:4; stroke-opacity:1; fill:none\" points=\"756.212,1423.18 756.212,1404.28 \"/>\n",
       "<polyline clip-path=\"url(#clip920)\" style=\"stroke:#000000; stroke-linecap:round; stroke-linejoin:round; stroke-width:4; stroke-opacity:1; fill:none\" points=\"1268.12,1423.18 1268.12,1404.28 \"/>\n",
       "<polyline clip-path=\"url(#clip920)\" style=\"stroke:#000000; stroke-linecap:round; stroke-linejoin:round; stroke-width:4; stroke-opacity:1; fill:none\" points=\"1780.03,1423.18 1780.03,1404.28 \"/>\n",
       "<polyline clip-path=\"url(#clip920)\" style=\"stroke:#000000; stroke-linecap:round; stroke-linejoin:round; stroke-width:4; stroke-opacity:1; fill:none\" points=\"2291.94,1423.18 2291.94,1404.28 \"/>\n",
       "<path clip-path=\"url(#clip920)\" d=\"M244.302 1454.1 Q240.691 1454.1 238.862 1457.66 Q237.057 1461.2 237.057 1468.33 Q237.057 1475.44 238.862 1479.01 Q240.691 1482.55 244.302 1482.55 Q247.936 1482.55 249.742 1479.01 Q251.571 1475.44 251.571 1468.33 Q251.571 1461.2 249.742 1457.66 Q247.936 1454.1 244.302 1454.1 M244.302 1450.39 Q250.112 1450.39 253.168 1455 Q256.246 1459.58 256.246 1468.33 Q256.246 1477.06 253.168 1481.67 Q250.112 1486.25 244.302 1486.25 Q238.492 1486.25 235.413 1481.67 Q232.358 1477.06 232.358 1468.33 Q232.358 1459.58 235.413 1455 Q238.492 1450.39 244.302 1450.39 Z\" fill=\"#000000\" fill-rule=\"nonzero\" fill-opacity=\"1\" /><path clip-path=\"url(#clip920)\" d=\"M735.483 1481.64 L751.802 1481.64 L751.802 1485.58 L729.858 1485.58 L729.858 1481.64 Q732.52 1478.89 737.103 1474.26 Q741.71 1469.61 742.89 1468.27 Q745.135 1465.74 746.015 1464.01 Q746.918 1462.25 746.918 1460.56 Q746.918 1457.8 744.973 1456.07 Q743.052 1454.33 739.95 1454.33 Q737.751 1454.33 735.298 1455.09 Q732.867 1455.86 730.089 1457.41 L730.089 1452.69 Q732.913 1451.55 735.367 1450.97 Q737.821 1450.39 739.858 1450.39 Q745.228 1450.39 748.422 1453.08 Q751.617 1455.77 751.617 1460.26 Q751.617 1462.39 750.807 1464.31 Q750.02 1466.2 747.913 1468.8 Q747.335 1469.47 744.233 1472.69 Q741.131 1475.88 735.483 1481.64 Z\" fill=\"#000000\" fill-rule=\"nonzero\" fill-opacity=\"1\" /><path clip-path=\"url(#clip920)\" d=\"M761.663 1451.02 L780.02 1451.02 L780.02 1454.96 L765.946 1454.96 L765.946 1463.43 Q766.964 1463.08 767.983 1462.92 Q769.001 1462.73 770.02 1462.73 Q775.807 1462.73 779.186 1465.9 Q782.566 1469.08 782.566 1474.49 Q782.566 1480.07 779.094 1483.17 Q775.621 1486.25 769.302 1486.25 Q767.126 1486.25 764.858 1485.88 Q762.612 1485.51 760.205 1484.77 L760.205 1480.07 Q762.288 1481.2 764.51 1481.76 Q766.733 1482.32 769.209 1482.32 Q773.214 1482.32 775.552 1480.21 Q777.89 1478.1 777.89 1474.49 Q777.89 1470.88 775.552 1468.77 Q773.214 1466.67 769.209 1466.67 Q767.334 1466.67 765.459 1467.08 Q763.608 1467.5 761.663 1468.38 L761.663 1451.02 Z\" fill=\"#000000\" fill-rule=\"nonzero\" fill-opacity=\"1\" /><path clip-path=\"url(#clip920)\" d=\"M1242.82 1451.02 L1261.18 1451.02 L1261.18 1454.96 L1247.1 1454.96 L1247.1 1463.43 Q1248.12 1463.08 1249.14 1462.92 Q1250.16 1462.73 1251.18 1462.73 Q1256.96 1462.73 1260.34 1465.9 Q1263.72 1469.08 1263.72 1474.49 Q1263.72 1480.07 1260.25 1483.17 Q1256.78 1486.25 1250.46 1486.25 Q1248.28 1486.25 1246.02 1485.88 Q1243.77 1485.51 1241.36 1484.77 L1241.36 1480.07 Q1243.45 1481.2 1245.67 1481.76 Q1247.89 1482.32 1250.37 1482.32 Q1254.37 1482.32 1256.71 1480.21 Q1259.05 1478.1 1259.05 1474.49 Q1259.05 1470.88 1256.71 1468.77 Q1254.37 1466.67 1250.37 1466.67 Q1248.49 1466.67 1246.62 1467.08 Q1244.77 1467.5 1242.82 1468.38 L1242.82 1451.02 Z\" fill=\"#000000\" fill-rule=\"nonzero\" fill-opacity=\"1\" /><path clip-path=\"url(#clip920)\" d=\"M1282.94 1454.1 Q1279.33 1454.1 1277.5 1457.66 Q1275.69 1461.2 1275.69 1468.33 Q1275.69 1475.44 1277.5 1479.01 Q1279.33 1482.55 1282.94 1482.55 Q1286.57 1482.55 1288.38 1479.01 Q1290.2 1475.44 1290.2 1468.33 Q1290.2 1461.2 1288.38 1457.66 Q1286.57 1454.1 1282.94 1454.1 M1282.94 1450.39 Q1288.75 1450.39 1291.8 1455 Q1294.88 1459.58 1294.88 1468.33 Q1294.88 1477.06 1291.8 1481.67 Q1288.75 1486.25 1282.94 1486.25 Q1277.13 1486.25 1274.05 1481.67 Q1270.99 1477.06 1270.99 1468.33 Q1270.99 1459.58 1274.05 1455 Q1277.13 1450.39 1282.94 1450.39 Z\" fill=\"#000000\" fill-rule=\"nonzero\" fill-opacity=\"1\" /><path clip-path=\"url(#clip920)\" d=\"M1753.89 1451.02 L1776.11 1451.02 L1776.11 1453.01 L1763.56 1485.58 L1758.68 1485.58 L1770.48 1454.96 L1753.89 1454.96 L1753.89 1451.02 Z\" fill=\"#000000\" fill-rule=\"nonzero\" fill-opacity=\"1\" /><path clip-path=\"url(#clip920)\" d=\"M1785.27 1451.02 L1803.63 1451.02 L1803.63 1454.96 L1789.56 1454.96 L1789.56 1463.43 Q1790.58 1463.08 1791.59 1462.92 Q1792.61 1462.73 1793.63 1462.73 Q1799.42 1462.73 1802.8 1465.9 Q1806.18 1469.08 1806.18 1474.49 Q1806.18 1480.07 1802.7 1483.17 Q1799.23 1486.25 1792.91 1486.25 Q1790.74 1486.25 1788.47 1485.88 Q1786.22 1485.51 1783.82 1484.77 L1783.82 1480.07 Q1785.9 1481.2 1788.12 1481.76 Q1790.34 1482.32 1792.82 1482.32 Q1796.83 1482.32 1799.16 1480.21 Q1801.5 1478.1 1801.5 1474.49 Q1801.5 1470.88 1799.16 1468.77 Q1796.83 1466.67 1792.82 1466.67 Q1790.95 1466.67 1789.07 1467.08 Q1787.22 1467.5 1785.27 1468.38 L1785.27 1451.02 Z\" fill=\"#000000\" fill-rule=\"nonzero\" fill-opacity=\"1\" /><path clip-path=\"url(#clip920)\" d=\"M2251.55 1481.64 L2259.19 1481.64 L2259.19 1455.28 L2250.88 1456.95 L2250.88 1452.69 L2259.14 1451.02 L2263.82 1451.02 L2263.82 1481.64 L2271.46 1481.64 L2271.46 1485.58 L2251.55 1485.58 L2251.55 1481.64 Z\" fill=\"#000000\" fill-rule=\"nonzero\" fill-opacity=\"1\" /><path clip-path=\"url(#clip920)\" d=\"M2290.9 1454.1 Q2287.29 1454.1 2285.46 1457.66 Q2283.65 1461.2 2283.65 1468.33 Q2283.65 1475.44 2285.46 1479.01 Q2287.29 1482.55 2290.9 1482.55 Q2294.53 1482.55 2296.34 1479.01 Q2298.17 1475.44 2298.17 1468.33 Q2298.17 1461.2 2296.34 1457.66 Q2294.53 1454.1 2290.9 1454.1 M2290.9 1450.39 Q2296.71 1450.39 2299.77 1455 Q2302.84 1459.58 2302.84 1468.33 Q2302.84 1477.06 2299.77 1481.67 Q2296.71 1486.25 2290.9 1486.25 Q2285.09 1486.25 2282.01 1481.67 Q2278.95 1477.06 2278.95 1468.33 Q2278.95 1459.58 2282.01 1455 Q2285.09 1450.39 2290.9 1450.39 Z\" fill=\"#000000\" fill-rule=\"nonzero\" fill-opacity=\"1\" /><path clip-path=\"url(#clip920)\" d=\"M2321.06 1454.1 Q2317.45 1454.1 2315.62 1457.66 Q2313.82 1461.2 2313.82 1468.33 Q2313.82 1475.44 2315.62 1479.01 Q2317.45 1482.55 2321.06 1482.55 Q2324.7 1482.55 2326.5 1479.01 Q2328.33 1475.44 2328.33 1468.33 Q2328.33 1461.2 2326.5 1457.66 Q2324.7 1454.1 2321.06 1454.1 M2321.06 1450.39 Q2326.87 1450.39 2329.93 1455 Q2333.01 1459.58 2333.01 1468.33 Q2333.01 1477.06 2329.93 1481.67 Q2326.87 1486.25 2321.06 1486.25 Q2315.25 1486.25 2312.17 1481.67 Q2309.12 1477.06 2309.12 1468.33 Q2309.12 1459.58 2312.17 1455 Q2315.25 1450.39 2321.06 1450.39 Z\" fill=\"#000000\" fill-rule=\"nonzero\" fill-opacity=\"1\" /><path clip-path=\"url(#clip920)\" d=\"M1184.53 1520.52 L1214.58 1520.52 L1214.58 1525.93 L1190.96 1525.93 L1190.96 1540 L1213.59 1540 L1213.59 1545.41 L1190.96 1545.41 L1190.96 1562.63 L1215.15 1562.63 L1215.15 1568.04 L1184.53 1568.04 L1184.53 1520.52 Z\" fill=\"#000000\" fill-rule=\"nonzero\" fill-opacity=\"1\" /><path clip-path=\"url(#clip920)\" d=\"M1231.13 1562.7 L1231.13 1581.6 L1225.24 1581.6 L1225.24 1532.4 L1231.13 1532.4 L1231.13 1537.81 Q1232.97 1534.62 1235.77 1533.1 Q1238.61 1531.54 1242.52 1531.54 Q1249.01 1531.54 1253.06 1536.69 Q1257.13 1541.85 1257.13 1550.25 Q1257.13 1558.65 1253.06 1563.81 Q1249.01 1568.97 1242.52 1568.97 Q1238.61 1568.97 1235.77 1567.44 Q1232.97 1565.88 1231.13 1562.7 M1251.05 1550.25 Q1251.05 1543.79 1248.38 1540.13 Q1245.74 1536.44 1241.09 1536.44 Q1236.44 1536.44 1233.77 1540.13 Q1231.13 1543.79 1231.13 1550.25 Q1231.13 1556.71 1233.77 1560.4 Q1236.44 1564.07 1241.09 1564.07 Q1245.74 1564.07 1248.38 1560.4 Q1251.05 1556.71 1251.05 1550.25 Z\" fill=\"#000000\" fill-rule=\"nonzero\" fill-opacity=\"1\" /><path clip-path=\"url(#clip920)\" d=\"M1280.65 1536.5 Q1275.94 1536.5 1273.2 1540.19 Q1270.47 1543.85 1270.47 1550.25 Q1270.47 1556.65 1273.17 1560.34 Q1275.91 1564 1280.65 1564 Q1285.33 1564 1288.07 1560.31 Q1290.8 1556.62 1290.8 1550.25 Q1290.8 1543.92 1288.07 1540.23 Q1285.33 1536.5 1280.65 1536.5 M1280.65 1531.54 Q1288.29 1531.54 1292.65 1536.5 Q1297.01 1541.47 1297.01 1550.25 Q1297.01 1559 1292.65 1564 Q1288.29 1568.97 1280.65 1568.97 Q1272.98 1568.97 1268.62 1564 Q1264.29 1559 1264.29 1550.25 Q1264.29 1541.47 1268.62 1536.5 Q1272.98 1531.54 1280.65 1531.54 Z\" fill=\"#000000\" fill-rule=\"nonzero\" fill-opacity=\"1\" /><path clip-path=\"url(#clip920)\" d=\"M1332.37 1533.76 L1332.37 1539.24 Q1329.89 1537.87 1327.38 1537.2 Q1324.89 1536.5 1322.35 1536.5 Q1316.65 1536.5 1313.5 1540.13 Q1310.35 1543.73 1310.35 1550.25 Q1310.35 1556.78 1313.5 1560.4 Q1316.65 1564 1322.35 1564 Q1324.89 1564 1327.38 1563.33 Q1329.89 1562.63 1332.37 1561.26 L1332.37 1566.68 Q1329.92 1567.82 1327.28 1568.39 Q1324.67 1568.97 1321.71 1568.97 Q1313.66 1568.97 1308.92 1563.91 Q1304.17 1558.85 1304.17 1550.25 Q1304.17 1541.53 1308.95 1536.53 Q1313.75 1531.54 1322.09 1531.54 Q1324.8 1531.54 1327.38 1532.11 Q1329.95 1532.65 1332.37 1533.76 Z\" fill=\"#000000\" fill-rule=\"nonzero\" fill-opacity=\"1\" /><path clip-path=\"url(#clip920)\" d=\"M1372.19 1546.53 L1372.19 1568.04 L1366.33 1568.04 L1366.33 1546.72 Q1366.33 1541.66 1364.36 1539.14 Q1362.39 1536.63 1358.44 1536.63 Q1353.7 1536.63 1350.96 1539.65 Q1348.22 1542.68 1348.22 1547.9 L1348.22 1568.04 L1342.34 1568.04 L1342.34 1518.52 L1348.22 1518.52 L1348.22 1537.93 Q1350.32 1534.72 1353.16 1533.13 Q1356.02 1531.54 1359.75 1531.54 Q1365.89 1531.54 1369.04 1535.36 Q1372.19 1539.14 1372.19 1546.53 Z\" fill=\"#000000\" fill-rule=\"nonzero\" fill-opacity=\"1\" /><polyline clip-path=\"url(#clip922)\" style=\"stroke:#000000; stroke-linecap:round; stroke-linejoin:round; stroke-width:2; stroke-opacity:0.1; fill:none\" points=\"203.964,1384.24 2352.76,1384.24 \"/>\n",
       "<polyline clip-path=\"url(#clip922)\" style=\"stroke:#000000; stroke-linecap:round; stroke-linejoin:round; stroke-width:2; stroke-opacity:0.1; fill:none\" points=\"203.964,1155.42 2352.76,1155.42 \"/>\n",
       "<polyline clip-path=\"url(#clip922)\" style=\"stroke:#000000; stroke-linecap:round; stroke-linejoin:round; stroke-width:2; stroke-opacity:0.1; fill:none\" points=\"203.964,926.595 2352.76,926.595 \"/>\n",
       "<polyline clip-path=\"url(#clip922)\" style=\"stroke:#000000; stroke-linecap:round; stroke-linejoin:round; stroke-width:2; stroke-opacity:0.1; fill:none\" points=\"203.964,697.774 2352.76,697.774 \"/>\n",
       "<polyline clip-path=\"url(#clip922)\" style=\"stroke:#000000; stroke-linecap:round; stroke-linejoin:round; stroke-width:2; stroke-opacity:0.1; fill:none\" points=\"203.964,468.953 2352.76,468.953 \"/>\n",
       "<polyline clip-path=\"url(#clip922)\" style=\"stroke:#000000; stroke-linecap:round; stroke-linejoin:round; stroke-width:2; stroke-opacity:0.1; fill:none\" points=\"203.964,240.131 2352.76,240.131 \"/>\n",
       "<polyline clip-path=\"url(#clip920)\" style=\"stroke:#000000; stroke-linecap:round; stroke-linejoin:round; stroke-width:4; stroke-opacity:1; fill:none\" points=\"203.964,1423.18 203.964,47.2441 \"/>\n",
       "<polyline clip-path=\"url(#clip920)\" style=\"stroke:#000000; stroke-linecap:round; stroke-linejoin:round; stroke-width:4; stroke-opacity:1; fill:none\" points=\"2352.76,1423.18 2352.76,47.2441 \"/>\n",
       "<polyline clip-path=\"url(#clip920)\" style=\"stroke:#000000; stroke-linecap:round; stroke-linejoin:round; stroke-width:4; stroke-opacity:1; fill:none\" points=\"203.964,1384.24 222.861,1384.24 \"/>\n",
       "<polyline clip-path=\"url(#clip920)\" style=\"stroke:#000000; stroke-linecap:round; stroke-linejoin:round; stroke-width:4; stroke-opacity:1; fill:none\" points=\"203.964,1155.42 222.861,1155.42 \"/>\n",
       "<polyline clip-path=\"url(#clip920)\" style=\"stroke:#000000; stroke-linecap:round; stroke-linejoin:round; stroke-width:4; stroke-opacity:1; fill:none\" points=\"203.964,926.595 222.861,926.595 \"/>\n",
       "<polyline clip-path=\"url(#clip920)\" style=\"stroke:#000000; stroke-linecap:round; stroke-linejoin:round; stroke-width:4; stroke-opacity:1; fill:none\" points=\"203.964,697.774 222.861,697.774 \"/>\n",
       "<polyline clip-path=\"url(#clip920)\" style=\"stroke:#000000; stroke-linecap:round; stroke-linejoin:round; stroke-width:4; stroke-opacity:1; fill:none\" points=\"203.964,468.953 222.861,468.953 \"/>\n",
       "<polyline clip-path=\"url(#clip920)\" style=\"stroke:#000000; stroke-linecap:round; stroke-linejoin:round; stroke-width:4; stroke-opacity:1; fill:none\" points=\"203.964,240.131 222.861,240.131 \"/>\n",
       "<path clip-path=\"url(#clip920)\" d=\"M156.019 1370.04 Q152.408 1370.04 150.579 1373.6 Q148.774 1377.14 148.774 1384.27 Q148.774 1391.38 150.579 1394.94 Q152.408 1398.49 156.019 1398.49 Q159.653 1398.49 161.459 1394.94 Q163.288 1391.38 163.288 1384.27 Q163.288 1377.14 161.459 1373.6 Q159.653 1370.04 156.019 1370.04 M156.019 1366.33 Q161.829 1366.33 164.885 1370.94 Q167.964 1375.52 167.964 1384.27 Q167.964 1393 164.885 1397.61 Q161.829 1402.19 156.019 1402.19 Q150.209 1402.19 147.13 1397.61 Q144.075 1393 144.075 1384.27 Q144.075 1375.52 147.13 1370.94 Q150.209 1366.33 156.019 1366.33 Z\" fill=\"#000000\" fill-rule=\"nonzero\" fill-opacity=\"1\" /><path clip-path=\"url(#clip920)\" d=\"M147.061 1138.14 L165.417 1138.14 L165.417 1142.07 L151.343 1142.07 L151.343 1150.54 Q152.362 1150.2 153.38 1150.03 Q154.399 1149.85 155.417 1149.85 Q161.204 1149.85 164.584 1153.02 Q167.964 1156.19 167.964 1161.61 Q167.964 1167.19 164.491 1170.29 Q161.019 1173.37 154.7 1173.37 Q152.524 1173.37 150.255 1173 Q148.01 1172.63 145.603 1171.89 L145.603 1167.19 Q147.686 1168.32 149.908 1168.88 Q152.13 1169.43 154.607 1169.43 Q158.612 1169.43 160.95 1167.33 Q163.288 1165.22 163.288 1161.61 Q163.288 1158 160.95 1155.89 Q158.612 1153.78 154.607 1153.78 Q152.732 1153.78 150.857 1154.2 Q149.005 1154.62 147.061 1155.5 L147.061 1138.14 Z\" fill=\"#000000\" fill-rule=\"nonzero\" fill-opacity=\"1\" /><path clip-path=\"url(#clip920)\" d=\"M116.668 939.94 L124.306 939.94 L124.306 913.575 L115.996 915.241 L115.996 910.982 L124.26 909.315 L128.936 909.315 L128.936 939.94 L136.575 939.94 L136.575 943.875 L116.668 943.875 L116.668 939.94 Z\" fill=\"#000000\" fill-rule=\"nonzero\" fill-opacity=\"1\" /><path clip-path=\"url(#clip920)\" d=\"M156.019 912.394 Q152.408 912.394 150.579 915.959 Q148.774 919.501 148.774 926.63 Q148.774 933.737 150.579 937.301 Q152.408 940.843 156.019 940.843 Q159.653 940.843 161.459 937.301 Q163.288 933.737 163.288 926.63 Q163.288 919.501 161.459 915.959 Q159.653 912.394 156.019 912.394 M156.019 908.69 Q161.829 908.69 164.885 913.297 Q167.964 917.88 167.964 926.63 Q167.964 935.357 164.885 939.963 Q161.829 944.547 156.019 944.547 Q150.209 944.547 147.13 939.963 Q144.075 935.357 144.075 926.63 Q144.075 917.88 147.13 913.297 Q150.209 908.69 156.019 908.69 Z\" fill=\"#000000\" fill-rule=\"nonzero\" fill-opacity=\"1\" /><path clip-path=\"url(#clip920)\" d=\"M117.663 711.119 L125.302 711.119 L125.302 684.753 L116.992 686.42 L116.992 682.161 L125.255 680.494 L129.931 680.494 L129.931 711.119 L137.57 711.119 L137.57 715.054 L117.663 715.054 L117.663 711.119 Z\" fill=\"#000000\" fill-rule=\"nonzero\" fill-opacity=\"1\" /><path clip-path=\"url(#clip920)\" d=\"M147.061 680.494 L165.417 680.494 L165.417 684.429 L151.343 684.429 L151.343 692.901 Q152.362 692.554 153.38 692.392 Q154.399 692.207 155.417 692.207 Q161.204 692.207 164.584 695.378 Q167.964 698.55 167.964 703.966 Q167.964 709.545 164.491 712.647 Q161.019 715.725 154.7 715.725 Q152.524 715.725 150.255 715.355 Q148.01 714.985 145.603 714.244 L145.603 709.545 Q147.686 710.679 149.908 711.235 Q152.13 711.79 154.607 711.79 Q158.612 711.79 160.95 709.684 Q163.288 707.577 163.288 703.966 Q163.288 700.355 160.95 698.249 Q158.612 696.142 154.607 696.142 Q152.732 696.142 150.857 696.559 Q149.005 696.975 147.061 697.855 L147.061 680.494 Z\" fill=\"#000000\" fill-rule=\"nonzero\" fill-opacity=\"1\" /><path clip-path=\"url(#clip920)\" d=\"M119.885 482.297 L136.204 482.297 L136.204 486.233 L114.26 486.233 L114.26 482.297 Q116.922 479.543 121.505 474.913 Q126.112 470.261 127.292 468.918 Q129.538 466.395 130.417 464.659 Q131.32 462.899 131.32 461.21 Q131.32 458.455 129.376 456.719 Q127.455 454.983 124.353 454.983 Q122.154 454.983 119.7 455.747 Q117.269 456.511 114.492 458.061 L114.492 453.339 Q117.316 452.205 119.769 451.626 Q122.223 451.048 124.26 451.048 Q129.63 451.048 132.825 453.733 Q136.019 456.418 136.019 460.909 Q136.019 463.038 135.209 464.96 Q134.422 466.858 132.316 469.45 Q131.737 470.122 128.635 473.339 Q125.533 476.534 119.885 482.297 Z\" fill=\"#000000\" fill-rule=\"nonzero\" fill-opacity=\"1\" /><path clip-path=\"url(#clip920)\" d=\"M156.019 454.751 Q152.408 454.751 150.579 458.316 Q148.774 461.858 148.774 468.987 Q148.774 476.094 150.579 479.659 Q152.408 483.2 156.019 483.2 Q159.653 483.2 161.459 479.659 Q163.288 476.094 163.288 468.987 Q163.288 461.858 161.459 458.316 Q159.653 454.751 156.019 454.751 M156.019 451.048 Q161.829 451.048 164.885 455.654 Q167.964 460.237 167.964 468.987 Q167.964 477.714 164.885 482.321 Q161.829 486.904 156.019 486.904 Q150.209 486.904 147.13 482.321 Q144.075 477.714 144.075 468.987 Q144.075 460.237 147.13 455.654 Q150.209 451.048 156.019 451.048 Z\" fill=\"#000000\" fill-rule=\"nonzero\" fill-opacity=\"1\" /><path clip-path=\"url(#clip920)\" d=\"M120.88 253.476 L137.2 253.476 L137.2 257.411 L115.256 257.411 L115.256 253.476 Q117.918 250.721 122.501 246.092 Q127.107 241.439 128.288 240.097 Q130.533 237.573 131.413 235.837 Q132.316 234.078 132.316 232.388 Q132.316 229.634 130.371 227.898 Q128.45 226.161 125.348 226.161 Q123.149 226.161 120.695 226.925 Q118.265 227.689 115.487 229.24 L115.487 224.518 Q118.311 223.384 120.765 222.805 Q123.218 222.226 125.255 222.226 Q130.626 222.226 133.82 224.911 Q137.015 227.597 137.015 232.087 Q137.015 234.217 136.204 236.138 Q135.417 238.036 133.311 240.629 Q132.732 241.3 129.63 244.518 Q126.529 247.712 120.88 253.476 Z\" fill=\"#000000\" fill-rule=\"nonzero\" fill-opacity=\"1\" /><path clip-path=\"url(#clip920)\" d=\"M147.061 222.851 L165.417 222.851 L165.417 226.786 L151.343 226.786 L151.343 235.259 Q152.362 234.911 153.38 234.749 Q154.399 234.564 155.417 234.564 Q161.204 234.564 164.584 237.735 Q167.964 240.907 167.964 246.323 Q167.964 251.902 164.491 255.004 Q161.019 258.083 154.7 258.083 Q152.524 258.083 150.255 257.712 Q148.01 257.342 145.603 256.601 L145.603 251.902 Q147.686 253.036 149.908 253.592 Q152.13 254.147 154.607 254.147 Q158.612 254.147 160.95 252.041 Q163.288 249.934 163.288 246.323 Q163.288 242.712 160.95 240.606 Q158.612 238.499 154.607 238.499 Q152.732 238.499 150.857 238.916 Q149.005 239.333 147.061 240.212 L147.061 222.851 Z\" fill=\"#000000\" fill-rule=\"nonzero\" fill-opacity=\"1\" /><path clip-path=\"url(#clip920)\" d=\"M16.4842 801.909 L16.4842 795.479 L58.5933 795.479 L58.5933 772.34 L64.0042 772.34 L64.0042 801.909 L16.4842 801.909 Z\" fill=\"#000000\" fill-rule=\"nonzero\" fill-opacity=\"1\" /><path clip-path=\"url(#clip920)\" d=\"M32.4621 753.179 Q32.4621 757.89 36.1542 760.627 Q39.8145 763.364 46.212 763.364 Q52.6095 763.364 56.3017 760.659 Q59.9619 757.922 59.9619 753.179 Q59.9619 748.5 56.2698 745.763 Q52.5777 743.026 46.212 743.026 Q39.8781 743.026 36.186 745.763 Q32.4621 748.5 32.4621 753.179 M27.4968 753.179 Q27.4968 745.54 32.4621 741.18 Q37.4273 736.819 46.212 736.819 Q54.9649 736.819 59.9619 741.18 Q64.9272 745.54 64.9272 753.179 Q64.9272 760.85 59.9619 765.21 Q54.9649 769.539 46.212 769.539 Q37.4273 769.539 32.4621 765.21 Q27.4968 760.85 27.4968 753.179 Z\" fill=\"#000000\" fill-rule=\"nonzero\" fill-opacity=\"1\" /><path clip-path=\"url(#clip920)\" d=\"M29.4065 704.386 L34.9447 704.386 Q33.6716 706.869 33.035 709.542 Q32.3984 712.216 32.3984 715.08 Q32.3984 719.441 33.7352 721.637 Q35.072 723.801 37.7456 723.801 Q39.7826 723.801 40.9603 722.242 Q42.1061 720.682 43.1565 715.972 L43.6021 713.966 Q44.9389 707.728 47.3897 705.118 Q49.8086 702.476 54.1691 702.476 Q59.1344 702.476 62.0308 706.423 Q64.9272 710.338 64.9272 717.213 Q64.9272 720.078 64.3543 723.197 Q63.8132 726.284 62.6992 729.722 L56.6518 729.722 Q58.3387 726.475 59.198 723.324 Q60.0256 720.173 60.0256 717.086 Q60.0256 712.948 58.6251 710.72 Q57.1929 708.492 54.6147 708.492 Q52.2276 708.492 50.9545 710.115 Q49.6813 711.707 48.5037 717.149 L48.0262 719.186 Q46.8804 724.629 44.5251 727.048 Q42.138 729.467 38.0002 729.467 Q32.9713 729.467 30.2341 725.902 Q27.4968 722.337 27.4968 715.781 Q27.4968 712.534 27.9743 709.67 Q28.4517 706.805 29.4065 704.386 Z\" fill=\"#000000\" fill-rule=\"nonzero\" fill-opacity=\"1\" /><path clip-path=\"url(#clip920)\" d=\"M29.4065 670.425 L34.9447 670.425 Q33.6716 672.908 33.035 675.581 Q32.3984 678.255 32.3984 681.119 Q32.3984 685.48 33.7352 687.676 Q35.072 689.84 37.7456 689.84 Q39.7826 689.84 40.9603 688.281 Q42.1061 686.721 43.1565 682.011 L43.6021 680.005 Q44.9389 673.767 47.3897 671.157 Q49.8086 668.515 54.1691 668.515 Q59.1344 668.515 62.0308 672.462 Q64.9272 676.377 64.9272 683.252 Q64.9272 686.116 64.3543 689.236 Q63.8132 692.323 62.6992 695.761 L56.6518 695.761 Q58.3387 692.514 59.198 689.363 Q60.0256 686.212 60.0256 683.125 Q60.0256 678.987 58.6251 676.759 Q57.1929 674.531 54.6147 674.531 Q52.2276 674.531 50.9545 676.154 Q49.6813 677.746 48.5037 683.188 L48.0262 685.225 Q46.8804 690.668 44.5251 693.087 Q42.138 695.506 38.0002 695.506 Q32.9713 695.506 30.2341 691.941 Q27.4968 688.376 27.4968 681.82 Q27.4968 678.573 27.9743 675.709 Q28.4517 672.844 29.4065 670.425 Z\" fill=\"#000000\" fill-rule=\"nonzero\" fill-opacity=\"1\" /><polyline clip-path=\"url(#clip922)\" style=\"stroke:#009af9; stroke-linecap:round; stroke-linejoin:round; stroke-width:8; stroke-opacity:1; fill:none\" points=\"264.778,86.1857 285.255,101.03 305.731,1077.18 326.208,1258.1 346.684,1245.35 367.16,1299.62 387.637,1332.84 408.113,1344.59 428.59,1354.64 449.066,1362.39 469.542,1368.03 490.019,1372.41 510.495,1375.88 530.972,1378.59 551.448,1380.3 571.924,1381.37 592.401,1382.38 612.877,1382.99 633.353,1383.43 653.83,1383.68 674.306,1383.91 694.783,1384.03 715.259,1384.11 735.735,1384.16 756.212,1384.19 776.688,1384.21 797.165,1384.22 817.641,1384.23 838.117,1384.23 858.594,1384.24 879.07,1384.24 899.547,1384.24 920.023,1384.24 940.499,1384.24 960.976,1384.24 981.452,1384.24 1001.93,1384.24 1022.4,1384.24 1042.88,1384.24 1063.36,1384.24 1083.83,1384.24 1104.31,1384.24 1124.79,1384.24 1145.26,1384.24 1165.74,1384.24 1186.22,1384.24 1206.69,1384.24 1227.17,1384.24 1247.65,1384.24 1268.12,1384.24 1288.6,1384.24 1309.07,1384.24 1329.55,1384.24 1350.03,1384.24 1370.5,1384.24 1390.98,1384.24 1411.46,1384.24 1431.93,1384.24 1452.41,1384.24 1472.89,1384.24 1493.36,1384.24 1513.84,1384.24 1534.31,1384.24 1554.79,1384.24 1575.27,1384.24 1595.74,1384.24 1616.22,1384.24 1636.7,1384.24 1657.17,1384.24 1677.65,1384.24 1698.13,1384.24 1718.6,1384.24 1739.08,1384.24 1759.55,1384.24 1780.03,1384.24 1800.51,1384.24 1820.98,1384.24 1841.46,1384.24 1861.94,1384.24 1882.41,1384.24 1902.89,1384.24 1923.37,1384.24 1943.84,1384.24 1964.32,1384.24 1984.8,1384.24 2005.27,1384.24 2025.75,1384.24 2046.22,1384.24 2066.7,1384.24 2087.18,1384.24 2107.65,1384.24 2128.13,1384.24 2148.61,1384.24 2169.08,1384.24 2189.56,1384.24 2210.04,1384.24 2230.51,1384.24 2250.99,1384.24 2271.46,1384.24 2291.94,1384.24 \"/>\n",
       "</svg>\n"
      ]
     },
     "metadata": {},
     "output_type": "display_data"
    }
   ],
   "source": [
    "plot(loss_train, legend=nothing, framestyle=:box, linewidth=2)\n",
    "ylabel!(\"Loss\")\n",
    "xlabel!(\"Epoch\")"
   ]
  },
  {
   "cell_type": "code",
   "execution_count": 70,
   "id": "209bb1c6",
   "metadata": {},
   "outputs": [
    {
     "name": "stdout",
     "output_type": "stream",
     "text": [
      "Ground-truth K: 3.0\n",
      "Estimate K:     3.000000000000001\n",
      "Ground-truth R: 0.3\n",
      "Estimate R:     0.30000000000000043\n"
     ]
    }
   ],
   "source": [
    "println(\"Ground-truth K: \", K_true)\n",
    "println(\"Estimate K:     \", m.P[1])\n",
    "\n",
    "println(\"Ground-truth R: \", R_true)\n",
    "println(\"Estimate R:     \", m.P[2])"
   ]
  }
 ],
 "metadata": {
  "kernelspec": {
   "display_name": "Julia 1.9.0",
   "language": "julia",
   "name": "julia-1.9"
  },
  "language_info": {
   "file_extension": ".jl",
   "mimetype": "application/julia",
   "name": "julia",
   "version": "1.9.0"
  }
 },
 "nbformat": 4,
 "nbformat_minor": 5
}
