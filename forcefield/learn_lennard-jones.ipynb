{
 "cells": [
  {
   "cell_type": "markdown",
   "id": "52e9acc6",
   "metadata": {},
   "source": [
    "### 座標とポテンシャルエネルギーを訓練データとして、エネルギー関数のパラメータ($\\epsilon$と$\\sigma$)を学習する"
   ]
  },
  {
   "cell_type": "markdown",
   "id": "49a459f6",
   "metadata": {},
   "source": [
    "### 必要なパッケージを読み込む"
   ]
  },
  {
   "cell_type": "code",
   "execution_count": 1,
   "id": "0403461b-dea0-4b9e-9559-6e74fcccbe63",
   "metadata": {
    "tags": []
   },
   "outputs": [],
   "source": [
    "using Flux, Plots\n",
    "using ChainRulesCore\n",
    "using Statistics\n",
    "using Random"
   ]
  },
  {
   "cell_type": "markdown",
   "id": "1f79f36a",
   "metadata": {},
   "source": [
    "### ポテンシャルエネルギー関数の定義"
   ]
  },
  {
   "cell_type": "code",
   "execution_count": 2,
   "id": "08e558bf-297d-453e-ac00-54451d820cf4",
   "metadata": {
    "tags": []
   },
   "outputs": [
    {
     "data": {
      "text/plain": [
       "compute_energy (generic function with 1 method)"
      ]
     },
     "execution_count": 2,
     "metadata": {},
     "output_type": "execute_result"
    }
   ],
   "source": [
    "function compute_energy(coords1, coords2, epsilon, sigma)\n",
    "    r = sqrt(sum((coords1 .- coords2).^2))\n",
    "    U = epsilon * ((sigma/r)^12 - 2 * (sigma/r)^6)\n",
    "    return U\n",
    "end"
   ]
  },
  {
   "cell_type": "code",
   "execution_count": 3,
   "id": "888ab664",
   "metadata": {},
   "outputs": [],
   "source": [
    "function ChainRulesCore.rrule(::typeof(compute_energy), coords1, coords2, epsilon, sigma)\n",
    "    dx = coords1 .- coords2\n",
    "    r = sqrt(sum(dx.^2))\n",
    "    U = epsilon * ((sigma / r)^12 - 2 * (sigma / r)^6) \n",
    "    \n",
    "    noise = 10\n",
    "    function compute_energy_pullback(dU)\n",
    "        dcoords1 = -12 * epsilon * ((sigma^12 / r^14) - (sigma^6 / r^8)) .* dx .* dU\n",
    "        dcoords2 = - dcoords1\n",
    "        depsilon = ((sigma / r)^12 - 2 * (sigma / r)^6) * dU\n",
    "        dsigma = 12 * epsilon * (sigma^11 / r^12 - sigma^5 / r^6) * dU \n",
    "        return NoTangent(), dcoords1, dcoords2, depsilon, dsigma\n",
    "    end\n",
    "    return U, compute_energy_pullback\n",
    "end"
   ]
  },
  {
   "cell_type": "markdown",
   "id": "e3803dc7",
   "metadata": {},
   "source": [
    "### ポテンシャルエネルギー関数を持つFluxのカスタムレイヤの定義"
   ]
  },
  {
   "cell_type": "code",
   "execution_count": 4,
   "id": "5977aaea",
   "metadata": {},
   "outputs": [],
   "source": [
    "struct Energy\n",
    "    P::AbstractArray #P[1] = epsilon, P[2] = sigma\n",
    "end\n",
    "\n",
    "Flux.@functor Energy (P,)\n",
    "\n",
    "(m::Energy)(coords) = compute_energy(coords..., m.P[1], m.P[2])"
   ]
  },
  {
   "cell_type": "code",
   "execution_count": 5,
   "id": "77a66691",
   "metadata": {},
   "outputs": [
    {
     "data": {
      "text/plain": [
       "-0.0027416025485425466"
      ]
     },
     "execution_count": 5,
     "metadata": {},
     "output_type": "execute_result"
    }
   ],
   "source": [
    "# カスタムレイヤでポテンシャルエネルギー値を計算できるかテスト\n",
    "m = Energy([1.0, 1.0])\n",
    "coords = ([0.0, 0.0, 0.0], [3.0, 0.0, 0.0])\n",
    "m(coords)"
   ]
  },
  {
   "cell_type": "markdown",
   "id": "b7f074c5",
   "metadata": {},
   "source": [
    "### 訓練データの作成"
   ]
  },
  {
   "cell_type": "code",
   "execution_count": 6,
   "id": "2011ba2e",
   "metadata": {},
   "outputs": [],
   "source": [
    "epsilon_true = 0.3\n",
    "sigma_true = 3.0\n",
    "nframe = 100\n",
    "\n",
    "seed_value = 1234 #乱数固定\n",
    "Random.seed!(seed_value)\n",
    "\n",
    "X_train = []\n",
    "y_train = []\n",
    "for iframe = 1:nframe\n",
    "    coords1 = randn(3) \n",
    "    coords2 = randn(3) \n",
    "    push!(X_train, (coords1, coords2))\n",
    "    push!(y_train, compute_energy(coords1, coords2, epsilon_true, sigma_true))\n",
    "end"
   ]
  },
  {
   "cell_type": "code",
   "execution_count": 7,
   "id": "f4980cfb-ef25-4d19-ada6-80bc2b8dafde",
   "metadata": {},
   "outputs": [
    {
     "data": {
      "text/plain": [
       "100-element Vector{Float64}:\n",
       "     3.7393382587199235e8\n",
       "     1.710397817833069e8\n",
       "     2.644959624931498e7\n",
       "     2.3602367950986173e7\n",
       "     5.063294248546081e6\n",
       "     2.428080873548686e6\n",
       "     2.1500470102530373e6\n",
       " 45153.00495316633\n",
       " 19534.009087515184\n",
       " 12516.534868073755\n",
       "  9865.222442998134\n",
       "  7021.695689971635\n",
       "  6085.626957934721\n",
       "     ⋮\n",
       "     0.14732884760995343\n",
       "     0.13949352355703026\n",
       "     0.12880388362989648\n",
       "     0.12711703086977033\n",
       "     0.11866779492051184\n",
       "     0.11537618042994668\n",
       "     0.1094851473900713\n",
       "     0.10356352985422172\n",
       "     0.10041751898189936\n",
       "     0.09141671781596213\n",
       "     0.04478933956145604\n",
       "     0.01244426500365124"
      ]
     },
     "execution_count": 7,
     "metadata": {},
     "output_type": "execute_result"
    }
   ],
   "source": [
    "sort(abs.(y_train), rev=true)"
   ]
  },
  {
   "cell_type": "markdown",
   "id": "b0b1e371",
   "metadata": {},
   "source": [
    "### 勾配法で訓練してK(バネ定数)とR(平衡長)を推定"
   ]
  },
  {
   "cell_type": "code",
   "execution_count": 8,
   "id": "59e4098e",
   "metadata": {},
   "outputs": [
    {
     "data": {
      "text/plain": [
       "4.8137975983583106e14"
      ]
     },
     "execution_count": 8,
     "metadata": {},
     "output_type": "execute_result"
    }
   ],
   "source": [
    "# Lossの定義\n",
    "m = Energy([0.31, 3.1]) #かなり正解に近い値からスタート\n",
    "loss(X, y) = Flux.Losses.mse(m.(X), y)\n",
    "loss(X_train, y_train)"
   ]
  },
  {
   "cell_type": "code",
   "execution_count": 9,
   "id": "bc2f3c77",
   "metadata": {},
   "outputs": [
    {
     "data": {
      "text/plain": [
       "Adam(0.001, (0.9, 0.999), 1.0e-8, IdDict{Any, Any}())"
      ]
     },
     "execution_count": 9,
     "metadata": {},
     "output_type": "execute_result"
    }
   ],
   "source": [
    "# DataやOptimizerの定義\n",
    "train_loader = Flux.Data.DataLoader((data=X_train, label=y_train), batchsize=10, shuffle=true)\n",
    "ps = Flux.params(m)\n",
    "opt = ADAM(1e-3)"
   ]
  },
  {
   "cell_type": "code",
   "execution_count": 10,
   "id": "c07d6ea0-4a49-4d43-a78a-e17726c31078",
   "metadata": {},
   "outputs": [
    {
     "data": {
      "text/plain": [
       "print_callback (generic function with 1 method)"
      ]
     },
     "execution_count": 10,
     "metadata": {},
     "output_type": "execute_result"
    }
   ],
   "source": [
    "# コールバック関数の定義\n",
    "function print_callback(epoch, loss, ps)\n",
    "    println(\"Epoch: $epoch, loss: $loss\")\n",
    "    println(\"param: $(ps[1])\")\n",
    "end"
   ]
  },
  {
   "cell_type": "code",
   "execution_count": null,
   "id": "63c99d1e",
   "metadata": {},
   "outputs": [
    {
     "name": "stdout",
     "output_type": "stream",
     "text": [
      "Epoch: 1, loss: 3.8378721133948856e14\n",
      "param: [0.30468614702252633, 3.094685559913893]\n",
      "Epoch: 1001, loss: 1.291585932157722e6\n",
      "param: [0.2529149509030946, 3.042979105785854]\n",
      "Epoch: 2001, loss: 4.864093207660576e8\n",
      "param: [0.2576468230644103, 3.0381540087353547]\n",
      "Epoch: 3001, loss: 13009.568431803325\n",
      "param: [0.26232265627805096, 3.0337384692508658]\n"
     ]
    }
   ],
   "source": [
    "# 訓練\n",
    "loss_train = []\n",
    "\n",
    "for epoch in 1:10001\n",
    "    for (X, y) in train_loader\n",
    "        gs = gradient(() -> loss(X, y), ps)\n",
    "        Flux.Optimise.update!(opt, ps, gs)\n",
    "    end\n",
    "    push!(loss_train, loss(X_train, y_train))\n",
    "    if epoch%1000 == 1\n",
    "            print_callback(epoch, loss(X_train, y_train), ps)\n",
    "    end\n",
    "end"
   ]
  },
  {
   "cell_type": "code",
   "execution_count": null,
   "id": "b1b2c87c",
   "metadata": {},
   "outputs": [],
   "source": [
    "plot(loss_train, legend=nothing, framestyle=:box, linewidth=2)\n",
    "ylabel!(\"Loss\")\n",
    "xlabel!(\"Epoch\")"
   ]
  },
  {
   "cell_type": "code",
   "execution_count": null,
   "id": "c50ee08c-0d0f-4db6-8c65-9f2a8a657bac",
   "metadata": {},
   "outputs": [],
   "source": [
    "ps[1][1]"
   ]
  },
  {
   "cell_type": "code",
   "execution_count": null,
   "id": "cc3c91f1-bbcf-4b79-88b2-e098731d8875",
   "metadata": {},
   "outputs": [],
   "source": [
    "size(loss_train)"
   ]
  },
  {
   "cell_type": "code",
   "execution_count": null,
   "id": "209bb1c6",
   "metadata": {},
   "outputs": [],
   "source": [
    "println(\"Ground-truth epsilon: \", epsilon_true)\n",
    "println(\"Estimate epsilon:     \", m.P[1])\n",
    "\n",
    "println(\"Ground-truth sigma: \", sigma_true)\n",
    "println(\"Estimate sigma:     \", m.P[2])"
   ]
  }
 ],
 "metadata": {
  "kernelspec": {
   "display_name": "Julia 1.8.0",
   "language": "julia",
   "name": "julia-1.8"
  },
  "language_info": {
   "file_extension": ".jl",
   "mimetype": "application/julia",
   "name": "julia",
   "version": "1.8.0"
  }
 },
 "nbformat": 4,
 "nbformat_minor": 5
}
