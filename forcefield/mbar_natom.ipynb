{
 "cells": [
  {
   "cell_type": "markdown",
   "id": "52e9acc6",
   "metadata": {},
   "source": [
    "### 座標とポテンシャルエネルギーを訓練データとして、エネルギー関数のパラメータ($\\epsilon$と$\\sigma$)を学習する"
   ]
  },
  {
   "cell_type": "markdown",
   "id": "49a459f6",
   "metadata": {},
   "source": [
    "### 必要なパッケージを読み込む"
   ]
  },
  {
   "cell_type": "code",
   "execution_count": 1,
   "id": "0403461b-dea0-4b9e-9559-6e74fcccbe63",
   "metadata": {
    "tags": []
   },
   "outputs": [],
   "source": [
    "using Flux, Plots\n",
    "using ChainRulesCore\n",
    "using Statistics\n",
    "using Random\n",
    "#using Distributions\n",
    "using MDToolbox"
   ]
  },
  {
   "cell_type": "code",
   "execution_count": 2,
   "id": "9393436c-d894-42da-912f-b8f6a42be2fb",
   "metadata": {},
   "outputs": [],
   "source": [
    "function _mbar_f(u_kl, f_k, u_k=nothing)\n",
    "    # K: number of umbrella windows\n",
    "    K, L = size(u_kl)\n",
    "\n",
    "    # N_k: number of data in k-th umbrella window\n",
    "    N_k = zeros(Int64, K)\n",
    "    for k = 1:K\n",
    "        N_k[k] = length(u_kl[k, 1])\n",
    "    end\n",
    "    N_max = maximum(N_k)\n",
    "    \n",
    "    # conversion from array of array (u_kl) to array (u_kln)\n",
    "    u_kln = zeros(Float64, K, K, N_max)\n",
    "    for k = 1:K\n",
    "        for l = 1:K\n",
    "            u_kln[k, l, 1:N_k[k]] .= u_kl[k, l]\n",
    "        end\n",
    "    end\n",
    "\n",
    "    # conversion from cell (u_k) to array (u_kn)\n",
    "    u_kn = zeros(Float64, K, N_max)\n",
    "    for k = 1:K\n",
    "        if u_k === nothing\n",
    "            u_kn[1, 1:N_k[k]] .= zero(Float64)\n",
    "        else\n",
    "            u_kn[k, 1:N_k[k]] .= u_k[k]\n",
    "        end\n",
    "    end\n",
    "\n",
    "    log_w_kn = zeros(Float64, K, N_max)\n",
    "    for k = 1:K\n",
    "      log_w_kn[k, 1:N_k[k]] .= 1.0\n",
    "    end\n",
    "    idx = log_w_kn .> 0.5;\n",
    "\n",
    "    log_w_kn = MDToolbox.mbar_log_wi_jn(N_k, f_k, u_kln, u_kn, K, N_max)\n",
    "    f_hat = - MDToolbox.logsumexp_1d(log_w_kn[idx])\n",
    "\n",
    "    return f_hat\n",
    "end\n",
    "\n",
    "function ChainRulesCore.rrule(::typeof(_mbar_f), u_kl, f_k, u_k)\n",
    "    f_hat = _mbar_f(u_kl, f_k, u_k)\n",
    "    w_k = MDToolbox.mbar_weight(u_kl, f_k, u_k)\n",
    "    function _mbar_f_pullback(df)\n",
    "        println(\"size(df):$(size(df))\")\n",
    "        du_k = deepcopy(w_k)\n",
    "        for k = 1:length(w_k)\n",
    "            for n = 1:length(w_k[k])\n",
    "                du_k[k][n] = exp(f_hat) * w_k[k][n] * df\n",
    "            end\n",
    "        end\n",
    "        println(\"size(du_k):$(size(du_k))\")\n",
    "        println(\"size(du_k[1]):$(size(du_k[1]))\")\n",
    "        println(maximum(du_k[1]))\n",
    "        return NoTangent(), ZeroTangent(), NoTangent(), du_k\n",
    "    end\n",
    "    return f_hat, _mbar_f_pullback\n",
    "end"
   ]
  },
  {
   "cell_type": "markdown",
   "id": "1f79f36a",
   "metadata": {},
   "source": [
    "### ポテンシャルエネルギー関数の定義"
   ]
  },
  {
   "cell_type": "code",
   "execution_count": 3,
   "id": "08e558bf-297d-453e-ac00-54451d820cf4",
   "metadata": {
    "tags": []
   },
   "outputs": [
    {
     "data": {
      "text/plain": [
       "sum_compute_energy (generic function with 1 method)"
      ]
     },
     "execution_count": 3,
     "metadata": {},
     "output_type": "execute_result"
    }
   ],
   "source": [
    "#2原子の距離を用いポテンシャルを計算\n",
    "function compute_energy(coords1, coords2, epsilon, sigma)\n",
    "    r = sqrt(sum((coords1 .- coords2).^2))\n",
    "    U = epsilon * ((sigma/r)^12 - 2 * (sigma/r)^6)\n",
    "    return U\n",
    "end\n",
    "\n",
    "#nステップ目のポテンシャルを計算\n",
    "function sum_compute_energy(coords, epsilon, sigma)\n",
    "    U = 0\n",
    "    for i in 1:size(coords, 1)\n",
    "        for j in (i+1):size(coords, 1)\n",
    "            U += compute_energy(coords[i], coords[j], epsilon, sigma)\n",
    "        end\n",
    "    end\n",
    "    return U\n",
    "end"
   ]
  },
  {
   "cell_type": "code",
   "execution_count": 4,
   "id": "888ab664",
   "metadata": {},
   "outputs": [],
   "source": [
    "function ChainRulesCore.rrule(::typeof(compute_energy), coords1, coords2, epsilon, sigma)\n",
    "    dx = coords1 .- coords2\n",
    "    r = sqrt(sum(dx.^2))\n",
    "    U = epsilon * ((sigma / r)^12 - 2 * (sigma / r)^6) \n",
    "\n",
    "    function compute_energy_pullback(dU)\n",
    "        println(size(dU))\n",
    "        dcoords1 = -12 * epsilon * ((sigma^12 / r^14) - (sigma^6 / r^8)) .* dx .* dU\n",
    "        dcoords2 = - dcoords1\n",
    "        depsilon = ((sigma / r)^12 - 2 * (sigma / r)^6) * dU\n",
    "        dsigma = 12 * epsilon * (sigma^11 / r^12 - sigma^5 / r^6) * dU \n",
    "        return NoTangent(), dcoords1, dcoords2, depsilon, dsigma\n",
    "    end\n",
    "    return U, compute_energy_pullback\n",
    "end"
   ]
  },
  {
   "cell_type": "code",
   "execution_count": 5,
   "id": "34e4b9b2-dd0a-4292-9a9b-a53fc91d2b27",
   "metadata": {},
   "outputs": [],
   "source": [
    "\"\"\"\n",
    "function ChainRulesCore.rrule(::typeof(sum_compute_energy), coords, epsilon, sigma)\n",
    "    U = sum_compute_energy(coords, epsilon, sigma)\n",
    "    function sum_compute_energy_pullback(du_k)\n",
    "        println(\"size(du_k)\")\n",
    "        \n",
    "        return NoTangent(), NoTangent(), depsilon, dsigma\n",
    "    end\n",
    "    return U, sum_compute_energy_pullback\n",
    "end\n",
    "\"\"\""
   ]
  },
  {
   "cell_type": "code",
   "execution_count": 6,
   "id": "50c5e568-185d-43ab-9443-ab8490dba601",
   "metadata": {},
   "outputs": [
    {
     "data": {
      "text/plain": [
       "compute_free_energy (generic function with 1 method)"
      ]
     },
     "execution_count": 6,
     "metadata": {},
     "output_type": "execute_result"
    }
   ],
   "source": [
    "#n原子の軌跡からFを計算\n",
    "#coords_trj = data_k[i]\n",
    "function compute_free_energy(coords_trj, beta, epsilon, sigma)\n",
    "    N = size(coords_trj, 1) #ステップ数\n",
    "    U_array = [sum_compute_energy(coords_trj[i], epsilon, sigma) for i in 1:N] #Nステップのポテンシャルの値を入れた配列\n",
    "    F = (-1 / beta) * (log(1 / N) + MDToolbox.logsumexp_1d(-beta .* U_array)) #U_arrayを積分してFを計算\n",
    "    return F\n",
    "end"
   ]
  },
  {
   "cell_type": "markdown",
   "id": "e3803dc7",
   "metadata": {},
   "source": [
    "### ポテンシャルエネルギー関数を持つFluxのカスタムレイヤの定義"
   ]
  },
  {
   "cell_type": "markdown",
   "id": "64ec8d9d-aeb0-4b82-ad12-89fe1c349759",
   "metadata": {},
   "source": [
    "### MCMCの定義"
   ]
  },
  {
   "cell_type": "code",
   "execution_count": 7,
   "id": "6e571359-5ee0-4916-b2ac-89d1e51a41f4",
   "metadata": {},
   "outputs": [
    {
     "data": {
      "text/plain": [
       "next_coords (generic function with 2 methods)"
      ]
     },
     "execution_count": 7,
     "metadata": {},
     "output_type": "execute_result"
    }
   ],
   "source": [
    "#次のステップ候補点\n",
    "function next_coords(coords, delta_x=1e-2)\n",
    "    next_coords = map(x -> x .+ (rand(3) .- 0.5) .* delta_x, coords)\n",
    "    return next_coords\n",
    "end"
   ]
  },
  {
   "cell_type": "code",
   "execution_count": 8,
   "id": "6e9b2792-d193-4d38-98fb-972025d925d3",
   "metadata": {},
   "outputs": [
    {
     "data": {
      "text/plain": [
       "mcmc (generic function with 4 methods)"
      ]
     },
     "execution_count": 8,
     "metadata": {},
     "output_type": "execute_result"
    }
   ],
   "source": [
    "#MCMC,メトロポリス法\n",
    "function mcmc(coords, epsilon, sigma, nstep=100, beta=1.0, delta_x=1e-2)\n",
    "    coords_trj = []\n",
    "    alpha_trj = []\n",
    "    push!(coords_trj, copy.(coords))\n",
    "    \n",
    "    for i in 1:nstep\n",
    "        next_coords_tmp = next_coords(coords, delta_x) #候補点\n",
    "        delta_U = sum_compute_energy(next_coords_tmp, epsilon, sigma) - sum_compute_energy(coords, epsilon, sigma)\n",
    "        alpha = exp(-beta * delta_U) #相対確率\n",
    "        \n",
    "        #alpha>=1またはalpha<1のとき確率alphaで候補を受理\n",
    "        if alpha > rand()\n",
    "            coords = next_coords_tmp\n",
    "        end     \n",
    "        push!(coords_trj, copy.(coords))\n",
    "        push!(alpha_trj, alpha)\n",
    "    end\n",
    "    return coords_trj, alpha_trj\n",
    "end"
   ]
  },
  {
   "cell_type": "markdown",
   "id": "b7f074c5",
   "metadata": {},
   "source": [
    "### 訓練データの作成"
   ]
  },
  {
   "cell_type": "code",
   "execution_count": 9,
   "id": "2011ba2e",
   "metadata": {},
   "outputs": [],
   "source": [
    "#パラメータ\n",
    "param_set = [(1.3, 2.3),(1.0, 2.0)] #params_set[i] = (epsilon[i], sigma[i])\n",
    "\n",
    "data_k = []\n",
    "alpha_trj = []\n",
    "K = size(param_set, 1) #最後のパラメータの値を推定する\n",
    "natom = 3\n",
    "kBT = 0.1\n",
    "beta = 1.0/(kBT)\n",
    "nstep = 10000\n",
    "delta_x = 1e-2\n",
    "\n",
    "for i in 1:size(param_set, 1)\n",
    "    use_param = i #使うパラメータ\n",
    "    epsilon = param_set[use_param][1]\n",
    "    sigma = param_set[use_param][2]\n",
    "\n",
    "    coords = [[[sigma * x + rand(), rand(), rand()] for x in 1:natom]...]  #初期座標\n",
    "\n",
    "    #nstepのMCMC\n",
    "    coords_trj, alpha = mcmc(coords, epsilon, sigma, nstep, beta, delta_x)\n",
    "    push!(data_k, coords_trj)\n",
    "    push!(alpha_trj, alpha)\n",
    "end"
   ]
  },
  {
   "cell_type": "markdown",
   "id": "98e0c6ce-21a9-4ed6-8084-db529326b6da",
   "metadata": {},
   "source": [
    "### MBAR"
   ]
  },
  {
   "cell_type": "code",
   "execution_count": 10,
   "id": "b92071a4-2637-4bef-bcbf-47676e79676d",
   "metadata": {},
   "outputs": [],
   "source": [
    "u_kl = Array{Any}(undef, (K, K))\n",
    "nstep = size(data_k[1], 1)\n",
    "\n",
    "for k in 1:K\n",
    "    for l in 1:K #F_targetもMBARで推定する\n",
    "        #k番目のtrjデータをl番目のパラメータを用いポテンシャルを計算\n",
    "        #xは何ステップ目を表す変数\n",
    "        u_kl[k, l] = [sum_compute_energy(data_k[k][x], param_set[l][1], param_set[l][2]) for x in 1:nstep]\n",
    "    end\n",
    "end      "
   ]
  },
  {
   "cell_type": "code",
   "execution_count": 11,
   "id": "7fae731f-5a96-4992-8d1e-feace7466e96",
   "metadata": {},
   "outputs": [
    {
     "name": "stdout",
     "output_type": "stream",
     "text": [
      "iteration = 1  delta = 1.414214e+00  tol = 1.000000e-08\n",
      "free energies =  0.000000 -0.039451\n",
      "\n",
      "iteration = 2  delta = 4.123091e-01  tol = 1.000000e-08\n",
      "free energies =  0.000000 -0.055686\n",
      "\n",
      "iteration = 3  delta = 1.528973e-01  tol = 1.000000e-08\n",
      "free energies =  0.000000 -0.062436\n",
      "\n",
      "iteration = 4  delta = 6.108251e-02  tol = 1.000000e-08\n",
      "free energies =  0.000000 -0.065254\n",
      "\n",
      "iteration = 5  delta = 2.509510e-02  tol = 1.000000e-08\n",
      "free energies =  0.000000 -0.066433\n",
      "\n",
      "iteration = 6  delta = 1.042649e-02  tol = 1.000000e-08\n",
      "free energies =  0.000000 -0.066927\n",
      "\n",
      "iteration = 7  delta = 4.352050e-03  tol = 1.000000e-08\n",
      "free energies =  0.000000 -0.067133\n",
      "\n",
      "iteration = 8  delta = 1.820054e-03  tol = 1.000000e-08\n",
      "free energies =  0.000000 -0.067220\n",
      "\n",
      "iteration = 9  delta = 7.617681e-04  tol = 1.000000e-08\n",
      "free energies =  0.000000 -0.067256\n",
      "\n",
      "iteration = 10  delta = 3.189386e-04  tol = 1.000000e-08\n",
      "free energies =  0.000000 -0.067271\n",
      "\n",
      "iteration =11  delta = 2.297984e-05  tol = 1.000000e-08\n",
      "free energies =  0.000000 -0.067272\n",
      "\n",
      "iteration =12  delta = 2.067884e-04  tol = 1.000000e-08\n",
      "free energies =  0.000000 -0.067282\n",
      "\n",
      "iteration =13  delta = 2.656014e-10  tol = 1.000000e-08\n",
      "free energies =  0.000000 -0.067282\n",
      "\n"
     ]
    },
    {
     "data": {
      "text/plain": [
       "2-element Vector{Float64}:\n",
       "  0.0\n",
       " -0.06728212214971191"
      ]
     },
     "execution_count": 11,
     "metadata": {},
     "output_type": "execute_result"
    }
   ],
   "source": [
    "# solve MBAR equations\n",
    "f_k = mbar(u_kl)"
   ]
  },
  {
   "cell_type": "code",
   "execution_count": 12,
   "id": "37cdbe7c-fce7-46f5-870f-5bcfe6ca534c",
   "metadata": {},
   "outputs": [
    {
     "name": "stdout",
     "output_type": "stream",
     "text": [
      "F .- F[1] = [0.0, 0.568251918896254]\n"
     ]
    },
    {
     "data": {
      "text/plain": [
       "2-element Vector{Float64}:\n",
       " 0.0\n",
       " 0.568251918896254"
      ]
     },
     "execution_count": 12,
     "metadata": {},
     "output_type": "execute_result"
    }
   ],
   "source": [
    "# Sanity check\n",
    "F = [compute_free_energy(data_k[i], beta, param_set[i][1], param_set[i][2]) for i in 1:K] \n",
    "@show F .- F[1]"
   ]
  },
  {
   "cell_type": "code",
   "execution_count": 13,
   "id": "0ea4f1ec-8e4d-4e41-bb11-31520d3930a7",
   "metadata": {},
   "outputs": [
    {
     "name": "stdout",
     "output_type": "stream",
     "text": [
      "F_target = compute_free_energy(trj_target, beta, epsilon_target, sigma_target) = -3.193996999388191\n",
      "delta_F = F_target - F[1] = -0.7100059466840589\n"
     ]
    },
    {
     "data": {
      "text/plain": [
       "-0.7100059466840589"
      ]
     },
     "execution_count": 13,
     "metadata": {},
     "output_type": "execute_result"
    }
   ],
   "source": [
    "epsilon_target = 1.1\n",
    "sigma_target = 4.1\n",
    "\n",
    "coords_target = [[[rand(), rand(), rand()] for x in 1:natom]...]\n",
    "trj_target, alpha = mcmc(coords_target, epsilon_target, sigma_target, nstep, beta)\n",
    "\n",
    "@show F_target = compute_free_energy(trj_target, beta, epsilon_target, sigma_target)\n",
    "\n",
    "@show delta_F = F_target - F[1]"
   ]
  },
  {
   "cell_type": "code",
   "execution_count": 14,
   "id": "d4ba8701-f499-4c12-8ba7-b29c50206022",
   "metadata": {},
   "outputs": [
    {
     "name": "stdout",
     "output_type": "stream",
     "text": [
      "f_target = 570.0555075853356\n"
     ]
    },
    {
     "data": {
      "text/plain": [
       "57.00555075853356"
      ]
     },
     "execution_count": 14,
     "metadata": {},
     "output_type": "execute_result"
    }
   ],
   "source": [
    "# Sanity check\n",
    "u_k = Vector{Any}(undef, K)\n",
    "\n",
    "for k in 1:K    \n",
    "    u_k[k] = [sum_compute_energy(data_k[k][x], epsilon_target, sigma_target) for x in 1:nstep]\n",
    "end\n",
    "\n",
    "f_target = mbar_f(u_kl, f_k, u_k)\n",
    "@show f_target\n",
    "(1 ./ beta) * (f_target - f_k[1])"
   ]
  },
  {
   "cell_type": "code",
   "execution_count": 15,
   "id": "7477e37b-d335-4f2f-b4f0-fcebf3fab7a8",
   "metadata": {},
   "outputs": [
    {
     "data": {
      "text/plain": [
       "-0.7100059466840589"
      ]
     },
     "execution_count": 15,
     "metadata": {},
     "output_type": "execute_result"
    }
   ],
   "source": [
    "#パラメータ推定に用いる原子の軌跡と自由エネルギーの差\n",
    "X_train = []\n",
    "for k = 1:K\n",
    "    push!(X_train, (data_k[k]))\n",
    "end\n",
    "y_train = delta_F"
   ]
  },
  {
   "cell_type": "markdown",
   "id": "b0b1e371",
   "metadata": {},
   "source": [
    "### 勾配法で訓練してK(バネ定数)とR(平衡長)を推定"
   ]
  },
  {
   "cell_type": "code",
   "execution_count": 16,
   "id": "59e4098e",
   "metadata": {},
   "outputs": [
    {
     "data": {
      "text/plain": [
       "compute_deltaF (generic function with 1 method)"
      ]
     },
     "execution_count": 16,
     "metadata": {},
     "output_type": "execute_result"
    }
   ],
   "source": [
    "function compute_deltaF(X, f_k, u_kl, beta, epsilon, sigma)\n",
    "    #K = length(f_k)\n",
    "    #u_k = Vector{Vector{Float64}}(undef, 0)\n",
    "    #for k = 1:K\n",
    "        #for istep = 1:nstep\n",
    "        #    u_k[k][istep] = beta * compute_energy(X[1][k][istep], X[2][k][istep], m.P[1], m.P[2])\n",
    "        #end\n",
    "        #push!(u_k, map(x -> beta * compute_energy(x[1], x[2], epsilon, sigma), zip(X[1][k], X[2][k])))\n",
    "    #end\n",
    "    for k in 1:K\n",
    "        for istep in 1:nstep\n",
    "            u_k[k][istep] = sum_compute_energy(X[k][istep], epsilon, sigma)\n",
    "        end\n",
    "    end\n",
    "    f_target = _mbar_f(u_kl, f_k, u_k)\n",
    "    delta_F = (1 ./ beta) * (f_target - f_k[1])\n",
    "    return delta_F\n",
    "end"
   ]
  },
  {
   "cell_type": "code",
   "execution_count": 17,
   "id": "a726cdc0-3cea-49f5-b5da-dc79551d1f7f",
   "metadata": {},
   "outputs": [],
   "source": [
    "struct MBAR\n",
    "    P::AbstractArray #P[1] = epsilon, P[2] = sigma\n",
    "end\n",
    "\n",
    "Flux.@functor MBAR (P,)\n",
    "\n",
    "(m::MBAR)(X) = compute_deltaF(X, f_k, u_kl, beta, m.P[1], m.P[2])\n"
   ]
  },
  {
   "cell_type": "code",
   "execution_count": 18,
   "id": "38b9d567-d2cb-4880-aa20-2e6c9f21525f",
   "metadata": {},
   "outputs": [
    {
     "data": {
      "text/plain": [
       "3331.08548579319"
      ]
     },
     "execution_count": 18,
     "metadata": {},
     "output_type": "execute_result"
    }
   ],
   "source": [
    "# Sanity check\n",
    "m = MBAR([epsilon_target, sigma_target])\n",
    "loss(X, y) = Flux.Losses.mse(m(X), y)\n",
    "loss(X_train, y_train)"
   ]
  },
  {
   "cell_type": "code",
   "execution_count": 19,
   "id": "bc2f3c77",
   "metadata": {},
   "outputs": [
    {
     "data": {
      "text/plain": [
       "Adam(0.001, (0.9, 0.999), 1.0e-8, IdDict{Any, Any}())"
      ]
     },
     "execution_count": 19,
     "metadata": {},
     "output_type": "execute_result"
    }
   ],
   "source": [
    "# DataやOptimizerの定義\n",
    "#train_loader = Flux.Data.DataLoader((data=X_train, label=y_train), batchsize=10, shuffle=true)\n",
    "ps = Flux.params(m)\n",
    "opt = ADAM(1e-3) "
   ]
  },
  {
   "cell_type": "code",
   "execution_count": 20,
   "id": "c07d6ea0-4a49-4d43-a78a-e17726c31078",
   "metadata": {},
   "outputs": [
    {
     "data": {
      "text/plain": [
       "print_callback (generic function with 1 method)"
      ]
     },
     "execution_count": 20,
     "metadata": {},
     "output_type": "execute_result"
    }
   ],
   "source": [
    "# コールバック関数の定義\n",
    "function print_callback(epoch, loss, ps)\n",
    "    println(\"Epoch: $epoch, loss: $loss\")\n",
    "    println(\"param: $(ps[1])\")\n",
    "end"
   ]
  },
  {
   "cell_type": "code",
   "execution_count": 21,
   "id": "63c99d1e",
   "metadata": {},
   "outputs": [
    {
     "name": "stdout",
     "output_type": "stream",
     "text": [
      "size(df):()\n",
      "size(du_k):(2,)\n",
      "size(du_k[1]):(10001,)\n",
      "2.5931412036083424e248\n"
     ]
    },
    {
     "ename": "LoadError",
     "evalue": "Mutating arrays is not supported -- called setindex!(Vector{Float64}, ...)\nThis error occurs when you ask Zygote to differentiate operations that change\nthe elements of arrays in place (e.g. setting values with x .= ...)\n\nPossible fixes:\n- avoid mutating operations (preferred)\n- or read the documentation and solutions for this error\n  https://fluxml.ai/Zygote.jl/latest/limitations\n",
     "output_type": "error",
     "traceback": [
      "Mutating arrays is not supported -- called setindex!(Vector{Float64}, ...)\nThis error occurs when you ask Zygote to differentiate operations that change\nthe elements of arrays in place (e.g. setting values with x .= ...)\n\nPossible fixes:\n- avoid mutating operations (preferred)\n- or read the documentation and solutions for this error\n  https://fluxml.ai/Zygote.jl/latest/limitations\n",
      "",
      "Stacktrace:",
      "  [1] error(s::String)",
      "    @ Base ./error.jl:35",
      "  [2] _throw_mutation_error(f::Function, args::Vector{Float64})",
      "    @ Zygote ~/.julia/packages/Zygote/JeHtr/src/lib/array.jl:88",
      "  [3] (::Zygote.var\"#551#552\"{Vector{Float64}})(#unused#::Nothing)",
      "    @ Zygote ~/.julia/packages/Zygote/JeHtr/src/lib/array.jl:100",
      "  [4] (::Zygote.var\"#2659#back#553\"{Zygote.var\"#551#552\"{Vector{Float64}}})(Δ::Nothing)",
      "    @ Zygote ~/.julia/packages/ZygoteRules/OgCVT/src/adjoint.jl:71",
      "  [5] Pullback",
      "    @ ./In[16]:12 [inlined]",
      "  [6] (::Zygote.Pullback{Tuple{typeof(compute_deltaF), Vector{Any}, Vector{Float64}, Matrix{Any}, Float64, Float64, Float64}, Any})(Δ::Float64)",
      "    @ Zygote ~/.julia/packages/Zygote/JeHtr/src/compiler/interface2.jl:0",
      "  [7] Pullback",
      "    @ ./In[17]:7 [inlined]",
      "  [8] (::Zygote.Pullback{Tuple{MBAR, Vector{Any}}, Tuple{Zygote.Pullback{Tuple{typeof(Zygote.literal_getindex), Vector{Float64}, Val{2}}, Tuple{Zygote.var\"#2610#back#529\"{Zygote.var\"#539#541\"{1, Float64, Vector{Float64}, Tuple{Int64}}}}}, Zygote.Pullback{Tuple{typeof(Zygote.literal_getindex), Vector{Float64}, Val{1}}, Tuple{Zygote.var\"#2610#back#529\"{Zygote.var\"#539#541\"{1, Float64, Vector{Float64}, Tuple{Int64}}}}}, Zygote.var\"#2184#back#299\"{Zygote.var\"#back#298\"{:P, Zygote.Context{true}, MBAR, Vector{Float64}}}, Zygote.Pullback{Tuple{typeof(compute_deltaF), Vector{Any}, Vector{Float64}, Matrix{Any}, Float64, Float64, Float64}, Any}, Zygote.var\"#1990#back#190\"{Zygote.var\"#186#189\"{Zygote.Context{true}, GlobalRef, Float64}}, Zygote.var\"#1990#back#190\"{Zygote.var\"#186#189\"{Zygote.Context{true}, GlobalRef, Matrix{Any}}}, Zygote.var\"#2184#back#299\"{Zygote.var\"#back#298\"{:P, Zygote.Context{true}, MBAR, Vector{Float64}}}, Zygote.var\"#1990#back#190\"{Zygote.var\"#186#189\"{Zygote.Context{true}, GlobalRef, Vector{Float64}}}}})(Δ::Float64)",
      "    @ Zygote ~/.julia/packages/Zygote/JeHtr/src/compiler/interface2.jl:0",
      "  [9] Pullback",
      "    @ ./In[18]:3 [inlined]",
      " [10] (::Zygote.Pullback{Tuple{typeof(loss), Vector{Any}, Float64}, Tuple{Zygote.Pullback{Tuple{typeof(getproperty), Module, Symbol}, Tuple{Zygote.Pullback{Tuple{typeof(getglobal), Module, Symbol}, Tuple{typeof(getglobal)}}}}, Zygote.Pullback{Tuple{MBAR, Vector{Any}}, Tuple{Zygote.Pullback{Tuple{typeof(Zygote.literal_getindex), Vector{Float64}, Val{2}}, Tuple{Zygote.var\"#2610#back#529\"{Zygote.var\"#539#541\"{1, Float64, Vector{Float64}, Tuple{Int64}}}}}, Zygote.Pullback{Tuple{typeof(Zygote.literal_getindex), Vector{Float64}, Val{1}}, Tuple{Zygote.var\"#2610#back#529\"{Zygote.var\"#539#541\"{1, Float64, Vector{Float64}, Tuple{Int64}}}}}, Zygote.var\"#2184#back#299\"{Zygote.var\"#back#298\"{:P, Zygote.Context{true}, MBAR, Vector{Float64}}}, Zygote.Pullback{Tuple{typeof(compute_deltaF), Vector{Any}, Vector{Float64}, Matrix{Any}, Float64, Float64, Float64}, Any}, Zygote.var\"#1990#back#190\"{Zygote.var\"#186#189\"{Zygote.Context{true}, GlobalRef, Float64}}, Zygote.var\"#1990#back#190\"{Zygote.var\"#186#189\"{Zygote.Context{true}, GlobalRef, Matrix{Any}}}, Zygote.var\"#2184#back#299\"{Zygote.var\"#back#298\"{:P, Zygote.Context{true}, MBAR, Vector{Float64}}}, Zygote.var\"#1990#back#190\"{Zygote.var\"#186#189\"{Zygote.Context{true}, GlobalRef, Vector{Float64}}}}}, Zygote.Pullback{Tuple{typeof(Flux.Losses.mse), Float64, Float64}, Tuple{Zygote.Pullback{Tuple{Flux.Losses.var\"##mse#14\", typeof(mean), typeof(Flux.Losses.mse), Float64, Float64}, Tuple{Zygote.var\"#3770#back#1185\"{Zygote.var\"#1181#1184\"{Float64, Float64}}, Zygote.Pullback{Tuple{typeof(mean), Float64}, Tuple{Zygote.Pullback{Tuple{typeof(mean), typeof(identity), Float64}, Any}}}, Zygote.var\"#3978#back#1283\"{Zygote.var\"#1279#1282\"{Float64}}, Zygote.Pullback{Tuple{typeof(Base.Broadcast.materialize), Float64}, Tuple{}}, Zygote.ZBack{Flux.Losses.var\"#_check_sizes_pullback#12\"}}}}}, Zygote.var\"#1990#back#190\"{Zygote.var\"#186#189\"{Zygote.Context{true}, GlobalRef, MBAR}}}})(Δ::Float64)",
      "    @ Zygote ~/.julia/packages/Zygote/JeHtr/src/compiler/interface2.jl:0",
      " [11] Pullback",
      "    @ ./In[21]:5 [inlined]",
      " [12] (::Zygote.Pullback{Tuple{var\"#21#22\"}, Tuple{Zygote.var\"#1990#back#190\"{Zygote.var\"#186#189\"{Zygote.Context{true}, GlobalRef, Float64}}, Zygote.var\"#1990#back#190\"{Zygote.var\"#186#189\"{Zygote.Context{true}, GlobalRef, Vector{Any}}}, Zygote.Pullback{Tuple{typeof(loss), Vector{Any}, Float64}, Tuple{Zygote.Pullback{Tuple{typeof(getproperty), Module, Symbol}, Tuple{Zygote.Pullback{Tuple{typeof(getglobal), Module, Symbol}, Tuple{typeof(getglobal)}}}}, Zygote.Pullback{Tuple{MBAR, Vector{Any}}, Tuple{Zygote.Pullback{Tuple{typeof(Zygote.literal_getindex), Vector{Float64}, Val{2}}, Tuple{Zygote.var\"#2610#back#529\"{Zygote.var\"#539#541\"{1, Float64, Vector{Float64}, Tuple{Int64}}}}}, Zygote.Pullback{Tuple{typeof(Zygote.literal_getindex), Vector{Float64}, Val{1}}, Tuple{Zygote.var\"#2610#back#529\"{Zygote.var\"#539#541\"{1, Float64, Vector{Float64}, Tuple{Int64}}}}}, Zygote.var\"#2184#back#299\"{Zygote.var\"#back#298\"{:P, Zygote.Context{true}, MBAR, Vector{Float64}}}, Zygote.Pullback{Tuple{typeof(compute_deltaF), Vector{Any}, Vector{Float64}, Matrix{Any}, Float64, Float64, Float64}, Any}, Zygote.var\"#1990#back#190\"{Zygote.var\"#186#189\"{Zygote.Context{true}, GlobalRef, Float64}}, Zygote.var\"#1990#back#190\"{Zygote.var\"#186#189\"{Zygote.Context{true}, GlobalRef, Matrix{Any}}}, Zygote.var\"#2184#back#299\"{Zygote.var\"#back#298\"{:P, Zygote.Context{true}, MBAR, Vector{Float64}}}, Zygote.var\"#1990#back#190\"{Zygote.var\"#186#189\"{Zygote.Context{true}, GlobalRef, Vector{Float64}}}}}, Zygote.Pullback{Tuple{typeof(Flux.Losses.mse), Float64, Float64}, Tuple{Zygote.Pullback{Tuple{Flux.Losses.var\"##mse#14\", typeof(mean), typeof(Flux.Losses.mse), Float64, Float64}, Tuple{Zygote.var\"#3770#back#1185\"{Zygote.var\"#1181#1184\"{Float64, Float64}}, Zygote.Pullback{Tuple{typeof(mean), Float64}, Tuple{Zygote.Pullback{Tuple{typeof(mean), typeof(identity), Float64}, Any}}}, Zygote.var\"#3978#back#1283\"{Zygote.var\"#1279#1282\"{Float64}}, Zygote.Pullback{Tuple{typeof(Base.Broadcast.materialize), Float64}, Tuple{}}, Zygote.ZBack{Flux.Losses.var\"#_check_sizes_pullback#12\"}}}}}, Zygote.var\"#1990#back#190\"{Zygote.var\"#186#189\"{Zygote.Context{true}, GlobalRef, MBAR}}}}}})(Δ::Float64)",
      "    @ Zygote ~/.julia/packages/Zygote/JeHtr/src/compiler/interface2.jl:0",
      " [13] (::Zygote.var\"#118#119\"{Zygote.Params{Zygote.Buffer{Any, Vector{Any}}}, Zygote.Pullback{Tuple{var\"#21#22\"}, Tuple{Zygote.var\"#1990#back#190\"{Zygote.var\"#186#189\"{Zygote.Context{true}, GlobalRef, Float64}}, Zygote.var\"#1990#back#190\"{Zygote.var\"#186#189\"{Zygote.Context{true}, GlobalRef, Vector{Any}}}, Zygote.Pullback{Tuple{typeof(loss), Vector{Any}, Float64}, Tuple{Zygote.Pullback{Tuple{typeof(getproperty), Module, Symbol}, Tuple{Zygote.Pullback{Tuple{typeof(getglobal), Module, Symbol}, Tuple{typeof(getglobal)}}}}, Zygote.Pullback{Tuple{MBAR, Vector{Any}}, Tuple{Zygote.Pullback{Tuple{typeof(Zygote.literal_getindex), Vector{Float64}, Val{2}}, Tuple{Zygote.var\"#2610#back#529\"{Zygote.var\"#539#541\"{1, Float64, Vector{Float64}, Tuple{Int64}}}}}, Zygote.Pullback{Tuple{typeof(Zygote.literal_getindex), Vector{Float64}, Val{1}}, Tuple{Zygote.var\"#2610#back#529\"{Zygote.var\"#539#541\"{1, Float64, Vector{Float64}, Tuple{Int64}}}}}, Zygote.var\"#2184#back#299\"{Zygote.var\"#back#298\"{:P, Zygote.Context{true}, MBAR, Vector{Float64}}}, Zygote.Pullback{Tuple{typeof(compute_deltaF), Vector{Any}, Vector{Float64}, Matrix{Any}, Float64, Float64, Float64}, Any}, Zygote.var\"#1990#back#190\"{Zygote.var\"#186#189\"{Zygote.Context{true}, GlobalRef, Float64}}, Zygote.var\"#1990#back#190\"{Zygote.var\"#186#189\"{Zygote.Context{true}, GlobalRef, Matrix{Any}}}, Zygote.var\"#2184#back#299\"{Zygote.var\"#back#298\"{:P, Zygote.Context{true}, MBAR, Vector{Float64}}}, Zygote.var\"#1990#back#190\"{Zygote.var\"#186#189\"{Zygote.Context{true}, GlobalRef, Vector{Float64}}}}}, Zygote.Pullback{Tuple{typeof(Flux.Losses.mse), Float64, Float64}, Tuple{Zygote.Pullback{Tuple{Flux.Losses.var\"##mse#14\", typeof(mean), typeof(Flux.Losses.mse), Float64, Float64}, Tuple{Zygote.var\"#3770#back#1185\"{Zygote.var\"#1181#1184\"{Float64, Float64}}, Zygote.Pullback{Tuple{typeof(mean), Float64}, Tuple{Zygote.Pullback{Tuple{typeof(mean), typeof(identity), Float64}, Any}}}, Zygote.var\"#3978#back#1283\"{Zygote.var\"#1279#1282\"{Float64}}, Zygote.Pullback{Tuple{typeof(Base.Broadcast.materialize), Float64}, Tuple{}}, Zygote.ZBack{Flux.Losses.var\"#_check_sizes_pullback#12\"}}}}}, Zygote.var\"#1990#back#190\"{Zygote.var\"#186#189\"{Zygote.Context{true}, GlobalRef, MBAR}}}}}}, Zygote.Context{true}})(Δ::Float64)",
      "    @ Zygote ~/.julia/packages/Zygote/JeHtr/src/compiler/interface.jl:389",
      " [14] gradient(f::Function, args::Zygote.Params{Zygote.Buffer{Any, Vector{Any}}})",
      "    @ Zygote ~/.julia/packages/Zygote/JeHtr/src/compiler/interface.jl:97",
      " [15] top-level scope",
      "    @ In[21]:5"
     ]
    }
   ],
   "source": [
    "# 訓練\n",
    "loss_train = []\n",
    "\n",
    "for epoch in 1:11\n",
    "    gs = gradient(() -> loss(X_train, y_train), ps)\n",
    "    Flux.Optimise.update!(opt, ps, gs)\n",
    "    \n",
    "    push!(loss_train, loss(X_train, y_train))\n",
    "    if epoch%10 == 1\n",
    "        print_callback(epoch, loss(X_train, y_train), ps)\n",
    "    end\n",
    "end"
   ]
  },
  {
   "cell_type": "code",
   "execution_count": 22,
   "id": "263ef2a6-e0f9-46d1-837e-13075d425feb",
   "metadata": {},
   "outputs": [
    {
     "data": {
      "text/plain": [
       "3331.08548579319"
      ]
     },
     "execution_count": 22,
     "metadata": {},
     "output_type": "execute_result"
    }
   ],
   "source": [
    "loss(X_train, y_train)"
   ]
  },
  {
   "cell_type": "code",
   "execution_count": 23,
   "id": "b1b2c87c",
   "metadata": {},
   "outputs": [
    {
     "data": {
      "image/png": "[encoded data removed]",
      "image/svg+xml": [
       "<?xml version=\"1.0\" encoding=\"utf-8\"?>\n",
       "<svg xmlns=\"http://www.w3.org/2000/svg\" xmlns:xlink=\"http://www.w3.org/1999/xlink\" width=\"600\" height=\"400\" viewBox=\"0 0 2400 1600\">\n",
       "<defs>\n",
       "  <clipPath id=\"clip810\">\n",
       "    <rect x=\"0\" y=\"0\" width=\"2400\" height=\"1600\"/>\n",
       "  </clipPath>\n",
       "</defs>\n",
       "<path clip-path=\"url(#clip810)\" d=\"M0 1600 L2400 1600 L2400 0 L0 0  Z\" fill=\"#ffffff\" fill-rule=\"evenodd\" fill-opacity=\"1\"/>\n",
       "<defs>\n",
       "  <clipPath id=\"clip811\">\n",
       "    <rect x=\"480\" y=\"0\" width=\"1681\" height=\"1600\"/>\n",
       "  </clipPath>\n",
       "</defs>\n",
       "<path clip-path=\"url(#clip810)\" d=\"M249.542 1423.18 L2352.76 1423.18 L2352.76 47.2441 L249.542 47.2441  Z\" fill=\"#ffffff\" fill-rule=\"evenodd\" fill-opacity=\"1\"/>\n",
       "<defs>\n",
       "  <clipPath id=\"clip812\">\n",
       "    <rect x=\"249\" y=\"47\" width=\"2104\" height=\"1377\"/>\n",
       "  </clipPath>\n",
       "</defs>\n",
       "<polyline clip-path=\"url(#clip812)\" style=\"stroke:#000000; stroke-linecap:round; stroke-linejoin:round; stroke-width:2; stroke-opacity:0.1; fill:none\" points=\"309.067,1423.18 309.067,47.2441 \"/>\n",
       "<polyline clip-path=\"url(#clip812)\" style=\"stroke:#000000; stroke-linecap:round; stroke-linejoin:round; stroke-width:2; stroke-opacity:0.1; fill:none\" points=\"805.108,1423.18 805.108,47.2441 \"/>\n",
       "<polyline clip-path=\"url(#clip812)\" style=\"stroke:#000000; stroke-linecap:round; stroke-linejoin:round; stroke-width:2; stroke-opacity:0.1; fill:none\" points=\"1301.15,1423.18 1301.15,47.2441 \"/>\n",
       "<polyline clip-path=\"url(#clip812)\" style=\"stroke:#000000; stroke-linecap:round; stroke-linejoin:round; stroke-width:2; stroke-opacity:0.1; fill:none\" points=\"1797.19,1423.18 1797.19,47.2441 \"/>\n",
       "<polyline clip-path=\"url(#clip812)\" style=\"stroke:#000000; stroke-linecap:round; stroke-linejoin:round; stroke-width:2; stroke-opacity:0.1; fill:none\" points=\"2293.23,1423.18 2293.23,47.2441 \"/>\n",
       "<polyline clip-path=\"url(#clip810)\" style=\"stroke:#000000; stroke-linecap:round; stroke-linejoin:round; stroke-width:4; stroke-opacity:1; fill:none\" points=\"249.542,1423.18 2352.76,1423.18 \"/>\n",
       "<polyline clip-path=\"url(#clip810)\" style=\"stroke:#000000; stroke-linecap:round; stroke-linejoin:round; stroke-width:4; stroke-opacity:1; fill:none\" points=\"249.542,47.2441 2352.76,47.2441 \"/>\n",
       "<polyline clip-path=\"url(#clip810)\" style=\"stroke:#000000; stroke-linecap:round; stroke-linejoin:round; stroke-width:4; stroke-opacity:1; fill:none\" points=\"309.067,1423.18 309.067,1404.28 \"/>\n",
       "<polyline clip-path=\"url(#clip810)\" style=\"stroke:#000000; stroke-linecap:round; stroke-linejoin:round; stroke-width:4; stroke-opacity:1; fill:none\" points=\"805.108,1423.18 805.108,1404.28 \"/>\n",
       "<polyline clip-path=\"url(#clip810)\" style=\"stroke:#000000; stroke-linecap:round; stroke-linejoin:round; stroke-width:4; stroke-opacity:1; fill:none\" points=\"1301.15,1423.18 1301.15,1404.28 \"/>\n",
       "<polyline clip-path=\"url(#clip810)\" style=\"stroke:#000000; stroke-linecap:round; stroke-linejoin:round; stroke-width:4; stroke-opacity:1; fill:none\" points=\"1797.19,1423.18 1797.19,1404.28 \"/>\n",
       "<polyline clip-path=\"url(#clip810)\" style=\"stroke:#000000; stroke-linecap:round; stroke-linejoin:round; stroke-width:4; stroke-opacity:1; fill:none\" points=\"2293.23,1423.18 2293.23,1404.28 \"/>\n",
       "<path clip-path=\"url(#clip810)\" d=\"M271.37 1454.1 Q267.759 1454.1 265.931 1457.66 Q264.125 1461.2 264.125 1468.33 Q264.125 1475.44 265.931 1479.01 Q267.759 1482.55 271.37 1482.55 Q275.005 1482.55 276.81 1479.01 Q278.639 1475.44 278.639 1468.33 Q278.639 1461.2 276.81 1457.66 Q275.005 1454.1 271.37 1454.1 M271.37 1450.39 Q277.181 1450.39 280.236 1455 Q283.315 1459.58 283.315 1468.33 Q283.315 1477.06 280.236 1481.67 Q277.181 1486.25 271.37 1486.25 Q265.56 1486.25 262.482 1481.67 Q259.426 1477.06 259.426 1468.33 Q259.426 1459.58 262.482 1455 Q265.56 1450.39 271.37 1450.39 Z\" fill=\"#000000\" fill-rule=\"nonzero\" fill-opacity=\"1\" /><path clip-path=\"url(#clip810)\" d=\"M291.532 1479.7 L296.417 1479.7 L296.417 1485.58 L291.532 1485.58 L291.532 1479.7 Z\" fill=\"#000000\" fill-rule=\"nonzero\" fill-opacity=\"1\" /><path clip-path=\"url(#clip810)\" d=\"M316.602 1454.1 Q312.991 1454.1 311.162 1457.66 Q309.356 1461.2 309.356 1468.33 Q309.356 1475.44 311.162 1479.01 Q312.991 1482.55 316.602 1482.55 Q320.236 1482.55 322.041 1479.01 Q323.87 1475.44 323.87 1468.33 Q323.87 1461.2 322.041 1457.66 Q320.236 1454.1 316.602 1454.1 M316.602 1450.39 Q322.412 1450.39 325.467 1455 Q328.546 1459.58 328.546 1468.33 Q328.546 1477.06 325.467 1481.67 Q322.412 1486.25 316.602 1486.25 Q310.791 1486.25 307.713 1481.67 Q304.657 1477.06 304.657 1468.33 Q304.657 1459.58 307.713 1455 Q310.791 1450.39 316.602 1450.39 Z\" fill=\"#000000\" fill-rule=\"nonzero\" fill-opacity=\"1\" /><path clip-path=\"url(#clip810)\" d=\"M346.764 1454.1 Q343.152 1454.1 341.324 1457.66 Q339.518 1461.2 339.518 1468.33 Q339.518 1475.44 341.324 1479.01 Q343.152 1482.55 346.764 1482.55 Q350.398 1482.55 352.203 1479.01 Q354.032 1475.44 354.032 1468.33 Q354.032 1461.2 352.203 1457.66 Q350.398 1454.1 346.764 1454.1 M346.764 1450.39 Q352.574 1450.39 355.629 1455 Q358.708 1459.58 358.708 1468.33 Q358.708 1477.06 355.629 1481.67 Q352.574 1486.25 346.764 1486.25 Q340.953 1486.25 337.875 1481.67 Q334.819 1477.06 334.819 1468.33 Q334.819 1459.58 337.875 1455 Q340.953 1450.39 346.764 1450.39 Z\" fill=\"#000000\" fill-rule=\"nonzero\" fill-opacity=\"1\" /><path clip-path=\"url(#clip810)\" d=\"M767.909 1454.1 Q764.298 1454.1 762.469 1457.66 Q760.664 1461.2 760.664 1468.33 Q760.664 1475.44 762.469 1479.01 Q764.298 1482.55 767.909 1482.55 Q771.543 1482.55 773.349 1479.01 Q775.178 1475.44 775.178 1468.33 Q775.178 1461.2 773.349 1457.66 Q771.543 1454.1 767.909 1454.1 M767.909 1450.39 Q773.719 1450.39 776.775 1455 Q779.853 1459.58 779.853 1468.33 Q779.853 1477.06 776.775 1481.67 Q773.719 1486.25 767.909 1486.25 Q762.099 1486.25 759.02 1481.67 Q755.965 1477.06 755.965 1468.33 Q755.965 1459.58 759.02 1455 Q762.099 1450.39 767.909 1450.39 Z\" fill=\"#000000\" fill-rule=\"nonzero\" fill-opacity=\"1\" /><path clip-path=\"url(#clip810)\" d=\"M788.071 1479.7 L792.955 1479.7 L792.955 1485.58 L788.071 1485.58 L788.071 1479.7 Z\" fill=\"#000000\" fill-rule=\"nonzero\" fill-opacity=\"1\" /><path clip-path=\"url(#clip810)\" d=\"M807.168 1481.64 L823.487 1481.64 L823.487 1485.58 L801.543 1485.58 L801.543 1481.64 Q804.205 1478.89 808.788 1474.26 Q813.395 1469.61 814.576 1468.27 Q816.821 1465.74 817.7 1464.01 Q818.603 1462.25 818.603 1460.56 Q818.603 1457.8 816.659 1456.07 Q814.738 1454.33 811.636 1454.33 Q809.437 1454.33 806.983 1455.09 Q804.552 1455.86 801.775 1457.41 L801.775 1452.69 Q804.599 1451.55 807.052 1450.97 Q809.506 1450.39 811.543 1450.39 Q816.913 1450.39 820.108 1453.08 Q823.302 1455.77 823.302 1460.26 Q823.302 1462.39 822.492 1464.31 Q821.705 1466.2 819.599 1468.8 Q819.02 1469.47 815.918 1472.69 Q812.816 1475.88 807.168 1481.64 Z\" fill=\"#000000\" fill-rule=\"nonzero\" fill-opacity=\"1\" /><path clip-path=\"url(#clip810)\" d=\"M833.349 1451.02 L851.705 1451.02 L851.705 1454.96 L837.631 1454.96 L837.631 1463.43 Q838.649 1463.08 839.668 1462.92 Q840.686 1462.73 841.705 1462.73 Q847.492 1462.73 850.872 1465.9 Q854.251 1469.08 854.251 1474.49 Q854.251 1480.07 850.779 1483.17 Q847.307 1486.25 840.987 1486.25 Q838.811 1486.25 836.543 1485.88 Q834.298 1485.51 831.89 1484.77 L831.89 1480.07 Q833.974 1481.2 836.196 1481.76 Q838.418 1482.32 840.895 1482.32 Q844.899 1482.32 847.237 1480.21 Q849.575 1478.1 849.575 1474.49 Q849.575 1470.88 847.237 1468.77 Q844.899 1466.67 840.895 1466.67 Q839.02 1466.67 837.145 1467.08 Q835.293 1467.5 833.349 1468.38 L833.349 1451.02 Z\" fill=\"#000000\" fill-rule=\"nonzero\" fill-opacity=\"1\" /><path clip-path=\"url(#clip810)\" d=\"M1263.45 1454.1 Q1259.84 1454.1 1258.01 1457.66 Q1256.21 1461.2 1256.21 1468.33 Q1256.21 1475.44 1258.01 1479.01 Q1259.84 1482.55 1263.45 1482.55 Q1267.09 1482.55 1268.89 1479.01 Q1270.72 1475.44 1270.72 1468.33 Q1270.72 1461.2 1268.89 1457.66 Q1267.09 1454.1 1263.45 1454.1 M1263.45 1450.39 Q1269.26 1450.39 1272.32 1455 Q1275.4 1459.58 1275.4 1468.33 Q1275.4 1477.06 1272.32 1481.67 Q1269.26 1486.25 1263.45 1486.25 Q1257.64 1486.25 1254.56 1481.67 Q1251.51 1477.06 1251.51 1468.33 Q1251.51 1459.58 1254.56 1455 Q1257.64 1450.39 1263.45 1450.39 Z\" fill=\"#000000\" fill-rule=\"nonzero\" fill-opacity=\"1\" /><path clip-path=\"url(#clip810)\" d=\"M1283.61 1479.7 L1288.5 1479.7 L1288.5 1485.58 L1283.61 1485.58 L1283.61 1479.7 Z\" fill=\"#000000\" fill-rule=\"nonzero\" fill-opacity=\"1\" /><path clip-path=\"url(#clip810)\" d=\"M1298.73 1451.02 L1317.09 1451.02 L1317.09 1454.96 L1303.01 1454.96 L1303.01 1463.43 Q1304.03 1463.08 1305.05 1462.92 Q1306.07 1462.73 1307.09 1462.73 Q1312.87 1462.73 1316.25 1465.9 Q1319.63 1469.08 1319.63 1474.49 Q1319.63 1480.07 1316.16 1483.17 Q1312.69 1486.25 1306.37 1486.25 Q1304.19 1486.25 1301.92 1485.88 Q1299.68 1485.51 1297.27 1484.77 L1297.27 1480.07 Q1299.35 1481.2 1301.58 1481.76 Q1303.8 1482.32 1306.28 1482.32 Q1310.28 1482.32 1312.62 1480.21 Q1314.96 1478.1 1314.96 1474.49 Q1314.96 1470.88 1312.62 1468.77 Q1310.28 1466.67 1306.28 1466.67 Q1304.4 1466.67 1302.53 1467.08 Q1300.67 1467.5 1298.73 1468.38 L1298.73 1451.02 Z\" fill=\"#000000\" fill-rule=\"nonzero\" fill-opacity=\"1\" /><path clip-path=\"url(#clip810)\" d=\"M1338.85 1454.1 Q1335.23 1454.1 1333.41 1457.66 Q1331.6 1461.2 1331.6 1468.33 Q1331.6 1475.44 1333.41 1479.01 Q1335.23 1482.55 1338.85 1482.55 Q1342.48 1482.55 1344.29 1479.01 Q1346.11 1475.44 1346.11 1468.33 Q1346.11 1461.2 1344.29 1457.66 Q1342.48 1454.1 1338.85 1454.1 M1338.85 1450.39 Q1344.66 1450.39 1347.71 1455 Q1350.79 1459.58 1350.79 1468.33 Q1350.79 1477.06 1347.71 1481.67 Q1344.66 1486.25 1338.85 1486.25 Q1333.04 1486.25 1329.96 1481.67 Q1326.9 1477.06 1326.9 1468.33 Q1326.9 1459.58 1329.96 1455 Q1333.04 1450.39 1338.85 1450.39 Z\" fill=\"#000000\" fill-rule=\"nonzero\" fill-opacity=\"1\" /><path clip-path=\"url(#clip810)\" d=\"M1759.99 1454.1 Q1756.38 1454.1 1754.55 1457.66 Q1752.75 1461.2 1752.75 1468.33 Q1752.75 1475.44 1754.55 1479.01 Q1756.38 1482.55 1759.99 1482.55 Q1763.63 1482.55 1765.43 1479.01 Q1767.26 1475.44 1767.26 1468.33 Q1767.26 1461.2 1765.43 1457.66 Q1763.63 1454.1 1759.99 1454.1 M1759.99 1450.39 Q1765.8 1450.39 1768.86 1455 Q1771.94 1459.58 1771.94 1468.33 Q1771.94 1477.06 1768.86 1481.67 Q1765.8 1486.25 1759.99 1486.25 Q1754.18 1486.25 1751.1 1481.67 Q1748.05 1477.06 1748.05 1468.33 Q1748.05 1459.58 1751.1 1455 Q1754.18 1450.39 1759.99 1450.39 Z\" fill=\"#000000\" fill-rule=\"nonzero\" fill-opacity=\"1\" /><path clip-path=\"url(#clip810)\" d=\"M1780.15 1479.7 L1785.04 1479.7 L1785.04 1485.58 L1780.15 1485.58 L1780.15 1479.7 Z\" fill=\"#000000\" fill-rule=\"nonzero\" fill-opacity=\"1\" /><path clip-path=\"url(#clip810)\" d=\"M1794.04 1451.02 L1816.26 1451.02 L1816.26 1453.01 L1803.72 1485.58 L1798.83 1485.58 L1810.64 1454.96 L1794.04 1454.96 L1794.04 1451.02 Z\" fill=\"#000000\" fill-rule=\"nonzero\" fill-opacity=\"1\" /><path clip-path=\"url(#clip810)\" d=\"M1825.43 1451.02 L1843.79 1451.02 L1843.79 1454.96 L1829.71 1454.96 L1829.71 1463.43 Q1830.73 1463.08 1831.75 1462.92 Q1832.77 1462.73 1833.79 1462.73 Q1839.57 1462.73 1842.95 1465.9 Q1846.33 1469.08 1846.33 1474.49 Q1846.33 1480.07 1842.86 1483.17 Q1839.39 1486.25 1833.07 1486.25 Q1830.89 1486.25 1828.62 1485.88 Q1826.38 1485.51 1823.97 1484.77 L1823.97 1480.07 Q1826.06 1481.2 1828.28 1481.76 Q1830.5 1482.32 1832.98 1482.32 Q1836.98 1482.32 1839.32 1480.21 Q1841.66 1478.1 1841.66 1474.49 Q1841.66 1470.88 1839.32 1468.77 Q1836.98 1466.67 1832.98 1466.67 Q1831.1 1466.67 1829.23 1467.08 Q1827.38 1467.5 1825.43 1468.38 L1825.43 1451.02 Z\" fill=\"#000000\" fill-rule=\"nonzero\" fill-opacity=\"1\" /><path clip-path=\"url(#clip810)\" d=\"M2245.3 1481.64 L2252.94 1481.64 L2252.94 1455.28 L2244.63 1456.95 L2244.63 1452.69 L2252.9 1451.02 L2257.57 1451.02 L2257.57 1481.64 L2265.21 1481.64 L2265.21 1485.58 L2245.3 1485.58 L2245.3 1481.64 Z\" fill=\"#000000\" fill-rule=\"nonzero\" fill-opacity=\"1\" /><path clip-path=\"url(#clip810)\" d=\"M2274.65 1479.7 L2279.54 1479.7 L2279.54 1485.58 L2274.65 1485.58 L2274.65 1479.7 Z\" fill=\"#000000\" fill-rule=\"nonzero\" fill-opacity=\"1\" /><path clip-path=\"url(#clip810)\" d=\"M2299.72 1454.1 Q2296.11 1454.1 2294.28 1457.66 Q2292.48 1461.2 2292.48 1468.33 Q2292.48 1475.44 2294.28 1479.01 Q2296.11 1482.55 2299.72 1482.55 Q2303.36 1482.55 2305.16 1479.01 Q2306.99 1475.44 2306.99 1468.33 Q2306.99 1461.2 2305.16 1457.66 Q2303.36 1454.1 2299.72 1454.1 M2299.72 1450.39 Q2305.53 1450.39 2308.59 1455 Q2311.67 1459.58 2311.67 1468.33 Q2311.67 1477.06 2308.59 1481.67 Q2305.53 1486.25 2299.72 1486.25 Q2293.91 1486.25 2290.84 1481.67 Q2287.78 1477.06 2287.78 1468.33 Q2287.78 1459.58 2290.84 1455 Q2293.91 1450.39 2299.72 1450.39 Z\" fill=\"#000000\" fill-rule=\"nonzero\" fill-opacity=\"1\" /><path clip-path=\"url(#clip810)\" d=\"M2329.89 1454.1 Q2326.27 1454.1 2324.45 1457.66 Q2322.64 1461.2 2322.64 1468.33 Q2322.64 1475.44 2324.45 1479.01 Q2326.27 1482.55 2329.89 1482.55 Q2333.52 1482.55 2335.33 1479.01 Q2337.15 1475.44 2337.15 1468.33 Q2337.15 1461.2 2335.33 1457.66 Q2333.52 1454.1 2329.89 1454.1 M2329.89 1450.39 Q2335.7 1450.39 2338.75 1455 Q2341.83 1459.58 2341.83 1468.33 Q2341.83 1477.06 2338.75 1481.67 Q2335.7 1486.25 2329.89 1486.25 Q2324.08 1486.25 2321 1481.67 Q2317.94 1477.06 2317.94 1468.33 Q2317.94 1459.58 2321 1455 Q2324.08 1450.39 2329.89 1450.39 Z\" fill=\"#000000\" fill-rule=\"nonzero\" fill-opacity=\"1\" /><path clip-path=\"url(#clip810)\" d=\"M1207.32 1520.52 L1237.36 1520.52 L1237.36 1525.93 L1213.75 1525.93 L1213.75 1540 L1236.38 1540 L1236.38 1545.41 L1213.75 1545.41 L1213.75 1562.63 L1237.94 1562.63 L1237.94 1568.04 L1207.32 1568.04 L1207.32 1520.52 Z\" fill=\"#000000\" fill-rule=\"nonzero\" fill-opacity=\"1\" /><path clip-path=\"url(#clip810)\" d=\"M1253.92 1562.7 L1253.92 1581.6 L1248.03 1581.6 L1248.03 1532.4 L1253.92 1532.4 L1253.92 1537.81 Q1255.76 1534.62 1258.56 1533.1 Q1261.4 1531.54 1265.31 1531.54 Q1271.8 1531.54 1275.85 1536.69 Q1279.92 1541.85 1279.92 1550.25 Q1279.92 1558.65 1275.85 1563.81 Q1271.8 1568.97 1265.31 1568.97 Q1261.4 1568.97 1258.56 1567.44 Q1255.76 1565.88 1253.92 1562.7 M1273.84 1550.25 Q1273.84 1543.79 1271.17 1540.13 Q1268.52 1536.44 1263.88 1536.44 Q1259.23 1536.44 1256.56 1540.13 Q1253.92 1543.79 1253.92 1550.25 Q1253.92 1556.71 1256.56 1560.4 Q1259.23 1564.07 1263.88 1564.07 Q1268.52 1564.07 1271.17 1560.4 Q1273.84 1556.71 1273.84 1550.25 Z\" fill=\"#000000\" fill-rule=\"nonzero\" fill-opacity=\"1\" /><path clip-path=\"url(#clip810)\" d=\"M1303.44 1536.5 Q1298.73 1536.5 1295.99 1540.19 Q1293.26 1543.85 1293.26 1550.25 Q1293.26 1556.65 1295.96 1560.34 Q1298.7 1564 1303.44 1564 Q1308.12 1564 1310.86 1560.31 Q1313.59 1556.62 1313.59 1550.25 Q1313.59 1543.92 1310.86 1540.23 Q1308.12 1536.5 1303.44 1536.5 M1303.44 1531.54 Q1311.08 1531.54 1315.44 1536.5 Q1319.8 1541.47 1319.8 1550.25 Q1319.8 1559 1315.44 1564 Q1311.08 1568.97 1303.44 1568.97 Q1295.77 1568.97 1291.41 1564 Q1287.08 1559 1287.08 1550.25 Q1287.08 1541.47 1291.41 1536.5 Q1295.77 1531.54 1303.44 1531.54 Z\" fill=\"#000000\" fill-rule=\"nonzero\" fill-opacity=\"1\" /><path clip-path=\"url(#clip810)\" d=\"M1355.16 1533.76 L1355.16 1539.24 Q1352.68 1537.87 1350.16 1537.2 Q1347.68 1536.5 1345.14 1536.5 Q1339.44 1536.5 1336.29 1540.13 Q1333.14 1543.73 1333.14 1550.25 Q1333.14 1556.78 1336.29 1560.4 Q1339.44 1564 1345.14 1564 Q1347.68 1564 1350.16 1563.33 Q1352.68 1562.63 1355.16 1561.26 L1355.16 1566.68 Q1352.71 1567.82 1350.07 1568.39 Q1347.46 1568.97 1344.5 1568.97 Q1336.45 1568.97 1331.7 1563.91 Q1326.96 1558.85 1326.96 1550.25 Q1326.96 1541.53 1331.74 1536.53 Q1336.54 1531.54 1344.88 1531.54 Q1347.59 1531.54 1350.16 1532.11 Q1352.74 1532.65 1355.16 1533.76 Z\" fill=\"#000000\" fill-rule=\"nonzero\" fill-opacity=\"1\" /><path clip-path=\"url(#clip810)\" d=\"M1394.98 1546.53 L1394.98 1568.04 L1389.12 1568.04 L1389.12 1546.72 Q1389.12 1541.66 1387.15 1539.14 Q1385.18 1536.63 1381.23 1536.63 Q1376.49 1536.63 1373.75 1539.65 Q1371.01 1542.68 1371.01 1547.9 L1371.01 1568.04 L1365.12 1568.04 L1365.12 1518.52 L1371.01 1518.52 L1371.01 1537.93 Q1373.11 1534.72 1375.95 1533.13 Q1378.81 1531.54 1382.53 1531.54 Q1388.68 1531.54 1391.83 1535.36 Q1394.98 1539.14 1394.98 1546.53 Z\" fill=\"#000000\" fill-rule=\"nonzero\" fill-opacity=\"1\" /><polyline clip-path=\"url(#clip812)\" style=\"stroke:#000000; stroke-linecap:round; stroke-linejoin:round; stroke-width:2; stroke-opacity:0.1; fill:none\" points=\"249.542,1384.24 2352.76,1384.24 \"/>\n",
       "<polyline clip-path=\"url(#clip812)\" style=\"stroke:#000000; stroke-linecap:round; stroke-linejoin:round; stroke-width:2; stroke-opacity:0.1; fill:none\" points=\"249.542,1059.73 2352.76,1059.73 \"/>\n",
       "<polyline clip-path=\"url(#clip812)\" style=\"stroke:#000000; stroke-linecap:round; stroke-linejoin:round; stroke-width:2; stroke-opacity:0.1; fill:none\" points=\"249.542,735.212 2352.76,735.212 \"/>\n",
       "<polyline clip-path=\"url(#clip812)\" style=\"stroke:#000000; stroke-linecap:round; stroke-linejoin:round; stroke-width:2; stroke-opacity:0.1; fill:none\" points=\"249.542,410.699 2352.76,410.699 \"/>\n",
       "<polyline clip-path=\"url(#clip812)\" style=\"stroke:#000000; stroke-linecap:round; stroke-linejoin:round; stroke-width:2; stroke-opacity:0.1; fill:none\" points=\"249.542,86.1857 2352.76,86.1857 \"/>\n",
       "<polyline clip-path=\"url(#clip810)\" style=\"stroke:#000000; stroke-linecap:round; stroke-linejoin:round; stroke-width:4; stroke-opacity:1; fill:none\" points=\"249.542,1423.18 249.542,47.2441 \"/>\n",
       "<polyline clip-path=\"url(#clip810)\" style=\"stroke:#000000; stroke-linecap:round; stroke-linejoin:round; stroke-width:4; stroke-opacity:1; fill:none\" points=\"2352.76,1423.18 2352.76,47.2441 \"/>\n",
       "<polyline clip-path=\"url(#clip810)\" style=\"stroke:#000000; stroke-linecap:round; stroke-linejoin:round; stroke-width:4; stroke-opacity:1; fill:none\" points=\"249.542,1384.24 268.44,1384.24 \"/>\n",
       "<polyline clip-path=\"url(#clip810)\" style=\"stroke:#000000; stroke-linecap:round; stroke-linejoin:round; stroke-width:4; stroke-opacity:1; fill:none\" points=\"249.542,1059.73 268.44,1059.73 \"/>\n",
       "<polyline clip-path=\"url(#clip810)\" style=\"stroke:#000000; stroke-linecap:round; stroke-linejoin:round; stroke-width:4; stroke-opacity:1; fill:none\" points=\"249.542,735.212 268.44,735.212 \"/>\n",
       "<polyline clip-path=\"url(#clip810)\" style=\"stroke:#000000; stroke-linecap:round; stroke-linejoin:round; stroke-width:4; stroke-opacity:1; fill:none\" points=\"249.542,410.699 268.44,410.699 \"/>\n",
       "<polyline clip-path=\"url(#clip810)\" style=\"stroke:#000000; stroke-linecap:round; stroke-linejoin:round; stroke-width:4; stroke-opacity:1; fill:none\" points=\"249.542,86.1857 268.44,86.1857 \"/>\n",
       "<path clip-path=\"url(#clip810)\" d=\"M126.205 1370.04 Q122.593 1370.04 120.765 1373.6 Q118.959 1377.14 118.959 1384.27 Q118.959 1391.38 120.765 1394.94 Q122.593 1398.49 126.205 1398.49 Q129.839 1398.49 131.644 1394.94 Q133.473 1391.38 133.473 1384.27 Q133.473 1377.14 131.644 1373.6 Q129.839 1370.04 126.205 1370.04 M126.205 1366.33 Q132.015 1366.33 135.07 1370.94 Q138.149 1375.52 138.149 1384.27 Q138.149 1393 135.07 1397.61 Q132.015 1402.19 126.205 1402.19 Q120.394 1402.19 117.316 1397.61 Q114.26 1393 114.26 1384.27 Q114.26 1375.52 117.316 1370.94 Q120.394 1366.33 126.205 1366.33 Z\" fill=\"#000000\" fill-rule=\"nonzero\" fill-opacity=\"1\" /><path clip-path=\"url(#clip810)\" d=\"M146.366 1395.64 L151.251 1395.64 L151.251 1401.52 L146.366 1401.52 L146.366 1395.64 Z\" fill=\"#000000\" fill-rule=\"nonzero\" fill-opacity=\"1\" /><path clip-path=\"url(#clip810)\" d=\"M171.436 1370.04 Q167.825 1370.04 165.996 1373.6 Q164.19 1377.14 164.19 1384.27 Q164.19 1391.38 165.996 1394.94 Q167.825 1398.49 171.436 1398.49 Q175.07 1398.49 176.876 1394.94 Q178.704 1391.38 178.704 1384.27 Q178.704 1377.14 176.876 1373.6 Q175.07 1370.04 171.436 1370.04 M171.436 1366.33 Q177.246 1366.33 180.301 1370.94 Q183.38 1375.52 183.38 1384.27 Q183.38 1393 180.301 1397.61 Q177.246 1402.19 171.436 1402.19 Q165.626 1402.19 162.547 1397.61 Q159.491 1393 159.491 1384.27 Q159.491 1375.52 162.547 1370.94 Q165.626 1366.33 171.436 1366.33 Z\" fill=\"#000000\" fill-rule=\"nonzero\" fill-opacity=\"1\" /><path clip-path=\"url(#clip810)\" d=\"M201.598 1370.04 Q197.987 1370.04 196.158 1373.6 Q194.352 1377.14 194.352 1384.27 Q194.352 1391.38 196.158 1394.94 Q197.987 1398.49 201.598 1398.49 Q205.232 1398.49 207.037 1394.94 Q208.866 1391.38 208.866 1384.27 Q208.866 1377.14 207.037 1373.6 Q205.232 1370.04 201.598 1370.04 M201.598 1366.33 Q207.408 1366.33 210.463 1370.94 Q213.542 1375.52 213.542 1384.27 Q213.542 1393 210.463 1397.61 Q207.408 1402.19 201.598 1402.19 Q195.787 1402.19 192.709 1397.61 Q189.653 1393 189.653 1384.27 Q189.653 1375.52 192.709 1370.94 Q195.787 1366.33 201.598 1366.33 Z\" fill=\"#000000\" fill-rule=\"nonzero\" fill-opacity=\"1\" /><path clip-path=\"url(#clip810)\" d=\"M127.2 1045.52 Q123.589 1045.52 121.76 1049.09 Q119.955 1052.63 119.955 1059.76 Q119.955 1066.87 121.76 1070.43 Q123.589 1073.97 127.2 1073.97 Q130.834 1073.97 132.64 1070.43 Q134.468 1066.87 134.468 1059.76 Q134.468 1052.63 132.64 1049.09 Q130.834 1045.52 127.2 1045.52 M127.2 1041.82 Q133.01 1041.82 136.066 1046.43 Q139.144 1051.01 139.144 1059.76 Q139.144 1068.49 136.066 1073.09 Q133.01 1077.68 127.2 1077.68 Q121.39 1077.68 118.311 1073.09 Q115.256 1068.49 115.256 1059.76 Q115.256 1051.01 118.311 1046.43 Q121.39 1041.82 127.2 1041.82 Z\" fill=\"#000000\" fill-rule=\"nonzero\" fill-opacity=\"1\" /><path clip-path=\"url(#clip810)\" d=\"M147.362 1071.13 L152.246 1071.13 L152.246 1077.01 L147.362 1077.01 L147.362 1071.13 Z\" fill=\"#000000\" fill-rule=\"nonzero\" fill-opacity=\"1\" /><path clip-path=\"url(#clip810)\" d=\"M166.459 1073.07 L182.778 1073.07 L182.778 1077.01 L160.834 1077.01 L160.834 1073.07 Q163.496 1070.32 168.079 1065.69 Q172.686 1061.03 173.866 1059.69 Q176.112 1057.17 176.991 1055.43 Q177.894 1053.67 177.894 1051.98 Q177.894 1049.23 175.95 1047.49 Q174.028 1045.76 170.927 1045.76 Q168.727 1045.76 166.274 1046.52 Q163.843 1047.28 161.065 1048.83 L161.065 1044.11 Q163.89 1042.98 166.343 1042.4 Q168.797 1041.82 170.834 1041.82 Q176.204 1041.82 179.399 1044.51 Q182.593 1047.19 182.593 1051.68 Q182.593 1053.81 181.783 1055.73 Q180.996 1057.63 178.889 1060.22 Q178.311 1060.89 175.209 1064.11 Q172.107 1067.31 166.459 1073.07 Z\" fill=\"#000000\" fill-rule=\"nonzero\" fill-opacity=\"1\" /><path clip-path=\"url(#clip810)\" d=\"M192.639 1042.45 L210.996 1042.45 L210.996 1046.38 L196.922 1046.38 L196.922 1054.85 Q197.94 1054.51 198.959 1054.34 Q199.977 1054.16 200.996 1054.16 Q206.783 1054.16 210.162 1057.33 Q213.542 1060.5 213.542 1065.92 Q213.542 1071.5 210.07 1074.6 Q206.598 1077.68 200.278 1077.68 Q198.102 1077.68 195.834 1077.31 Q193.588 1076.94 191.181 1076.19 L191.181 1071.5 Q193.264 1072.63 195.487 1073.19 Q197.709 1073.74 200.186 1073.74 Q204.19 1073.74 206.528 1071.63 Q208.866 1069.53 208.866 1065.92 Q208.866 1062.31 206.528 1060.2 Q204.19 1058.09 200.186 1058.09 Q198.311 1058.09 196.436 1058.51 Q194.584 1058.93 192.639 1059.81 L192.639 1042.45 Z\" fill=\"#000000\" fill-rule=\"nonzero\" fill-opacity=\"1\" /><path clip-path=\"url(#clip810)\" d=\"M126.205 721.011 Q122.593 721.011 120.765 724.575 Q118.959 728.117 118.959 735.247 Q118.959 742.353 120.765 745.918 Q122.593 749.46 126.205 749.46 Q129.839 749.46 131.644 745.918 Q133.473 742.353 133.473 735.247 Q133.473 728.117 131.644 724.575 Q129.839 721.011 126.205 721.011 M126.205 717.307 Q132.015 717.307 135.07 721.913 Q138.149 726.497 138.149 735.247 Q138.149 743.973 135.07 748.58 Q132.015 753.163 126.205 753.163 Q120.394 753.163 117.316 748.58 Q114.26 743.973 114.26 735.247 Q114.26 726.497 117.316 721.913 Q120.394 717.307 126.205 717.307 Z\" fill=\"#000000\" fill-rule=\"nonzero\" fill-opacity=\"1\" /><path clip-path=\"url(#clip810)\" d=\"M146.366 746.612 L151.251 746.612 L151.251 752.492 L146.366 752.492 L146.366 746.612 Z\" fill=\"#000000\" fill-rule=\"nonzero\" fill-opacity=\"1\" /><path clip-path=\"url(#clip810)\" d=\"M161.482 717.932 L179.839 717.932 L179.839 721.867 L165.765 721.867 L165.765 730.339 Q166.783 729.992 167.802 729.83 Q168.82 729.645 169.839 729.645 Q175.626 729.645 179.005 732.816 Q182.385 735.987 182.385 741.404 Q182.385 746.983 178.913 750.085 Q175.44 753.163 169.121 753.163 Q166.945 753.163 164.677 752.793 Q162.431 752.423 160.024 751.682 L160.024 746.983 Q162.107 748.117 164.329 748.673 Q166.552 749.228 169.028 749.228 Q173.033 749.228 175.371 747.122 Q177.709 745.015 177.709 741.404 Q177.709 737.793 175.371 735.687 Q173.033 733.58 169.028 733.58 Q167.153 733.58 165.278 733.997 Q163.427 734.413 161.482 735.293 L161.482 717.932 Z\" fill=\"#000000\" fill-rule=\"nonzero\" fill-opacity=\"1\" /><path clip-path=\"url(#clip810)\" d=\"M201.598 721.011 Q197.987 721.011 196.158 724.575 Q194.352 728.117 194.352 735.247 Q194.352 742.353 196.158 745.918 Q197.987 749.46 201.598 749.46 Q205.232 749.46 207.037 745.918 Q208.866 742.353 208.866 735.247 Q208.866 728.117 207.037 724.575 Q205.232 721.011 201.598 721.011 M201.598 717.307 Q207.408 717.307 210.463 721.913 Q213.542 726.497 213.542 735.247 Q213.542 743.973 210.463 748.58 Q207.408 753.163 201.598 753.163 Q195.787 753.163 192.709 748.58 Q189.653 743.973 189.653 735.247 Q189.653 726.497 192.709 721.913 Q195.787 717.307 201.598 717.307 Z\" fill=\"#000000\" fill-rule=\"nonzero\" fill-opacity=\"1\" /><path clip-path=\"url(#clip810)\" d=\"M127.2 396.498 Q123.589 396.498 121.76 400.062 Q119.955 403.604 119.955 410.734 Q119.955 417.84 121.76 421.405 Q123.589 424.946 127.2 424.946 Q130.834 424.946 132.64 421.405 Q134.468 417.84 134.468 410.734 Q134.468 403.604 132.64 400.062 Q130.834 396.498 127.2 396.498 M127.2 392.794 Q133.01 392.794 136.066 397.4 Q139.144 401.984 139.144 410.734 Q139.144 419.46 136.066 424.067 Q133.01 428.65 127.2 428.65 Q121.39 428.65 118.311 424.067 Q115.256 419.46 115.256 410.734 Q115.256 401.984 118.311 397.4 Q121.39 392.794 127.2 392.794 Z\" fill=\"#000000\" fill-rule=\"nonzero\" fill-opacity=\"1\" /><path clip-path=\"url(#clip810)\" d=\"M147.362 422.099 L152.246 422.099 L152.246 427.979 L147.362 427.979 L147.362 422.099 Z\" fill=\"#000000\" fill-rule=\"nonzero\" fill-opacity=\"1\" /><path clip-path=\"url(#clip810)\" d=\"M161.251 393.419 L183.473 393.419 L183.473 395.41 L170.927 427.979 L166.042 427.979 L177.848 397.354 L161.251 397.354 L161.251 393.419 Z\" fill=\"#000000\" fill-rule=\"nonzero\" fill-opacity=\"1\" /><path clip-path=\"url(#clip810)\" d=\"M192.639 393.419 L210.996 393.419 L210.996 397.354 L196.922 397.354 L196.922 405.826 Q197.94 405.479 198.959 405.317 Q199.977 405.132 200.996 405.132 Q206.783 405.132 210.162 408.303 Q213.542 411.474 213.542 416.891 Q213.542 422.47 210.07 425.571 Q206.598 428.65 200.278 428.65 Q198.102 428.65 195.834 428.28 Q193.588 427.909 191.181 427.169 L191.181 422.47 Q193.264 423.604 195.487 424.159 Q197.709 424.715 200.186 424.715 Q204.19 424.715 206.528 422.608 Q208.866 420.502 208.866 416.891 Q208.866 413.28 206.528 411.173 Q204.19 409.067 200.186 409.067 Q198.311 409.067 196.436 409.484 Q194.584 409.9 192.639 410.78 L192.639 393.419 Z\" fill=\"#000000\" fill-rule=\"nonzero\" fill-opacity=\"1\" /><path clip-path=\"url(#clip810)\" d=\"M117.015 99.5305 L124.654 99.5305 L124.654 73.1649 L116.343 74.8316 L116.343 70.5723 L124.607 68.9057 L129.283 68.9057 L129.283 99.5305 L136.922 99.5305 L136.922 103.466 L117.015 103.466 L117.015 99.5305 Z\" fill=\"#000000\" fill-rule=\"nonzero\" fill-opacity=\"1\" /><path clip-path=\"url(#clip810)\" d=\"M146.366 97.5861 L151.251 97.5861 L151.251 103.466 L146.366 103.466 L146.366 97.5861 Z\" fill=\"#000000\" fill-rule=\"nonzero\" fill-opacity=\"1\" /><path clip-path=\"url(#clip810)\" d=\"M171.436 71.9844 Q167.825 71.9844 165.996 75.5492 Q164.19 79.0908 164.19 86.2204 Q164.19 93.3268 165.996 96.8916 Q167.825 100.433 171.436 100.433 Q175.07 100.433 176.876 96.8916 Q178.704 93.3268 178.704 86.2204 Q178.704 79.0908 176.876 75.5492 Q175.07 71.9844 171.436 71.9844 M171.436 68.2807 Q177.246 68.2807 180.301 72.8871 Q183.38 77.4704 183.38 86.2204 Q183.38 94.9472 180.301 99.5537 Q177.246 104.137 171.436 104.137 Q165.626 104.137 162.547 99.5537 Q159.491 94.9472 159.491 86.2204 Q159.491 77.4704 162.547 72.8871 Q165.626 68.2807 171.436 68.2807 Z\" fill=\"#000000\" fill-rule=\"nonzero\" fill-opacity=\"1\" /><path clip-path=\"url(#clip810)\" d=\"M201.598 71.9844 Q197.987 71.9844 196.158 75.5492 Q194.352 79.0908 194.352 86.2204 Q194.352 93.3268 196.158 96.8916 Q197.987 100.433 201.598 100.433 Q205.232 100.433 207.037 96.8916 Q208.866 93.3268 208.866 86.2204 Q208.866 79.0908 207.037 75.5492 Q205.232 71.9844 201.598 71.9844 M201.598 68.2807 Q207.408 68.2807 210.463 72.8871 Q213.542 77.4704 213.542 86.2204 Q213.542 94.9472 210.463 99.5537 Q207.408 104.137 201.598 104.137 Q195.787 104.137 192.709 99.5537 Q189.653 94.9472 189.653 86.2204 Q189.653 77.4704 192.709 72.8871 Q195.787 68.2807 201.598 68.2807 Z\" fill=\"#000000\" fill-rule=\"nonzero\" fill-opacity=\"1\" /><path clip-path=\"url(#clip810)\" d=\"M16.4842 801.909 L16.4842 795.479 L58.5933 795.479 L58.5933 772.34 L64.0042 772.34 L64.0042 801.909 L16.4842 801.909 Z\" fill=\"#000000\" fill-rule=\"nonzero\" fill-opacity=\"1\" /><path clip-path=\"url(#clip810)\" d=\"M32.4621 753.179 Q32.4621 757.89 36.1542 760.627 Q39.8145 763.364 46.212 763.364 Q52.6095 763.364 56.3017 760.659 Q59.9619 757.922 59.9619 753.179 Q59.9619 748.5 56.2698 745.763 Q52.5777 743.026 46.212 743.026 Q39.8781 743.026 36.186 745.763 Q32.4621 748.5 32.4621 753.179 M27.4968 753.179 Q27.4968 745.54 32.4621 741.18 Q37.4273 736.819 46.212 736.819 Q54.9649 736.819 59.9619 741.18 Q64.9272 745.54 64.9272 753.179 Q64.9272 760.85 59.9619 765.21 Q54.9649 769.539 46.212 769.539 Q37.4273 769.539 32.4621 765.21 Q27.4968 760.85 27.4968 753.179 Z\" fill=\"#000000\" fill-rule=\"nonzero\" fill-opacity=\"1\" /><path clip-path=\"url(#clip810)\" d=\"M29.4065 704.386 L34.9447 704.386 Q33.6716 706.869 33.035 709.542 Q32.3984 712.216 32.3984 715.08 Q32.3984 719.441 33.7352 721.637 Q35.072 723.801 37.7456 723.801 Q39.7826 723.801 40.9603 722.242 Q42.1061 720.682 43.1565 715.972 L43.6021 713.966 Q44.9389 707.728 47.3897 705.118 Q49.8086 702.476 54.1691 702.476 Q59.1344 702.476 62.0308 706.423 Q64.9272 710.338 64.9272 717.213 Q64.9272 720.078 64.3543 723.197 Q63.8132 726.284 62.6992 729.722 L56.6518 729.722 Q58.3387 726.475 59.198 723.324 Q60.0256 720.173 60.0256 717.086 Q60.0256 712.948 58.6251 710.72 Q57.1929 708.492 54.6147 708.492 Q52.2276 708.492 50.9545 710.115 Q49.6813 711.707 48.5037 717.149 L48.0262 719.186 Q46.8804 724.629 44.5251 727.048 Q42.138 729.467 38.0002 729.467 Q32.9713 729.467 30.2341 725.902 Q27.4968 722.337 27.4968 715.781 Q27.4968 712.534 27.9743 709.67 Q28.4517 706.805 29.4065 704.386 Z\" fill=\"#000000\" fill-rule=\"nonzero\" fill-opacity=\"1\" /><path clip-path=\"url(#clip810)\" d=\"M29.4065 670.425 L34.9447 670.425 Q33.6716 672.908 33.035 675.581 Q32.3984 678.255 32.3984 681.119 Q32.3984 685.48 33.7352 687.676 Q35.072 689.84 37.7456 689.84 Q39.7826 689.84 40.9603 688.281 Q42.1061 686.721 43.1565 682.011 L43.6021 680.005 Q44.9389 673.767 47.3897 671.157 Q49.8086 668.515 54.1691 668.515 Q59.1344 668.515 62.0308 672.462 Q64.9272 676.377 64.9272 683.252 Q64.9272 686.116 64.3543 689.236 Q63.8132 692.323 62.6992 695.761 L56.6518 695.761 Q58.3387 692.514 59.198 689.363 Q60.0256 686.212 60.0256 683.125 Q60.0256 678.987 58.6251 676.759 Q57.1929 674.531 54.6147 674.531 Q52.2276 674.531 50.9545 676.154 Q49.6813 677.746 48.5037 683.188 L48.0262 685.225 Q46.8804 690.668 44.5251 693.087 Q42.138 695.506 38.0002 695.506 Q32.9713 695.506 30.2341 691.941 Q27.4968 688.376 27.4968 681.82 Q27.4968 678.573 27.9743 675.709 Q28.4517 672.844 29.4065 670.425 Z\" fill=\"#000000\" fill-rule=\"nonzero\" fill-opacity=\"1\" /></svg>\n"
      ],
      "text/html": [
       "<?xml version=\"1.0\" encoding=\"utf-8\"?>\n",
       "<svg xmlns=\"http://www.w3.org/2000/svg\" xmlns:xlink=\"http://www.w3.org/1999/xlink\" width=\"600\" height=\"400\" viewBox=\"0 0 2400 1600\">\n",
       "<defs>\n",
       "  <clipPath id=\"clip860\">\n",
       "    <rect x=\"0\" y=\"0\" width=\"2400\" height=\"1600\"/>\n",
       "  </clipPath>\n",
       "</defs>\n",
       "<path clip-path=\"url(#clip860)\" d=\"M0 1600 L2400 1600 L2400 0 L0 0  Z\" fill=\"#ffffff\" fill-rule=\"evenodd\" fill-opacity=\"1\"/>\n",
       "<defs>\n",
       "  <clipPath id=\"clip861\">\n",
       "    <rect x=\"480\" y=\"0\" width=\"1681\" height=\"1600\"/>\n",
       "  </clipPath>\n",
       "</defs>\n",
       "<path clip-path=\"url(#clip860)\" d=\"M249.542 1423.18 L2352.76 1423.18 L2352.76 47.2441 L249.542 47.2441  Z\" fill=\"#ffffff\" fill-rule=\"evenodd\" fill-opacity=\"1\"/>\n",
       "<defs>\n",
       "  <clipPath id=\"clip862\">\n",
       "    <rect x=\"249\" y=\"47\" width=\"2104\" height=\"1377\"/>\n",
       "  </clipPath>\n",
       "</defs>\n",
       "<polyline clip-path=\"url(#clip862)\" style=\"stroke:#000000; stroke-linecap:round; stroke-linejoin:round; stroke-width:2; stroke-opacity:0.1; fill:none\" points=\"309.067,1423.18 309.067,47.2441 \"/>\n",
       "<polyline clip-path=\"url(#clip862)\" style=\"stroke:#000000; stroke-linecap:round; stroke-linejoin:round; stroke-width:2; stroke-opacity:0.1; fill:none\" points=\"805.108,1423.18 805.108,47.2441 \"/>\n",
       "<polyline clip-path=\"url(#clip862)\" style=\"stroke:#000000; stroke-linecap:round; stroke-linejoin:round; stroke-width:2; stroke-opacity:0.1; fill:none\" points=\"1301.15,1423.18 1301.15,47.2441 \"/>\n",
       "<polyline clip-path=\"url(#clip862)\" style=\"stroke:#000000; stroke-linecap:round; stroke-linejoin:round; stroke-width:2; stroke-opacity:0.1; fill:none\" points=\"1797.19,1423.18 1797.19,47.2441 \"/>\n",
       "<polyline clip-path=\"url(#clip862)\" style=\"stroke:#000000; stroke-linecap:round; stroke-linejoin:round; stroke-width:2; stroke-opacity:0.1; fill:none\" points=\"2293.23,1423.18 2293.23,47.2441 \"/>\n",
       "<polyline clip-path=\"url(#clip860)\" style=\"stroke:#000000; stroke-linecap:round; stroke-linejoin:round; stroke-width:4; stroke-opacity:1; fill:none\" points=\"249.542,1423.18 2352.76,1423.18 \"/>\n",
       "<polyline clip-path=\"url(#clip860)\" style=\"stroke:#000000; stroke-linecap:round; stroke-linejoin:round; stroke-width:4; stroke-opacity:1; fill:none\" points=\"249.542,47.2441 2352.76,47.2441 \"/>\n",
       "<polyline clip-path=\"url(#clip860)\" style=\"stroke:#000000; stroke-linecap:round; stroke-linejoin:round; stroke-width:4; stroke-opacity:1; fill:none\" points=\"309.067,1423.18 309.067,1404.28 \"/>\n",
       "<polyline clip-path=\"url(#clip860)\" style=\"stroke:#000000; stroke-linecap:round; stroke-linejoin:round; stroke-width:4; stroke-opacity:1; fill:none\" points=\"805.108,1423.18 805.108,1404.28 \"/>\n",
       "<polyline clip-path=\"url(#clip860)\" style=\"stroke:#000000; stroke-linecap:round; stroke-linejoin:round; stroke-width:4; stroke-opacity:1; fill:none\" points=\"1301.15,1423.18 1301.15,1404.28 \"/>\n",
       "<polyline clip-path=\"url(#clip860)\" style=\"stroke:#000000; stroke-linecap:round; stroke-linejoin:round; stroke-width:4; stroke-opacity:1; fill:none\" points=\"1797.19,1423.18 1797.19,1404.28 \"/>\n",
       "<polyline clip-path=\"url(#clip860)\" style=\"stroke:#000000; stroke-linecap:round; stroke-linejoin:round; stroke-width:4; stroke-opacity:1; fill:none\" points=\"2293.23,1423.18 2293.23,1404.28 \"/>\n",
       "<path clip-path=\"url(#clip860)\" d=\"M271.37 1454.1 Q267.759 1454.1 265.931 1457.66 Q264.125 1461.2 264.125 1468.33 Q264.125 1475.44 265.931 1479.01 Q267.759 1482.55 271.37 1482.55 Q275.005 1482.55 276.81 1479.01 Q278.639 1475.44 278.639 1468.33 Q278.639 1461.2 276.81 1457.66 Q275.005 1454.1 271.37 1454.1 M271.37 1450.39 Q277.181 1450.39 280.236 1455 Q283.315 1459.58 283.315 1468.33 Q283.315 1477.06 280.236 1481.67 Q277.181 1486.25 271.37 1486.25 Q265.56 1486.25 262.482 1481.67 Q259.426 1477.06 259.426 1468.33 Q259.426 1459.58 262.482 1455 Q265.56 1450.39 271.37 1450.39 Z\" fill=\"#000000\" fill-rule=\"nonzero\" fill-opacity=\"1\" /><path clip-path=\"url(#clip860)\" d=\"M291.532 1479.7 L296.417 1479.7 L296.417 1485.58 L291.532 1485.58 L291.532 1479.7 Z\" fill=\"#000000\" fill-rule=\"nonzero\" fill-opacity=\"1\" /><path clip-path=\"url(#clip860)\" d=\"M316.602 1454.1 Q312.991 1454.1 311.162 1457.66 Q309.356 1461.2 309.356 1468.33 Q309.356 1475.44 311.162 1479.01 Q312.991 1482.55 316.602 1482.55 Q320.236 1482.55 322.041 1479.01 Q323.87 1475.44 323.87 1468.33 Q323.87 1461.2 322.041 1457.66 Q320.236 1454.1 316.602 1454.1 M316.602 1450.39 Q322.412 1450.39 325.467 1455 Q328.546 1459.58 328.546 1468.33 Q328.546 1477.06 325.467 1481.67 Q322.412 1486.25 316.602 1486.25 Q310.791 1486.25 307.713 1481.67 Q304.657 1477.06 304.657 1468.33 Q304.657 1459.58 307.713 1455 Q310.791 1450.39 316.602 1450.39 Z\" fill=\"#000000\" fill-rule=\"nonzero\" fill-opacity=\"1\" /><path clip-path=\"url(#clip860)\" d=\"M346.764 1454.1 Q343.152 1454.1 341.324 1457.66 Q339.518 1461.2 339.518 1468.33 Q339.518 1475.44 341.324 1479.01 Q343.152 1482.55 346.764 1482.55 Q350.398 1482.55 352.203 1479.01 Q354.032 1475.44 354.032 1468.33 Q354.032 1461.2 352.203 1457.66 Q350.398 1454.1 346.764 1454.1 M346.764 1450.39 Q352.574 1450.39 355.629 1455 Q358.708 1459.58 358.708 1468.33 Q358.708 1477.06 355.629 1481.67 Q352.574 1486.25 346.764 1486.25 Q340.953 1486.25 337.875 1481.67 Q334.819 1477.06 334.819 1468.33 Q334.819 1459.58 337.875 1455 Q340.953 1450.39 346.764 1450.39 Z\" fill=\"#000000\" fill-rule=\"nonzero\" fill-opacity=\"1\" /><path clip-path=\"url(#clip860)\" d=\"M767.909 1454.1 Q764.298 1454.1 762.469 1457.66 Q760.664 1461.2 760.664 1468.33 Q760.664 1475.44 762.469 1479.01 Q764.298 1482.55 767.909 1482.55 Q771.543 1482.55 773.349 1479.01 Q775.178 1475.44 775.178 1468.33 Q775.178 1461.2 773.349 1457.66 Q771.543 1454.1 767.909 1454.1 M767.909 1450.39 Q773.719 1450.39 776.775 1455 Q779.853 1459.58 779.853 1468.33 Q779.853 1477.06 776.775 1481.67 Q773.719 1486.25 767.909 1486.25 Q762.099 1486.25 759.02 1481.67 Q755.965 1477.06 755.965 1468.33 Q755.965 1459.58 759.02 1455 Q762.099 1450.39 767.909 1450.39 Z\" fill=\"#000000\" fill-rule=\"nonzero\" fill-opacity=\"1\" /><path clip-path=\"url(#clip860)\" d=\"M788.071 1479.7 L792.955 1479.7 L792.955 1485.58 L788.071 1485.58 L788.071 1479.7 Z\" fill=\"#000000\" fill-rule=\"nonzero\" fill-opacity=\"1\" /><path clip-path=\"url(#clip860)\" d=\"M807.168 1481.64 L823.487 1481.64 L823.487 1485.58 L801.543 1485.58 L801.543 1481.64 Q804.205 1478.89 808.788 1474.26 Q813.395 1469.61 814.576 1468.27 Q816.821 1465.74 817.7 1464.01 Q818.603 1462.25 818.603 1460.56 Q818.603 1457.8 816.659 1456.07 Q814.738 1454.33 811.636 1454.33 Q809.437 1454.33 806.983 1455.09 Q804.552 1455.86 801.775 1457.41 L801.775 1452.69 Q804.599 1451.55 807.052 1450.97 Q809.506 1450.39 811.543 1450.39 Q816.913 1450.39 820.108 1453.08 Q823.302 1455.77 823.302 1460.26 Q823.302 1462.39 822.492 1464.31 Q821.705 1466.2 819.599 1468.8 Q819.02 1469.47 815.918 1472.69 Q812.816 1475.88 807.168 1481.64 Z\" fill=\"#000000\" fill-rule=\"nonzero\" fill-opacity=\"1\" /><path clip-path=\"url(#clip860)\" d=\"M833.349 1451.02 L851.705 1451.02 L851.705 1454.96 L837.631 1454.96 L837.631 1463.43 Q838.649 1463.08 839.668 1462.92 Q840.686 1462.73 841.705 1462.73 Q847.492 1462.73 850.872 1465.9 Q854.251 1469.08 854.251 1474.49 Q854.251 1480.07 850.779 1483.17 Q847.307 1486.25 840.987 1486.25 Q838.811 1486.25 836.543 1485.88 Q834.298 1485.51 831.89 1484.77 L831.89 1480.07 Q833.974 1481.2 836.196 1481.76 Q838.418 1482.32 840.895 1482.32 Q844.899 1482.32 847.237 1480.21 Q849.575 1478.1 849.575 1474.49 Q849.575 1470.88 847.237 1468.77 Q844.899 1466.67 840.895 1466.67 Q839.02 1466.67 837.145 1467.08 Q835.293 1467.5 833.349 1468.38 L833.349 1451.02 Z\" fill=\"#000000\" fill-rule=\"nonzero\" fill-opacity=\"1\" /><path clip-path=\"url(#clip860)\" d=\"M1263.45 1454.1 Q1259.84 1454.1 1258.01 1457.66 Q1256.21 1461.2 1256.21 1468.33 Q1256.21 1475.44 1258.01 1479.01 Q1259.84 1482.55 1263.45 1482.55 Q1267.09 1482.55 1268.89 1479.01 Q1270.72 1475.44 1270.72 1468.33 Q1270.72 1461.2 1268.89 1457.66 Q1267.09 1454.1 1263.45 1454.1 M1263.45 1450.39 Q1269.26 1450.39 1272.32 1455 Q1275.4 1459.58 1275.4 1468.33 Q1275.4 1477.06 1272.32 1481.67 Q1269.26 1486.25 1263.45 1486.25 Q1257.64 1486.25 1254.56 1481.67 Q1251.51 1477.06 1251.51 1468.33 Q1251.51 1459.58 1254.56 1455 Q1257.64 1450.39 1263.45 1450.39 Z\" fill=\"#000000\" fill-rule=\"nonzero\" fill-opacity=\"1\" /><path clip-path=\"url(#clip860)\" d=\"M1283.61 1479.7 L1288.5 1479.7 L1288.5 1485.58 L1283.61 1485.58 L1283.61 1479.7 Z\" fill=\"#000000\" fill-rule=\"nonzero\" fill-opacity=\"1\" /><path clip-path=\"url(#clip860)\" d=\"M1298.73 1451.02 L1317.09 1451.02 L1317.09 1454.96 L1303.01 1454.96 L1303.01 1463.43 Q1304.03 1463.08 1305.05 1462.92 Q1306.07 1462.73 1307.09 1462.73 Q1312.87 1462.73 1316.25 1465.9 Q1319.63 1469.08 1319.63 1474.49 Q1319.63 1480.07 1316.16 1483.17 Q1312.69 1486.25 1306.37 1486.25 Q1304.19 1486.25 1301.92 1485.88 Q1299.68 1485.51 1297.27 1484.77 L1297.27 1480.07 Q1299.35 1481.2 1301.58 1481.76 Q1303.8 1482.32 1306.28 1482.32 Q1310.28 1482.32 1312.62 1480.21 Q1314.96 1478.1 1314.96 1474.49 Q1314.96 1470.88 1312.62 1468.77 Q1310.28 1466.67 1306.28 1466.67 Q1304.4 1466.67 1302.53 1467.08 Q1300.67 1467.5 1298.73 1468.38 L1298.73 1451.02 Z\" fill=\"#000000\" fill-rule=\"nonzero\" fill-opacity=\"1\" /><path clip-path=\"url(#clip860)\" d=\"M1338.85 1454.1 Q1335.23 1454.1 1333.41 1457.66 Q1331.6 1461.2 1331.6 1468.33 Q1331.6 1475.44 1333.41 1479.01 Q1335.23 1482.55 1338.85 1482.55 Q1342.48 1482.55 1344.29 1479.01 Q1346.11 1475.44 1346.11 1468.33 Q1346.11 1461.2 1344.29 1457.66 Q1342.48 1454.1 1338.85 1454.1 M1338.85 1450.39 Q1344.66 1450.39 1347.71 1455 Q1350.79 1459.58 1350.79 1468.33 Q1350.79 1477.06 1347.71 1481.67 Q1344.66 1486.25 1338.85 1486.25 Q1333.04 1486.25 1329.96 1481.67 Q1326.9 1477.06 1326.9 1468.33 Q1326.9 1459.58 1329.96 1455 Q1333.04 1450.39 1338.85 1450.39 Z\" fill=\"#000000\" fill-rule=\"nonzero\" fill-opacity=\"1\" /><path clip-path=\"url(#clip860)\" d=\"M1759.99 1454.1 Q1756.38 1454.1 1754.55 1457.66 Q1752.75 1461.2 1752.75 1468.33 Q1752.75 1475.44 1754.55 1479.01 Q1756.38 1482.55 1759.99 1482.55 Q1763.63 1482.55 1765.43 1479.01 Q1767.26 1475.44 1767.26 1468.33 Q1767.26 1461.2 1765.43 1457.66 Q1763.63 1454.1 1759.99 1454.1 M1759.99 1450.39 Q1765.8 1450.39 1768.86 1455 Q1771.94 1459.58 1771.94 1468.33 Q1771.94 1477.06 1768.86 1481.67 Q1765.8 1486.25 1759.99 1486.25 Q1754.18 1486.25 1751.1 1481.67 Q1748.05 1477.06 1748.05 1468.33 Q1748.05 1459.58 1751.1 1455 Q1754.18 1450.39 1759.99 1450.39 Z\" fill=\"#000000\" fill-rule=\"nonzero\" fill-opacity=\"1\" /><path clip-path=\"url(#clip860)\" d=\"M1780.15 1479.7 L1785.04 1479.7 L1785.04 1485.58 L1780.15 1485.58 L1780.15 1479.7 Z\" fill=\"#000000\" fill-rule=\"nonzero\" fill-opacity=\"1\" /><path clip-path=\"url(#clip860)\" d=\"M1794.04 1451.02 L1816.26 1451.02 L1816.26 1453.01 L1803.72 1485.58 L1798.83 1485.58 L1810.64 1454.96 L1794.04 1454.96 L1794.04 1451.02 Z\" fill=\"#000000\" fill-rule=\"nonzero\" fill-opacity=\"1\" /><path clip-path=\"url(#clip860)\" d=\"M1825.43 1451.02 L1843.79 1451.02 L1843.79 1454.96 L1829.71 1454.96 L1829.71 1463.43 Q1830.73 1463.08 1831.75 1462.92 Q1832.77 1462.73 1833.79 1462.73 Q1839.57 1462.73 1842.95 1465.9 Q1846.33 1469.08 1846.33 1474.49 Q1846.33 1480.07 1842.86 1483.17 Q1839.39 1486.25 1833.07 1486.25 Q1830.89 1486.25 1828.62 1485.88 Q1826.38 1485.51 1823.97 1484.77 L1823.97 1480.07 Q1826.06 1481.2 1828.28 1481.76 Q1830.5 1482.32 1832.98 1482.32 Q1836.98 1482.32 1839.32 1480.21 Q1841.66 1478.1 1841.66 1474.49 Q1841.66 1470.88 1839.32 1468.77 Q1836.98 1466.67 1832.98 1466.67 Q1831.1 1466.67 1829.23 1467.08 Q1827.38 1467.5 1825.43 1468.38 L1825.43 1451.02 Z\" fill=\"#000000\" fill-rule=\"nonzero\" fill-opacity=\"1\" /><path clip-path=\"url(#clip860)\" d=\"M2245.3 1481.64 L2252.94 1481.64 L2252.94 1455.28 L2244.63 1456.95 L2244.63 1452.69 L2252.9 1451.02 L2257.57 1451.02 L2257.57 1481.64 L2265.21 1481.64 L2265.21 1485.58 L2245.3 1485.58 L2245.3 1481.64 Z\" fill=\"#000000\" fill-rule=\"nonzero\" fill-opacity=\"1\" /><path clip-path=\"url(#clip860)\" d=\"M2274.65 1479.7 L2279.54 1479.7 L2279.54 1485.58 L2274.65 1485.58 L2274.65 1479.7 Z\" fill=\"#000000\" fill-rule=\"nonzero\" fill-opacity=\"1\" /><path clip-path=\"url(#clip860)\" d=\"M2299.72 1454.1 Q2296.11 1454.1 2294.28 1457.66 Q2292.48 1461.2 2292.48 1468.33 Q2292.48 1475.44 2294.28 1479.01 Q2296.11 1482.55 2299.72 1482.55 Q2303.36 1482.55 2305.16 1479.01 Q2306.99 1475.44 2306.99 1468.33 Q2306.99 1461.2 2305.16 1457.66 Q2303.36 1454.1 2299.72 1454.1 M2299.72 1450.39 Q2305.53 1450.39 2308.59 1455 Q2311.67 1459.58 2311.67 1468.33 Q2311.67 1477.06 2308.59 1481.67 Q2305.53 1486.25 2299.72 1486.25 Q2293.91 1486.25 2290.84 1481.67 Q2287.78 1477.06 2287.78 1468.33 Q2287.78 1459.58 2290.84 1455 Q2293.91 1450.39 2299.72 1450.39 Z\" fill=\"#000000\" fill-rule=\"nonzero\" fill-opacity=\"1\" /><path clip-path=\"url(#clip860)\" d=\"M2329.89 1454.1 Q2326.27 1454.1 2324.45 1457.66 Q2322.64 1461.2 2322.64 1468.33 Q2322.64 1475.44 2324.45 1479.01 Q2326.27 1482.55 2329.89 1482.55 Q2333.52 1482.55 2335.33 1479.01 Q2337.15 1475.44 2337.15 1468.33 Q2337.15 1461.2 2335.33 1457.66 Q2333.52 1454.1 2329.89 1454.1 M2329.89 1450.39 Q2335.7 1450.39 2338.75 1455 Q2341.83 1459.58 2341.83 1468.33 Q2341.83 1477.06 2338.75 1481.67 Q2335.7 1486.25 2329.89 1486.25 Q2324.08 1486.25 2321 1481.67 Q2317.94 1477.06 2317.94 1468.33 Q2317.94 1459.58 2321 1455 Q2324.08 1450.39 2329.89 1450.39 Z\" fill=\"#000000\" fill-rule=\"nonzero\" fill-opacity=\"1\" /><path clip-path=\"url(#clip860)\" d=\"M1207.32 1520.52 L1237.36 1520.52 L1237.36 1525.93 L1213.75 1525.93 L1213.75 1540 L1236.38 1540 L1236.38 1545.41 L1213.75 1545.41 L1213.75 1562.63 L1237.94 1562.63 L1237.94 1568.04 L1207.32 1568.04 L1207.32 1520.52 Z\" fill=\"#000000\" fill-rule=\"nonzero\" fill-opacity=\"1\" /><path clip-path=\"url(#clip860)\" d=\"M1253.92 1562.7 L1253.92 1581.6 L1248.03 1581.6 L1248.03 1532.4 L1253.92 1532.4 L1253.92 1537.81 Q1255.76 1534.62 1258.56 1533.1 Q1261.4 1531.54 1265.31 1531.54 Q1271.8 1531.54 1275.85 1536.69 Q1279.92 1541.85 1279.92 1550.25 Q1279.92 1558.65 1275.85 1563.81 Q1271.8 1568.97 1265.31 1568.97 Q1261.4 1568.97 1258.56 1567.44 Q1255.76 1565.88 1253.92 1562.7 M1273.84 1550.25 Q1273.84 1543.79 1271.17 1540.13 Q1268.52 1536.44 1263.88 1536.44 Q1259.23 1536.44 1256.56 1540.13 Q1253.92 1543.79 1253.92 1550.25 Q1253.92 1556.71 1256.56 1560.4 Q1259.23 1564.07 1263.88 1564.07 Q1268.52 1564.07 1271.17 1560.4 Q1273.84 1556.71 1273.84 1550.25 Z\" fill=\"#000000\" fill-rule=\"nonzero\" fill-opacity=\"1\" /><path clip-path=\"url(#clip860)\" d=\"M1303.44 1536.5 Q1298.73 1536.5 1295.99 1540.19 Q1293.26 1543.85 1293.26 1550.25 Q1293.26 1556.65 1295.96 1560.34 Q1298.7 1564 1303.44 1564 Q1308.12 1564 1310.86 1560.31 Q1313.59 1556.62 1313.59 1550.25 Q1313.59 1543.92 1310.86 1540.23 Q1308.12 1536.5 1303.44 1536.5 M1303.44 1531.54 Q1311.08 1531.54 1315.44 1536.5 Q1319.8 1541.47 1319.8 1550.25 Q1319.8 1559 1315.44 1564 Q1311.08 1568.97 1303.44 1568.97 Q1295.77 1568.97 1291.41 1564 Q1287.08 1559 1287.08 1550.25 Q1287.08 1541.47 1291.41 1536.5 Q1295.77 1531.54 1303.44 1531.54 Z\" fill=\"#000000\" fill-rule=\"nonzero\" fill-opacity=\"1\" /><path clip-path=\"url(#clip860)\" d=\"M1355.16 1533.76 L1355.16 1539.24 Q1352.68 1537.87 1350.16 1537.2 Q1347.68 1536.5 1345.14 1536.5 Q1339.44 1536.5 1336.29 1540.13 Q1333.14 1543.73 1333.14 1550.25 Q1333.14 1556.78 1336.29 1560.4 Q1339.44 1564 1345.14 1564 Q1347.68 1564 1350.16 1563.33 Q1352.68 1562.63 1355.16 1561.26 L1355.16 1566.68 Q1352.71 1567.82 1350.07 1568.39 Q1347.46 1568.97 1344.5 1568.97 Q1336.45 1568.97 1331.7 1563.91 Q1326.96 1558.85 1326.96 1550.25 Q1326.96 1541.53 1331.74 1536.53 Q1336.54 1531.54 1344.88 1531.54 Q1347.59 1531.54 1350.16 1532.11 Q1352.74 1532.65 1355.16 1533.76 Z\" fill=\"#000000\" fill-rule=\"nonzero\" fill-opacity=\"1\" /><path clip-path=\"url(#clip860)\" d=\"M1394.98 1546.53 L1394.98 1568.04 L1389.12 1568.04 L1389.12 1546.72 Q1389.12 1541.66 1387.15 1539.14 Q1385.18 1536.63 1381.23 1536.63 Q1376.49 1536.63 1373.75 1539.65 Q1371.01 1542.68 1371.01 1547.9 L1371.01 1568.04 L1365.12 1568.04 L1365.12 1518.52 L1371.01 1518.52 L1371.01 1537.93 Q1373.11 1534.72 1375.95 1533.13 Q1378.81 1531.54 1382.53 1531.54 Q1388.68 1531.54 1391.83 1535.36 Q1394.98 1539.14 1394.98 1546.53 Z\" fill=\"#000000\" fill-rule=\"nonzero\" fill-opacity=\"1\" /><polyline clip-path=\"url(#clip862)\" style=\"stroke:#000000; stroke-linecap:round; stroke-linejoin:round; stroke-width:2; stroke-opacity:0.1; fill:none\" points=\"249.542,1384.24 2352.76,1384.24 \"/>\n",
       "<polyline clip-path=\"url(#clip862)\" style=\"stroke:#000000; stroke-linecap:round; stroke-linejoin:round; stroke-width:2; stroke-opacity:0.1; fill:none\" points=\"249.542,1059.73 2352.76,1059.73 \"/>\n",
       "<polyline clip-path=\"url(#clip862)\" style=\"stroke:#000000; stroke-linecap:round; stroke-linejoin:round; stroke-width:2; stroke-opacity:0.1; fill:none\" points=\"249.542,735.212 2352.76,735.212 \"/>\n",
       "<polyline clip-path=\"url(#clip862)\" style=\"stroke:#000000; stroke-linecap:round; stroke-linejoin:round; stroke-width:2; stroke-opacity:0.1; fill:none\" points=\"249.542,410.699 2352.76,410.699 \"/>\n",
       "<polyline clip-path=\"url(#clip862)\" style=\"stroke:#000000; stroke-linecap:round; stroke-linejoin:round; stroke-width:2; stroke-opacity:0.1; fill:none\" points=\"249.542,86.1857 2352.76,86.1857 \"/>\n",
       "<polyline clip-path=\"url(#clip860)\" style=\"stroke:#000000; stroke-linecap:round; stroke-linejoin:round; stroke-width:4; stroke-opacity:1; fill:none\" points=\"249.542,1423.18 249.542,47.2441 \"/>\n",
       "<polyline clip-path=\"url(#clip860)\" style=\"stroke:#000000; stroke-linecap:round; stroke-linejoin:round; stroke-width:4; stroke-opacity:1; fill:none\" points=\"2352.76,1423.18 2352.76,47.2441 \"/>\n",
       "<polyline clip-path=\"url(#clip860)\" style=\"stroke:#000000; stroke-linecap:round; stroke-linejoin:round; stroke-width:4; stroke-opacity:1; fill:none\" points=\"249.542,1384.24 268.44,1384.24 \"/>\n",
       "<polyline clip-path=\"url(#clip860)\" style=\"stroke:#000000; stroke-linecap:round; stroke-linejoin:round; stroke-width:4; stroke-opacity:1; fill:none\" points=\"249.542,1059.73 268.44,1059.73 \"/>\n",
       "<polyline clip-path=\"url(#clip860)\" style=\"stroke:#000000; stroke-linecap:round; stroke-linejoin:round; stroke-width:4; stroke-opacity:1; fill:none\" points=\"249.542,735.212 268.44,735.212 \"/>\n",
       "<polyline clip-path=\"url(#clip860)\" style=\"stroke:#000000; stroke-linecap:round; stroke-linejoin:round; stroke-width:4; stroke-opacity:1; fill:none\" points=\"249.542,410.699 268.44,410.699 \"/>\n",
       "<polyline clip-path=\"url(#clip860)\" style=\"stroke:#000000; stroke-linecap:round; stroke-linejoin:round; stroke-width:4; stroke-opacity:1; fill:none\" points=\"249.542,86.1857 268.44,86.1857 \"/>\n",
       "<path clip-path=\"url(#clip860)\" d=\"M126.205 1370.04 Q122.593 1370.04 120.765 1373.6 Q118.959 1377.14 118.959 1384.27 Q118.959 1391.38 120.765 1394.94 Q122.593 1398.49 126.205 1398.49 Q129.839 1398.49 131.644 1394.94 Q133.473 1391.38 133.473 1384.27 Q133.473 1377.14 131.644 1373.6 Q129.839 1370.04 126.205 1370.04 M126.205 1366.33 Q132.015 1366.33 135.07 1370.94 Q138.149 1375.52 138.149 1384.27 Q138.149 1393 135.07 1397.61 Q132.015 1402.19 126.205 1402.19 Q120.394 1402.19 117.316 1397.61 Q114.26 1393 114.26 1384.27 Q114.26 1375.52 117.316 1370.94 Q120.394 1366.33 126.205 1366.33 Z\" fill=\"#000000\" fill-rule=\"nonzero\" fill-opacity=\"1\" /><path clip-path=\"url(#clip860)\" d=\"M146.366 1395.64 L151.251 1395.64 L151.251 1401.52 L146.366 1401.52 L146.366 1395.64 Z\" fill=\"#000000\" fill-rule=\"nonzero\" fill-opacity=\"1\" /><path clip-path=\"url(#clip860)\" d=\"M171.436 1370.04 Q167.825 1370.04 165.996 1373.6 Q164.19 1377.14 164.19 1384.27 Q164.19 1391.38 165.996 1394.94 Q167.825 1398.49 171.436 1398.49 Q175.07 1398.49 176.876 1394.94 Q178.704 1391.38 178.704 1384.27 Q178.704 1377.14 176.876 1373.6 Q175.07 1370.04 171.436 1370.04 M171.436 1366.33 Q177.246 1366.33 180.301 1370.94 Q183.38 1375.52 183.38 1384.27 Q183.38 1393 180.301 1397.61 Q177.246 1402.19 171.436 1402.19 Q165.626 1402.19 162.547 1397.61 Q159.491 1393 159.491 1384.27 Q159.491 1375.52 162.547 1370.94 Q165.626 1366.33 171.436 1366.33 Z\" fill=\"#000000\" fill-rule=\"nonzero\" fill-opacity=\"1\" /><path clip-path=\"url(#clip860)\" d=\"M201.598 1370.04 Q197.987 1370.04 196.158 1373.6 Q194.352 1377.14 194.352 1384.27 Q194.352 1391.38 196.158 1394.94 Q197.987 1398.49 201.598 1398.49 Q205.232 1398.49 207.037 1394.94 Q208.866 1391.38 208.866 1384.27 Q208.866 1377.14 207.037 1373.6 Q205.232 1370.04 201.598 1370.04 M201.598 1366.33 Q207.408 1366.33 210.463 1370.94 Q213.542 1375.52 213.542 1384.27 Q213.542 1393 210.463 1397.61 Q207.408 1402.19 201.598 1402.19 Q195.787 1402.19 192.709 1397.61 Q189.653 1393 189.653 1384.27 Q189.653 1375.52 192.709 1370.94 Q195.787 1366.33 201.598 1366.33 Z\" fill=\"#000000\" fill-rule=\"nonzero\" fill-opacity=\"1\" /><path clip-path=\"url(#clip860)\" d=\"M127.2 1045.52 Q123.589 1045.52 121.76 1049.09 Q119.955 1052.63 119.955 1059.76 Q119.955 1066.87 121.76 1070.43 Q123.589 1073.97 127.2 1073.97 Q130.834 1073.97 132.64 1070.43 Q134.468 1066.87 134.468 1059.76 Q134.468 1052.63 132.64 1049.09 Q130.834 1045.52 127.2 1045.52 M127.2 1041.82 Q133.01 1041.82 136.066 1046.43 Q139.144 1051.01 139.144 1059.76 Q139.144 1068.49 136.066 1073.09 Q133.01 1077.68 127.2 1077.68 Q121.39 1077.68 118.311 1073.09 Q115.256 1068.49 115.256 1059.76 Q115.256 1051.01 118.311 1046.43 Q121.39 1041.82 127.2 1041.82 Z\" fill=\"#000000\" fill-rule=\"nonzero\" fill-opacity=\"1\" /><path clip-path=\"url(#clip860)\" d=\"M147.362 1071.13 L152.246 1071.13 L152.246 1077.01 L147.362 1077.01 L147.362 1071.13 Z\" fill=\"#000000\" fill-rule=\"nonzero\" fill-opacity=\"1\" /><path clip-path=\"url(#clip860)\" d=\"M166.459 1073.07 L182.778 1073.07 L182.778 1077.01 L160.834 1077.01 L160.834 1073.07 Q163.496 1070.32 168.079 1065.69 Q172.686 1061.03 173.866 1059.69 Q176.112 1057.17 176.991 1055.43 Q177.894 1053.67 177.894 1051.98 Q177.894 1049.23 175.95 1047.49 Q174.028 1045.76 170.927 1045.76 Q168.727 1045.76 166.274 1046.52 Q163.843 1047.28 161.065 1048.83 L161.065 1044.11 Q163.89 1042.98 166.343 1042.4 Q168.797 1041.82 170.834 1041.82 Q176.204 1041.82 179.399 1044.51 Q182.593 1047.19 182.593 1051.68 Q182.593 1053.81 181.783 1055.73 Q180.996 1057.63 178.889 1060.22 Q178.311 1060.89 175.209 1064.11 Q172.107 1067.31 166.459 1073.07 Z\" fill=\"#000000\" fill-rule=\"nonzero\" fill-opacity=\"1\" /><path clip-path=\"url(#clip860)\" d=\"M192.639 1042.45 L210.996 1042.45 L210.996 1046.38 L196.922 1046.38 L196.922 1054.85 Q197.94 1054.51 198.959 1054.34 Q199.977 1054.16 200.996 1054.16 Q206.783 1054.16 210.162 1057.33 Q213.542 1060.5 213.542 1065.92 Q213.542 1071.5 210.07 1074.6 Q206.598 1077.68 200.278 1077.68 Q198.102 1077.68 195.834 1077.31 Q193.588 1076.94 191.181 1076.19 L191.181 1071.5 Q193.264 1072.63 195.487 1073.19 Q197.709 1073.74 200.186 1073.74 Q204.19 1073.74 206.528 1071.63 Q208.866 1069.53 208.866 1065.92 Q208.866 1062.31 206.528 1060.2 Q204.19 1058.09 200.186 1058.09 Q198.311 1058.09 196.436 1058.51 Q194.584 1058.93 192.639 1059.81 L192.639 1042.45 Z\" fill=\"#000000\" fill-rule=\"nonzero\" fill-opacity=\"1\" /><path clip-path=\"url(#clip860)\" d=\"M126.205 721.011 Q122.593 721.011 120.765 724.575 Q118.959 728.117 118.959 735.247 Q118.959 742.353 120.765 745.918 Q122.593 749.46 126.205 749.46 Q129.839 749.46 131.644 745.918 Q133.473 742.353 133.473 735.247 Q133.473 728.117 131.644 724.575 Q129.839 721.011 126.205 721.011 M126.205 717.307 Q132.015 717.307 135.07 721.913 Q138.149 726.497 138.149 735.247 Q138.149 743.973 135.07 748.58 Q132.015 753.163 126.205 753.163 Q120.394 753.163 117.316 748.58 Q114.26 743.973 114.26 735.247 Q114.26 726.497 117.316 721.913 Q120.394 717.307 126.205 717.307 Z\" fill=\"#000000\" fill-rule=\"nonzero\" fill-opacity=\"1\" /><path clip-path=\"url(#clip860)\" d=\"M146.366 746.612 L151.251 746.612 L151.251 752.492 L146.366 752.492 L146.366 746.612 Z\" fill=\"#000000\" fill-rule=\"nonzero\" fill-opacity=\"1\" /><path clip-path=\"url(#clip860)\" d=\"M161.482 717.932 L179.839 717.932 L179.839 721.867 L165.765 721.867 L165.765 730.339 Q166.783 729.992 167.802 729.83 Q168.82 729.645 169.839 729.645 Q175.626 729.645 179.005 732.816 Q182.385 735.987 182.385 741.404 Q182.385 746.983 178.913 750.085 Q175.44 753.163 169.121 753.163 Q166.945 753.163 164.677 752.793 Q162.431 752.423 160.024 751.682 L160.024 746.983 Q162.107 748.117 164.329 748.673 Q166.552 749.228 169.028 749.228 Q173.033 749.228 175.371 747.122 Q177.709 745.015 177.709 741.404 Q177.709 737.793 175.371 735.687 Q173.033 733.58 169.028 733.58 Q167.153 733.58 165.278 733.997 Q163.427 734.413 161.482 735.293 L161.482 717.932 Z\" fill=\"#000000\" fill-rule=\"nonzero\" fill-opacity=\"1\" /><path clip-path=\"url(#clip860)\" d=\"M201.598 721.011 Q197.987 721.011 196.158 724.575 Q194.352 728.117 194.352 735.247 Q194.352 742.353 196.158 745.918 Q197.987 749.46 201.598 749.46 Q205.232 749.46 207.037 745.918 Q208.866 742.353 208.866 735.247 Q208.866 728.117 207.037 724.575 Q205.232 721.011 201.598 721.011 M201.598 717.307 Q207.408 717.307 210.463 721.913 Q213.542 726.497 213.542 735.247 Q213.542 743.973 210.463 748.58 Q207.408 753.163 201.598 753.163 Q195.787 753.163 192.709 748.58 Q189.653 743.973 189.653 735.247 Q189.653 726.497 192.709 721.913 Q195.787 717.307 201.598 717.307 Z\" fill=\"#000000\" fill-rule=\"nonzero\" fill-opacity=\"1\" /><path clip-path=\"url(#clip860)\" d=\"M127.2 396.498 Q123.589 396.498 121.76 400.062 Q119.955 403.604 119.955 410.734 Q119.955 417.84 121.76 421.405 Q123.589 424.946 127.2 424.946 Q130.834 424.946 132.64 421.405 Q134.468 417.84 134.468 410.734 Q134.468 403.604 132.64 400.062 Q130.834 396.498 127.2 396.498 M127.2 392.794 Q133.01 392.794 136.066 397.4 Q139.144 401.984 139.144 410.734 Q139.144 419.46 136.066 424.067 Q133.01 428.65 127.2 428.65 Q121.39 428.65 118.311 424.067 Q115.256 419.46 115.256 410.734 Q115.256 401.984 118.311 397.4 Q121.39 392.794 127.2 392.794 Z\" fill=\"#000000\" fill-rule=\"nonzero\" fill-opacity=\"1\" /><path clip-path=\"url(#clip860)\" d=\"M147.362 422.099 L152.246 422.099 L152.246 427.979 L147.362 427.979 L147.362 422.099 Z\" fill=\"#000000\" fill-rule=\"nonzero\" fill-opacity=\"1\" /><path clip-path=\"url(#clip860)\" d=\"M161.251 393.419 L183.473 393.419 L183.473 395.41 L170.927 427.979 L166.042 427.979 L177.848 397.354 L161.251 397.354 L161.251 393.419 Z\" fill=\"#000000\" fill-rule=\"nonzero\" fill-opacity=\"1\" /><path clip-path=\"url(#clip860)\" d=\"M192.639 393.419 L210.996 393.419 L210.996 397.354 L196.922 397.354 L196.922 405.826 Q197.94 405.479 198.959 405.317 Q199.977 405.132 200.996 405.132 Q206.783 405.132 210.162 408.303 Q213.542 411.474 213.542 416.891 Q213.542 422.47 210.07 425.571 Q206.598 428.65 200.278 428.65 Q198.102 428.65 195.834 428.28 Q193.588 427.909 191.181 427.169 L191.181 422.47 Q193.264 423.604 195.487 424.159 Q197.709 424.715 200.186 424.715 Q204.19 424.715 206.528 422.608 Q208.866 420.502 208.866 416.891 Q208.866 413.28 206.528 411.173 Q204.19 409.067 200.186 409.067 Q198.311 409.067 196.436 409.484 Q194.584 409.9 192.639 410.78 L192.639 393.419 Z\" fill=\"#000000\" fill-rule=\"nonzero\" fill-opacity=\"1\" /><path clip-path=\"url(#clip860)\" d=\"M117.015 99.5305 L124.654 99.5305 L124.654 73.1649 L116.343 74.8316 L116.343 70.5723 L124.607 68.9057 L129.283 68.9057 L129.283 99.5305 L136.922 99.5305 L136.922 103.466 L117.015 103.466 L117.015 99.5305 Z\" fill=\"#000000\" fill-rule=\"nonzero\" fill-opacity=\"1\" /><path clip-path=\"url(#clip860)\" d=\"M146.366 97.5861 L151.251 97.5861 L151.251 103.466 L146.366 103.466 L146.366 97.5861 Z\" fill=\"#000000\" fill-rule=\"nonzero\" fill-opacity=\"1\" /><path clip-path=\"url(#clip860)\" d=\"M171.436 71.9844 Q167.825 71.9844 165.996 75.5492 Q164.19 79.0908 164.19 86.2204 Q164.19 93.3268 165.996 96.8916 Q167.825 100.433 171.436 100.433 Q175.07 100.433 176.876 96.8916 Q178.704 93.3268 178.704 86.2204 Q178.704 79.0908 176.876 75.5492 Q175.07 71.9844 171.436 71.9844 M171.436 68.2807 Q177.246 68.2807 180.301 72.8871 Q183.38 77.4704 183.38 86.2204 Q183.38 94.9472 180.301 99.5537 Q177.246 104.137 171.436 104.137 Q165.626 104.137 162.547 99.5537 Q159.491 94.9472 159.491 86.2204 Q159.491 77.4704 162.547 72.8871 Q165.626 68.2807 171.436 68.2807 Z\" fill=\"#000000\" fill-rule=\"nonzero\" fill-opacity=\"1\" /><path clip-path=\"url(#clip860)\" d=\"M201.598 71.9844 Q197.987 71.9844 196.158 75.5492 Q194.352 79.0908 194.352 86.2204 Q194.352 93.3268 196.158 96.8916 Q197.987 100.433 201.598 100.433 Q205.232 100.433 207.037 96.8916 Q208.866 93.3268 208.866 86.2204 Q208.866 79.0908 207.037 75.5492 Q205.232 71.9844 201.598 71.9844 M201.598 68.2807 Q207.408 68.2807 210.463 72.8871 Q213.542 77.4704 213.542 86.2204 Q213.542 94.9472 210.463 99.5537 Q207.408 104.137 201.598 104.137 Q195.787 104.137 192.709 99.5537 Q189.653 94.9472 189.653 86.2204 Q189.653 77.4704 192.709 72.8871 Q195.787 68.2807 201.598 68.2807 Z\" fill=\"#000000\" fill-rule=\"nonzero\" fill-opacity=\"1\" /><path clip-path=\"url(#clip860)\" d=\"M16.4842 801.909 L16.4842 795.479 L58.5933 795.479 L58.5933 772.34 L64.0042 772.34 L64.0042 801.909 L16.4842 801.909 Z\" fill=\"#000000\" fill-rule=\"nonzero\" fill-opacity=\"1\" /><path clip-path=\"url(#clip860)\" d=\"M32.4621 753.179 Q32.4621 757.89 36.1542 760.627 Q39.8145 763.364 46.212 763.364 Q52.6095 763.364 56.3017 760.659 Q59.9619 757.922 59.9619 753.179 Q59.9619 748.5 56.2698 745.763 Q52.5777 743.026 46.212 743.026 Q39.8781 743.026 36.186 745.763 Q32.4621 748.5 32.4621 753.179 M27.4968 753.179 Q27.4968 745.54 32.4621 741.18 Q37.4273 736.819 46.212 736.819 Q54.9649 736.819 59.9619 741.18 Q64.9272 745.54 64.9272 753.179 Q64.9272 760.85 59.9619 765.21 Q54.9649 769.539 46.212 769.539 Q37.4273 769.539 32.4621 765.21 Q27.4968 760.85 27.4968 753.179 Z\" fill=\"#000000\" fill-rule=\"nonzero\" fill-opacity=\"1\" /><path clip-path=\"url(#clip860)\" d=\"M29.4065 704.386 L34.9447 704.386 Q33.6716 706.869 33.035 709.542 Q32.3984 712.216 32.3984 715.08 Q32.3984 719.441 33.7352 721.637 Q35.072 723.801 37.7456 723.801 Q39.7826 723.801 40.9603 722.242 Q42.1061 720.682 43.1565 715.972 L43.6021 713.966 Q44.9389 707.728 47.3897 705.118 Q49.8086 702.476 54.1691 702.476 Q59.1344 702.476 62.0308 706.423 Q64.9272 710.338 64.9272 717.213 Q64.9272 720.078 64.3543 723.197 Q63.8132 726.284 62.6992 729.722 L56.6518 729.722 Q58.3387 726.475 59.198 723.324 Q60.0256 720.173 60.0256 717.086 Q60.0256 712.948 58.6251 710.72 Q57.1929 708.492 54.6147 708.492 Q52.2276 708.492 50.9545 710.115 Q49.6813 711.707 48.5037 717.149 L48.0262 719.186 Q46.8804 724.629 44.5251 727.048 Q42.138 729.467 38.0002 729.467 Q32.9713 729.467 30.2341 725.902 Q27.4968 722.337 27.4968 715.781 Q27.4968 712.534 27.9743 709.67 Q28.4517 706.805 29.4065 704.386 Z\" fill=\"#000000\" fill-rule=\"nonzero\" fill-opacity=\"1\" /><path clip-path=\"url(#clip860)\" d=\"M29.4065 670.425 L34.9447 670.425 Q33.6716 672.908 33.035 675.581 Q32.3984 678.255 32.3984 681.119 Q32.3984 685.48 33.7352 687.676 Q35.072 689.84 37.7456 689.84 Q39.7826 689.84 40.9603 688.281 Q42.1061 686.721 43.1565 682.011 L43.6021 680.005 Q44.9389 673.767 47.3897 671.157 Q49.8086 668.515 54.1691 668.515 Q59.1344 668.515 62.0308 672.462 Q64.9272 676.377 64.9272 683.252 Q64.9272 686.116 64.3543 689.236 Q63.8132 692.323 62.6992 695.761 L56.6518 695.761 Q58.3387 692.514 59.198 689.363 Q60.0256 686.212 60.0256 683.125 Q60.0256 678.987 58.6251 676.759 Q57.1929 674.531 54.6147 674.531 Q52.2276 674.531 50.9545 676.154 Q49.6813 677.746 48.5037 683.188 L48.0262 685.225 Q46.8804 690.668 44.5251 693.087 Q42.138 695.506 38.0002 695.506 Q32.9713 695.506 30.2341 691.941 Q27.4968 688.376 27.4968 681.82 Q27.4968 678.573 27.9743 675.709 Q28.4517 672.844 29.4065 670.425 Z\" fill=\"#000000\" fill-rule=\"nonzero\" fill-opacity=\"1\" /></svg>\n"
      ]
     },
     "execution_count": 23,
     "metadata": {},
     "output_type": "execute_result"
    }
   ],
   "source": [
    "plot(loss_train, legend=nothing, framestyle=:box, linewidth=2)\n",
    "ylabel!(\"Loss\")\n",
    "xlabel!(\"Epoch\")"
   ]
  },
  {
   "cell_type": "code",
   "execution_count": 24,
   "id": "209bb1c6",
   "metadata": {},
   "outputs": [
    {
     "ename": "LoadError",
     "evalue": "UndefVarError: `epsilon_true` not defined",
     "output_type": "error",
     "traceback": [
      "UndefVarError: `epsilon_true` not defined",
      "",
      "Stacktrace:",
      " [1] top-level scope",
      "   @ In[24]:1"
     ]
    }
   ],
   "source": [
    "println(\"Ground-truth epsilon: \", epsilon_true)\n",
    "println(\"Estimate epsilon:     \", m.P[1])\n",
    "\n",
    "println(\"Ground-truth sigma: \", sigma_true)\n",
    "println(\"Estimate sigma:     \", m.P[2])"
   ]
  },
  {
   "cell_type": "code",
   "execution_count": 25,
   "id": "e3c43a8c-b8c6-4ede-91ad-30de48725164",
   "metadata": {},
   "outputs": [
    {
     "ename": "LoadError",
     "evalue": "UndefVarError: `a` not defined",
     "output_type": "error",
     "traceback": [
      "UndefVarError: `a` not defined",
      "",
      "Stacktrace:",
      " [1] top-level scope",
      "   @ In[25]:1"
     ]
    }
   ],
   "source": [
    "1/(sum(sum(a)))"
   ]
  },
  {
   "cell_type": "code",
   "execution_count": null,
   "id": "e351fd4e-e189-4ba4-ad97-66d908b6dbbe",
   "metadata": {},
   "outputs": [],
   "source": []
  },
  {
   "cell_type": "code",
   "execution_count": null,
   "id": "c52b0cda-c2f7-444e-bc90-3dd4c757170a",
   "metadata": {},
   "outputs": [],
   "source": []
  }
 ],
 "metadata": {
  "kernelspec": {
   "display_name": "Julia 1.9.2",
   "language": "julia",
   "name": "julia-1.9"
  },
  "language_info": {
   "file_extension": ".jl",
   "mimetype": "application/julia",
   "name": "julia",
   "version": "1.9.2"
  }
 },
 "nbformat": 4,
 "nbformat_minor": 5
}
