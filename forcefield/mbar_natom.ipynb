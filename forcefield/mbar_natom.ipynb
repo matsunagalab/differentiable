{
 "cells": [
  {
   "cell_type": "markdown",
   "id": "52e9acc6",
   "metadata": {},
   "source": [
    "### 座標とポテンシャルエネルギーを訓練データとして、エネルギー関数のパラメータ($\\epsilon$と$\\sigma$)を学習する"
   ]
  },
  {
   "cell_type": "markdown",
   "id": "49a459f6",
   "metadata": {},
   "source": [
    "### 必要なパッケージを読み込む"
   ]
  },
  {
   "cell_type": "code",
   "execution_count": 1,
   "id": "0403461b-dea0-4b9e-9559-6e74fcccbe63",
   "metadata": {
    "tags": []
   },
   "outputs": [],
   "source": [
    "using Flux, Plots\n",
    "using ChainRulesCore\n",
    "using Statistics\n",
    "using Random\n",
    "#using Distributions\n",
    "using MDToolbox"
   ]
  },
  {
   "cell_type": "markdown",
   "id": "1f79f36a",
   "metadata": {},
   "source": [
    "### ポテンシャルエネルギー関数の定義"
   ]
  },
  {
   "cell_type": "code",
   "execution_count": 2,
   "id": "08e558bf-297d-453e-ac00-54451d820cf4",
   "metadata": {
    "tags": []
   },
   "outputs": [
    {
     "data": {
      "text/plain": [
       "sum_compute_energy (generic function with 1 method)"
      ]
     },
     "execution_count": 2,
     "metadata": {},
     "output_type": "execute_result"
    }
   ],
   "source": [
    "#2原子の距離を用いポテンシャルを計算\n",
    "function compute_energy(coords1, coords2, epsilon, sigma)\n",
    "    r = sqrt(sum((coords1 .- coords2).^2))\n",
    "    U = epsilon * ((sigma/r)^12 - 2 * (sigma/r)^6)\n",
    "    return U\n",
    "end\n",
    "\n",
    "#nステップ目のポテンシャルを計算\n",
    "function sum_compute_energy(coords, epsilon, sigma)\n",
    "    U = 0\n",
    "    for i in 1:size(coords, 1)\n",
    "        for j in (i+1):size(coords, 1)\n",
    "            U += compute_energy(coords[i], coords[j], epsilon, sigma)\n",
    "        end\n",
    "    end\n",
    "    return U\n",
    "end"
   ]
  },
  {
   "cell_type": "code",
   "execution_count": 3,
   "id": "888ab664",
   "metadata": {},
   "outputs": [],
   "source": [
    "function ChainRulesCore.rrule(::typeof(compute_energy), coords1, coords2, epsilon, sigma)\n",
    "    dx = coords1 .- coords2\n",
    "    r = sqrt(sum(dx.^2))\n",
    "    U = epsilon * ((sigma / r)^12 - 2 * (sigma / r)^6) \n",
    "\n",
    "    function compute_energy_pullback(dU)\n",
    "        dcoords1 = -12 * epsilon * ((sigma^12 / r^14) - (sigma^6 / r^8)) .* dx .* dU\n",
    "        dcoords2 = - dcoords1\n",
    "        depsilon = ((sigma / r)^12 - 2 * (sigma / r)^6) * dU\n",
    "        dsigma = 12 * epsilon * (sigma^11 / r^12 - sigma^5 / r^6) * dU \n",
    "        return NoTangent(), dcoords1, dcoords2, depsilon, dsigma\n",
    "    end\n",
    "    return U, compute_energy_pullback\n",
    "end"
   ]
  },
  {
   "cell_type": "code",
   "execution_count": 5,
   "id": "50c5e568-185d-43ab-9443-ab8490dba601",
   "metadata": {},
   "outputs": [
    {
     "data": {
      "text/plain": [
       "compute_free_energy (generic function with 1 method)"
      ]
     },
     "execution_count": 5,
     "metadata": {},
     "output_type": "execute_result"
    }
   ],
   "source": [
    "#n原子の軌跡からFを計算\n",
    "#coords_trj = data_k[i]\n",
    "function compute_free_energy(coords_trj, beta, epsilon, sigma)\n",
    "    N = size(coords_trj, 1) #ステップ数\n",
    "    U_array = [sum_compute_energy(coords_trj[i], epsilon, sigma) for i in 1:N] #Nステップのポテンシャルの値を入れた配列\n",
    "    F = (-1 / beta) * (log(1 / N) + MDToolbox.logsumexp_1d(-beta .* U_array)) #U_arrayを積分してFを計算\n",
    "    return F\n",
    "end"
   ]
  },
  {
   "cell_type": "markdown",
   "id": "e3803dc7",
   "metadata": {},
   "source": [
    "### ポテンシャルエネルギー関数を持つFluxのカスタムレイヤの定義"
   ]
  },
  {
   "cell_type": "markdown",
   "id": "64ec8d9d-aeb0-4b82-ad12-89fe1c349759",
   "metadata": {},
   "source": [
    "### MCMCの定義"
   ]
  },
  {
   "cell_type": "code",
   "execution_count": 6,
   "id": "6e571359-5ee0-4916-b2ac-89d1e51a41f4",
   "metadata": {},
   "outputs": [
    {
     "data": {
      "text/plain": [
       "next_coords (generic function with 2 methods)"
      ]
     },
     "execution_count": 6,
     "metadata": {},
     "output_type": "execute_result"
    }
   ],
   "source": [
    "#次のステップ候補点\n",
    "function next_coords(coords, delta_x=1e-2)\n",
    "    next_coords = map(x -> x .+ (rand(3) .- 0.5) .* delta_x, coords)\n",
    "    return next_coords\n",
    "end"
   ]
  },
  {
   "cell_type": "code",
   "execution_count": 7,
   "id": "6e9b2792-d193-4d38-98fb-972025d925d3",
   "metadata": {},
   "outputs": [
    {
     "data": {
      "text/plain": [
       "mcmc (generic function with 4 methods)"
      ]
     },
     "execution_count": 7,
     "metadata": {},
     "output_type": "execute_result"
    }
   ],
   "source": [
    "#MCMC,メトロポリス法\n",
    "function mcmc(coords, epsilon, sigma, nstep=100, beta=1.0, delta_x=1e-2)\n",
    "    coords_trj = []\n",
    "    alpha_trj = []\n",
    "    push!(coords_trj, copy.(coords))\n",
    "    \n",
    "    for i in 1:nstep\n",
    "        next_coords_tmp = next_coords(coords, delta_x) #候補点\n",
    "        delta_U = sum_compute_energy(next_coords_tmp, epsilon, sigma) - sum_compute_energy(coords, epsilon, sigma)\n",
    "        alpha = exp(-beta * delta_U) #相対確率\n",
    "        \n",
    "        #alpha>=1またはalpha<1のとき確率alphaで候補を受理\n",
    "        if alpha > rand()\n",
    "            coords = next_coords_tmp\n",
    "        end     \n",
    "        push!(coords_trj, copy.(coords))\n",
    "        push!(alpha_trj, alpha)\n",
    "    end\n",
    "    return coords_trj, alpha_trj\n",
    "end"
   ]
  },
  {
   "cell_type": "markdown",
   "id": "b7f074c5",
   "metadata": {},
   "source": [
    "### 訓練データの作成"
   ]
  },
  {
   "cell_type": "code",
   "execution_count": 8,
   "id": "2011ba2e",
   "metadata": {},
   "outputs": [],
   "source": [
    "#パラメータ\n",
    "param_set = [(1.3, 2.3),(1.0, 2.0)] #params_set[i] = (epsilon[i], sigma[i])\n",
    "\n",
    "data_k = []\n",
    "alpha_trj = []\n",
    "K = size(param_set, 1) #最後のパラメータの値を推定する\n",
    "natom = 3\n",
    "kBT = 0.1\n",
    "beta = 1.0/(kBT)\n",
    "nstep = 100000\n",
    "delta_x = 1e-2\n",
    "\n",
    "for i in 1:size(param_set, 1)\n",
    "    use_param = i #使うパラメータ\n",
    "    epsilon = param_set[use_param][1]\n",
    "    sigma = param_set[use_param][2]\n",
    "\n",
    "    coords = [[[sigma * x + rand(), rand(), rand()] for x in 1:natom]...]  #初期座標\n",
    "\n",
    "    #nstepのMCMC\n",
    "    coords_trj, alpha = mcmc(coords, epsilon, sigma, nstep, beta, delta_x)\n",
    "    push!(data_k, coords_trj)\n",
    "    push!(alpha_trj, alpha)\n",
    "end"
   ]
  },
  {
   "cell_type": "markdown",
   "id": "98e0c6ce-21a9-4ed6-8084-db529326b6da",
   "metadata": {},
   "source": [
    "### MBAR"
   ]
  },
  {
   "cell_type": "code",
   "execution_count": 9,
   "id": "b92071a4-2637-4bef-bcbf-47676e79676d",
   "metadata": {},
   "outputs": [],
   "source": [
    "u_kl = Array{Any}(undef, (K, K))\n",
    "nstep = size(data_k[1], 1)\n",
    "\n",
    "for k in 1:K\n",
    "    for l in 1:K #F_targetもMBARで推定する\n",
    "        #k番目のtrjデータをl番目のパラメータを用いポテンシャルを計算\n",
    "        #xは何ステップ目を表す変数\n",
    "        u_kl[k, l] = [beta .* sum_compute_energy(data_k[k][x], param_set[l][1], param_set[l][2]) for x in 1:nstep]\n",
    "    end\n",
    "end      "
   ]
  },
  {
   "cell_type": "code",
   "execution_count": 10,
   "id": "7fae731f-5a96-4992-8d1e-feace7466e96",
   "metadata": {},
   "outputs": [
    {
     "name": "stdout",
     "output_type": "stream",
     "text": [
      "iteration = 1  delta = 1.414214e+00  tol = 1.000000e-08\n",
      "free energies =  0.000000 0.171568\n",
      "\n",
      "iteration = 2  delta = 6.994483e-01  tol = 1.000000e-08\n",
      "free energies =  0.000000 0.339459\n",
      "\n",
      "iteration = 3  delta = 4.612397e-01  tol = 1.000000e-08\n",
      "free energies =  0.000000 0.503757\n",
      "\n",
      "iteration = 4  delta = 3.421708e-01  tol = 1.000000e-08\n",
      "free energies =  0.000000 0.664544\n",
      "\n",
      "iteration = 5  delta = 2.707581e-01  tol = 1.000000e-08\n",
      "free energies =  0.000000 0.821901\n",
      "\n",
      "iteration = 6  delta = 2.231736e-01  tol = 1.000000e-08\n",
      "free energies =  0.000000 0.975906\n",
      "\n",
      "iteration = 7  delta = 1.892052e-01  tol = 1.000000e-08\n",
      "free energies =  0.000000 1.126637\n",
      "\n",
      "iteration = 8  delta = 1.637469e-01  tol = 1.000000e-08\n",
      "free energies =  0.000000 1.274168\n",
      "\n",
      "iteration = 9  delta = 1.439620e-01  tol = 1.000000e-08\n",
      "free energies =  0.000000 1.418574\n",
      "\n",
      "iteration = 10  delta = 1.281483e-01  tol = 1.000000e-08\n",
      "free energies =  0.000000 1.559926\n",
      "\n",
      "iteration =11  delta = 4.196769e-01  tol = 1.000000e-08\n",
      "free energies =  0.000000 2.218187\n",
      "\n",
      "iteration =12  delta = 1.031794e+00  tol = 1.000000e-08\n",
      "free energies =  0.000000 8.203013\n",
      "\n",
      "iteration =13  delta = 8.614870e-02  tol = 1.000000e-08\n",
      "free energies =  0.000000 7.732008\n",
      "\n",
      "iteration =14  delta = 1.134700e-02  tol = 1.000000e-08\n",
      "free energies =  0.000000 7.670464\n",
      "\n",
      "iteration =15  delta = 1.609377e-04  tol = 1.000000e-08\n",
      "free energies =  0.000000 7.669591\n",
      "\n",
      "iteration =16  delta = 3.149451e-08  tol = 1.000000e-08\n",
      "free energies =  0.000000 7.669591\n",
      "\n",
      "iteration =17  delta = 1.130036e-14  tol = 1.000000e-08\n",
      "free energies =  0.000000 7.669591\n",
      "\n"
     ]
    },
    {
     "data": {
      "text/plain": [
       "2-element Vector{Float64}:\n",
       " 0.0\n",
       " 7.669590536461218"
      ]
     },
     "execution_count": 10,
     "metadata": {},
     "output_type": "execute_result"
    }
   ],
   "source": [
    "# solve MBAR equations\n",
    "f_k = mbar(u_kl)"
   ]
  },
  {
   "cell_type": "code",
   "execution_count": 11,
   "id": "37cdbe7c-fce7-46f5-870f-5bcfe6ca534c",
   "metadata": {},
   "outputs": [
    {
     "name": "stdout",
     "output_type": "stream",
     "text": [
      "F .- F[1] = [0.0, 0.9499099166653497]\n"
     ]
    },
    {
     "data": {
      "text/plain": [
       "2-element Vector{Float64}:\n",
       " 0.0\n",
       " 0.9499099166653497"
      ]
     },
     "execution_count": 11,
     "metadata": {},
     "output_type": "execute_result"
    }
   ],
   "source": [
    "# Sanity check\n",
    "F = [compute_free_energy(data_k[i], beta, param_set[i][1], param_set[i][2]) for i in 1:K] \n",
    "@show F .- F[1]"
   ]
  },
  {
   "cell_type": "code",
   "execution_count": 12,
   "id": "0ea4f1ec-8e4d-4e41-bb11-31520d3930a7",
   "metadata": {},
   "outputs": [
    {
     "name": "stdout",
     "output_type": "stream",
     "text": [
      "F_target = compute_free_energy(trj_target, beta, epsilon_target, sigma_target) = -2.9345134317353008\n",
      "delta_F = F_target - F[1] = 0.652679618606852\n"
     ]
    },
    {
     "data": {
      "text/plain": [
       "0.652679618606852"
      ]
     },
     "execution_count": 12,
     "metadata": {},
     "output_type": "execute_result"
    }
   ],
   "source": [
    "epsilon_target = 1.5\n",
    "sigma_target = 2.5\n",
    "\n",
    "coords_target = [[[x * sigma_target + rand(), rand(), rand()] for x in 1:natom]...]\n",
    "trj_target, alpha = mcmc(coords_target, epsilon_target, sigma_target, nstep, beta)\n",
    "\n",
    "@show F_target = compute_free_energy(trj_target, beta, epsilon_target, sigma_target)\n",
    "\n",
    "@show delta_F = F_target - F[1]"
   ]
  },
  {
   "cell_type": "code",
   "execution_count": 13,
   "id": "d4ba8701-f499-4c12-8ba7-b29c50206022",
   "metadata": {},
   "outputs": [
    {
     "name": "stdout",
     "output_type": "stream",
     "text": [
      "f_target = -6.94350113687774\n"
     ]
    },
    {
     "data": {
      "text/plain": [
       "-0.694350113687774"
      ]
     },
     "execution_count": 13,
     "metadata": {},
     "output_type": "execute_result"
    }
   ],
   "source": [
    "# Sanity check\n",
    "u_k = Vector{Any}(undef, K)\n",
    "\n",
    "for k in 1:K    \n",
    "    u_k[k] = [beta .* sum_compute_energy(data_k[k][x], epsilon_target, sigma_target) for x in 1:nstep]\n",
    "end\n",
    "\n",
    "f_target = mbar_f(u_kl, f_k, u_k)\n",
    "@show f_target\n",
    "(1 ./ beta) * (f_target - f_k[1])"
   ]
  },
  {
   "cell_type": "code",
   "execution_count": 14,
   "id": "7477e37b-d335-4f2f-b4f0-fcebf3fab7a8",
   "metadata": {},
   "outputs": [
    {
     "data": {
      "text/plain": [
       "0.652679618606852"
      ]
     },
     "execution_count": 14,
     "metadata": {},
     "output_type": "execute_result"
    }
   ],
   "source": [
    "#パラメータ推定に用いる原子の軌跡と自由エネルギーの差\n",
    "X_train = []\n",
    "for k = 1:K\n",
    "    push!(X_train, (data_k[k]))\n",
    "end\n",
    "y_train = delta_F"
   ]
  },
  {
   "cell_type": "markdown",
   "id": "b0b1e371",
   "metadata": {},
   "source": [
    "### 勾配法で訓練してK(バネ定数)とR(平衡長)を推定"
   ]
  },
  {
   "cell_type": "code",
   "execution_count": 15,
   "id": "59e4098e",
   "metadata": {},
   "outputs": [
    {
     "data": {
      "text/plain": [
       "compute_deltaF (generic function with 1 method)"
      ]
     },
     "execution_count": 15,
     "metadata": {},
     "output_type": "execute_result"
    }
   ],
   "source": [
    "function compute_deltaF(X, f_k, u_kl, beta, epsilon, sigma)\n",
    "    #K = length(f_k)\n",
    "    #u_k = Vector{Vector{Float64}}(undef, 0)\n",
    "    #for k = 1:K\n",
    "        #for istep = 1:nstep\n",
    "        #    u_k[k][istep] = beta * compute_energy(X[1][k][istep], X[2][k][istep], m.P[1], m.P[2])\n",
    "        #end\n",
    "        #push!(u_k, map(x -> beta * compute_energy(x[1], x[2], epsilon, sigma), zip(X[1][k], X[2][k])))\n",
    "    #end\n",
    "    u_k = map(X_k -> map(x -> beta * sum_compute_energy(x, epsilon, sigma), X_k), X)\n",
    "    f_target = mbar_f(u_kl, f_k, u_k)\n",
    "    delta_F = (1 ./ beta) * (f_target - f_k[1])\n",
    "    return delta_F\n",
    "end"
   ]
  },
  {
   "cell_type": "code",
   "execution_count": 16,
   "id": "07e32697-e1b3-4f6a-bcc8-b6c766771c2d",
   "metadata": {},
   "outputs": [
    {
     "data": {
      "text/plain": [
       "-0.694350113687774"
      ]
     },
     "execution_count": 16,
     "metadata": {},
     "output_type": "execute_result"
    }
   ],
   "source": [
    "compute_deltaF(X_train, f_k, u_kl, beta, epsilon_target, sigma_target)"
   ]
  },
  {
   "cell_type": "code",
   "execution_count": 17,
   "id": "a726cdc0-3cea-49f5-b5da-dc79551d1f7f",
   "metadata": {},
   "outputs": [],
   "source": [
    "struct MBAR\n",
    "    P::AbstractArray #P[1] = epsilon, P[2] = sigma\n",
    "end\n",
    "\n",
    "Flux.@functor MBAR (P,)\n",
    "\n",
    "(m::MBAR)(X) = compute_deltaF(X, f_k, u_kl, beta, m.P[1], m.P[2])\n"
   ]
  },
  {
   "cell_type": "code",
   "execution_count": 18,
   "id": "38b9d567-d2cb-4880-aa20-2e6c9f21525f",
   "metadata": {},
   "outputs": [
    {
     "data": {
      "text/plain": [
       "1.8144890996857315"
      ]
     },
     "execution_count": 18,
     "metadata": {},
     "output_type": "execute_result"
    }
   ],
   "source": [
    "# Sanity check\n",
    "m = MBAR([epsilon_target, sigma_target])\n",
    "loss(X, y) = Flux.Losses.mse(m(X), y)\n",
    "loss(X_train, y_train)"
   ]
  },
  {
   "cell_type": "code",
   "execution_count": 19,
   "id": "49525e8b-88b8-404e-a5a4-c579883d2811",
   "metadata": {},
   "outputs": [
    {
     "data": {
      "text/plain": [
       "0.013059789272894749"
      ]
     },
     "execution_count": 19,
     "metadata": {},
     "output_type": "execute_result"
    }
   ],
   "source": [
    "m = MBAR([param_set[2][1], param_set[2][2]]) #param_set[i][1] = epsilon[i], param_set[i][2] = sigma[i]\n",
    "loss(X, y) = Flux.Losses.mse(m(X), y)\n",
    "loss(X_train, y_train)"
   ]
  },
  {
   "cell_type": "code",
   "execution_count": 20,
   "id": "bc2f3c77",
   "metadata": {},
   "outputs": [
    {
     "data": {
      "text/plain": [
       "Adam(0.001, (0.9, 0.999), 1.0e-8, IdDict{Any, Any}())"
      ]
     },
     "execution_count": 20,
     "metadata": {},
     "output_type": "execute_result"
    }
   ],
   "source": [
    "# DataやOptimizerの定義\n",
    "#train_loader = Flux.Data.DataLoader((data=X_train, label=y_train), batchsize=10, shuffle=true)\n",
    "ps = Flux.params(m)\n",
    "opt = ADAM(1e-3) "
   ]
  },
  {
   "cell_type": "code",
   "execution_count": 21,
   "id": "c07d6ea0-4a49-4d43-a78a-e17726c31078",
   "metadata": {},
   "outputs": [
    {
     "data": {
      "text/plain": [
       "print_callback (generic function with 1 method)"
      ]
     },
     "execution_count": 21,
     "metadata": {},
     "output_type": "execute_result"
    }
   ],
   "source": [
    "# コールバック関数の定義\n",
    "function print_callback(epoch, loss, ps)\n",
    "    println(\"Epoch: $epoch, loss: $loss\")\n",
    "    println(\"param: $(ps[1])\")\n",
    "end"
   ]
  },
  {
   "cell_type": "code",
   "execution_count": 22,
   "id": "63c99d1e",
   "metadata": {},
   "outputs": [
    {
     "name": "stdout",
     "output_type": "stream",
     "text": [
      "Epoch: 1, loss: 0.012486333399162577\n",
      "param: [1.00099999999999, 2.00099999999996]\n",
      "Epoch: 3, loss: 0.011379627483774222\n",
      "param: [1.0029944301441698, 2.0029946917924666]\n",
      "Epoch: 5, loss: 0.010329605009355185\n",
      "param: [1.0049745681298352, 2.0049758720581523]\n",
      "Epoch: 7, loss: 0.009339300765142344\n",
      "param: [1.0069321949986925, 2.0069359313375656]\n",
      "Epoch: 9, loss: 0.008410934001698551\n",
      "param: [1.0088592832246468, 2.00886750730793]\n",
      "Epoch: 11, loss: 0.007545865231715554\n",
      "param: [1.0107481781979022, 2.0107636112459053]\n",
      "Epoch: 13, loss: 0.006744587704013927\n",
      "param: [1.0125917643457294, 2.012617742958137]\n",
      "Epoch: 15, loss: 0.006006753146930108\n",
      "param: [1.0143836076584396, 2.0144239902314127]\n",
      "Epoch: 17, loss: 0.005331228746020936\n",
      "param: [1.0161180684078892, 2.0161771095269603]\n",
      "Epoch: 19, loss: 0.004716180134018241\n",
      "param: [1.0177903802990012, 2.0178725855623036]\n",
      "Epoch: 21, loss: 0.004159173667295911\n",
      "param: [1.0193966948651159, 2.019506668524205]\n",
      "Epoch: 23, loss: 0.0036572905557403735\n",
      "param: [1.0209340923083807, 2.021076388837696]\n",
      "Epoch: 25, loss: 0.003207245484460389\n",
      "param: [1.022400561965817, 2.0225795505634783]\n",
      "Epoch: 27, loss: 0.002805503091492174\n",
      "param: [1.0237949570104676, 2.0240147054997797]\n",
      "Epoch: 29, loss: 0.0024483868533523643\n",
      "param: [1.0251169288302486, 2.0253811108406463]\n"
     ]
    }
   ],
   "source": [
    "# 訓練\n",
    "loss_train = []\n",
    "\n",
    "for epoch in 1:30\n",
    "    gs = gradient(() -> loss(X_train, y_train), ps)\n",
    "    Flux.Optimise.update!(opt, ps, gs)\n",
    "    \n",
    "    push!(loss_train, loss(X_train, y_train))\n",
    "    if epoch%2 == 1\n",
    "        print_callback(epoch, loss(X_train, y_train), ps)\n",
    "    end\n",
    "end"
   ]
  },
  {
   "cell_type": "code",
   "execution_count": 25,
   "id": "b1b2c87c",
   "metadata": {},
   "outputs": [
    {
     "data": {
      "image/png": "[encoded data removed]",
      "image/svg+xml": [
       "<?xml version=\"1.0\" encoding=\"utf-8\"?>\n",
       "<svg xmlns=\"http://www.w3.org/2000/svg\" xmlns:xlink=\"http://www.w3.org/1999/xlink\" width=\"600\" height=\"400\" viewBox=\"0 0 2400 1600\">\n",
       "<defs>\n",
       "  <clipPath id=\"clip580\">\n",
       "    <rect x=\"0\" y=\"0\" width=\"2400\" height=\"1600\"/>\n",
       "  </clipPath>\n",
       "</defs>\n",
       "<path clip-path=\"url(#clip580)\" d=\"M0 1600 L2400 1600 L2400 0 L0 0  Z\" fill=\"#ffffff\" fill-rule=\"evenodd\" fill-opacity=\"1\"/>\n",
       "<defs>\n",
       "  <clipPath id=\"clip581\">\n",
       "    <rect x=\"480\" y=\"0\" width=\"1681\" height=\"1600\"/>\n",
       "  </clipPath>\n",
       "</defs>\n",
       "<path clip-path=\"url(#clip580)\" d=\"M309.866 1423.18 L2352.76 1423.18 L2352.76 47.2441 L309.866 47.2441  Z\" fill=\"#ffffff\" fill-rule=\"evenodd\" fill-opacity=\"1\"/>\n",
       "<defs>\n",
       "  <clipPath id=\"clip582\">\n",
       "    <rect x=\"309\" y=\"47\" width=\"2044\" height=\"1377\"/>\n",
       "  </clipPath>\n",
       "</defs>\n",
       "<polyline clip-path=\"url(#clip582)\" style=\"stroke:#000000; stroke-linecap:round; stroke-linejoin:round; stroke-width:2; stroke-opacity:0.1; fill:none\" points=\"633.512,1423.18 633.512,47.2441 \"/>\n",
       "<polyline clip-path=\"url(#clip582)\" style=\"stroke:#000000; stroke-linecap:round; stroke-linejoin:round; stroke-width:2; stroke-opacity:0.1; fill:none\" points=\"965.797,1423.18 965.797,47.2441 \"/>\n",
       "<polyline clip-path=\"url(#clip582)\" style=\"stroke:#000000; stroke-linecap:round; stroke-linejoin:round; stroke-width:2; stroke-opacity:0.1; fill:none\" points=\"1298.08,1423.18 1298.08,47.2441 \"/>\n",
       "<polyline clip-path=\"url(#clip582)\" style=\"stroke:#000000; stroke-linecap:round; stroke-linejoin:round; stroke-width:2; stroke-opacity:0.1; fill:none\" points=\"1630.37,1423.18 1630.37,47.2441 \"/>\n",
       "<polyline clip-path=\"url(#clip582)\" style=\"stroke:#000000; stroke-linecap:round; stroke-linejoin:round; stroke-width:2; stroke-opacity:0.1; fill:none\" points=\"1962.65,1423.18 1962.65,47.2441 \"/>\n",
       "<polyline clip-path=\"url(#clip582)\" style=\"stroke:#000000; stroke-linecap:round; stroke-linejoin:round; stroke-width:2; stroke-opacity:0.1; fill:none\" points=\"2294.94,1423.18 2294.94,47.2441 \"/>\n",
       "<polyline clip-path=\"url(#clip580)\" style=\"stroke:#000000; stroke-linecap:round; stroke-linejoin:round; stroke-width:4; stroke-opacity:1; fill:none\" points=\"309.866,1423.18 2352.76,1423.18 \"/>\n",
       "<polyline clip-path=\"url(#clip580)\" style=\"stroke:#000000; stroke-linecap:round; stroke-linejoin:round; stroke-width:4; stroke-opacity:1; fill:none\" points=\"309.866,47.2441 2352.76,47.2441 \"/>\n",
       "<polyline clip-path=\"url(#clip580)\" style=\"stroke:#000000; stroke-linecap:round; stroke-linejoin:round; stroke-width:4; stroke-opacity:1; fill:none\" points=\"633.512,1423.18 633.512,1404.28 \"/>\n",
       "<polyline clip-path=\"url(#clip580)\" style=\"stroke:#000000; stroke-linecap:round; stroke-linejoin:round; stroke-width:4; stroke-opacity:1; fill:none\" points=\"965.797,1423.18 965.797,1404.28 \"/>\n",
       "<polyline clip-path=\"url(#clip580)\" style=\"stroke:#000000; stroke-linecap:round; stroke-linejoin:round; stroke-width:4; stroke-opacity:1; fill:none\" points=\"1298.08,1423.18 1298.08,1404.28 \"/>\n",
       "<polyline clip-path=\"url(#clip580)\" style=\"stroke:#000000; stroke-linecap:round; stroke-linejoin:round; stroke-width:4; stroke-opacity:1; fill:none\" points=\"1630.37,1423.18 1630.37,1404.28 \"/>\n",
       "<polyline clip-path=\"url(#clip580)\" style=\"stroke:#000000; stroke-linecap:round; stroke-linejoin:round; stroke-width:4; stroke-opacity:1; fill:none\" points=\"1962.65,1423.18 1962.65,1404.28 \"/>\n",
       "<polyline clip-path=\"url(#clip580)\" style=\"stroke:#000000; stroke-linecap:round; stroke-linejoin:round; stroke-width:4; stroke-opacity:1; fill:none\" points=\"2294.94,1423.18 2294.94,1404.28 \"/>\n",
       "<path clip-path=\"url(#clip580)\" d=\"M623.79 1451.02 L642.146 1451.02 L642.146 1454.96 L628.072 1454.96 L628.072 1463.43 Q629.09 1463.08 630.109 1462.92 Q631.127 1462.73 632.146 1462.73 Q637.933 1462.73 641.313 1465.9 Q644.692 1469.08 644.692 1474.49 Q644.692 1480.07 641.22 1483.17 Q637.748 1486.25 631.428 1486.25 Q629.252 1486.25 626.984 1485.88 Q624.739 1485.51 622.331 1484.77 L622.331 1480.07 Q624.415 1481.2 626.637 1481.76 Q628.859 1482.32 631.336 1482.32 Q635.34 1482.32 637.678 1480.21 Q640.016 1478.1 640.016 1474.49 Q640.016 1470.88 637.678 1468.77 Q635.34 1466.67 631.336 1466.67 Q629.461 1466.67 627.586 1467.08 Q625.734 1467.5 623.79 1468.38 L623.79 1451.02 Z\" fill=\"#000000\" fill-rule=\"nonzero\" fill-opacity=\"1\" /><path clip-path=\"url(#clip580)\" d=\"M940.485 1481.64 L948.123 1481.64 L948.123 1455.28 L939.813 1456.95 L939.813 1452.69 L948.077 1451.02 L952.753 1451.02 L952.753 1481.64 L960.392 1481.64 L960.392 1485.58 L940.485 1485.58 L940.485 1481.64 Z\" fill=\"#000000\" fill-rule=\"nonzero\" fill-opacity=\"1\" /><path clip-path=\"url(#clip580)\" d=\"M979.836 1454.1 Q976.225 1454.1 974.396 1457.66 Q972.591 1461.2 972.591 1468.33 Q972.591 1475.44 974.396 1479.01 Q976.225 1482.55 979.836 1482.55 Q983.471 1482.55 985.276 1479.01 Q987.105 1475.44 987.105 1468.33 Q987.105 1461.2 985.276 1457.66 Q983.471 1454.1 979.836 1454.1 M979.836 1450.39 Q985.646 1450.39 988.702 1455 Q991.781 1459.58 991.781 1468.33 Q991.781 1477.06 988.702 1481.67 Q985.646 1486.25 979.836 1486.25 Q974.026 1486.25 970.947 1481.67 Q967.892 1477.06 967.892 1468.33 Q967.892 1459.58 970.947 1455 Q974.026 1450.39 979.836 1450.39 Z\" fill=\"#000000\" fill-rule=\"nonzero\" fill-opacity=\"1\" /><path clip-path=\"url(#clip580)\" d=\"M1273.27 1481.64 L1280.91 1481.64 L1280.91 1455.28 L1272.6 1456.95 L1272.6 1452.69 L1280.86 1451.02 L1285.54 1451.02 L1285.54 1481.64 L1293.17 1481.64 L1293.17 1485.58 L1273.27 1485.58 L1273.27 1481.64 Z\" fill=\"#000000\" fill-rule=\"nonzero\" fill-opacity=\"1\" /><path clip-path=\"url(#clip580)\" d=\"M1302.67 1451.02 L1321.02 1451.02 L1321.02 1454.96 L1306.95 1454.96 L1306.95 1463.43 Q1307.97 1463.08 1308.99 1462.92 Q1310 1462.73 1311.02 1462.73 Q1316.81 1462.73 1320.19 1465.9 Q1323.57 1469.08 1323.57 1474.49 Q1323.57 1480.07 1320.1 1483.17 Q1316.62 1486.25 1310.3 1486.25 Q1308.13 1486.25 1305.86 1485.88 Q1303.61 1485.51 1301.21 1484.77 L1301.21 1480.07 Q1303.29 1481.2 1305.51 1481.76 Q1307.74 1482.32 1310.21 1482.32 Q1314.22 1482.32 1316.55 1480.21 Q1318.89 1478.1 1318.89 1474.49 Q1318.89 1470.88 1316.55 1468.77 Q1314.22 1466.67 1310.21 1466.67 Q1308.34 1466.67 1306.46 1467.08 Q1304.61 1467.5 1302.67 1468.38 L1302.67 1451.02 Z\" fill=\"#000000\" fill-rule=\"nonzero\" fill-opacity=\"1\" /><path clip-path=\"url(#clip580)\" d=\"M1609.14 1481.64 L1625.46 1481.64 L1625.46 1485.58 L1603.52 1485.58 L1603.52 1481.64 Q1606.18 1478.89 1610.76 1474.26 Q1615.37 1469.61 1616.55 1468.27 Q1618.79 1465.74 1619.67 1464.01 Q1620.58 1462.25 1620.58 1460.56 Q1620.58 1457.8 1618.63 1456.07 Q1616.71 1454.33 1613.61 1454.33 Q1611.41 1454.33 1608.96 1455.09 Q1606.53 1455.86 1603.75 1457.41 L1603.75 1452.69 Q1606.57 1451.55 1609.03 1450.97 Q1611.48 1450.39 1613.52 1450.39 Q1618.89 1450.39 1622.08 1453.08 Q1625.28 1455.77 1625.28 1460.26 Q1625.28 1462.39 1624.46 1464.31 Q1623.68 1466.2 1621.57 1468.8 Q1620.99 1469.47 1617.89 1472.69 Q1614.79 1475.88 1609.14 1481.64 Z\" fill=\"#000000\" fill-rule=\"nonzero\" fill-opacity=\"1\" /><path clip-path=\"url(#clip580)\" d=\"M1645.27 1454.1 Q1641.66 1454.1 1639.84 1457.66 Q1638.03 1461.2 1638.03 1468.33 Q1638.03 1475.44 1639.84 1479.01 Q1641.66 1482.55 1645.27 1482.55 Q1648.91 1482.55 1650.71 1479.01 Q1652.54 1475.44 1652.54 1468.33 Q1652.54 1461.2 1650.71 1457.66 Q1648.91 1454.1 1645.27 1454.1 M1645.27 1450.39 Q1651.09 1450.39 1654.14 1455 Q1657.22 1459.58 1657.22 1468.33 Q1657.22 1477.06 1654.14 1481.67 Q1651.09 1486.25 1645.27 1486.25 Q1639.46 1486.25 1636.39 1481.67 Q1633.33 1477.06 1633.33 1468.33 Q1633.33 1459.58 1636.39 1455 Q1639.46 1450.39 1645.27 1450.39 Z\" fill=\"#000000\" fill-rule=\"nonzero\" fill-opacity=\"1\" /><path clip-path=\"url(#clip580)\" d=\"M1941.92 1481.64 L1958.24 1481.64 L1958.24 1485.58 L1936.3 1485.58 L1936.3 1481.64 Q1938.96 1478.89 1943.54 1474.26 Q1948.15 1469.61 1949.33 1468.27 Q1951.58 1465.74 1952.46 1464.01 Q1953.36 1462.25 1953.36 1460.56 Q1953.36 1457.8 1951.41 1456.07 Q1949.49 1454.33 1946.39 1454.33 Q1944.19 1454.33 1941.74 1455.09 Q1939.31 1455.86 1936.53 1457.41 L1936.53 1452.69 Q1939.35 1451.55 1941.81 1450.97 Q1944.26 1450.39 1946.3 1450.39 Q1951.67 1450.39 1954.86 1453.08 Q1958.06 1455.77 1958.06 1460.26 Q1958.06 1462.39 1957.25 1464.31 Q1956.46 1466.2 1954.35 1468.8 Q1953.78 1469.47 1950.67 1472.69 Q1947.57 1475.88 1941.92 1481.64 Z\" fill=\"#000000\" fill-rule=\"nonzero\" fill-opacity=\"1\" /><path clip-path=\"url(#clip580)\" d=\"M1968.1 1451.02 L1986.46 1451.02 L1986.46 1454.96 L1972.39 1454.96 L1972.39 1463.43 Q1973.41 1463.08 1974.42 1462.92 Q1975.44 1462.73 1976.46 1462.73 Q1982.25 1462.73 1985.63 1465.9 Q1989.01 1469.08 1989.01 1474.49 Q1989.01 1480.07 1985.53 1483.17 Q1982.06 1486.25 1975.74 1486.25 Q1973.57 1486.25 1971.3 1485.88 Q1969.05 1485.51 1966.65 1484.77 L1966.65 1480.07 Q1968.73 1481.2 1970.95 1481.76 Q1973.17 1482.32 1975.65 1482.32 Q1979.66 1482.32 1981.99 1480.21 Q1984.33 1478.1 1984.33 1474.49 Q1984.33 1470.88 1981.99 1468.77 Q1979.66 1466.67 1975.65 1466.67 Q1973.78 1466.67 1971.9 1467.08 Q1970.05 1467.5 1968.1 1468.38 L1968.1 1451.02 Z\" fill=\"#000000\" fill-rule=\"nonzero\" fill-opacity=\"1\" /><path clip-path=\"url(#clip580)\" d=\"M2283.78 1466.95 Q2287.14 1467.66 2289.01 1469.93 Q2290.91 1472.2 2290.91 1475.53 Q2290.91 1480.65 2287.39 1483.45 Q2283.87 1486.25 2277.39 1486.25 Q2275.22 1486.25 2272.9 1485.81 Q2270.61 1485.39 2268.16 1484.54 L2268.16 1480.02 Q2270.1 1481.16 2272.42 1481.74 Q2274.73 1482.32 2277.25 1482.32 Q2281.65 1482.32 2283.94 1480.58 Q2286.26 1478.84 2286.26 1475.53 Q2286.26 1472.48 2284.1 1470.77 Q2281.98 1469.03 2278.16 1469.03 L2274.13 1469.03 L2274.13 1465.19 L2278.34 1465.19 Q2281.79 1465.19 2283.62 1463.82 Q2285.45 1462.43 2285.45 1459.84 Q2285.45 1457.18 2283.55 1455.77 Q2281.67 1454.33 2278.16 1454.33 Q2276.23 1454.33 2274.04 1454.75 Q2271.84 1455.16 2269.2 1456.04 L2269.2 1451.88 Q2271.86 1451.14 2274.17 1450.77 Q2276.51 1450.39 2278.57 1450.39 Q2283.9 1450.39 2287 1452.83 Q2290.1 1455.23 2290.1 1459.35 Q2290.1 1462.22 2288.46 1464.21 Q2286.81 1466.18 2283.78 1466.95 Z\" fill=\"#000000\" fill-rule=\"nonzero\" fill-opacity=\"1\" /><path clip-path=\"url(#clip580)\" d=\"M2309.78 1454.1 Q2306.17 1454.1 2304.34 1457.66 Q2302.53 1461.2 2302.53 1468.33 Q2302.53 1475.44 2304.34 1479.01 Q2306.17 1482.55 2309.78 1482.55 Q2313.41 1482.55 2315.22 1479.01 Q2317.04 1475.44 2317.04 1468.33 Q2317.04 1461.2 2315.22 1457.66 Q2313.41 1454.1 2309.78 1454.1 M2309.78 1450.39 Q2315.59 1450.39 2318.64 1455 Q2321.72 1459.58 2321.72 1468.33 Q2321.72 1477.06 2318.64 1481.67 Q2315.59 1486.25 2309.78 1486.25 Q2303.97 1486.25 2300.89 1481.67 Q2297.83 1477.06 2297.83 1468.33 Q2297.83 1459.58 2300.89 1455 Q2303.97 1450.39 2309.78 1450.39 Z\" fill=\"#000000\" fill-rule=\"nonzero\" fill-opacity=\"1\" /><path clip-path=\"url(#clip580)\" d=\"M1237.48 1520.52 L1267.53 1520.52 L1267.53 1525.93 L1243.91 1525.93 L1243.91 1540 L1266.54 1540 L1266.54 1545.41 L1243.91 1545.41 L1243.91 1562.63 L1268.1 1562.63 L1268.1 1568.04 L1237.48 1568.04 L1237.48 1520.52 Z\" fill=\"#000000\" fill-rule=\"nonzero\" fill-opacity=\"1\" /><path clip-path=\"url(#clip580)\" d=\"M1284.08 1562.7 L1284.08 1581.6 L1278.19 1581.6 L1278.19 1532.4 L1284.08 1532.4 L1284.08 1537.81 Q1285.92 1534.62 1288.72 1533.1 Q1291.56 1531.54 1295.47 1531.54 Q1301.96 1531.54 1306.01 1536.69 Q1310.08 1541.85 1310.08 1550.25 Q1310.08 1558.65 1306.01 1563.81 Q1301.96 1568.97 1295.47 1568.97 Q1291.56 1568.97 1288.72 1567.44 Q1285.92 1565.88 1284.08 1562.7 M1304 1550.25 Q1304 1543.79 1301.33 1540.13 Q1298.69 1536.44 1294.04 1536.44 Q1289.39 1536.44 1286.72 1540.13 Q1284.08 1543.79 1284.08 1550.25 Q1284.08 1556.71 1286.72 1560.4 Q1289.39 1564.07 1294.04 1564.07 Q1298.69 1564.07 1301.33 1560.4 Q1304 1556.71 1304 1550.25 Z\" fill=\"#000000\" fill-rule=\"nonzero\" fill-opacity=\"1\" /><path clip-path=\"url(#clip580)\" d=\"M1333.6 1536.5 Q1328.89 1536.5 1326.15 1540.19 Q1323.42 1543.85 1323.42 1550.25 Q1323.42 1556.65 1326.12 1560.34 Q1328.86 1564 1333.6 1564 Q1338.28 1564 1341.02 1560.31 Q1343.76 1556.62 1343.76 1550.25 Q1343.76 1543.92 1341.02 1540.23 Q1338.28 1536.5 1333.6 1536.5 M1333.6 1531.54 Q1341.24 1531.54 1345.6 1536.5 Q1349.96 1541.47 1349.96 1550.25 Q1349.96 1559 1345.6 1564 Q1341.24 1568.97 1333.6 1568.97 Q1325.93 1568.97 1321.57 1564 Q1317.24 1559 1317.24 1550.25 Q1317.24 1541.47 1321.57 1536.5 Q1325.93 1531.54 1333.6 1531.54 Z\" fill=\"#000000\" fill-rule=\"nonzero\" fill-opacity=\"1\" /><path clip-path=\"url(#clip580)\" d=\"M1385.32 1533.76 L1385.32 1539.24 Q1382.84 1537.87 1380.33 1537.2 Q1377.84 1536.5 1375.3 1536.5 Q1369.6 1536.5 1366.45 1540.13 Q1363.3 1543.73 1363.3 1550.25 Q1363.3 1556.78 1366.45 1560.4 Q1369.6 1564 1375.3 1564 Q1377.84 1564 1380.33 1563.33 Q1382.84 1562.63 1385.32 1561.26 L1385.32 1566.68 Q1382.87 1567.82 1380.23 1568.39 Q1377.62 1568.97 1374.66 1568.97 Q1366.61 1568.97 1361.87 1563.91 Q1357.12 1558.85 1357.12 1550.25 Q1357.12 1541.53 1361.9 1536.53 Q1366.7 1531.54 1375.04 1531.54 Q1377.75 1531.54 1380.33 1532.11 Q1382.9 1532.65 1385.32 1533.76 Z\" fill=\"#000000\" fill-rule=\"nonzero\" fill-opacity=\"1\" /><path clip-path=\"url(#clip580)\" d=\"M1425.14 1546.53 L1425.14 1568.04 L1419.28 1568.04 L1419.28 1546.72 Q1419.28 1541.66 1417.31 1539.14 Q1415.34 1536.63 1411.39 1536.63 Q1406.65 1536.63 1403.91 1539.65 Q1401.17 1542.68 1401.17 1547.9 L1401.17 1568.04 L1395.29 1568.04 L1395.29 1518.52 L1401.17 1518.52 L1401.17 1537.93 Q1403.28 1534.72 1406.11 1533.13 Q1408.97 1531.54 1412.7 1531.54 Q1418.84 1531.54 1421.99 1535.36 Q1425.14 1539.14 1425.14 1546.53 Z\" fill=\"#000000\" fill-rule=\"nonzero\" fill-opacity=\"1\" /><polyline clip-path=\"url(#clip582)\" style=\"stroke:#000000; stroke-linecap:round; stroke-linejoin:round; stroke-width:2; stroke-opacity:0.1; fill:none\" points=\"309.866,1356.93 2352.76,1356.93 \"/>\n",
       "<polyline clip-path=\"url(#clip582)\" style=\"stroke:#000000; stroke-linecap:round; stroke-linejoin:round; stroke-width:2; stroke-opacity:0.1; fill:none\" points=\"309.866,1038.81 2352.76,1038.81 \"/>\n",
       "<polyline clip-path=\"url(#clip582)\" style=\"stroke:#000000; stroke-linecap:round; stroke-linejoin:round; stroke-width:2; stroke-opacity:0.1; fill:none\" points=\"309.866,720.689 2352.76,720.689 \"/>\n",
       "<polyline clip-path=\"url(#clip582)\" style=\"stroke:#000000; stroke-linecap:round; stroke-linejoin:round; stroke-width:2; stroke-opacity:0.1; fill:none\" points=\"309.866,402.568 2352.76,402.568 \"/>\n",
       "<polyline clip-path=\"url(#clip582)\" style=\"stroke:#000000; stroke-linecap:round; stroke-linejoin:round; stroke-width:2; stroke-opacity:0.1; fill:none\" points=\"309.866,84.4466 2352.76,84.4466 \"/>\n",
       "<polyline clip-path=\"url(#clip580)\" style=\"stroke:#000000; stroke-linecap:round; stroke-linejoin:round; stroke-width:4; stroke-opacity:1; fill:none\" points=\"309.866,1423.18 309.866,47.2441 \"/>\n",
       "<polyline clip-path=\"url(#clip580)\" style=\"stroke:#000000; stroke-linecap:round; stroke-linejoin:round; stroke-width:4; stroke-opacity:1; fill:none\" points=\"2352.76,1423.18 2352.76,47.2441 \"/>\n",
       "<polyline clip-path=\"url(#clip580)\" style=\"stroke:#000000; stroke-linecap:round; stroke-linejoin:round; stroke-width:4; stroke-opacity:1; fill:none\" points=\"309.866,1356.93 328.763,1356.93 \"/>\n",
       "<polyline clip-path=\"url(#clip580)\" style=\"stroke:#000000; stroke-linecap:round; stroke-linejoin:round; stroke-width:4; stroke-opacity:1; fill:none\" points=\"309.866,1038.81 328.763,1038.81 \"/>\n",
       "<polyline clip-path=\"url(#clip580)\" style=\"stroke:#000000; stroke-linecap:round; stroke-linejoin:round; stroke-width:4; stroke-opacity:1; fill:none\" points=\"309.866,720.689 328.763,720.689 \"/>\n",
       "<polyline clip-path=\"url(#clip580)\" style=\"stroke:#000000; stroke-linecap:round; stroke-linejoin:round; stroke-width:4; stroke-opacity:1; fill:none\" points=\"309.866,402.568 328.763,402.568 \"/>\n",
       "<polyline clip-path=\"url(#clip580)\" style=\"stroke:#000000; stroke-linecap:round; stroke-linejoin:round; stroke-width:4; stroke-opacity:1; fill:none\" points=\"309.866,84.4466 328.763,84.4466 \"/>\n",
       "<path clip-path=\"url(#clip580)\" d=\"M127.2 1342.73 Q123.589 1342.73 121.76 1346.29 Q119.955 1349.84 119.955 1356.97 Q119.955 1364.07 121.76 1367.64 Q123.589 1371.18 127.2 1371.18 Q130.834 1371.18 132.64 1367.64 Q134.468 1364.07 134.468 1356.97 Q134.468 1349.84 132.64 1346.29 Q130.834 1342.73 127.2 1342.73 M127.2 1339.03 Q133.01 1339.03 136.066 1343.63 Q139.144 1348.22 139.144 1356.97 Q139.144 1365.69 136.066 1370.3 Q133.01 1374.88 127.2 1374.88 Q121.39 1374.88 118.311 1370.3 Q115.256 1365.69 115.256 1356.97 Q115.256 1348.22 118.311 1343.63 Q121.39 1339.03 127.2 1339.03 Z\" fill=\"#000000\" fill-rule=\"nonzero\" fill-opacity=\"1\" /><path clip-path=\"url(#clip580)\" d=\"M147.362 1368.33 L152.246 1368.33 L152.246 1374.21 L147.362 1374.21 L147.362 1368.33 Z\" fill=\"#000000\" fill-rule=\"nonzero\" fill-opacity=\"1\" /><path clip-path=\"url(#clip580)\" d=\"M172.431 1342.73 Q168.82 1342.73 166.991 1346.29 Q165.186 1349.84 165.186 1356.97 Q165.186 1364.07 166.991 1367.64 Q168.82 1371.18 172.431 1371.18 Q176.065 1371.18 177.871 1367.64 Q179.7 1364.07 179.7 1356.97 Q179.7 1349.84 177.871 1346.29 Q176.065 1342.73 172.431 1342.73 M172.431 1339.03 Q178.241 1339.03 181.297 1343.63 Q184.376 1348.22 184.376 1356.97 Q184.376 1365.69 181.297 1370.3 Q178.241 1374.88 172.431 1374.88 Q166.621 1374.88 163.542 1370.3 Q160.487 1365.69 160.487 1356.97 Q160.487 1348.22 163.542 1343.63 Q166.621 1339.03 172.431 1339.03 Z\" fill=\"#000000\" fill-rule=\"nonzero\" fill-opacity=\"1\" /><path clip-path=\"url(#clip580)\" d=\"M202.593 1342.73 Q198.982 1342.73 197.153 1346.29 Q195.348 1349.84 195.348 1356.97 Q195.348 1364.07 197.153 1367.64 Q198.982 1371.18 202.593 1371.18 Q206.227 1371.18 208.033 1367.64 Q209.861 1364.07 209.861 1356.97 Q209.861 1349.84 208.033 1346.29 Q206.227 1342.73 202.593 1342.73 M202.593 1339.03 Q208.403 1339.03 211.459 1343.63 Q214.537 1348.22 214.537 1356.97 Q214.537 1365.69 211.459 1370.3 Q208.403 1374.88 202.593 1374.88 Q196.783 1374.88 193.704 1370.3 Q190.649 1365.69 190.649 1356.97 Q190.649 1348.22 193.704 1343.63 Q196.783 1339.03 202.593 1339.03 Z\" fill=\"#000000\" fill-rule=\"nonzero\" fill-opacity=\"1\" /><path clip-path=\"url(#clip580)\" d=\"M226.783 1370.28 L243.102 1370.28 L243.102 1374.21 L221.158 1374.21 L221.158 1370.28 Q223.82 1367.52 228.403 1362.89 Q233.01 1358.24 234.19 1356.9 Q236.435 1354.37 237.315 1352.64 Q238.218 1350.88 238.218 1349.19 Q238.218 1346.43 236.273 1344.7 Q234.352 1342.96 231.25 1342.96 Q229.051 1342.96 226.598 1343.72 Q224.167 1344.49 221.389 1346.04 L221.389 1341.32 Q224.213 1340.18 226.667 1339.6 Q229.121 1339.03 231.158 1339.03 Q236.528 1339.03 239.722 1341.71 Q242.917 1344.4 242.917 1348.89 Q242.917 1351.02 242.107 1352.94 Q241.32 1354.84 239.213 1357.43 Q238.634 1358.1 235.533 1361.32 Q232.431 1364.51 226.783 1370.28 Z\" fill=\"#000000\" fill-rule=\"nonzero\" fill-opacity=\"1\" /><path clip-path=\"url(#clip580)\" d=\"M252.963 1339.65 L271.32 1339.65 L271.32 1343.59 L257.246 1343.59 L257.246 1352.06 Q258.264 1351.71 259.283 1351.55 Q260.301 1351.36 261.32 1351.36 Q267.107 1351.36 270.486 1354.53 Q273.866 1357.71 273.866 1363.12 Q273.866 1368.7 270.394 1371.8 Q266.921 1374.88 260.602 1374.88 Q258.426 1374.88 256.158 1374.51 Q253.912 1374.14 251.505 1373.4 L251.505 1368.7 Q253.588 1369.84 255.81 1370.39 Q258.033 1370.95 260.509 1370.95 Q264.514 1370.95 266.852 1368.84 Q269.19 1366.73 269.19 1363.12 Q269.19 1359.51 266.852 1357.41 Q264.514 1355.3 260.509 1355.3 Q258.634 1355.3 256.759 1355.72 Q254.908 1356.13 252.963 1357.01 L252.963 1339.65 Z\" fill=\"#000000\" fill-rule=\"nonzero\" fill-opacity=\"1\" /><path clip-path=\"url(#clip580)\" d=\"M126.205 1024.61 Q122.593 1024.61 120.765 1028.17 Q118.959 1031.71 118.959 1038.84 Q118.959 1045.95 120.765 1049.52 Q122.593 1053.06 126.205 1053.06 Q129.839 1053.06 131.644 1049.52 Q133.473 1045.95 133.473 1038.84 Q133.473 1031.71 131.644 1028.17 Q129.839 1024.61 126.205 1024.61 M126.205 1020.9 Q132.015 1020.9 135.07 1025.51 Q138.149 1030.09 138.149 1038.84 Q138.149 1047.57 135.07 1052.18 Q132.015 1056.76 126.205 1056.76 Q120.394 1056.76 117.316 1052.18 Q114.26 1047.57 114.26 1038.84 Q114.26 1030.09 117.316 1025.51 Q120.394 1020.9 126.205 1020.9 Z\" fill=\"#000000\" fill-rule=\"nonzero\" fill-opacity=\"1\" /><path clip-path=\"url(#clip580)\" d=\"M146.366 1050.21 L151.251 1050.21 L151.251 1056.09 L146.366 1056.09 L146.366 1050.21 Z\" fill=\"#000000\" fill-rule=\"nonzero\" fill-opacity=\"1\" /><path clip-path=\"url(#clip580)\" d=\"M171.436 1024.61 Q167.825 1024.61 165.996 1028.17 Q164.19 1031.71 164.19 1038.84 Q164.19 1045.95 165.996 1049.52 Q167.825 1053.06 171.436 1053.06 Q175.07 1053.06 176.876 1049.52 Q178.704 1045.95 178.704 1038.84 Q178.704 1031.71 176.876 1028.17 Q175.07 1024.61 171.436 1024.61 M171.436 1020.9 Q177.246 1020.9 180.301 1025.51 Q183.38 1030.09 183.38 1038.84 Q183.38 1047.57 180.301 1052.18 Q177.246 1056.76 171.436 1056.76 Q165.626 1056.76 162.547 1052.18 Q159.491 1047.57 159.491 1038.84 Q159.491 1030.09 162.547 1025.51 Q165.626 1020.9 171.436 1020.9 Z\" fill=\"#000000\" fill-rule=\"nonzero\" fill-opacity=\"1\" /><path clip-path=\"url(#clip580)\" d=\"M201.598 1024.61 Q197.987 1024.61 196.158 1028.17 Q194.352 1031.71 194.352 1038.84 Q194.352 1045.95 196.158 1049.52 Q197.987 1053.06 201.598 1053.06 Q205.232 1053.06 207.037 1049.52 Q208.866 1045.95 208.866 1038.84 Q208.866 1031.71 207.037 1028.17 Q205.232 1024.61 201.598 1024.61 M201.598 1020.9 Q207.408 1020.9 210.463 1025.51 Q213.542 1030.09 213.542 1038.84 Q213.542 1047.57 210.463 1052.18 Q207.408 1056.76 201.598 1056.76 Q195.787 1056.76 192.709 1052.18 Q189.653 1047.57 189.653 1038.84 Q189.653 1030.09 192.709 1025.51 Q195.787 1020.9 201.598 1020.9 Z\" fill=\"#000000\" fill-rule=\"nonzero\" fill-opacity=\"1\" /><path clip-path=\"url(#clip580)\" d=\"M221.806 1021.53 L240.162 1021.53 L240.162 1025.46 L226.088 1025.46 L226.088 1033.94 Q227.107 1033.59 228.125 1033.43 Q229.144 1033.24 230.162 1033.24 Q235.949 1033.24 239.329 1036.41 Q242.709 1039.59 242.709 1045 Q242.709 1050.58 239.236 1053.68 Q235.764 1056.76 229.445 1056.76 Q227.269 1056.76 225 1056.39 Q222.755 1056.02 220.348 1055.28 L220.348 1050.58 Q222.431 1051.71 224.653 1052.27 Q226.875 1052.83 229.352 1052.83 Q233.357 1052.83 235.695 1050.72 Q238.033 1048.61 238.033 1045 Q238.033 1041.39 235.695 1039.28 Q233.357 1037.18 229.352 1037.18 Q227.477 1037.18 225.602 1037.59 Q223.75 1038.01 221.806 1038.89 L221.806 1021.53 Z\" fill=\"#000000\" fill-rule=\"nonzero\" fill-opacity=\"1\" /><path clip-path=\"url(#clip580)\" d=\"M261.921 1024.61 Q258.31 1024.61 256.482 1028.17 Q254.676 1031.71 254.676 1038.84 Q254.676 1045.95 256.482 1049.52 Q258.31 1053.06 261.921 1053.06 Q265.556 1053.06 267.361 1049.52 Q269.19 1045.95 269.19 1038.84 Q269.19 1031.71 267.361 1028.17 Q265.556 1024.61 261.921 1024.61 M261.921 1020.9 Q267.732 1020.9 270.787 1025.51 Q273.866 1030.09 273.866 1038.84 Q273.866 1047.57 270.787 1052.18 Q267.732 1056.76 261.921 1056.76 Q256.111 1056.76 253.033 1052.18 Q249.977 1047.57 249.977 1038.84 Q249.977 1030.09 253.033 1025.51 Q256.111 1020.9 261.921 1020.9 Z\" fill=\"#000000\" fill-rule=\"nonzero\" fill-opacity=\"1\" /><path clip-path=\"url(#clip580)\" d=\"M127.2 706.487 Q123.589 706.487 121.76 710.052 Q119.955 713.594 119.955 720.723 Q119.955 727.83 121.76 731.395 Q123.589 734.936 127.2 734.936 Q130.834 734.936 132.64 731.395 Q134.468 727.83 134.468 720.723 Q134.468 713.594 132.64 710.052 Q130.834 706.487 127.2 706.487 M127.2 702.784 Q133.01 702.784 136.066 707.39 Q139.144 711.973 139.144 720.723 Q139.144 729.45 136.066 734.057 Q133.01 738.64 127.2 738.64 Q121.39 738.64 118.311 734.057 Q115.256 729.45 115.256 720.723 Q115.256 711.973 118.311 707.39 Q121.39 702.784 127.2 702.784 Z\" fill=\"#000000\" fill-rule=\"nonzero\" fill-opacity=\"1\" /><path clip-path=\"url(#clip580)\" d=\"M147.362 732.089 L152.246 732.089 L152.246 737.969 L147.362 737.969 L147.362 732.089 Z\" fill=\"#000000\" fill-rule=\"nonzero\" fill-opacity=\"1\" /><path clip-path=\"url(#clip580)\" d=\"M172.431 706.487 Q168.82 706.487 166.991 710.052 Q165.186 713.594 165.186 720.723 Q165.186 727.83 166.991 731.395 Q168.82 734.936 172.431 734.936 Q176.065 734.936 177.871 731.395 Q179.7 727.83 179.7 720.723 Q179.7 713.594 177.871 710.052 Q176.065 706.487 172.431 706.487 M172.431 702.784 Q178.241 702.784 181.297 707.39 Q184.376 711.973 184.376 720.723 Q184.376 729.45 181.297 734.057 Q178.241 738.64 172.431 738.64 Q166.621 738.64 163.542 734.057 Q160.487 729.45 160.487 720.723 Q160.487 711.973 163.542 707.39 Q166.621 702.784 172.431 702.784 Z\" fill=\"#000000\" fill-rule=\"nonzero\" fill-opacity=\"1\" /><path clip-path=\"url(#clip580)\" d=\"M202.593 706.487 Q198.982 706.487 197.153 710.052 Q195.348 713.594 195.348 720.723 Q195.348 727.83 197.153 731.395 Q198.982 734.936 202.593 734.936 Q206.227 734.936 208.033 731.395 Q209.861 727.83 209.861 720.723 Q209.861 713.594 208.033 710.052 Q206.227 706.487 202.593 706.487 M202.593 702.784 Q208.403 702.784 211.459 707.39 Q214.537 711.973 214.537 720.723 Q214.537 729.45 211.459 734.057 Q208.403 738.64 202.593 738.64 Q196.783 738.64 193.704 734.057 Q190.649 729.45 190.649 720.723 Q190.649 711.973 193.704 707.39 Q196.783 702.784 202.593 702.784 Z\" fill=\"#000000\" fill-rule=\"nonzero\" fill-opacity=\"1\" /><path clip-path=\"url(#clip580)\" d=\"M221.574 703.409 L243.797 703.409 L243.797 705.399 L231.25 737.969 L226.366 737.969 L238.172 707.344 L221.574 707.344 L221.574 703.409 Z\" fill=\"#000000\" fill-rule=\"nonzero\" fill-opacity=\"1\" /><path clip-path=\"url(#clip580)\" d=\"M252.963 703.409 L271.32 703.409 L271.32 707.344 L257.246 707.344 L257.246 715.816 Q258.264 715.469 259.283 715.307 Q260.301 715.122 261.32 715.122 Q267.107 715.122 270.486 718.293 Q273.866 721.464 273.866 726.881 Q273.866 732.459 270.394 735.561 Q266.921 738.64 260.602 738.64 Q258.426 738.64 256.158 738.27 Q253.912 737.899 251.505 737.159 L251.505 732.459 Q253.588 733.594 255.81 734.149 Q258.033 734.705 260.509 734.705 Q264.514 734.705 266.852 732.598 Q269.19 730.492 269.19 726.881 Q269.19 723.27 266.852 721.163 Q264.514 719.057 260.509 719.057 Q258.634 719.057 256.759 719.473 Q254.908 719.89 252.963 720.77 L252.963 703.409 Z\" fill=\"#000000\" fill-rule=\"nonzero\" fill-opacity=\"1\" /><path clip-path=\"url(#clip580)\" d=\"M126.205 388.366 Q122.593 388.366 120.765 391.931 Q118.959 395.473 118.959 402.602 Q118.959 409.709 120.765 413.274 Q122.593 416.815 126.205 416.815 Q129.839 416.815 131.644 413.274 Q133.473 409.709 133.473 402.602 Q133.473 395.473 131.644 391.931 Q129.839 388.366 126.205 388.366 M126.205 384.663 Q132.015 384.663 135.07 389.269 Q138.149 393.852 138.149 402.602 Q138.149 411.329 135.07 415.936 Q132.015 420.519 126.205 420.519 Q120.394 420.519 117.316 415.936 Q114.26 411.329 114.26 402.602 Q114.26 393.852 117.316 389.269 Q120.394 384.663 126.205 384.663 Z\" fill=\"#000000\" fill-rule=\"nonzero\" fill-opacity=\"1\" /><path clip-path=\"url(#clip580)\" d=\"M146.366 413.968 L151.251 413.968 L151.251 419.848 L146.366 419.848 L146.366 413.968 Z\" fill=\"#000000\" fill-rule=\"nonzero\" fill-opacity=\"1\" /><path clip-path=\"url(#clip580)\" d=\"M171.436 388.366 Q167.825 388.366 165.996 391.931 Q164.19 395.473 164.19 402.602 Q164.19 409.709 165.996 413.274 Q167.825 416.815 171.436 416.815 Q175.07 416.815 176.876 413.274 Q178.704 409.709 178.704 402.602 Q178.704 395.473 176.876 391.931 Q175.07 388.366 171.436 388.366 M171.436 384.663 Q177.246 384.663 180.301 389.269 Q183.38 393.852 183.38 402.602 Q183.38 411.329 180.301 415.936 Q177.246 420.519 171.436 420.519 Q165.626 420.519 162.547 415.936 Q159.491 411.329 159.491 402.602 Q159.491 393.852 162.547 389.269 Q165.626 384.663 171.436 384.663 Z\" fill=\"#000000\" fill-rule=\"nonzero\" fill-opacity=\"1\" /><path clip-path=\"url(#clip580)\" d=\"M192.408 415.912 L200.047 415.912 L200.047 389.547 L191.737 391.214 L191.737 386.954 L200 385.288 L204.676 385.288 L204.676 415.912 L212.315 415.912 L212.315 419.848 L192.408 419.848 L192.408 415.912 Z\" fill=\"#000000\" fill-rule=\"nonzero\" fill-opacity=\"1\" /><path clip-path=\"url(#clip580)\" d=\"M231.76 388.366 Q228.148 388.366 226.32 391.931 Q224.514 395.473 224.514 402.602 Q224.514 409.709 226.32 413.274 Q228.148 416.815 231.76 416.815 Q235.394 416.815 237.199 413.274 Q239.028 409.709 239.028 402.602 Q239.028 395.473 237.199 391.931 Q235.394 388.366 231.76 388.366 M231.76 384.663 Q237.57 384.663 240.625 389.269 Q243.704 393.852 243.704 402.602 Q243.704 411.329 240.625 415.936 Q237.57 420.519 231.76 420.519 Q225.949 420.519 222.871 415.936 Q219.815 411.329 219.815 402.602 Q219.815 393.852 222.871 389.269 Q225.949 384.663 231.76 384.663 Z\" fill=\"#000000\" fill-rule=\"nonzero\" fill-opacity=\"1\" /><path clip-path=\"url(#clip580)\" d=\"M261.921 388.366 Q258.31 388.366 256.482 391.931 Q254.676 395.473 254.676 402.602 Q254.676 409.709 256.482 413.274 Q258.31 416.815 261.921 416.815 Q265.556 416.815 267.361 413.274 Q269.19 409.709 269.19 402.602 Q269.19 395.473 267.361 391.931 Q265.556 388.366 261.921 388.366 M261.921 384.663 Q267.732 384.663 270.787 389.269 Q273.866 393.852 273.866 402.602 Q273.866 411.329 270.787 415.936 Q267.732 420.519 261.921 420.519 Q256.111 420.519 253.033 415.936 Q249.977 411.329 249.977 402.602 Q249.977 393.852 253.033 389.269 Q256.111 384.663 261.921 384.663 Z\" fill=\"#000000\" fill-rule=\"nonzero\" fill-opacity=\"1\" /><path clip-path=\"url(#clip580)\" d=\"M127.2 70.2453 Q123.589 70.2453 121.76 73.8101 Q119.955 77.3517 119.955 84.4813 Q119.955 91.5878 121.76 95.1526 Q123.589 98.6942 127.2 98.6942 Q130.834 98.6942 132.64 95.1526 Q134.468 91.5878 134.468 84.4813 Q134.468 77.3517 132.64 73.8101 Q130.834 70.2453 127.2 70.2453 M127.2 66.5416 Q133.01 66.5416 136.066 71.1481 Q139.144 75.7314 139.144 84.4813 Q139.144 93.2081 136.066 97.8146 Q133.01 102.398 127.2 102.398 Q121.39 102.398 118.311 97.8146 Q115.256 93.2081 115.256 84.4813 Q115.256 75.7314 118.311 71.1481 Q121.39 66.5416 127.2 66.5416 Z\" fill=\"#000000\" fill-rule=\"nonzero\" fill-opacity=\"1\" /><path clip-path=\"url(#clip580)\" d=\"M147.362 95.847 L152.246 95.847 L152.246 101.727 L147.362 101.727 L147.362 95.847 Z\" fill=\"#000000\" fill-rule=\"nonzero\" fill-opacity=\"1\" /><path clip-path=\"url(#clip580)\" d=\"M172.431 70.2453 Q168.82 70.2453 166.991 73.8101 Q165.186 77.3517 165.186 84.4813 Q165.186 91.5878 166.991 95.1526 Q168.82 98.6942 172.431 98.6942 Q176.065 98.6942 177.871 95.1526 Q179.7 91.5878 179.7 84.4813 Q179.7 77.3517 177.871 73.8101 Q176.065 70.2453 172.431 70.2453 M172.431 66.5416 Q178.241 66.5416 181.297 71.1481 Q184.376 75.7314 184.376 84.4813 Q184.376 93.2081 181.297 97.8146 Q178.241 102.398 172.431 102.398 Q166.621 102.398 163.542 97.8146 Q160.487 93.2081 160.487 84.4813 Q160.487 75.7314 163.542 71.1481 Q166.621 66.5416 172.431 66.5416 Z\" fill=\"#000000\" fill-rule=\"nonzero\" fill-opacity=\"1\" /><path clip-path=\"url(#clip580)\" d=\"M193.403 97.7915 L201.042 97.7915 L201.042 71.4259 L192.732 73.0925 L192.732 68.8333 L200.996 67.1666 L205.672 67.1666 L205.672 97.7915 L213.311 97.7915 L213.311 101.727 L193.403 101.727 L193.403 97.7915 Z\" fill=\"#000000\" fill-rule=\"nonzero\" fill-opacity=\"1\" /><path clip-path=\"url(#clip580)\" d=\"M226.783 97.7915 L243.102 97.7915 L243.102 101.727 L221.158 101.727 L221.158 97.7915 Q223.82 95.0368 228.403 90.4072 Q233.01 85.7545 234.19 84.4119 Q236.435 81.8888 237.315 80.1527 Q238.218 78.3934 238.218 76.7036 Q238.218 73.949 236.273 72.2129 Q234.352 70.4768 231.25 70.4768 Q229.051 70.4768 226.598 71.2407 Q224.167 72.0046 221.389 73.5555 L221.389 68.8333 Q224.213 67.699 226.667 67.1203 Q229.121 66.5416 231.158 66.5416 Q236.528 66.5416 239.722 69.2268 Q242.917 71.912 242.917 76.4027 Q242.917 78.5323 242.107 80.4536 Q241.32 82.3517 239.213 84.9443 Q238.634 85.6156 235.533 88.8332 Q232.431 92.0276 226.783 97.7915 Z\" fill=\"#000000\" fill-rule=\"nonzero\" fill-opacity=\"1\" /><path clip-path=\"url(#clip580)\" d=\"M252.963 67.1666 L271.32 67.1666 L271.32 71.1018 L257.246 71.1018 L257.246 79.574 Q258.264 79.2267 259.283 79.0647 Q260.301 78.8795 261.32 78.8795 Q267.107 78.8795 270.486 82.0508 Q273.866 85.2221 273.866 90.6387 Q273.866 96.2174 270.394 99.3192 Q266.921 102.398 260.602 102.398 Q258.426 102.398 256.158 102.028 Q253.912 101.657 251.505 100.916 L251.505 96.2174 Q253.588 97.3516 255.81 97.9072 Q258.033 98.4627 260.509 98.4627 Q264.514 98.4627 266.852 96.3563 Q269.19 94.2498 269.19 90.6387 Q269.19 87.0276 266.852 84.9212 Q264.514 82.8147 260.509 82.8147 Q258.634 82.8147 256.759 83.2313 Q254.908 83.648 252.963 84.5276 L252.963 67.1666 Z\" fill=\"#000000\" fill-rule=\"nonzero\" fill-opacity=\"1\" /><path clip-path=\"url(#clip580)\" d=\"M16.4842 801.909 L16.4842 795.479 L58.5933 795.479 L58.5933 772.34 L64.0042 772.34 L64.0042 801.909 L16.4842 801.909 Z\" fill=\"#000000\" fill-rule=\"nonzero\" fill-opacity=\"1\" /><path clip-path=\"url(#clip580)\" d=\"M32.4621 753.179 Q32.4621 757.89 36.1542 760.627 Q39.8145 763.364 46.212 763.364 Q52.6095 763.364 56.3017 760.659 Q59.9619 757.922 59.9619 753.179 Q59.9619 748.5 56.2698 745.763 Q52.5777 743.026 46.212 743.026 Q39.8781 743.026 36.186 745.763 Q32.4621 748.5 32.4621 753.179 M27.4968 753.179 Q27.4968 745.54 32.4621 741.18 Q37.4273 736.819 46.212 736.819 Q54.9649 736.819 59.9619 741.18 Q64.9272 745.54 64.9272 753.179 Q64.9272 760.85 59.9619 765.21 Q54.9649 769.539 46.212 769.539 Q37.4273 769.539 32.4621 765.21 Q27.4968 760.85 27.4968 753.179 Z\" fill=\"#000000\" fill-rule=\"nonzero\" fill-opacity=\"1\" /><path clip-path=\"url(#clip580)\" d=\"M29.4065 704.386 L34.9447 704.386 Q33.6716 706.869 33.035 709.542 Q32.3984 712.216 32.3984 715.08 Q32.3984 719.441 33.7352 721.637 Q35.072 723.801 37.7456 723.801 Q39.7826 723.801 40.9603 722.242 Q42.1061 720.682 43.1565 715.972 L43.6021 713.966 Q44.9389 707.728 47.3897 705.118 Q49.8086 702.476 54.1691 702.476 Q59.1344 702.476 62.0308 706.423 Q64.9272 710.338 64.9272 717.213 Q64.9272 720.078 64.3543 723.197 Q63.8132 726.284 62.6992 729.722 L56.6518 729.722 Q58.3387 726.475 59.198 723.324 Q60.0256 720.173 60.0256 717.086 Q60.0256 712.948 58.6251 710.72 Q57.1929 708.492 54.6147 708.492 Q52.2276 708.492 50.9545 710.115 Q49.6813 711.707 48.5037 717.149 L48.0262 719.186 Q46.8804 724.629 44.5251 727.048 Q42.138 729.467 38.0002 729.467 Q32.9713 729.467 30.2341 725.902 Q27.4968 722.337 27.4968 715.781 Q27.4968 712.534 27.9743 709.67 Q28.4517 706.805 29.4065 704.386 Z\" fill=\"#000000\" fill-rule=\"nonzero\" fill-opacity=\"1\" /><path clip-path=\"url(#clip580)\" d=\"M29.4065 670.425 L34.9447 670.425 Q33.6716 672.908 33.035 675.581 Q32.3984 678.255 32.3984 681.119 Q32.3984 685.48 33.7352 687.676 Q35.072 689.84 37.7456 689.84 Q39.7826 689.84 40.9603 688.281 Q42.1061 686.721 43.1565 682.011 L43.6021 680.005 Q44.9389 673.767 47.3897 671.157 Q49.8086 668.515 54.1691 668.515 Q59.1344 668.515 62.0308 672.462 Q64.9272 676.377 64.9272 683.252 Q64.9272 686.116 64.3543 689.236 Q63.8132 692.323 62.6992 695.761 L56.6518 695.761 Q58.3387 692.514 59.198 689.363 Q60.0256 686.212 60.0256 683.125 Q60.0256 678.987 58.6251 676.759 Q57.1929 674.531 54.6147 674.531 Q52.2276 674.531 50.9545 676.154 Q49.6813 677.746 48.5037 683.188 L48.0262 685.225 Q46.8804 690.668 44.5251 693.087 Q42.138 695.506 38.0002 695.506 Q32.9713 695.506 30.2341 691.941 Q27.4968 688.376 27.4968 681.82 Q27.4968 678.573 27.9743 675.709 Q28.4517 672.844 29.4065 670.425 Z\" fill=\"#000000\" fill-rule=\"nonzero\" fill-opacity=\"1\" /><polyline clip-path=\"url(#clip582)\" style=\"stroke:#009af9; stroke-linecap:round; stroke-linejoin:round; stroke-width:8; stroke-opacity:1; fill:none\" points=\"367.683,86.1857 434.14,157.473 500.598,227.012 567.055,294.747 633.512,360.626 699.969,424.603 766.426,486.641 832.883,546.706 899.34,604.774 965.797,660.826 1032.25,714.852 1098.71,766.847 1165.17,816.814 1231.63,864.76 1298.08,910.702 1364.54,954.66 1431,996.661 1497.45,1036.74 1563.91,1074.93 1630.37,1111.27 1696.82,1145.8 1763.28,1178.59 1829.74,1209.67 1896.2,1239.1 1962.65,1266.93 2029.11,1293.23 2095.57,1318.06 2162.02,1341.46 2228.48,1363.5 2294.94,1384.24 \"/>\n",
       "</svg>\n"
      ],
      "text/html": [
       "<?xml version=\"1.0\" encoding=\"utf-8\"?>\n",
       "<svg xmlns=\"http://www.w3.org/2000/svg\" xmlns:xlink=\"http://www.w3.org/1999/xlink\" width=\"600\" height=\"400\" viewBox=\"0 0 2400 1600\">\n",
       "<defs>\n",
       "  <clipPath id=\"clip630\">\n",
       "    <rect x=\"0\" y=\"0\" width=\"2400\" height=\"1600\"/>\n",
       "  </clipPath>\n",
       "</defs>\n",
       "<path clip-path=\"url(#clip630)\" d=\"M0 1600 L2400 1600 L2400 0 L0 0  Z\" fill=\"#ffffff\" fill-rule=\"evenodd\" fill-opacity=\"1\"/>\n",
       "<defs>\n",
       "  <clipPath id=\"clip631\">\n",
       "    <rect x=\"480\" y=\"0\" width=\"1681\" height=\"1600\"/>\n",
       "  </clipPath>\n",
       "</defs>\n",
       "<path clip-path=\"url(#clip630)\" d=\"M309.866 1423.18 L2352.76 1423.18 L2352.76 47.2441 L309.866 47.2441  Z\" fill=\"#ffffff\" fill-rule=\"evenodd\" fill-opacity=\"1\"/>\n",
       "<defs>\n",
       "  <clipPath id=\"clip632\">\n",
       "    <rect x=\"309\" y=\"47\" width=\"2044\" height=\"1377\"/>\n",
       "  </clipPath>\n",
       "</defs>\n",
       "<polyline clip-path=\"url(#clip632)\" style=\"stroke:#000000; stroke-linecap:round; stroke-linejoin:round; stroke-width:2; stroke-opacity:0.1; fill:none\" points=\"633.512,1423.18 633.512,47.2441 \"/>\n",
       "<polyline clip-path=\"url(#clip632)\" style=\"stroke:#000000; stroke-linecap:round; stroke-linejoin:round; stroke-width:2; stroke-opacity:0.1; fill:none\" points=\"965.797,1423.18 965.797,47.2441 \"/>\n",
       "<polyline clip-path=\"url(#clip632)\" style=\"stroke:#000000; stroke-linecap:round; stroke-linejoin:round; stroke-width:2; stroke-opacity:0.1; fill:none\" points=\"1298.08,1423.18 1298.08,47.2441 \"/>\n",
       "<polyline clip-path=\"url(#clip632)\" style=\"stroke:#000000; stroke-linecap:round; stroke-linejoin:round; stroke-width:2; stroke-opacity:0.1; fill:none\" points=\"1630.37,1423.18 1630.37,47.2441 \"/>\n",
       "<polyline clip-path=\"url(#clip632)\" style=\"stroke:#000000; stroke-linecap:round; stroke-linejoin:round; stroke-width:2; stroke-opacity:0.1; fill:none\" points=\"1962.65,1423.18 1962.65,47.2441 \"/>\n",
       "<polyline clip-path=\"url(#clip632)\" style=\"stroke:#000000; stroke-linecap:round; stroke-linejoin:round; stroke-width:2; stroke-opacity:0.1; fill:none\" points=\"2294.94,1423.18 2294.94,47.2441 \"/>\n",
       "<polyline clip-path=\"url(#clip630)\" style=\"stroke:#000000; stroke-linecap:round; stroke-linejoin:round; stroke-width:4; stroke-opacity:1; fill:none\" points=\"309.866,1423.18 2352.76,1423.18 \"/>\n",
       "<polyline clip-path=\"url(#clip630)\" style=\"stroke:#000000; stroke-linecap:round; stroke-linejoin:round; stroke-width:4; stroke-opacity:1; fill:none\" points=\"309.866,47.2441 2352.76,47.2441 \"/>\n",
       "<polyline clip-path=\"url(#clip630)\" style=\"stroke:#000000; stroke-linecap:round; stroke-linejoin:round; stroke-width:4; stroke-opacity:1; fill:none\" points=\"633.512,1423.18 633.512,1404.28 \"/>\n",
       "<polyline clip-path=\"url(#clip630)\" style=\"stroke:#000000; stroke-linecap:round; stroke-linejoin:round; stroke-width:4; stroke-opacity:1; fill:none\" points=\"965.797,1423.18 965.797,1404.28 \"/>\n",
       "<polyline clip-path=\"url(#clip630)\" style=\"stroke:#000000; stroke-linecap:round; stroke-linejoin:round; stroke-width:4; stroke-opacity:1; fill:none\" points=\"1298.08,1423.18 1298.08,1404.28 \"/>\n",
       "<polyline clip-path=\"url(#clip630)\" style=\"stroke:#000000; stroke-linecap:round; stroke-linejoin:round; stroke-width:4; stroke-opacity:1; fill:none\" points=\"1630.37,1423.18 1630.37,1404.28 \"/>\n",
       "<polyline clip-path=\"url(#clip630)\" style=\"stroke:#000000; stroke-linecap:round; stroke-linejoin:round; stroke-width:4; stroke-opacity:1; fill:none\" points=\"1962.65,1423.18 1962.65,1404.28 \"/>\n",
       "<polyline clip-path=\"url(#clip630)\" style=\"stroke:#000000; stroke-linecap:round; stroke-linejoin:round; stroke-width:4; stroke-opacity:1; fill:none\" points=\"2294.94,1423.18 2294.94,1404.28 \"/>\n",
       "<path clip-path=\"url(#clip630)\" d=\"M623.79 1451.02 L642.146 1451.02 L642.146 1454.96 L628.072 1454.96 L628.072 1463.43 Q629.09 1463.08 630.109 1462.92 Q631.127 1462.73 632.146 1462.73 Q637.933 1462.73 641.313 1465.9 Q644.692 1469.08 644.692 1474.49 Q644.692 1480.07 641.22 1483.17 Q637.748 1486.25 631.428 1486.25 Q629.252 1486.25 626.984 1485.88 Q624.739 1485.51 622.331 1484.77 L622.331 1480.07 Q624.415 1481.2 626.637 1481.76 Q628.859 1482.32 631.336 1482.32 Q635.34 1482.32 637.678 1480.21 Q640.016 1478.1 640.016 1474.49 Q640.016 1470.88 637.678 1468.77 Q635.34 1466.67 631.336 1466.67 Q629.461 1466.67 627.586 1467.08 Q625.734 1467.5 623.79 1468.38 L623.79 1451.02 Z\" fill=\"#000000\" fill-rule=\"nonzero\" fill-opacity=\"1\" /><path clip-path=\"url(#clip630)\" d=\"M940.485 1481.64 L948.123 1481.64 L948.123 1455.28 L939.813 1456.95 L939.813 1452.69 L948.077 1451.02 L952.753 1451.02 L952.753 1481.64 L960.392 1481.64 L960.392 1485.58 L940.485 1485.58 L940.485 1481.64 Z\" fill=\"#000000\" fill-rule=\"nonzero\" fill-opacity=\"1\" /><path clip-path=\"url(#clip630)\" d=\"M979.836 1454.1 Q976.225 1454.1 974.396 1457.66 Q972.591 1461.2 972.591 1468.33 Q972.591 1475.44 974.396 1479.01 Q976.225 1482.55 979.836 1482.55 Q983.471 1482.55 985.276 1479.01 Q987.105 1475.44 987.105 1468.33 Q987.105 1461.2 985.276 1457.66 Q983.471 1454.1 979.836 1454.1 M979.836 1450.39 Q985.646 1450.39 988.702 1455 Q991.781 1459.58 991.781 1468.33 Q991.781 1477.06 988.702 1481.67 Q985.646 1486.25 979.836 1486.25 Q974.026 1486.25 970.947 1481.67 Q967.892 1477.06 967.892 1468.33 Q967.892 1459.58 970.947 1455 Q974.026 1450.39 979.836 1450.39 Z\" fill=\"#000000\" fill-rule=\"nonzero\" fill-opacity=\"1\" /><path clip-path=\"url(#clip630)\" d=\"M1273.27 1481.64 L1280.91 1481.64 L1280.91 1455.28 L1272.6 1456.95 L1272.6 1452.69 L1280.86 1451.02 L1285.54 1451.02 L1285.54 1481.64 L1293.17 1481.64 L1293.17 1485.58 L1273.27 1485.58 L1273.27 1481.64 Z\" fill=\"#000000\" fill-rule=\"nonzero\" fill-opacity=\"1\" /><path clip-path=\"url(#clip630)\" d=\"M1302.67 1451.02 L1321.02 1451.02 L1321.02 1454.96 L1306.95 1454.96 L1306.95 1463.43 Q1307.97 1463.08 1308.99 1462.92 Q1310 1462.73 1311.02 1462.73 Q1316.81 1462.73 1320.19 1465.9 Q1323.57 1469.08 1323.57 1474.49 Q1323.57 1480.07 1320.1 1483.17 Q1316.62 1486.25 1310.3 1486.25 Q1308.13 1486.25 1305.86 1485.88 Q1303.61 1485.51 1301.21 1484.77 L1301.21 1480.07 Q1303.29 1481.2 1305.51 1481.76 Q1307.74 1482.32 1310.21 1482.32 Q1314.22 1482.32 1316.55 1480.21 Q1318.89 1478.1 1318.89 1474.49 Q1318.89 1470.88 1316.55 1468.77 Q1314.22 1466.67 1310.21 1466.67 Q1308.34 1466.67 1306.46 1467.08 Q1304.61 1467.5 1302.67 1468.38 L1302.67 1451.02 Z\" fill=\"#000000\" fill-rule=\"nonzero\" fill-opacity=\"1\" /><path clip-path=\"url(#clip630)\" d=\"M1609.14 1481.64 L1625.46 1481.64 L1625.46 1485.58 L1603.52 1485.58 L1603.52 1481.64 Q1606.18 1478.89 1610.76 1474.26 Q1615.37 1469.61 1616.55 1468.27 Q1618.79 1465.74 1619.67 1464.01 Q1620.58 1462.25 1620.58 1460.56 Q1620.58 1457.8 1618.63 1456.07 Q1616.71 1454.33 1613.61 1454.33 Q1611.41 1454.33 1608.96 1455.09 Q1606.53 1455.86 1603.75 1457.41 L1603.75 1452.69 Q1606.57 1451.55 1609.03 1450.97 Q1611.48 1450.39 1613.52 1450.39 Q1618.89 1450.39 1622.08 1453.08 Q1625.28 1455.77 1625.28 1460.26 Q1625.28 1462.39 1624.46 1464.31 Q1623.68 1466.2 1621.57 1468.8 Q1620.99 1469.47 1617.89 1472.69 Q1614.79 1475.88 1609.14 1481.64 Z\" fill=\"#000000\" fill-rule=\"nonzero\" fill-opacity=\"1\" /><path clip-path=\"url(#clip630)\" d=\"M1645.27 1454.1 Q1641.66 1454.1 1639.84 1457.66 Q1638.03 1461.2 1638.03 1468.33 Q1638.03 1475.44 1639.84 1479.01 Q1641.66 1482.55 1645.27 1482.55 Q1648.91 1482.55 1650.71 1479.01 Q1652.54 1475.44 1652.54 1468.33 Q1652.54 1461.2 1650.71 1457.66 Q1648.91 1454.1 1645.27 1454.1 M1645.27 1450.39 Q1651.09 1450.39 1654.14 1455 Q1657.22 1459.58 1657.22 1468.33 Q1657.22 1477.06 1654.14 1481.67 Q1651.09 1486.25 1645.27 1486.25 Q1639.46 1486.25 1636.39 1481.67 Q1633.33 1477.06 1633.33 1468.33 Q1633.33 1459.58 1636.39 1455 Q1639.46 1450.39 1645.27 1450.39 Z\" fill=\"#000000\" fill-rule=\"nonzero\" fill-opacity=\"1\" /><path clip-path=\"url(#clip630)\" d=\"M1941.92 1481.64 L1958.24 1481.64 L1958.24 1485.58 L1936.3 1485.58 L1936.3 1481.64 Q1938.96 1478.89 1943.54 1474.26 Q1948.15 1469.61 1949.33 1468.27 Q1951.58 1465.74 1952.46 1464.01 Q1953.36 1462.25 1953.36 1460.56 Q1953.36 1457.8 1951.41 1456.07 Q1949.49 1454.33 1946.39 1454.33 Q1944.19 1454.33 1941.74 1455.09 Q1939.31 1455.86 1936.53 1457.41 L1936.53 1452.69 Q1939.35 1451.55 1941.81 1450.97 Q1944.26 1450.39 1946.3 1450.39 Q1951.67 1450.39 1954.86 1453.08 Q1958.06 1455.77 1958.06 1460.26 Q1958.06 1462.39 1957.25 1464.31 Q1956.46 1466.2 1954.35 1468.8 Q1953.78 1469.47 1950.67 1472.69 Q1947.57 1475.88 1941.92 1481.64 Z\" fill=\"#000000\" fill-rule=\"nonzero\" fill-opacity=\"1\" /><path clip-path=\"url(#clip630)\" d=\"M1968.1 1451.02 L1986.46 1451.02 L1986.46 1454.96 L1972.39 1454.96 L1972.39 1463.43 Q1973.41 1463.08 1974.42 1462.92 Q1975.44 1462.73 1976.46 1462.73 Q1982.25 1462.73 1985.63 1465.9 Q1989.01 1469.08 1989.01 1474.49 Q1989.01 1480.07 1985.53 1483.17 Q1982.06 1486.25 1975.74 1486.25 Q1973.57 1486.25 1971.3 1485.88 Q1969.05 1485.51 1966.65 1484.77 L1966.65 1480.07 Q1968.73 1481.2 1970.95 1481.76 Q1973.17 1482.32 1975.65 1482.32 Q1979.66 1482.32 1981.99 1480.21 Q1984.33 1478.1 1984.33 1474.49 Q1984.33 1470.88 1981.99 1468.77 Q1979.66 1466.67 1975.65 1466.67 Q1973.78 1466.67 1971.9 1467.08 Q1970.05 1467.5 1968.1 1468.38 L1968.1 1451.02 Z\" fill=\"#000000\" fill-rule=\"nonzero\" fill-opacity=\"1\" /><path clip-path=\"url(#clip630)\" d=\"M2283.78 1466.95 Q2287.14 1467.66 2289.01 1469.93 Q2290.91 1472.2 2290.91 1475.53 Q2290.91 1480.65 2287.39 1483.45 Q2283.87 1486.25 2277.39 1486.25 Q2275.22 1486.25 2272.9 1485.81 Q2270.61 1485.39 2268.16 1484.54 L2268.16 1480.02 Q2270.1 1481.16 2272.42 1481.74 Q2274.73 1482.32 2277.25 1482.32 Q2281.65 1482.32 2283.94 1480.58 Q2286.26 1478.84 2286.26 1475.53 Q2286.26 1472.48 2284.1 1470.77 Q2281.98 1469.03 2278.16 1469.03 L2274.13 1469.03 L2274.13 1465.19 L2278.34 1465.19 Q2281.79 1465.19 2283.62 1463.82 Q2285.45 1462.43 2285.45 1459.84 Q2285.45 1457.18 2283.55 1455.77 Q2281.67 1454.33 2278.16 1454.33 Q2276.23 1454.33 2274.04 1454.75 Q2271.84 1455.16 2269.2 1456.04 L2269.2 1451.88 Q2271.86 1451.14 2274.17 1450.77 Q2276.51 1450.39 2278.57 1450.39 Q2283.9 1450.39 2287 1452.83 Q2290.1 1455.23 2290.1 1459.35 Q2290.1 1462.22 2288.46 1464.21 Q2286.81 1466.18 2283.78 1466.95 Z\" fill=\"#000000\" fill-rule=\"nonzero\" fill-opacity=\"1\" /><path clip-path=\"url(#clip630)\" d=\"M2309.78 1454.1 Q2306.17 1454.1 2304.34 1457.66 Q2302.53 1461.2 2302.53 1468.33 Q2302.53 1475.44 2304.34 1479.01 Q2306.17 1482.55 2309.78 1482.55 Q2313.41 1482.55 2315.22 1479.01 Q2317.04 1475.44 2317.04 1468.33 Q2317.04 1461.2 2315.22 1457.66 Q2313.41 1454.1 2309.78 1454.1 M2309.78 1450.39 Q2315.59 1450.39 2318.64 1455 Q2321.72 1459.58 2321.72 1468.33 Q2321.72 1477.06 2318.64 1481.67 Q2315.59 1486.25 2309.78 1486.25 Q2303.97 1486.25 2300.89 1481.67 Q2297.83 1477.06 2297.83 1468.33 Q2297.83 1459.58 2300.89 1455 Q2303.97 1450.39 2309.78 1450.39 Z\" fill=\"#000000\" fill-rule=\"nonzero\" fill-opacity=\"1\" /><path clip-path=\"url(#clip630)\" d=\"M1237.48 1520.52 L1267.53 1520.52 L1267.53 1525.93 L1243.91 1525.93 L1243.91 1540 L1266.54 1540 L1266.54 1545.41 L1243.91 1545.41 L1243.91 1562.63 L1268.1 1562.63 L1268.1 1568.04 L1237.48 1568.04 L1237.48 1520.52 Z\" fill=\"#000000\" fill-rule=\"nonzero\" fill-opacity=\"1\" /><path clip-path=\"url(#clip630)\" d=\"M1284.08 1562.7 L1284.08 1581.6 L1278.19 1581.6 L1278.19 1532.4 L1284.08 1532.4 L1284.08 1537.81 Q1285.92 1534.62 1288.72 1533.1 Q1291.56 1531.54 1295.47 1531.54 Q1301.96 1531.54 1306.01 1536.69 Q1310.08 1541.85 1310.08 1550.25 Q1310.08 1558.65 1306.01 1563.81 Q1301.96 1568.97 1295.47 1568.97 Q1291.56 1568.97 1288.72 1567.44 Q1285.92 1565.88 1284.08 1562.7 M1304 1550.25 Q1304 1543.79 1301.33 1540.13 Q1298.69 1536.44 1294.04 1536.44 Q1289.39 1536.44 1286.72 1540.13 Q1284.08 1543.79 1284.08 1550.25 Q1284.08 1556.71 1286.72 1560.4 Q1289.39 1564.07 1294.04 1564.07 Q1298.69 1564.07 1301.33 1560.4 Q1304 1556.71 1304 1550.25 Z\" fill=\"#000000\" fill-rule=\"nonzero\" fill-opacity=\"1\" /><path clip-path=\"url(#clip630)\" d=\"M1333.6 1536.5 Q1328.89 1536.5 1326.15 1540.19 Q1323.42 1543.85 1323.42 1550.25 Q1323.42 1556.65 1326.12 1560.34 Q1328.86 1564 1333.6 1564 Q1338.28 1564 1341.02 1560.31 Q1343.76 1556.62 1343.76 1550.25 Q1343.76 1543.92 1341.02 1540.23 Q1338.28 1536.5 1333.6 1536.5 M1333.6 1531.54 Q1341.24 1531.54 1345.6 1536.5 Q1349.96 1541.47 1349.96 1550.25 Q1349.96 1559 1345.6 1564 Q1341.24 1568.97 1333.6 1568.97 Q1325.93 1568.97 1321.57 1564 Q1317.24 1559 1317.24 1550.25 Q1317.24 1541.47 1321.57 1536.5 Q1325.93 1531.54 1333.6 1531.54 Z\" fill=\"#000000\" fill-rule=\"nonzero\" fill-opacity=\"1\" /><path clip-path=\"url(#clip630)\" d=\"M1385.32 1533.76 L1385.32 1539.24 Q1382.84 1537.87 1380.33 1537.2 Q1377.84 1536.5 1375.3 1536.5 Q1369.6 1536.5 1366.45 1540.13 Q1363.3 1543.73 1363.3 1550.25 Q1363.3 1556.78 1366.45 1560.4 Q1369.6 1564 1375.3 1564 Q1377.84 1564 1380.33 1563.33 Q1382.84 1562.63 1385.32 1561.26 L1385.32 1566.68 Q1382.87 1567.82 1380.23 1568.39 Q1377.62 1568.97 1374.66 1568.97 Q1366.61 1568.97 1361.87 1563.91 Q1357.12 1558.85 1357.12 1550.25 Q1357.12 1541.53 1361.9 1536.53 Q1366.7 1531.54 1375.04 1531.54 Q1377.75 1531.54 1380.33 1532.11 Q1382.9 1532.65 1385.32 1533.76 Z\" fill=\"#000000\" fill-rule=\"nonzero\" fill-opacity=\"1\" /><path clip-path=\"url(#clip630)\" d=\"M1425.14 1546.53 L1425.14 1568.04 L1419.28 1568.04 L1419.28 1546.72 Q1419.28 1541.66 1417.31 1539.14 Q1415.34 1536.63 1411.39 1536.63 Q1406.65 1536.63 1403.91 1539.65 Q1401.17 1542.68 1401.17 1547.9 L1401.17 1568.04 L1395.29 1568.04 L1395.29 1518.52 L1401.17 1518.52 L1401.17 1537.93 Q1403.28 1534.72 1406.11 1533.13 Q1408.97 1531.54 1412.7 1531.54 Q1418.84 1531.54 1421.99 1535.36 Q1425.14 1539.14 1425.14 1546.53 Z\" fill=\"#000000\" fill-rule=\"nonzero\" fill-opacity=\"1\" /><polyline clip-path=\"url(#clip632)\" style=\"stroke:#000000; stroke-linecap:round; stroke-linejoin:round; stroke-width:2; stroke-opacity:0.1; fill:none\" points=\"309.866,1356.93 2352.76,1356.93 \"/>\n",
       "<polyline clip-path=\"url(#clip632)\" style=\"stroke:#000000; stroke-linecap:round; stroke-linejoin:round; stroke-width:2; stroke-opacity:0.1; fill:none\" points=\"309.866,1038.81 2352.76,1038.81 \"/>\n",
       "<polyline clip-path=\"url(#clip632)\" style=\"stroke:#000000; stroke-linecap:round; stroke-linejoin:round; stroke-width:2; stroke-opacity:0.1; fill:none\" points=\"309.866,720.689 2352.76,720.689 \"/>\n",
       "<polyline clip-path=\"url(#clip632)\" style=\"stroke:#000000; stroke-linecap:round; stroke-linejoin:round; stroke-width:2; stroke-opacity:0.1; fill:none\" points=\"309.866,402.568 2352.76,402.568 \"/>\n",
       "<polyline clip-path=\"url(#clip632)\" style=\"stroke:#000000; stroke-linecap:round; stroke-linejoin:round; stroke-width:2; stroke-opacity:0.1; fill:none\" points=\"309.866,84.4466 2352.76,84.4466 \"/>\n",
       "<polyline clip-path=\"url(#clip630)\" style=\"stroke:#000000; stroke-linecap:round; stroke-linejoin:round; stroke-width:4; stroke-opacity:1; fill:none\" points=\"309.866,1423.18 309.866,47.2441 \"/>\n",
       "<polyline clip-path=\"url(#clip630)\" style=\"stroke:#000000; stroke-linecap:round; stroke-linejoin:round; stroke-width:4; stroke-opacity:1; fill:none\" points=\"2352.76,1423.18 2352.76,47.2441 \"/>\n",
       "<polyline clip-path=\"url(#clip630)\" style=\"stroke:#000000; stroke-linecap:round; stroke-linejoin:round; stroke-width:4; stroke-opacity:1; fill:none\" points=\"309.866,1356.93 328.763,1356.93 \"/>\n",
       "<polyline clip-path=\"url(#clip630)\" style=\"stroke:#000000; stroke-linecap:round; stroke-linejoin:round; stroke-width:4; stroke-opacity:1; fill:none\" points=\"309.866,1038.81 328.763,1038.81 \"/>\n",
       "<polyline clip-path=\"url(#clip630)\" style=\"stroke:#000000; stroke-linecap:round; stroke-linejoin:round; stroke-width:4; stroke-opacity:1; fill:none\" points=\"309.866,720.689 328.763,720.689 \"/>\n",
       "<polyline clip-path=\"url(#clip630)\" style=\"stroke:#000000; stroke-linecap:round; stroke-linejoin:round; stroke-width:4; stroke-opacity:1; fill:none\" points=\"309.866,402.568 328.763,402.568 \"/>\n",
       "<polyline clip-path=\"url(#clip630)\" style=\"stroke:#000000; stroke-linecap:round; stroke-linejoin:round; stroke-width:4; stroke-opacity:1; fill:none\" points=\"309.866,84.4466 328.763,84.4466 \"/>\n",
       "<path clip-path=\"url(#clip630)\" d=\"M127.2 1342.73 Q123.589 1342.73 121.76 1346.29 Q119.955 1349.84 119.955 1356.97 Q119.955 1364.07 121.76 1367.64 Q123.589 1371.18 127.2 1371.18 Q130.834 1371.18 132.64 1367.64 Q134.468 1364.07 134.468 1356.97 Q134.468 1349.84 132.64 1346.29 Q130.834 1342.73 127.2 1342.73 M127.2 1339.03 Q133.01 1339.03 136.066 1343.63 Q139.144 1348.22 139.144 1356.97 Q139.144 1365.69 136.066 1370.3 Q133.01 1374.88 127.2 1374.88 Q121.39 1374.88 118.311 1370.3 Q115.256 1365.69 115.256 1356.97 Q115.256 1348.22 118.311 1343.63 Q121.39 1339.03 127.2 1339.03 Z\" fill=\"#000000\" fill-rule=\"nonzero\" fill-opacity=\"1\" /><path clip-path=\"url(#clip630)\" d=\"M147.362 1368.33 L152.246 1368.33 L152.246 1374.21 L147.362 1374.21 L147.362 1368.33 Z\" fill=\"#000000\" fill-rule=\"nonzero\" fill-opacity=\"1\" /><path clip-path=\"url(#clip630)\" d=\"M172.431 1342.73 Q168.82 1342.73 166.991 1346.29 Q165.186 1349.84 165.186 1356.97 Q165.186 1364.07 166.991 1367.64 Q168.82 1371.18 172.431 1371.18 Q176.065 1371.18 177.871 1367.64 Q179.7 1364.07 179.7 1356.97 Q179.7 1349.84 177.871 1346.29 Q176.065 1342.73 172.431 1342.73 M172.431 1339.03 Q178.241 1339.03 181.297 1343.63 Q184.376 1348.22 184.376 1356.97 Q184.376 1365.69 181.297 1370.3 Q178.241 1374.88 172.431 1374.88 Q166.621 1374.88 163.542 1370.3 Q160.487 1365.69 160.487 1356.97 Q160.487 1348.22 163.542 1343.63 Q166.621 1339.03 172.431 1339.03 Z\" fill=\"#000000\" fill-rule=\"nonzero\" fill-opacity=\"1\" /><path clip-path=\"url(#clip630)\" d=\"M202.593 1342.73 Q198.982 1342.73 197.153 1346.29 Q195.348 1349.84 195.348 1356.97 Q195.348 1364.07 197.153 1367.64 Q198.982 1371.18 202.593 1371.18 Q206.227 1371.18 208.033 1367.64 Q209.861 1364.07 209.861 1356.97 Q209.861 1349.84 208.033 1346.29 Q206.227 1342.73 202.593 1342.73 M202.593 1339.03 Q208.403 1339.03 211.459 1343.63 Q214.537 1348.22 214.537 1356.97 Q214.537 1365.69 211.459 1370.3 Q208.403 1374.88 202.593 1374.88 Q196.783 1374.88 193.704 1370.3 Q190.649 1365.69 190.649 1356.97 Q190.649 1348.22 193.704 1343.63 Q196.783 1339.03 202.593 1339.03 Z\" fill=\"#000000\" fill-rule=\"nonzero\" fill-opacity=\"1\" /><path clip-path=\"url(#clip630)\" d=\"M226.783 1370.28 L243.102 1370.28 L243.102 1374.21 L221.158 1374.21 L221.158 1370.28 Q223.82 1367.52 228.403 1362.89 Q233.01 1358.24 234.19 1356.9 Q236.435 1354.37 237.315 1352.64 Q238.218 1350.88 238.218 1349.19 Q238.218 1346.43 236.273 1344.7 Q234.352 1342.96 231.25 1342.96 Q229.051 1342.96 226.598 1343.72 Q224.167 1344.49 221.389 1346.04 L221.389 1341.32 Q224.213 1340.18 226.667 1339.6 Q229.121 1339.03 231.158 1339.03 Q236.528 1339.03 239.722 1341.71 Q242.917 1344.4 242.917 1348.89 Q242.917 1351.02 242.107 1352.94 Q241.32 1354.84 239.213 1357.43 Q238.634 1358.1 235.533 1361.32 Q232.431 1364.51 226.783 1370.28 Z\" fill=\"#000000\" fill-rule=\"nonzero\" fill-opacity=\"1\" /><path clip-path=\"url(#clip630)\" d=\"M252.963 1339.65 L271.32 1339.65 L271.32 1343.59 L257.246 1343.59 L257.246 1352.06 Q258.264 1351.71 259.283 1351.55 Q260.301 1351.36 261.32 1351.36 Q267.107 1351.36 270.486 1354.53 Q273.866 1357.71 273.866 1363.12 Q273.866 1368.7 270.394 1371.8 Q266.921 1374.88 260.602 1374.88 Q258.426 1374.88 256.158 1374.51 Q253.912 1374.14 251.505 1373.4 L251.505 1368.7 Q253.588 1369.84 255.81 1370.39 Q258.033 1370.95 260.509 1370.95 Q264.514 1370.95 266.852 1368.84 Q269.19 1366.73 269.19 1363.12 Q269.19 1359.51 266.852 1357.41 Q264.514 1355.3 260.509 1355.3 Q258.634 1355.3 256.759 1355.72 Q254.908 1356.13 252.963 1357.01 L252.963 1339.65 Z\" fill=\"#000000\" fill-rule=\"nonzero\" fill-opacity=\"1\" /><path clip-path=\"url(#clip630)\" d=\"M126.205 1024.61 Q122.593 1024.61 120.765 1028.17 Q118.959 1031.71 118.959 1038.84 Q118.959 1045.95 120.765 1049.52 Q122.593 1053.06 126.205 1053.06 Q129.839 1053.06 131.644 1049.52 Q133.473 1045.95 133.473 1038.84 Q133.473 1031.71 131.644 1028.17 Q129.839 1024.61 126.205 1024.61 M126.205 1020.9 Q132.015 1020.9 135.07 1025.51 Q138.149 1030.09 138.149 1038.84 Q138.149 1047.57 135.07 1052.18 Q132.015 1056.76 126.205 1056.76 Q120.394 1056.76 117.316 1052.18 Q114.26 1047.57 114.26 1038.84 Q114.26 1030.09 117.316 1025.51 Q120.394 1020.9 126.205 1020.9 Z\" fill=\"#000000\" fill-rule=\"nonzero\" fill-opacity=\"1\" /><path clip-path=\"url(#clip630)\" d=\"M146.366 1050.21 L151.251 1050.21 L151.251 1056.09 L146.366 1056.09 L146.366 1050.21 Z\" fill=\"#000000\" fill-rule=\"nonzero\" fill-opacity=\"1\" /><path clip-path=\"url(#clip630)\" d=\"M171.436 1024.61 Q167.825 1024.61 165.996 1028.17 Q164.19 1031.71 164.19 1038.84 Q164.19 1045.95 165.996 1049.52 Q167.825 1053.06 171.436 1053.06 Q175.07 1053.06 176.876 1049.52 Q178.704 1045.95 178.704 1038.84 Q178.704 1031.71 176.876 1028.17 Q175.07 1024.61 171.436 1024.61 M171.436 1020.9 Q177.246 1020.9 180.301 1025.51 Q183.38 1030.09 183.38 1038.84 Q183.38 1047.57 180.301 1052.18 Q177.246 1056.76 171.436 1056.76 Q165.626 1056.76 162.547 1052.18 Q159.491 1047.57 159.491 1038.84 Q159.491 1030.09 162.547 1025.51 Q165.626 1020.9 171.436 1020.9 Z\" fill=\"#000000\" fill-rule=\"nonzero\" fill-opacity=\"1\" /><path clip-path=\"url(#clip630)\" d=\"M201.598 1024.61 Q197.987 1024.61 196.158 1028.17 Q194.352 1031.71 194.352 1038.84 Q194.352 1045.95 196.158 1049.52 Q197.987 1053.06 201.598 1053.06 Q205.232 1053.06 207.037 1049.52 Q208.866 1045.95 208.866 1038.84 Q208.866 1031.71 207.037 1028.17 Q205.232 1024.61 201.598 1024.61 M201.598 1020.9 Q207.408 1020.9 210.463 1025.51 Q213.542 1030.09 213.542 1038.84 Q213.542 1047.57 210.463 1052.18 Q207.408 1056.76 201.598 1056.76 Q195.787 1056.76 192.709 1052.18 Q189.653 1047.57 189.653 1038.84 Q189.653 1030.09 192.709 1025.51 Q195.787 1020.9 201.598 1020.9 Z\" fill=\"#000000\" fill-rule=\"nonzero\" fill-opacity=\"1\" /><path clip-path=\"url(#clip630)\" d=\"M221.806 1021.53 L240.162 1021.53 L240.162 1025.46 L226.088 1025.46 L226.088 1033.94 Q227.107 1033.59 228.125 1033.43 Q229.144 1033.24 230.162 1033.24 Q235.949 1033.24 239.329 1036.41 Q242.709 1039.59 242.709 1045 Q242.709 1050.58 239.236 1053.68 Q235.764 1056.76 229.445 1056.76 Q227.269 1056.76 225 1056.39 Q222.755 1056.02 220.348 1055.28 L220.348 1050.58 Q222.431 1051.71 224.653 1052.27 Q226.875 1052.83 229.352 1052.83 Q233.357 1052.83 235.695 1050.72 Q238.033 1048.61 238.033 1045 Q238.033 1041.39 235.695 1039.28 Q233.357 1037.18 229.352 1037.18 Q227.477 1037.18 225.602 1037.59 Q223.75 1038.01 221.806 1038.89 L221.806 1021.53 Z\" fill=\"#000000\" fill-rule=\"nonzero\" fill-opacity=\"1\" /><path clip-path=\"url(#clip630)\" d=\"M261.921 1024.61 Q258.31 1024.61 256.482 1028.17 Q254.676 1031.71 254.676 1038.84 Q254.676 1045.95 256.482 1049.52 Q258.31 1053.06 261.921 1053.06 Q265.556 1053.06 267.361 1049.52 Q269.19 1045.95 269.19 1038.84 Q269.19 1031.71 267.361 1028.17 Q265.556 1024.61 261.921 1024.61 M261.921 1020.9 Q267.732 1020.9 270.787 1025.51 Q273.866 1030.09 273.866 1038.84 Q273.866 1047.57 270.787 1052.18 Q267.732 1056.76 261.921 1056.76 Q256.111 1056.76 253.033 1052.18 Q249.977 1047.57 249.977 1038.84 Q249.977 1030.09 253.033 1025.51 Q256.111 1020.9 261.921 1020.9 Z\" fill=\"#000000\" fill-rule=\"nonzero\" fill-opacity=\"1\" /><path clip-path=\"url(#clip630)\" d=\"M127.2 706.487 Q123.589 706.487 121.76 710.052 Q119.955 713.594 119.955 720.723 Q119.955 727.83 121.76 731.395 Q123.589 734.936 127.2 734.936 Q130.834 734.936 132.64 731.395 Q134.468 727.83 134.468 720.723 Q134.468 713.594 132.64 710.052 Q130.834 706.487 127.2 706.487 M127.2 702.784 Q133.01 702.784 136.066 707.39 Q139.144 711.973 139.144 720.723 Q139.144 729.45 136.066 734.057 Q133.01 738.64 127.2 738.64 Q121.39 738.64 118.311 734.057 Q115.256 729.45 115.256 720.723 Q115.256 711.973 118.311 707.39 Q121.39 702.784 127.2 702.784 Z\" fill=\"#000000\" fill-rule=\"nonzero\" fill-opacity=\"1\" /><path clip-path=\"url(#clip630)\" d=\"M147.362 732.089 L152.246 732.089 L152.246 737.969 L147.362 737.969 L147.362 732.089 Z\" fill=\"#000000\" fill-rule=\"nonzero\" fill-opacity=\"1\" /><path clip-path=\"url(#clip630)\" d=\"M172.431 706.487 Q168.82 706.487 166.991 710.052 Q165.186 713.594 165.186 720.723 Q165.186 727.83 166.991 731.395 Q168.82 734.936 172.431 734.936 Q176.065 734.936 177.871 731.395 Q179.7 727.83 179.7 720.723 Q179.7 713.594 177.871 710.052 Q176.065 706.487 172.431 706.487 M172.431 702.784 Q178.241 702.784 181.297 707.39 Q184.376 711.973 184.376 720.723 Q184.376 729.45 181.297 734.057 Q178.241 738.64 172.431 738.64 Q166.621 738.64 163.542 734.057 Q160.487 729.45 160.487 720.723 Q160.487 711.973 163.542 707.39 Q166.621 702.784 172.431 702.784 Z\" fill=\"#000000\" fill-rule=\"nonzero\" fill-opacity=\"1\" /><path clip-path=\"url(#clip630)\" d=\"M202.593 706.487 Q198.982 706.487 197.153 710.052 Q195.348 713.594 195.348 720.723 Q195.348 727.83 197.153 731.395 Q198.982 734.936 202.593 734.936 Q206.227 734.936 208.033 731.395 Q209.861 727.83 209.861 720.723 Q209.861 713.594 208.033 710.052 Q206.227 706.487 202.593 706.487 M202.593 702.784 Q208.403 702.784 211.459 707.39 Q214.537 711.973 214.537 720.723 Q214.537 729.45 211.459 734.057 Q208.403 738.64 202.593 738.64 Q196.783 738.64 193.704 734.057 Q190.649 729.45 190.649 720.723 Q190.649 711.973 193.704 707.39 Q196.783 702.784 202.593 702.784 Z\" fill=\"#000000\" fill-rule=\"nonzero\" fill-opacity=\"1\" /><path clip-path=\"url(#clip630)\" d=\"M221.574 703.409 L243.797 703.409 L243.797 705.399 L231.25 737.969 L226.366 737.969 L238.172 707.344 L221.574 707.344 L221.574 703.409 Z\" fill=\"#000000\" fill-rule=\"nonzero\" fill-opacity=\"1\" /><path clip-path=\"url(#clip630)\" d=\"M252.963 703.409 L271.32 703.409 L271.32 707.344 L257.246 707.344 L257.246 715.816 Q258.264 715.469 259.283 715.307 Q260.301 715.122 261.32 715.122 Q267.107 715.122 270.486 718.293 Q273.866 721.464 273.866 726.881 Q273.866 732.459 270.394 735.561 Q266.921 738.64 260.602 738.64 Q258.426 738.64 256.158 738.27 Q253.912 737.899 251.505 737.159 L251.505 732.459 Q253.588 733.594 255.81 734.149 Q258.033 734.705 260.509 734.705 Q264.514 734.705 266.852 732.598 Q269.19 730.492 269.19 726.881 Q269.19 723.27 266.852 721.163 Q264.514 719.057 260.509 719.057 Q258.634 719.057 256.759 719.473 Q254.908 719.89 252.963 720.77 L252.963 703.409 Z\" fill=\"#000000\" fill-rule=\"nonzero\" fill-opacity=\"1\" /><path clip-path=\"url(#clip630)\" d=\"M126.205 388.366 Q122.593 388.366 120.765 391.931 Q118.959 395.473 118.959 402.602 Q118.959 409.709 120.765 413.274 Q122.593 416.815 126.205 416.815 Q129.839 416.815 131.644 413.274 Q133.473 409.709 133.473 402.602 Q133.473 395.473 131.644 391.931 Q129.839 388.366 126.205 388.366 M126.205 384.663 Q132.015 384.663 135.07 389.269 Q138.149 393.852 138.149 402.602 Q138.149 411.329 135.07 415.936 Q132.015 420.519 126.205 420.519 Q120.394 420.519 117.316 415.936 Q114.26 411.329 114.26 402.602 Q114.26 393.852 117.316 389.269 Q120.394 384.663 126.205 384.663 Z\" fill=\"#000000\" fill-rule=\"nonzero\" fill-opacity=\"1\" /><path clip-path=\"url(#clip630)\" d=\"M146.366 413.968 L151.251 413.968 L151.251 419.848 L146.366 419.848 L146.366 413.968 Z\" fill=\"#000000\" fill-rule=\"nonzero\" fill-opacity=\"1\" /><path clip-path=\"url(#clip630)\" d=\"M171.436 388.366 Q167.825 388.366 165.996 391.931 Q164.19 395.473 164.19 402.602 Q164.19 409.709 165.996 413.274 Q167.825 416.815 171.436 416.815 Q175.07 416.815 176.876 413.274 Q178.704 409.709 178.704 402.602 Q178.704 395.473 176.876 391.931 Q175.07 388.366 171.436 388.366 M171.436 384.663 Q177.246 384.663 180.301 389.269 Q183.38 393.852 183.38 402.602 Q183.38 411.329 180.301 415.936 Q177.246 420.519 171.436 420.519 Q165.626 420.519 162.547 415.936 Q159.491 411.329 159.491 402.602 Q159.491 393.852 162.547 389.269 Q165.626 384.663 171.436 384.663 Z\" fill=\"#000000\" fill-rule=\"nonzero\" fill-opacity=\"1\" /><path clip-path=\"url(#clip630)\" d=\"M192.408 415.912 L200.047 415.912 L200.047 389.547 L191.737 391.214 L191.737 386.954 L200 385.288 L204.676 385.288 L204.676 415.912 L212.315 415.912 L212.315 419.848 L192.408 419.848 L192.408 415.912 Z\" fill=\"#000000\" fill-rule=\"nonzero\" fill-opacity=\"1\" /><path clip-path=\"url(#clip630)\" d=\"M231.76 388.366 Q228.148 388.366 226.32 391.931 Q224.514 395.473 224.514 402.602 Q224.514 409.709 226.32 413.274 Q228.148 416.815 231.76 416.815 Q235.394 416.815 237.199 413.274 Q239.028 409.709 239.028 402.602 Q239.028 395.473 237.199 391.931 Q235.394 388.366 231.76 388.366 M231.76 384.663 Q237.57 384.663 240.625 389.269 Q243.704 393.852 243.704 402.602 Q243.704 411.329 240.625 415.936 Q237.57 420.519 231.76 420.519 Q225.949 420.519 222.871 415.936 Q219.815 411.329 219.815 402.602 Q219.815 393.852 222.871 389.269 Q225.949 384.663 231.76 384.663 Z\" fill=\"#000000\" fill-rule=\"nonzero\" fill-opacity=\"1\" /><path clip-path=\"url(#clip630)\" d=\"M261.921 388.366 Q258.31 388.366 256.482 391.931 Q254.676 395.473 254.676 402.602 Q254.676 409.709 256.482 413.274 Q258.31 416.815 261.921 416.815 Q265.556 416.815 267.361 413.274 Q269.19 409.709 269.19 402.602 Q269.19 395.473 267.361 391.931 Q265.556 388.366 261.921 388.366 M261.921 384.663 Q267.732 384.663 270.787 389.269 Q273.866 393.852 273.866 402.602 Q273.866 411.329 270.787 415.936 Q267.732 420.519 261.921 420.519 Q256.111 420.519 253.033 415.936 Q249.977 411.329 249.977 402.602 Q249.977 393.852 253.033 389.269 Q256.111 384.663 261.921 384.663 Z\" fill=\"#000000\" fill-rule=\"nonzero\" fill-opacity=\"1\" /><path clip-path=\"url(#clip630)\" d=\"M127.2 70.2453 Q123.589 70.2453 121.76 73.8101 Q119.955 77.3517 119.955 84.4813 Q119.955 91.5878 121.76 95.1526 Q123.589 98.6942 127.2 98.6942 Q130.834 98.6942 132.64 95.1526 Q134.468 91.5878 134.468 84.4813 Q134.468 77.3517 132.64 73.8101 Q130.834 70.2453 127.2 70.2453 M127.2 66.5416 Q133.01 66.5416 136.066 71.1481 Q139.144 75.7314 139.144 84.4813 Q139.144 93.2081 136.066 97.8146 Q133.01 102.398 127.2 102.398 Q121.39 102.398 118.311 97.8146 Q115.256 93.2081 115.256 84.4813 Q115.256 75.7314 118.311 71.1481 Q121.39 66.5416 127.2 66.5416 Z\" fill=\"#000000\" fill-rule=\"nonzero\" fill-opacity=\"1\" /><path clip-path=\"url(#clip630)\" d=\"M147.362 95.847 L152.246 95.847 L152.246 101.727 L147.362 101.727 L147.362 95.847 Z\" fill=\"#000000\" fill-rule=\"nonzero\" fill-opacity=\"1\" /><path clip-path=\"url(#clip630)\" d=\"M172.431 70.2453 Q168.82 70.2453 166.991 73.8101 Q165.186 77.3517 165.186 84.4813 Q165.186 91.5878 166.991 95.1526 Q168.82 98.6942 172.431 98.6942 Q176.065 98.6942 177.871 95.1526 Q179.7 91.5878 179.7 84.4813 Q179.7 77.3517 177.871 73.8101 Q176.065 70.2453 172.431 70.2453 M172.431 66.5416 Q178.241 66.5416 181.297 71.1481 Q184.376 75.7314 184.376 84.4813 Q184.376 93.2081 181.297 97.8146 Q178.241 102.398 172.431 102.398 Q166.621 102.398 163.542 97.8146 Q160.487 93.2081 160.487 84.4813 Q160.487 75.7314 163.542 71.1481 Q166.621 66.5416 172.431 66.5416 Z\" fill=\"#000000\" fill-rule=\"nonzero\" fill-opacity=\"1\" /><path clip-path=\"url(#clip630)\" d=\"M193.403 97.7915 L201.042 97.7915 L201.042 71.4259 L192.732 73.0925 L192.732 68.8333 L200.996 67.1666 L205.672 67.1666 L205.672 97.7915 L213.311 97.7915 L213.311 101.727 L193.403 101.727 L193.403 97.7915 Z\" fill=\"#000000\" fill-rule=\"nonzero\" fill-opacity=\"1\" /><path clip-path=\"url(#clip630)\" d=\"M226.783 97.7915 L243.102 97.7915 L243.102 101.727 L221.158 101.727 L221.158 97.7915 Q223.82 95.0368 228.403 90.4072 Q233.01 85.7545 234.19 84.4119 Q236.435 81.8888 237.315 80.1527 Q238.218 78.3934 238.218 76.7036 Q238.218 73.949 236.273 72.2129 Q234.352 70.4768 231.25 70.4768 Q229.051 70.4768 226.598 71.2407 Q224.167 72.0046 221.389 73.5555 L221.389 68.8333 Q224.213 67.699 226.667 67.1203 Q229.121 66.5416 231.158 66.5416 Q236.528 66.5416 239.722 69.2268 Q242.917 71.912 242.917 76.4027 Q242.917 78.5323 242.107 80.4536 Q241.32 82.3517 239.213 84.9443 Q238.634 85.6156 235.533 88.8332 Q232.431 92.0276 226.783 97.7915 Z\" fill=\"#000000\" fill-rule=\"nonzero\" fill-opacity=\"1\" /><path clip-path=\"url(#clip630)\" d=\"M252.963 67.1666 L271.32 67.1666 L271.32 71.1018 L257.246 71.1018 L257.246 79.574 Q258.264 79.2267 259.283 79.0647 Q260.301 78.8795 261.32 78.8795 Q267.107 78.8795 270.486 82.0508 Q273.866 85.2221 273.866 90.6387 Q273.866 96.2174 270.394 99.3192 Q266.921 102.398 260.602 102.398 Q258.426 102.398 256.158 102.028 Q253.912 101.657 251.505 100.916 L251.505 96.2174 Q253.588 97.3516 255.81 97.9072 Q258.033 98.4627 260.509 98.4627 Q264.514 98.4627 266.852 96.3563 Q269.19 94.2498 269.19 90.6387 Q269.19 87.0276 266.852 84.9212 Q264.514 82.8147 260.509 82.8147 Q258.634 82.8147 256.759 83.2313 Q254.908 83.648 252.963 84.5276 L252.963 67.1666 Z\" fill=\"#000000\" fill-rule=\"nonzero\" fill-opacity=\"1\" /><path clip-path=\"url(#clip630)\" d=\"M16.4842 801.909 L16.4842 795.479 L58.5933 795.479 L58.5933 772.34 L64.0042 772.34 L64.0042 801.909 L16.4842 801.909 Z\" fill=\"#000000\" fill-rule=\"nonzero\" fill-opacity=\"1\" /><path clip-path=\"url(#clip630)\" d=\"M32.4621 753.179 Q32.4621 757.89 36.1542 760.627 Q39.8145 763.364 46.212 763.364 Q52.6095 763.364 56.3017 760.659 Q59.9619 757.922 59.9619 753.179 Q59.9619 748.5 56.2698 745.763 Q52.5777 743.026 46.212 743.026 Q39.8781 743.026 36.186 745.763 Q32.4621 748.5 32.4621 753.179 M27.4968 753.179 Q27.4968 745.54 32.4621 741.18 Q37.4273 736.819 46.212 736.819 Q54.9649 736.819 59.9619 741.18 Q64.9272 745.54 64.9272 753.179 Q64.9272 760.85 59.9619 765.21 Q54.9649 769.539 46.212 769.539 Q37.4273 769.539 32.4621 765.21 Q27.4968 760.85 27.4968 753.179 Z\" fill=\"#000000\" fill-rule=\"nonzero\" fill-opacity=\"1\" /><path clip-path=\"url(#clip630)\" d=\"M29.4065 704.386 L34.9447 704.386 Q33.6716 706.869 33.035 709.542 Q32.3984 712.216 32.3984 715.08 Q32.3984 719.441 33.7352 721.637 Q35.072 723.801 37.7456 723.801 Q39.7826 723.801 40.9603 722.242 Q42.1061 720.682 43.1565 715.972 L43.6021 713.966 Q44.9389 707.728 47.3897 705.118 Q49.8086 702.476 54.1691 702.476 Q59.1344 702.476 62.0308 706.423 Q64.9272 710.338 64.9272 717.213 Q64.9272 720.078 64.3543 723.197 Q63.8132 726.284 62.6992 729.722 L56.6518 729.722 Q58.3387 726.475 59.198 723.324 Q60.0256 720.173 60.0256 717.086 Q60.0256 712.948 58.6251 710.72 Q57.1929 708.492 54.6147 708.492 Q52.2276 708.492 50.9545 710.115 Q49.6813 711.707 48.5037 717.149 L48.0262 719.186 Q46.8804 724.629 44.5251 727.048 Q42.138 729.467 38.0002 729.467 Q32.9713 729.467 30.2341 725.902 Q27.4968 722.337 27.4968 715.781 Q27.4968 712.534 27.9743 709.67 Q28.4517 706.805 29.4065 704.386 Z\" fill=\"#000000\" fill-rule=\"nonzero\" fill-opacity=\"1\" /><path clip-path=\"url(#clip630)\" d=\"M29.4065 670.425 L34.9447 670.425 Q33.6716 672.908 33.035 675.581 Q32.3984 678.255 32.3984 681.119 Q32.3984 685.48 33.7352 687.676 Q35.072 689.84 37.7456 689.84 Q39.7826 689.84 40.9603 688.281 Q42.1061 686.721 43.1565 682.011 L43.6021 680.005 Q44.9389 673.767 47.3897 671.157 Q49.8086 668.515 54.1691 668.515 Q59.1344 668.515 62.0308 672.462 Q64.9272 676.377 64.9272 683.252 Q64.9272 686.116 64.3543 689.236 Q63.8132 692.323 62.6992 695.761 L56.6518 695.761 Q58.3387 692.514 59.198 689.363 Q60.0256 686.212 60.0256 683.125 Q60.0256 678.987 58.6251 676.759 Q57.1929 674.531 54.6147 674.531 Q52.2276 674.531 50.9545 676.154 Q49.6813 677.746 48.5037 683.188 L48.0262 685.225 Q46.8804 690.668 44.5251 693.087 Q42.138 695.506 38.0002 695.506 Q32.9713 695.506 30.2341 691.941 Q27.4968 688.376 27.4968 681.82 Q27.4968 678.573 27.9743 675.709 Q28.4517 672.844 29.4065 670.425 Z\" fill=\"#000000\" fill-rule=\"nonzero\" fill-opacity=\"1\" /><polyline clip-path=\"url(#clip632)\" style=\"stroke:#009af9; stroke-linecap:round; stroke-linejoin:round; stroke-width:8; stroke-opacity:1; fill:none\" points=\"367.683,86.1857 434.14,157.473 500.598,227.012 567.055,294.747 633.512,360.626 699.969,424.603 766.426,486.641 832.883,546.706 899.34,604.774 965.797,660.826 1032.25,714.852 1098.71,766.847 1165.17,816.814 1231.63,864.76 1298.08,910.702 1364.54,954.66 1431,996.661 1497.45,1036.74 1563.91,1074.93 1630.37,1111.27 1696.82,1145.8 1763.28,1178.59 1829.74,1209.67 1896.2,1239.1 1962.65,1266.93 2029.11,1293.23 2095.57,1318.06 2162.02,1341.46 2228.48,1363.5 2294.94,1384.24 \"/>\n",
       "</svg>\n"
      ]
     },
     "execution_count": 25,
     "metadata": {},
     "output_type": "execute_result"
    }
   ],
   "source": [
    "plot(loss_train, legend=nothing, framestyle=:box, linewidth=2)\n",
    "ylabel!(\"Loss\")\n",
    "xlabel!(\"Epoch\")"
   ]
  },
  {
   "cell_type": "code",
   "execution_count": 26,
   "id": "c52b0cda-c2f7-444e-bc90-3dd4c757170a",
   "metadata": {},
   "outputs": [
    {
     "name": "stdout",
     "output_type": "stream",
     "text": [
      "Initial epsilon:   1.0\n",
      "Estimated epsilon: 1.0257508458171165\n",
      "Target epsilon:    1.5\n",
      "\n",
      "Initial sigma:   2.0\n",
      "Estimated sigma: 2.0260384797368474\n",
      "Target sigma:    2.5\n"
     ]
    }
   ],
   "source": [
    "println(\"Initial epsilon:   \", param_set[2][1])\n",
    "println(\"Estimated epsilon: \", m.P[1])\n",
    "println(\"Target epsilon:    \", epsilon_target)\n",
    "println()\n",
    "println(\"Initial sigma:   \", param_set[2][2])\n",
    "println(\"Estimated sigma: \", m.P[2])\n",
    "println(\"Target sigma:    \", sigma_target)"
   ]
  }
 ],
 "metadata": {
  "kernelspec": {
   "display_name": "Julia 1.9.2",
   "language": "julia",
   "name": "julia-1.9"
  },
  "language_info": {
   "file_extension": ".jl",
   "mimetype": "application/julia",
   "name": "julia",
   "version": "1.9.2"
  }
 },
 "nbformat": 4,
 "nbformat_minor": 5
}
