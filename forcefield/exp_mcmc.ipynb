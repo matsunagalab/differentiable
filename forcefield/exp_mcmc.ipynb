{
 "cells": [
  {
   "cell_type": "markdown",
   "id": "52e9acc6",
   "metadata": {},
   "source": [
    "### 座標とポテンシャルエネルギーを訓練データとして、エネルギー関数のパラメータ($\\epsilon$と$\\sigma$)を学習する"
   ]
  },
  {
   "cell_type": "markdown",
   "id": "49a459f6",
   "metadata": {},
   "source": [
    "### 必要なパッケージを読み込む"
   ]
  },
  {
   "cell_type": "code",
   "execution_count": 1,
   "id": "0403461b-dea0-4b9e-9559-6e74fcccbe63",
   "metadata": {
    "tags": []
   },
   "outputs": [],
   "source": [
    "using Flux, Plots\n",
    "using ChainRulesCore\n",
    "using Statistics\n",
    "using Random\n",
    "using Distributions\n",
    "using MDToolbox"
   ]
  },
  {
   "cell_type": "markdown",
   "id": "1f79f36a",
   "metadata": {},
   "source": [
    "### ポテンシャルエネルギー関数の定義"
   ]
  },
  {
   "cell_type": "code",
   "execution_count": 2,
   "id": "08e558bf-297d-453e-ac00-54451d820cf4",
   "metadata": {
    "tags": []
   },
   "outputs": [
    {
     "data": {
      "text/plain": [
       "sum_compute_energy (generic function with 1 method)"
      ]
     },
     "execution_count": 2,
     "metadata": {},
     "output_type": "execute_result"
    }
   ],
   "source": [
    "#2原子の距離を用いポテンシャルを計算\n",
    "function compute_energy(coords1, coords2, epsilon, sigma)\n",
    "    r = sqrt(sum((coords1 .- coords2).^2))\n",
    "    U = epsilon * ((sigma/r)^12 - 2 * (sigma/r)^6)\n",
    "    return U\n",
    "end\n",
    "\n",
    "#nステップ目のポテンシャルを計算\n",
    "function sum_compute_energy(coords, epsilon, sigma)\n",
    "    U = 0\n",
    "    for i in 1:size(coords, 1)-1\n",
    "        for j in (i+1):size(coords, 1)\n",
    "            U += compute_energy(coords[i], coords[j], epsilon, sigma)\n",
    "        end\n",
    "    end\n",
    "    return U\n",
    "end"
   ]
  },
  {
   "cell_type": "code",
   "execution_count": 3,
   "id": "888ab664",
   "metadata": {},
   "outputs": [],
   "source": [
    "function ChainRulesCore.rrule(::typeof(compute_energy), coords1, coords2, epsilon, sigma)\n",
    "    dx = coords1 .- coords2\n",
    "    r = sqrt(sum(dx.^2))\n",
    "    U = epsilon * ((sigma / r)^12 - 2 * (sigma / r)^6) \n",
    "\n",
    "    function compute_energy_pullback(dU)\n",
    "        dcoords1 = -12 * epsilon * ((sigma^12 / r^14) - (sigma^6 / r^8)) .* dx .* dU\n",
    "        dcoords2 = - dcoords1\n",
    "        depsilon = ((sigma / r)^12 - 2 * (sigma / r)^6) * dU\n",
    "        dsigma = 12 * epsilon * (sigma^11 / r^12 - sigma^5 / r^6) * dU \n",
    "        return NoTangent(), dcoords1, dcoords2, depsilon, dsigma\n",
    "    end\n",
    "    return U, compute_energy_pullback\n",
    "end"
   ]
  },
  {
   "cell_type": "code",
   "execution_count": 4,
   "id": "50c5e568-185d-43ab-9443-ab8490dba601",
   "metadata": {},
   "outputs": [
    {
     "data": {
      "text/plain": [
       "compute_deltaF (generic function with 1 method)"
      ]
     },
     "execution_count": 4,
     "metadata": {},
     "output_type": "execute_result"
    }
   ],
   "source": [
    "#n原子の軌跡からFを計算\n",
    "#coords_trj = data_k[i]\n",
    "function compute_free_energy(coords_trj, beta, epsilon, sigma)\n",
    "    N = size(coords_trj, 1) #ステップ数\n",
    "    U_array = [sum_compute_energy(coords_trj[i], epsilon, sigma) for i in 1:size(coords_trj, 1)] #Nステップのポテンシャルの値を入れた配列\n",
    "    F = (-1 / beta) * (log(1 / N) + MDToolbox.logsumexp_1d(-beta * U_array)) #U_arrayを積分してFを計算\n",
    "    return F\n",
    "end\n",
    "\n",
    "#EXP\n",
    "function compute_deltaF(coords_trj, beta, epsilon, sigma, epsilon_target, sigma_target)\n",
    "    N = size(coords_trj, 1) #原子数\n",
    "    #U_array = [sum_compute_energy(coords_trj[i], epsilon, sigma) for i in 1:N]\n",
    "    U_array = sum_compute_energy.(coords_trj, epsilon, sigma) #シミュレーションのパラメータを用いポテンシャルを計算\n",
    "    #U_target_array = [sum_compute_energy(coords_trj[i], epsilon_target, sigma_target) for i in 1:N]\n",
    "    U_target_array = sum_compute_energy.(coords_trj, epsilon_target, sigma_target) #実験のパラメータを用いポテンシャルを計算\n",
    "    deltaU = U_target_array - U_array\n",
    "    deltaF = (-1 / beta) * (log(1 / N) + MDToolbox.logsumexp_1d(-beta .* deltaU))\n",
    "    return deltaF\n",
    "end"
   ]
  },
  {
   "cell_type": "markdown",
   "id": "e3803dc7",
   "metadata": {},
   "source": [
    "### ポテンシャルエネルギー関数を持つFluxのカスタムレイヤの定義"
   ]
  },
  {
   "cell_type": "code",
   "execution_count": 5,
   "id": "5977aaea",
   "metadata": {},
   "outputs": [],
   "source": [
    "struct Energy\n",
    "    P::AbstractArray #P[1] = epsilon, P[2] = sigma\n",
    "end\n",
    "\n",
    "Flux.@functor Energy (P,)\n",
    "\n",
    "(m::Energy)(coords_trj, beta, epsilon, sigma) = compute_deltaF(coords_trj, beta, epsilon, sigma, m.P[1], m.P[2])"
   ]
  },
  {
   "cell_type": "markdown",
   "id": "64ec8d9d-aeb0-4b82-ad12-89fe1c349759",
   "metadata": {},
   "source": [
    "### MCMCの定義"
   ]
  },
  {
   "cell_type": "code",
   "execution_count": 6,
   "id": "6e571359-5ee0-4916-b2ac-89d1e51a41f4",
   "metadata": {},
   "outputs": [
    {
     "data": {
      "text/plain": [
       "next_coords (generic function with 2 methods)"
      ]
     },
     "execution_count": 6,
     "metadata": {},
     "output_type": "execute_result"
    }
   ],
   "source": [
    "#次のステップ候補点\n",
    "function next_coords(coords, delta_x=1e-2)\n",
    "    next_coords = map(x -> x .+ (rand(3) .- 0.5) .* delta_x, coords)\n",
    "    return next_coords\n",
    "end"
   ]
  },
  {
   "cell_type": "code",
   "execution_count": 7,
   "id": "6e9b2792-d193-4d38-98fb-972025d925d3",
   "metadata": {},
   "outputs": [
    {
     "data": {
      "text/plain": [
       "mcmc (generic function with 3 methods)"
      ]
     },
     "execution_count": 7,
     "metadata": {},
     "output_type": "execute_result"
    }
   ],
   "source": [
    "#MCMC,メトロポリス法\n",
    "function mcmc(coords, epsilon, sigma, nstep=100, beta=1.0)\n",
    "    coords_trj = []\n",
    "    alpha_trj = []\n",
    "    push!(coords_trj, copy.(coords))\n",
    "    \n",
    "    for i in 1:nstep\n",
    "        next_coords_tmp = next_coords(coords) #候補点\n",
    "        delta_U = sum_compute_energy(next_coords_tmp, epsilon, sigma) - sum_compute_energy(coords, epsilon, sigma)\n",
    "        alpha = exp(-beta * delta_U) #相対確率\n",
    "        \n",
    "        #alpha>=1またはalpha<1のとき確率alphaで候補を受理\n",
    "        if alpha > rand()\n",
    "            coords = next_coords_tmp\n",
    "        end     \n",
    "        push!(coords_trj, copy.(coords))\n",
    "        push!(alpha_trj, alpha)\n",
    "    end\n",
    "    return coords_trj, alpha_trj\n",
    "end"
   ]
  },
  {
   "cell_type": "markdown",
   "id": "b7f074c5",
   "metadata": {},
   "source": [
    "### 訓練データの作成"
   ]
  },
  {
   "cell_type": "code",
   "execution_count": 8,
   "id": "2011ba2e",
   "metadata": {},
   "outputs": [],
   "source": [
    "#パラメータ\n",
    "param_set = [(1.0, 2.0), (1.2, 2.5)] #params_set[i] = (epsilon[i], sigma[i])\n",
    "data_k = []\n",
    "K = size(param_set, 1) - 1 #最後のパラメータの値を推定する\n",
    "natom = 3\n",
    "kBT = 2.0\n",
    "beta = 1.0/(kBT)\n",
    "nstep = 10000\n",
    "\n",
    "for i in 1:size(param_set, 1)\n",
    "    use_param = i #使うパラメータ\n",
    "    epsilon = param_set[use_param][1]\n",
    "    sigma = param_set[use_param][2]\n",
    "\n",
    "    coords = [[[sigma * x + rand(), rand(), rand()] for x in 1:natom]...]  #初期座標\n",
    "\n",
    "    #nstepのMCMC\n",
    "    coords_trj, alpha = mcmc(coords, epsilon, sigma, nstep, beta)\n",
    "    push!(data_k, coords_trj)\n",
    "end"
   ]
  },
  {
   "cell_type": "code",
   "execution_count": 9,
   "id": "b92071a4-2637-4bef-bcbf-47676e79676d",
   "metadata": {},
   "outputs": [
    {
     "data": {
      "text/plain": [
       "(2,)"
      ]
     },
     "execution_count": 9,
     "metadata": {},
     "output_type": "execute_result"
    }
   ],
   "source": [
    "#data_k[1:end-1]はシミュレーションの軌道\n",
    "#data_k[end]は実験の軌道で分かっていないものとする\n",
    "size(data_k)"
   ]
  },
  {
   "cell_type": "code",
   "execution_count": 10,
   "id": "43fcdb9f-0837-4f43-bc72-85d6c873dcb1",
   "metadata": {},
   "outputs": [
    {
     "data": {
      "text/plain": [
       "2.5"
      ]
     },
     "execution_count": 10,
     "metadata": {},
     "output_type": "execute_result"
    }
   ],
   "source": [
    "#シミュレーションのパラメータ\n",
    "epsilon = param_set[1][1]\n",
    "sigma = param_set[1][2]\n",
    "\n",
    "#実験のパラメータ,分かっていないものとして考える\n",
    "epsilon_target = param_set[2][1]\n",
    "sigma_target = param_set[2][2]"
   ]
  },
  {
   "cell_type": "code",
   "execution_count": 11,
   "id": "7fae731f-5a96-4992-8d1e-feace7466e96",
   "metadata": {},
   "outputs": [
    {
     "data": {
      "text/plain": [
       "0.8798798506541559"
      ]
     },
     "execution_count": 11,
     "metadata": {},
     "output_type": "execute_result"
    }
   ],
   "source": [
    "#FとF_targetを計算\n",
    "F = compute_free_energy(data_k[1], beta, epsilon, sigma)\n",
    "F_target = compute_free_energy(data_k[end], beta, epsilon_target, sigma_target)\n",
    "\n",
    "#パラメータ推定に用いる原子の軌跡と自由エネルギーの差\n",
    "X_train = data_k[1]    #シミュレーションの座標\n",
    "y_train = F_target - F #自由エネルギー差\n",
    "\n",
    "#EXPを用いて自由エネルギー差を推定\n",
    "deltaF = compute_deltaF(data_k[1], beta, epsilon, sigma, epsilon_target, sigma_target)"
   ]
  },
  {
   "cell_type": "code",
   "execution_count": 12,
   "id": "59ee793c-57d2-420a-920e-b9db129f9890",
   "metadata": {},
   "outputs": [
    {
     "name": "stdout",
     "output_type": "stream",
     "text": [
      "F = -0.8858844865583038\n",
      "F_target = -1.566830788057434\n",
      "(F_target - F) = -0.6809463014991302\n",
      "deltaF = 0.8798798506541559\n"
     ]
    }
   ],
   "source": [
    "println(\"F = $(F)\")\n",
    "println(\"F_target = $(F_target)\")\n",
    "println(\"(F_target - F) = $(F_target - F)\")\n",
    "println(\"deltaF = $(deltaF)\")"
   ]
  },
  {
   "cell_type": "markdown",
   "id": "b0b1e371",
   "metadata": {},
   "source": [
    "### 勾配法で訓練してK(バネ定数)とR(平衡長)を推定"
   ]
  },
  {
   "cell_type": "code",
   "execution_count": 13,
   "id": "59e4098e",
   "metadata": {},
   "outputs": [
    {
     "data": {
      "text/plain": [
       "21.87069420752133"
      ]
     },
     "execution_count": 13,
     "metadata": {},
     "output_type": "execute_result"
    }
   ],
   "source": [
    "# Lossの定義\n",
    "m = Energy([1.0, 2.7])\n",
    "loss(X, y) = Flux.Losses.mse(m(X, beta, epsilon, sigma), y)\n",
    "loss(X_train, y_train)"
   ]
  },
  {
   "cell_type": "code",
   "execution_count": 14,
   "id": "bc2f3c77",
   "metadata": {},
   "outputs": [
    {
     "data": {
      "text/plain": [
       "Adam(0.01, (0.9, 0.999), 1.0e-8, IdDict{Any, Any}())"
      ]
     },
     "execution_count": 14,
     "metadata": {},
     "output_type": "execute_result"
    }
   ],
   "source": [
    "# DataやOptimizerの定義\n",
    "#train_loader = Flux.Data.DataLoader((data=X_train, label=y_train), batchsize=10, shuffle=true)\n",
    "ps = Flux.params(m)\n",
    "opt = ADAM(1e-2) "
   ]
  },
  {
   "cell_type": "code",
   "execution_count": 15,
   "id": "c07d6ea0-4a49-4d43-a78a-e17726c31078",
   "metadata": {},
   "outputs": [
    {
     "data": {
      "text/plain": [
       "print_callback (generic function with 1 method)"
      ]
     },
     "execution_count": 15,
     "metadata": {},
     "output_type": "execute_result"
    }
   ],
   "source": [
    "# コールバック関数の定義\n",
    "function print_callback(epoch, loss, ps)\n",
    "    println(\"Epoch: $epoch, loss: $loss\")\n",
    "    println(\"param: $(ps[1])\")\n",
    "end"
   ]
  },
  {
   "cell_type": "code",
   "execution_count": 16,
   "id": "63c99d1e",
   "metadata": {},
   "outputs": [
    {
     "name": "stdout",
     "output_type": "stream",
     "text": [
      "Epoch: 1, loss: 19.76460131268231\n",
      "param: [0.9900000000106226, 2.69000000000047]\n",
      "Epoch: 11, loss: 8.118378040771328\n",
      "param: [0.9165538914837643, 2.596074008856553]\n",
      "Epoch: 21, loss: 4.266327144931675\n",
      "param: [0.93875570873402, 2.5226405697322445]\n",
      "Epoch: 31, loss: 2.5327788302668375\n",
      "param: [1.018638393286936, 2.4708062823418353]\n",
      "Epoch: 41, loss: 1.576070668150007\n",
      "param: [1.114020565571486, 2.435392226373309]\n",
      "Epoch: 51, loss: 0.9933502584279317\n",
      "param: [1.2080478779242816, 2.4111487270718515]\n"
     ]
    }
   ],
   "source": [
    "# 訓練\n",
    "loss_train = []\n",
    "\n",
    "for epoch in 1:51\n",
    "    gs = gradient(() -> loss(X_train, y_train), ps)\n",
    "    Flux.Optimise.update!(opt, ps, gs)\n",
    "    \n",
    "    push!(loss_train, loss(X_train, y_train))\n",
    "    if epoch%10 == 1\n",
    "        print_callback(epoch, loss(X_train, y_train), ps)\n",
    "    end\n",
    "end"
   ]
  },
  {
   "cell_type": "code",
   "execution_count": 17,
   "id": "b1b2c87c",
   "metadata": {},
   "outputs": [
    {
     "data": {
      "image/png": "[encoded data removed]",
      "image/svg+xml": [
       "<?xml version=\"1.0\" encoding=\"utf-8\"?>\n",
       "<svg xmlns=\"http://www.w3.org/2000/svg\" xmlns:xlink=\"http://www.w3.org/1999/xlink\" width=\"600\" height=\"400\" viewBox=\"0 0 2400 1600\">\n",
       "<defs>\n",
       "  <clipPath id=\"clip590\">\n",
       "    <rect x=\"0\" y=\"0\" width=\"2400\" height=\"1600\"/>\n",
       "  </clipPath>\n",
       "</defs>\n",
       "<path clip-path=\"url(#clip590)\" d=\"M0 1600 L2400 1600 L2400 0 L0 0  Z\" fill=\"#ffffff\" fill-rule=\"evenodd\" fill-opacity=\"1\"/>\n",
       "<defs>\n",
       "  <clipPath id=\"clip591\">\n",
       "    <rect x=\"480\" y=\"0\" width=\"1681\" height=\"1600\"/>\n",
       "  </clipPath>\n",
       "</defs>\n",
       "<path clip-path=\"url(#clip590)\" d=\"M203.964 1423.18 L2352.76 1423.18 L2352.76 47.2441 L203.964 47.2441  Z\" fill=\"#ffffff\" fill-rule=\"evenodd\" fill-opacity=\"1\"/>\n",
       "<defs>\n",
       "  <clipPath id=\"clip592\">\n",
       "    <rect x=\"203\" y=\"47\" width=\"2150\" height=\"1377\"/>\n",
       "  </clipPath>\n",
       "</defs>\n",
       "<polyline clip-path=\"url(#clip592)\" style=\"stroke:#000000; stroke-linecap:round; stroke-linejoin:round; stroke-width:2; stroke-opacity:0.1; fill:none\" points=\"224.235,1423.18 224.235,47.2441 \"/>\n",
       "<polyline clip-path=\"url(#clip592)\" style=\"stroke:#000000; stroke-linecap:round; stroke-linejoin:round; stroke-width:2; stroke-opacity:0.1; fill:none\" points=\"629.668,1423.18 629.668,47.2441 \"/>\n",
       "<polyline clip-path=\"url(#clip592)\" style=\"stroke:#000000; stroke-linecap:round; stroke-linejoin:round; stroke-width:2; stroke-opacity:0.1; fill:none\" points=\"1035.1,1423.18 1035.1,47.2441 \"/>\n",
       "<polyline clip-path=\"url(#clip592)\" style=\"stroke:#000000; stroke-linecap:round; stroke-linejoin:round; stroke-width:2; stroke-opacity:0.1; fill:none\" points=\"1440.53,1423.18 1440.53,47.2441 \"/>\n",
       "<polyline clip-path=\"url(#clip592)\" style=\"stroke:#000000; stroke-linecap:round; stroke-linejoin:round; stroke-width:2; stroke-opacity:0.1; fill:none\" points=\"1845.97,1423.18 1845.97,47.2441 \"/>\n",
       "<polyline clip-path=\"url(#clip592)\" style=\"stroke:#000000; stroke-linecap:round; stroke-linejoin:round; stroke-width:2; stroke-opacity:0.1; fill:none\" points=\"2251.4,1423.18 2251.4,47.2441 \"/>\n",
       "<polyline clip-path=\"url(#clip590)\" style=\"stroke:#000000; stroke-linecap:round; stroke-linejoin:round; stroke-width:4; stroke-opacity:1; fill:none\" points=\"203.964,1423.18 2352.76,1423.18 \"/>\n",
       "<polyline clip-path=\"url(#clip590)\" style=\"stroke:#000000; stroke-linecap:round; stroke-linejoin:round; stroke-width:4; stroke-opacity:1; fill:none\" points=\"203.964,47.2441 2352.76,47.2441 \"/>\n",
       "<polyline clip-path=\"url(#clip590)\" style=\"stroke:#000000; stroke-linecap:round; stroke-linejoin:round; stroke-width:4; stroke-opacity:1; fill:none\" points=\"224.235,1423.18 224.235,1404.28 \"/>\n",
       "<polyline clip-path=\"url(#clip590)\" style=\"stroke:#000000; stroke-linecap:round; stroke-linejoin:round; stroke-width:4; stroke-opacity:1; fill:none\" points=\"629.668,1423.18 629.668,1404.28 \"/>\n",
       "<polyline clip-path=\"url(#clip590)\" style=\"stroke:#000000; stroke-linecap:round; stroke-linejoin:round; stroke-width:4; stroke-opacity:1; fill:none\" points=\"1035.1,1423.18 1035.1,1404.28 \"/>\n",
       "<polyline clip-path=\"url(#clip590)\" style=\"stroke:#000000; stroke-linecap:round; stroke-linejoin:round; stroke-width:4; stroke-opacity:1; fill:none\" points=\"1440.53,1423.18 1440.53,1404.28 \"/>\n",
       "<polyline clip-path=\"url(#clip590)\" style=\"stroke:#000000; stroke-linecap:round; stroke-linejoin:round; stroke-width:4; stroke-opacity:1; fill:none\" points=\"1845.97,1423.18 1845.97,1404.28 \"/>\n",
       "<polyline clip-path=\"url(#clip590)\" style=\"stroke:#000000; stroke-linecap:round; stroke-linejoin:round; stroke-width:4; stroke-opacity:1; fill:none\" points=\"2251.4,1423.18 2251.4,1404.28 \"/>\n",
       "<path clip-path=\"url(#clip590)\" d=\"M224.235 1454.1 Q220.624 1454.1 218.795 1457.66 Q216.99 1461.2 216.99 1468.33 Q216.99 1475.44 218.795 1479.01 Q220.624 1482.55 224.235 1482.55 Q227.869 1482.55 229.675 1479.01 Q231.504 1475.44 231.504 1468.33 Q231.504 1461.2 229.675 1457.66 Q227.869 1454.1 224.235 1454.1 M224.235 1450.39 Q230.045 1450.39 233.101 1455 Q236.18 1459.58 236.18 1468.33 Q236.18 1477.06 233.101 1481.67 Q230.045 1486.25 224.235 1486.25 Q218.425 1486.25 215.346 1481.67 Q212.291 1477.06 212.291 1468.33 Q212.291 1459.58 215.346 1455 Q218.425 1450.39 224.235 1450.39 Z\" fill=\"#000000\" fill-rule=\"nonzero\" fill-opacity=\"1\" /><path clip-path=\"url(#clip590)\" d=\"M604.355 1481.64 L611.994 1481.64 L611.994 1455.28 L603.684 1456.95 L603.684 1452.69 L611.948 1451.02 L616.624 1451.02 L616.624 1481.64 L624.263 1481.64 L624.263 1485.58 L604.355 1485.58 L604.355 1481.64 Z\" fill=\"#000000\" fill-rule=\"nonzero\" fill-opacity=\"1\" /><path clip-path=\"url(#clip590)\" d=\"M643.707 1454.1 Q640.096 1454.1 638.267 1457.66 Q636.462 1461.2 636.462 1468.33 Q636.462 1475.44 638.267 1479.01 Q640.096 1482.55 643.707 1482.55 Q647.341 1482.55 649.147 1479.01 Q650.975 1475.44 650.975 1468.33 Q650.975 1461.2 649.147 1457.66 Q647.341 1454.1 643.707 1454.1 M643.707 1450.39 Q649.517 1450.39 652.573 1455 Q655.651 1459.58 655.651 1468.33 Q655.651 1477.06 652.573 1481.67 Q649.517 1486.25 643.707 1486.25 Q637.897 1486.25 634.818 1481.67 Q631.763 1477.06 631.763 1468.33 Q631.763 1459.58 634.818 1455 Q637.897 1450.39 643.707 1450.39 Z\" fill=\"#000000\" fill-rule=\"nonzero\" fill-opacity=\"1\" /><path clip-path=\"url(#clip590)\" d=\"M1013.87 1481.64 L1030.19 1481.64 L1030.19 1485.58 L1008.25 1485.58 L1008.25 1481.64 Q1010.91 1478.89 1015.49 1474.26 Q1020.1 1469.61 1021.28 1468.27 Q1023.53 1465.74 1024.41 1464.01 Q1025.31 1462.25 1025.31 1460.56 Q1025.31 1457.8 1023.36 1456.07 Q1021.44 1454.33 1018.34 1454.33 Q1016.14 1454.33 1013.69 1455.09 Q1011.26 1455.86 1008.48 1457.41 L1008.48 1452.69 Q1011.3 1451.55 1013.76 1450.97 Q1016.21 1450.39 1018.25 1450.39 Q1023.62 1450.39 1026.81 1453.08 Q1030.01 1455.77 1030.01 1460.26 Q1030.01 1462.39 1029.2 1464.31 Q1028.41 1466.2 1026.3 1468.8 Q1025.73 1469.47 1022.62 1472.69 Q1019.52 1475.88 1013.87 1481.64 Z\" fill=\"#000000\" fill-rule=\"nonzero\" fill-opacity=\"1\" /><path clip-path=\"url(#clip590)\" d=\"M1050.01 1454.1 Q1046.4 1454.1 1044.57 1457.66 Q1042.76 1461.2 1042.76 1468.33 Q1042.76 1475.44 1044.57 1479.01 Q1046.4 1482.55 1050.01 1482.55 Q1053.64 1482.55 1055.45 1479.01 Q1057.28 1475.44 1057.28 1468.33 Q1057.28 1461.2 1055.45 1457.66 Q1053.64 1454.1 1050.01 1454.1 M1050.01 1450.39 Q1055.82 1450.39 1058.87 1455 Q1061.95 1459.58 1061.95 1468.33 Q1061.95 1477.06 1058.87 1481.67 Q1055.82 1486.25 1050.01 1486.25 Q1044.2 1486.25 1041.12 1481.67 Q1038.06 1477.06 1038.06 1468.33 Q1038.06 1459.58 1041.12 1455 Q1044.2 1450.39 1050.01 1450.39 Z\" fill=\"#000000\" fill-rule=\"nonzero\" fill-opacity=\"1\" /><path clip-path=\"url(#clip590)\" d=\"M1429.38 1466.95 Q1432.73 1467.66 1434.61 1469.93 Q1436.5 1472.2 1436.5 1475.53 Q1436.5 1480.65 1432.99 1483.45 Q1429.47 1486.25 1422.99 1486.25 Q1420.81 1486.25 1418.5 1485.81 Q1416.2 1485.39 1413.75 1484.54 L1413.75 1480.02 Q1415.69 1481.16 1418.01 1481.74 Q1420.32 1482.32 1422.85 1482.32 Q1427.25 1482.32 1429.54 1480.58 Q1431.85 1478.84 1431.85 1475.53 Q1431.85 1472.48 1429.7 1470.77 Q1427.57 1469.03 1423.75 1469.03 L1419.72 1469.03 L1419.72 1465.19 L1423.94 1465.19 Q1427.38 1465.19 1429.21 1463.82 Q1431.04 1462.43 1431.04 1459.84 Q1431.04 1457.18 1429.14 1455.77 Q1427.27 1454.33 1423.75 1454.33 Q1421.83 1454.33 1419.63 1454.75 Q1417.43 1455.16 1414.79 1456.04 L1414.79 1451.88 Q1417.45 1451.14 1419.77 1450.77 Q1422.11 1450.39 1424.17 1450.39 Q1429.49 1450.39 1432.59 1452.83 Q1435.69 1455.23 1435.69 1459.35 Q1435.69 1462.22 1434.05 1464.21 Q1432.41 1466.18 1429.38 1466.95 Z\" fill=\"#000000\" fill-rule=\"nonzero\" fill-opacity=\"1\" /><path clip-path=\"url(#clip590)\" d=\"M1455.37 1454.1 Q1451.76 1454.1 1449.93 1457.66 Q1448.13 1461.2 1448.13 1468.33 Q1448.13 1475.44 1449.93 1479.01 Q1451.76 1482.55 1455.37 1482.55 Q1459 1482.55 1460.81 1479.01 Q1462.64 1475.44 1462.64 1468.33 Q1462.64 1461.2 1460.81 1457.66 Q1459 1454.1 1455.37 1454.1 M1455.37 1450.39 Q1461.18 1450.39 1464.24 1455 Q1467.32 1459.58 1467.32 1468.33 Q1467.32 1477.06 1464.24 1481.67 Q1461.18 1486.25 1455.37 1486.25 Q1449.56 1486.25 1446.48 1481.67 Q1443.43 1477.06 1443.43 1468.33 Q1443.43 1459.58 1446.48 1455 Q1449.56 1450.39 1455.37 1450.39 Z\" fill=\"#000000\" fill-rule=\"nonzero\" fill-opacity=\"1\" /><path clip-path=\"url(#clip590)\" d=\"M1834.14 1455.09 L1822.33 1473.54 L1834.14 1473.54 L1834.14 1455.09 M1832.91 1451.02 L1838.79 1451.02 L1838.79 1473.54 L1843.72 1473.54 L1843.72 1477.43 L1838.79 1477.43 L1838.79 1485.58 L1834.14 1485.58 L1834.14 1477.43 L1818.53 1477.43 L1818.53 1472.92 L1832.91 1451.02 Z\" fill=\"#000000\" fill-rule=\"nonzero\" fill-opacity=\"1\" /><path clip-path=\"url(#clip590)\" d=\"M1861.45 1454.1 Q1857.84 1454.1 1856.01 1457.66 Q1854.21 1461.2 1854.21 1468.33 Q1854.21 1475.44 1856.01 1479.01 Q1857.84 1482.55 1861.45 1482.55 Q1865.09 1482.55 1866.89 1479.01 Q1868.72 1475.44 1868.72 1468.33 Q1868.72 1461.2 1866.89 1457.66 Q1865.09 1454.1 1861.45 1454.1 M1861.45 1450.39 Q1867.26 1450.39 1870.32 1455 Q1873.4 1459.58 1873.4 1468.33 Q1873.4 1477.06 1870.32 1481.67 Q1867.26 1486.25 1861.45 1486.25 Q1855.64 1486.25 1852.56 1481.67 Q1849.51 1477.06 1849.51 1468.33 Q1849.51 1459.58 1852.56 1455 Q1855.64 1450.39 1861.45 1450.39 Z\" fill=\"#000000\" fill-rule=\"nonzero\" fill-opacity=\"1\" /><path clip-path=\"url(#clip590)\" d=\"M2226.1 1451.02 L2244.45 1451.02 L2244.45 1454.96 L2230.38 1454.96 L2230.38 1463.43 Q2231.4 1463.08 2232.42 1462.92 Q2233.43 1462.73 2234.45 1462.73 Q2240.24 1462.73 2243.62 1465.9 Q2247 1469.08 2247 1474.49 Q2247 1480.07 2243.53 1483.17 Q2240.06 1486.25 2233.74 1486.25 Q2231.56 1486.25 2229.29 1485.88 Q2227.05 1485.51 2224.64 1484.77 L2224.64 1480.07 Q2226.72 1481.2 2228.94 1481.76 Q2231.17 1482.32 2233.64 1482.32 Q2237.65 1482.32 2239.99 1480.21 Q2242.32 1478.1 2242.32 1474.49 Q2242.32 1470.88 2239.99 1468.77 Q2237.65 1466.67 2233.64 1466.67 Q2231.77 1466.67 2229.89 1467.08 Q2228.04 1467.5 2226.1 1468.38 L2226.1 1451.02 Z\" fill=\"#000000\" fill-rule=\"nonzero\" fill-opacity=\"1\" /><path clip-path=\"url(#clip590)\" d=\"M2266.21 1454.1 Q2262.6 1454.1 2260.77 1457.66 Q2258.97 1461.2 2258.97 1468.33 Q2258.97 1475.44 2260.77 1479.01 Q2262.6 1482.55 2266.21 1482.55 Q2269.85 1482.55 2271.65 1479.01 Q2273.48 1475.44 2273.48 1468.33 Q2273.48 1461.2 2271.65 1457.66 Q2269.85 1454.1 2266.21 1454.1 M2266.21 1450.39 Q2272.02 1450.39 2275.08 1455 Q2278.16 1459.58 2278.16 1468.33 Q2278.16 1477.06 2275.08 1481.67 Q2272.02 1486.25 2266.21 1486.25 Q2260.4 1486.25 2257.32 1481.67 Q2254.27 1477.06 2254.27 1468.33 Q2254.27 1459.58 2257.32 1455 Q2260.4 1450.39 2266.21 1450.39 Z\" fill=\"#000000\" fill-rule=\"nonzero\" fill-opacity=\"1\" /><path clip-path=\"url(#clip590)\" d=\"M1184.53 1520.52 L1214.58 1520.52 L1214.58 1525.93 L1190.96 1525.93 L1190.96 1540 L1213.59 1540 L1213.59 1545.41 L1190.96 1545.41 L1190.96 1562.63 L1215.15 1562.63 L1215.15 1568.04 L1184.53 1568.04 L1184.53 1520.52 Z\" fill=\"#000000\" fill-rule=\"nonzero\" fill-opacity=\"1\" /><path clip-path=\"url(#clip590)\" d=\"M1231.13 1562.7 L1231.13 1581.6 L1225.24 1581.6 L1225.24 1532.4 L1231.13 1532.4 L1231.13 1537.81 Q1232.97 1534.62 1235.77 1533.1 Q1238.61 1531.54 1242.52 1531.54 Q1249.01 1531.54 1253.06 1536.69 Q1257.13 1541.85 1257.13 1550.25 Q1257.13 1558.65 1253.06 1563.81 Q1249.01 1568.97 1242.52 1568.97 Q1238.61 1568.97 1235.77 1567.44 Q1232.97 1565.88 1231.13 1562.7 M1251.05 1550.25 Q1251.05 1543.79 1248.38 1540.13 Q1245.74 1536.44 1241.09 1536.44 Q1236.44 1536.44 1233.77 1540.13 Q1231.13 1543.79 1231.13 1550.25 Q1231.13 1556.71 1233.77 1560.4 Q1236.44 1564.07 1241.09 1564.07 Q1245.74 1564.07 1248.38 1560.4 Q1251.05 1556.71 1251.05 1550.25 Z\" fill=\"#000000\" fill-rule=\"nonzero\" fill-opacity=\"1\" /><path clip-path=\"url(#clip590)\" d=\"M1280.65 1536.5 Q1275.94 1536.5 1273.2 1540.19 Q1270.47 1543.85 1270.47 1550.25 Q1270.47 1556.65 1273.17 1560.34 Q1275.91 1564 1280.65 1564 Q1285.33 1564 1288.07 1560.31 Q1290.8 1556.62 1290.8 1550.25 Q1290.8 1543.92 1288.07 1540.23 Q1285.33 1536.5 1280.65 1536.5 M1280.65 1531.54 Q1288.29 1531.54 1292.65 1536.5 Q1297.01 1541.47 1297.01 1550.25 Q1297.01 1559 1292.65 1564 Q1288.29 1568.97 1280.65 1568.97 Q1272.98 1568.97 1268.62 1564 Q1264.29 1559 1264.29 1550.25 Q1264.29 1541.47 1268.62 1536.5 Q1272.98 1531.54 1280.65 1531.54 Z\" fill=\"#000000\" fill-rule=\"nonzero\" fill-opacity=\"1\" /><path clip-path=\"url(#clip590)\" d=\"M1332.37 1533.76 L1332.37 1539.24 Q1329.89 1537.87 1327.38 1537.2 Q1324.89 1536.5 1322.35 1536.5 Q1316.65 1536.5 1313.5 1540.13 Q1310.35 1543.73 1310.35 1550.25 Q1310.35 1556.78 1313.5 1560.4 Q1316.65 1564 1322.35 1564 Q1324.89 1564 1327.38 1563.33 Q1329.89 1562.63 1332.37 1561.26 L1332.37 1566.68 Q1329.92 1567.82 1327.28 1568.39 Q1324.67 1568.97 1321.71 1568.97 Q1313.66 1568.97 1308.92 1563.91 Q1304.17 1558.85 1304.17 1550.25 Q1304.17 1541.53 1308.95 1536.53 Q1313.75 1531.54 1322.09 1531.54 Q1324.8 1531.54 1327.38 1532.11 Q1329.95 1532.65 1332.37 1533.76 Z\" fill=\"#000000\" fill-rule=\"nonzero\" fill-opacity=\"1\" /><path clip-path=\"url(#clip590)\" d=\"M1372.19 1546.53 L1372.19 1568.04 L1366.33 1568.04 L1366.33 1546.72 Q1366.33 1541.66 1364.36 1539.14 Q1362.39 1536.63 1358.44 1536.63 Q1353.7 1536.63 1350.96 1539.65 Q1348.22 1542.68 1348.22 1547.9 L1348.22 1568.04 L1342.34 1568.04 L1342.34 1518.52 L1348.22 1518.52 L1348.22 1537.93 Q1350.32 1534.72 1353.16 1533.13 Q1356.02 1531.54 1359.75 1531.54 Q1365.89 1531.54 1369.04 1535.36 Q1372.19 1539.14 1372.19 1546.53 Z\" fill=\"#000000\" fill-rule=\"nonzero\" fill-opacity=\"1\" /><polyline clip-path=\"url(#clip592)\" style=\"stroke:#000000; stroke-linecap:round; stroke-linejoin:round; stroke-width:2; stroke-opacity:0.1; fill:none\" points=\"203.964,1107.17 2352.76,1107.17 \"/>\n",
       "<polyline clip-path=\"url(#clip592)\" style=\"stroke:#000000; stroke-linecap:round; stroke-linejoin:round; stroke-width:2; stroke-opacity:0.1; fill:none\" points=\"203.964,761.419 2352.76,761.419 \"/>\n",
       "<polyline clip-path=\"url(#clip592)\" style=\"stroke:#000000; stroke-linecap:round; stroke-linejoin:round; stroke-width:2; stroke-opacity:0.1; fill:none\" points=\"203.964,415.663 2352.76,415.663 \"/>\n",
       "<polyline clip-path=\"url(#clip592)\" style=\"stroke:#000000; stroke-linecap:round; stroke-linejoin:round; stroke-width:2; stroke-opacity:0.1; fill:none\" points=\"203.964,69.9076 2352.76,69.9076 \"/>\n",
       "<polyline clip-path=\"url(#clip590)\" style=\"stroke:#000000; stroke-linecap:round; stroke-linejoin:round; stroke-width:4; stroke-opacity:1; fill:none\" points=\"203.964,1423.18 203.964,47.2441 \"/>\n",
       "<polyline clip-path=\"url(#clip590)\" style=\"stroke:#000000; stroke-linecap:round; stroke-linejoin:round; stroke-width:4; stroke-opacity:1; fill:none\" points=\"2352.76,1423.18 2352.76,47.2441 \"/>\n",
       "<polyline clip-path=\"url(#clip590)\" style=\"stroke:#000000; stroke-linecap:round; stroke-linejoin:round; stroke-width:4; stroke-opacity:1; fill:none\" points=\"203.964,1107.17 222.861,1107.17 \"/>\n",
       "<polyline clip-path=\"url(#clip590)\" style=\"stroke:#000000; stroke-linecap:round; stroke-linejoin:round; stroke-width:4; stroke-opacity:1; fill:none\" points=\"203.964,761.419 222.861,761.419 \"/>\n",
       "<polyline clip-path=\"url(#clip590)\" style=\"stroke:#000000; stroke-linecap:round; stroke-linejoin:round; stroke-width:4; stroke-opacity:1; fill:none\" points=\"203.964,415.663 222.861,415.663 \"/>\n",
       "<polyline clip-path=\"url(#clip590)\" style=\"stroke:#000000; stroke-linecap:round; stroke-linejoin:round; stroke-width:4; stroke-opacity:1; fill:none\" points=\"203.964,69.9076 222.861,69.9076 \"/>\n",
       "<path clip-path=\"url(#clip590)\" d=\"M147.061 1089.89 L165.417 1089.89 L165.417 1093.83 L151.343 1093.83 L151.343 1102.3 Q152.362 1101.95 153.38 1101.79 Q154.399 1101.61 155.417 1101.61 Q161.204 1101.61 164.584 1104.78 Q167.964 1107.95 167.964 1113.37 Q167.964 1118.94 164.491 1122.05 Q161.019 1125.13 154.7 1125.13 Q152.524 1125.13 150.255 1124.75 Q148.01 1124.38 145.603 1123.64 L145.603 1118.94 Q147.686 1120.08 149.908 1120.63 Q152.13 1121.19 154.607 1121.19 Q158.612 1121.19 160.95 1119.08 Q163.288 1116.98 163.288 1113.37 Q163.288 1109.76 160.95 1107.65 Q158.612 1105.54 154.607 1105.54 Q152.732 1105.54 150.857 1105.96 Q149.005 1106.38 147.061 1107.26 L147.061 1089.89 Z\" fill=\"#000000\" fill-rule=\"nonzero\" fill-opacity=\"1\" /><path clip-path=\"url(#clip590)\" d=\"M116.668 774.763 L124.306 774.763 L124.306 748.398 L115.996 750.064 L115.996 745.805 L124.26 744.139 L128.936 744.139 L128.936 774.763 L136.575 774.763 L136.575 778.699 L116.668 778.699 L116.668 774.763 Z\" fill=\"#000000\" fill-rule=\"nonzero\" fill-opacity=\"1\" /><path clip-path=\"url(#clip590)\" d=\"M156.019 747.217 Q152.408 747.217 150.579 750.782 Q148.774 754.324 148.774 761.453 Q148.774 768.56 150.579 772.125 Q152.408 775.666 156.019 775.666 Q159.653 775.666 161.459 772.125 Q163.288 768.56 163.288 761.453 Q163.288 754.324 161.459 750.782 Q159.653 747.217 156.019 747.217 M156.019 743.514 Q161.829 743.514 164.885 748.12 Q167.964 752.703 167.964 761.453 Q167.964 770.18 164.885 774.787 Q161.829 779.37 156.019 779.37 Q150.209 779.37 147.13 774.787 Q144.075 770.18 144.075 761.453 Q144.075 752.703 147.13 748.12 Q150.209 743.514 156.019 743.514 Z\" fill=\"#000000\" fill-rule=\"nonzero\" fill-opacity=\"1\" /><path clip-path=\"url(#clip590)\" d=\"M117.663 429.008 L125.302 429.008 L125.302 402.642 L116.992 404.309 L116.992 400.05 L125.255 398.383 L129.931 398.383 L129.931 429.008 L137.57 429.008 L137.57 432.943 L117.663 432.943 L117.663 429.008 Z\" fill=\"#000000\" fill-rule=\"nonzero\" fill-opacity=\"1\" /><path clip-path=\"url(#clip590)\" d=\"M147.061 398.383 L165.417 398.383 L165.417 402.318 L151.343 402.318 L151.343 410.79 Q152.362 410.443 153.38 410.281 Q154.399 410.096 155.417 410.096 Q161.204 410.096 164.584 413.267 Q167.964 416.439 167.964 421.855 Q167.964 427.434 164.491 430.536 Q161.019 433.614 154.7 433.614 Q152.524 433.614 150.255 433.244 Q148.01 432.874 145.603 432.133 L145.603 427.434 Q147.686 428.568 149.908 429.124 Q152.13 429.679 154.607 429.679 Q158.612 429.679 160.95 427.573 Q163.288 425.466 163.288 421.855 Q163.288 418.244 160.95 416.138 Q158.612 414.031 154.607 414.031 Q152.732 414.031 150.857 414.448 Q149.005 414.864 147.061 415.744 L147.061 398.383 Z\" fill=\"#000000\" fill-rule=\"nonzero\" fill-opacity=\"1\" /><path clip-path=\"url(#clip590)\" d=\"M119.885 83.2524 L136.204 83.2524 L136.204 87.1876 L114.26 87.1876 L114.26 83.2524 Q116.922 80.4978 121.505 75.8682 Q126.112 71.2155 127.292 69.8729 Q129.538 67.3497 130.417 65.6136 Q131.32 63.8544 131.32 62.1646 Q131.32 59.41 129.376 57.6739 Q127.455 55.9378 124.353 55.9378 Q122.154 55.9378 119.7 56.7016 Q117.269 57.4655 114.492 59.0164 L114.492 54.2943 Q117.316 53.16 119.769 52.5813 Q122.223 52.0026 124.26 52.0026 Q129.63 52.0026 132.825 54.6878 Q136.019 57.3729 136.019 61.8637 Q136.019 63.9933 135.209 65.9146 Q134.422 67.8127 132.316 70.4053 Q131.737 71.0766 128.635 74.2941 Q125.533 77.4886 119.885 83.2524 Z\" fill=\"#000000\" fill-rule=\"nonzero\" fill-opacity=\"1\" /><path clip-path=\"url(#clip590)\" d=\"M156.019 55.7063 Q152.408 55.7063 150.579 59.2711 Q148.774 62.8127 148.774 69.9423 Q148.774 77.0488 150.579 80.6136 Q152.408 84.1552 156.019 84.1552 Q159.653 84.1552 161.459 80.6136 Q163.288 77.0488 163.288 69.9423 Q163.288 62.8127 161.459 59.2711 Q159.653 55.7063 156.019 55.7063 M156.019 52.0026 Q161.829 52.0026 164.885 56.6091 Q167.964 61.1924 167.964 69.9423 Q167.964 78.6691 164.885 83.2756 Q161.829 87.8589 156.019 87.8589 Q150.209 87.8589 147.13 83.2756 Q144.075 78.6691 144.075 69.9423 Q144.075 61.1924 147.13 56.6091 Q150.209 52.0026 156.019 52.0026 Z\" fill=\"#000000\" fill-rule=\"nonzero\" fill-opacity=\"1\" /><path clip-path=\"url(#clip590)\" d=\"M16.4842 801.909 L16.4842 795.479 L58.5933 795.479 L58.5933 772.34 L64.0042 772.34 L64.0042 801.909 L16.4842 801.909 Z\" fill=\"#000000\" fill-rule=\"nonzero\" fill-opacity=\"1\" /><path clip-path=\"url(#clip590)\" d=\"M32.4621 753.179 Q32.4621 757.89 36.1542 760.627 Q39.8145 763.364 46.212 763.364 Q52.6095 763.364 56.3017 760.659 Q59.9619 757.922 59.9619 753.179 Q59.9619 748.5 56.2698 745.763 Q52.5777 743.026 46.212 743.026 Q39.8781 743.026 36.186 745.763 Q32.4621 748.5 32.4621 753.179 M27.4968 753.179 Q27.4968 745.54 32.4621 741.18 Q37.4273 736.819 46.212 736.819 Q54.9649 736.819 59.9619 741.18 Q64.9272 745.54 64.9272 753.179 Q64.9272 760.85 59.9619 765.21 Q54.9649 769.539 46.212 769.539 Q37.4273 769.539 32.4621 765.21 Q27.4968 760.85 27.4968 753.179 Z\" fill=\"#000000\" fill-rule=\"nonzero\" fill-opacity=\"1\" /><path clip-path=\"url(#clip590)\" d=\"M29.4065 704.386 L34.9447 704.386 Q33.6716 706.869 33.035 709.542 Q32.3984 712.216 32.3984 715.08 Q32.3984 719.441 33.7352 721.637 Q35.072 723.801 37.7456 723.801 Q39.7826 723.801 40.9603 722.242 Q42.1061 720.682 43.1565 715.972 L43.6021 713.966 Q44.9389 707.728 47.3897 705.118 Q49.8086 702.476 54.1691 702.476 Q59.1344 702.476 62.0308 706.423 Q64.9272 710.338 64.9272 717.213 Q64.9272 720.078 64.3543 723.197 Q63.8132 726.284 62.6992 729.722 L56.6518 729.722 Q58.3387 726.475 59.198 723.324 Q60.0256 720.173 60.0256 717.086 Q60.0256 712.948 58.6251 710.72 Q57.1929 708.492 54.6147 708.492 Q52.2276 708.492 50.9545 710.115 Q49.6813 711.707 48.5037 717.149 L48.0262 719.186 Q46.8804 724.629 44.5251 727.048 Q42.138 729.467 38.0002 729.467 Q32.9713 729.467 30.2341 725.902 Q27.4968 722.337 27.4968 715.781 Q27.4968 712.534 27.9743 709.67 Q28.4517 706.805 29.4065 704.386 Z\" fill=\"#000000\" fill-rule=\"nonzero\" fill-opacity=\"1\" /><path clip-path=\"url(#clip590)\" d=\"M29.4065 670.425 L34.9447 670.425 Q33.6716 672.908 33.035 675.581 Q32.3984 678.255 32.3984 681.119 Q32.3984 685.48 33.7352 687.676 Q35.072 689.84 37.7456 689.84 Q39.7826 689.84 40.9603 688.281 Q42.1061 686.721 43.1565 682.011 L43.6021 680.005 Q44.9389 673.767 47.3897 671.157 Q49.8086 668.515 54.1691 668.515 Q59.1344 668.515 62.0308 672.462 Q64.9272 676.377 64.9272 683.252 Q64.9272 686.116 64.3543 689.236 Q63.8132 692.323 62.6992 695.761 L56.6518 695.761 Q58.3387 692.514 59.198 689.363 Q60.0256 686.212 60.0256 683.125 Q60.0256 678.987 58.6251 676.759 Q57.1929 674.531 54.6147 674.531 Q52.2276 674.531 50.9545 676.154 Q49.6813 677.746 48.5037 683.188 L48.0262 685.225 Q46.8804 690.668 44.5251 693.087 Q42.138 695.506 38.0002 695.506 Q32.9713 695.506 30.2341 691.941 Q27.4968 688.376 27.4968 681.82 Q27.4968 678.573 27.9743 675.709 Q28.4517 672.844 29.4065 670.425 Z\" fill=\"#000000\" fill-rule=\"nonzero\" fill-opacity=\"1\" /><polyline clip-path=\"url(#clip592)\" style=\"stroke:#009af9; stroke-linecap:round; stroke-linejoin:round; stroke-width:8; stroke-opacity:1; fill:none\" points=\"264.778,86.1857 305.322,216.151 345.865,331.815 386.408,434.523 426.951,525.578 467.495,606.226 508.038,677.642 548.581,740.923 589.124,797.073 629.668,847.005 670.211,891.535 710.754,931.379 751.297,967.164 791.841,999.428 832.384,1028.63 872.927,1055.17 913.47,1079.37 954.014,1101.52 994.557,1121.86 1035.1,1140.6 1075.64,1157.91 1116.19,1173.94 1156.73,1188.83 1197.27,1202.68 1237.82,1215.6 1278.36,1227.68 1318.9,1238.99 1359.45,1249.6 1399.99,1259.57 1440.53,1268.95 1481.08,1277.79 1521.62,1286.13 1562.16,1294.01 1602.71,1301.46 1643.25,1308.52 1683.79,1315.21 1724.34,1321.56 1764.88,1327.58 1805.42,1333.31 1845.97,1338.76 1886.51,1343.94 1927.05,1348.88 1967.6,1353.58 2008.14,1358.07 2048.68,1362.34 2089.22,1366.43 2129.77,1370.32 2170.31,1374.04 2210.85,1377.6 2251.4,1380.99 2291.94,1384.24 \"/>\n",
       "</svg>\n"
      ],
      "text/html": [
       "<?xml version=\"1.0\" encoding=\"utf-8\"?>\n",
       "<svg xmlns=\"http://www.w3.org/2000/svg\" xmlns:xlink=\"http://www.w3.org/1999/xlink\" width=\"600\" height=\"400\" viewBox=\"0 0 2400 1600\">\n",
       "<defs>\n",
       "  <clipPath id=\"clip640\">\n",
       "    <rect x=\"0\" y=\"0\" width=\"2400\" height=\"1600\"/>\n",
       "  </clipPath>\n",
       "</defs>\n",
       "<path clip-path=\"url(#clip640)\" d=\"M0 1600 L2400 1600 L2400 0 L0 0  Z\" fill=\"#ffffff\" fill-rule=\"evenodd\" fill-opacity=\"1\"/>\n",
       "<defs>\n",
       "  <clipPath id=\"clip641\">\n",
       "    <rect x=\"480\" y=\"0\" width=\"1681\" height=\"1600\"/>\n",
       "  </clipPath>\n",
       "</defs>\n",
       "<path clip-path=\"url(#clip640)\" d=\"M203.964 1423.18 L2352.76 1423.18 L2352.76 47.2441 L203.964 47.2441  Z\" fill=\"#ffffff\" fill-rule=\"evenodd\" fill-opacity=\"1\"/>\n",
       "<defs>\n",
       "  <clipPath id=\"clip642\">\n",
       "    <rect x=\"203\" y=\"47\" width=\"2150\" height=\"1377\"/>\n",
       "  </clipPath>\n",
       "</defs>\n",
       "<polyline clip-path=\"url(#clip642)\" style=\"stroke:#000000; stroke-linecap:round; stroke-linejoin:round; stroke-width:2; stroke-opacity:0.1; fill:none\" points=\"224.235,1423.18 224.235,47.2441 \"/>\n",
       "<polyline clip-path=\"url(#clip642)\" style=\"stroke:#000000; stroke-linecap:round; stroke-linejoin:round; stroke-width:2; stroke-opacity:0.1; fill:none\" points=\"629.668,1423.18 629.668,47.2441 \"/>\n",
       "<polyline clip-path=\"url(#clip642)\" style=\"stroke:#000000; stroke-linecap:round; stroke-linejoin:round; stroke-width:2; stroke-opacity:0.1; fill:none\" points=\"1035.1,1423.18 1035.1,47.2441 \"/>\n",
       "<polyline clip-path=\"url(#clip642)\" style=\"stroke:#000000; stroke-linecap:round; stroke-linejoin:round; stroke-width:2; stroke-opacity:0.1; fill:none\" points=\"1440.53,1423.18 1440.53,47.2441 \"/>\n",
       "<polyline clip-path=\"url(#clip642)\" style=\"stroke:#000000; stroke-linecap:round; stroke-linejoin:round; stroke-width:2; stroke-opacity:0.1; fill:none\" points=\"1845.97,1423.18 1845.97,47.2441 \"/>\n",
       "<polyline clip-path=\"url(#clip642)\" style=\"stroke:#000000; stroke-linecap:round; stroke-linejoin:round; stroke-width:2; stroke-opacity:0.1; fill:none\" points=\"2251.4,1423.18 2251.4,47.2441 \"/>\n",
       "<polyline clip-path=\"url(#clip640)\" style=\"stroke:#000000; stroke-linecap:round; stroke-linejoin:round; stroke-width:4; stroke-opacity:1; fill:none\" points=\"203.964,1423.18 2352.76,1423.18 \"/>\n",
       "<polyline clip-path=\"url(#clip640)\" style=\"stroke:#000000; stroke-linecap:round; stroke-linejoin:round; stroke-width:4; stroke-opacity:1; fill:none\" points=\"203.964,47.2441 2352.76,47.2441 \"/>\n",
       "<polyline clip-path=\"url(#clip640)\" style=\"stroke:#000000; stroke-linecap:round; stroke-linejoin:round; stroke-width:4; stroke-opacity:1; fill:none\" points=\"224.235,1423.18 224.235,1404.28 \"/>\n",
       "<polyline clip-path=\"url(#clip640)\" style=\"stroke:#000000; stroke-linecap:round; stroke-linejoin:round; stroke-width:4; stroke-opacity:1; fill:none\" points=\"629.668,1423.18 629.668,1404.28 \"/>\n",
       "<polyline clip-path=\"url(#clip640)\" style=\"stroke:#000000; stroke-linecap:round; stroke-linejoin:round; stroke-width:4; stroke-opacity:1; fill:none\" points=\"1035.1,1423.18 1035.1,1404.28 \"/>\n",
       "<polyline clip-path=\"url(#clip640)\" style=\"stroke:#000000; stroke-linecap:round; stroke-linejoin:round; stroke-width:4; stroke-opacity:1; fill:none\" points=\"1440.53,1423.18 1440.53,1404.28 \"/>\n",
       "<polyline clip-path=\"url(#clip640)\" style=\"stroke:#000000; stroke-linecap:round; stroke-linejoin:round; stroke-width:4; stroke-opacity:1; fill:none\" points=\"1845.97,1423.18 1845.97,1404.28 \"/>\n",
       "<polyline clip-path=\"url(#clip640)\" style=\"stroke:#000000; stroke-linecap:round; stroke-linejoin:round; stroke-width:4; stroke-opacity:1; fill:none\" points=\"2251.4,1423.18 2251.4,1404.28 \"/>\n",
       "<path clip-path=\"url(#clip640)\" d=\"M224.235 1454.1 Q220.624 1454.1 218.795 1457.66 Q216.99 1461.2 216.99 1468.33 Q216.99 1475.44 218.795 1479.01 Q220.624 1482.55 224.235 1482.55 Q227.869 1482.55 229.675 1479.01 Q231.504 1475.44 231.504 1468.33 Q231.504 1461.2 229.675 1457.66 Q227.869 1454.1 224.235 1454.1 M224.235 1450.39 Q230.045 1450.39 233.101 1455 Q236.18 1459.58 236.18 1468.33 Q236.18 1477.06 233.101 1481.67 Q230.045 1486.25 224.235 1486.25 Q218.425 1486.25 215.346 1481.67 Q212.291 1477.06 212.291 1468.33 Q212.291 1459.58 215.346 1455 Q218.425 1450.39 224.235 1450.39 Z\" fill=\"#000000\" fill-rule=\"nonzero\" fill-opacity=\"1\" /><path clip-path=\"url(#clip640)\" d=\"M604.355 1481.64 L611.994 1481.64 L611.994 1455.28 L603.684 1456.95 L603.684 1452.69 L611.948 1451.02 L616.624 1451.02 L616.624 1481.64 L624.263 1481.64 L624.263 1485.58 L604.355 1485.58 L604.355 1481.64 Z\" fill=\"#000000\" fill-rule=\"nonzero\" fill-opacity=\"1\" /><path clip-path=\"url(#clip640)\" d=\"M643.707 1454.1 Q640.096 1454.1 638.267 1457.66 Q636.462 1461.2 636.462 1468.33 Q636.462 1475.44 638.267 1479.01 Q640.096 1482.55 643.707 1482.55 Q647.341 1482.55 649.147 1479.01 Q650.975 1475.44 650.975 1468.33 Q650.975 1461.2 649.147 1457.66 Q647.341 1454.1 643.707 1454.1 M643.707 1450.39 Q649.517 1450.39 652.573 1455 Q655.651 1459.58 655.651 1468.33 Q655.651 1477.06 652.573 1481.67 Q649.517 1486.25 643.707 1486.25 Q637.897 1486.25 634.818 1481.67 Q631.763 1477.06 631.763 1468.33 Q631.763 1459.58 634.818 1455 Q637.897 1450.39 643.707 1450.39 Z\" fill=\"#000000\" fill-rule=\"nonzero\" fill-opacity=\"1\" /><path clip-path=\"url(#clip640)\" d=\"M1013.87 1481.64 L1030.19 1481.64 L1030.19 1485.58 L1008.25 1485.58 L1008.25 1481.64 Q1010.91 1478.89 1015.49 1474.26 Q1020.1 1469.61 1021.28 1468.27 Q1023.53 1465.74 1024.41 1464.01 Q1025.31 1462.25 1025.31 1460.56 Q1025.31 1457.8 1023.36 1456.07 Q1021.44 1454.33 1018.34 1454.33 Q1016.14 1454.33 1013.69 1455.09 Q1011.26 1455.86 1008.48 1457.41 L1008.48 1452.69 Q1011.3 1451.55 1013.76 1450.97 Q1016.21 1450.39 1018.25 1450.39 Q1023.62 1450.39 1026.81 1453.08 Q1030.01 1455.77 1030.01 1460.26 Q1030.01 1462.39 1029.2 1464.31 Q1028.41 1466.2 1026.3 1468.8 Q1025.73 1469.47 1022.62 1472.69 Q1019.52 1475.88 1013.87 1481.64 Z\" fill=\"#000000\" fill-rule=\"nonzero\" fill-opacity=\"1\" /><path clip-path=\"url(#clip640)\" d=\"M1050.01 1454.1 Q1046.4 1454.1 1044.57 1457.66 Q1042.76 1461.2 1042.76 1468.33 Q1042.76 1475.44 1044.57 1479.01 Q1046.4 1482.55 1050.01 1482.55 Q1053.64 1482.55 1055.45 1479.01 Q1057.28 1475.44 1057.28 1468.33 Q1057.28 1461.2 1055.45 1457.66 Q1053.64 1454.1 1050.01 1454.1 M1050.01 1450.39 Q1055.82 1450.39 1058.87 1455 Q1061.95 1459.58 1061.95 1468.33 Q1061.95 1477.06 1058.87 1481.67 Q1055.82 1486.25 1050.01 1486.25 Q1044.2 1486.25 1041.12 1481.67 Q1038.06 1477.06 1038.06 1468.33 Q1038.06 1459.58 1041.12 1455 Q1044.2 1450.39 1050.01 1450.39 Z\" fill=\"#000000\" fill-rule=\"nonzero\" fill-opacity=\"1\" /><path clip-path=\"url(#clip640)\" d=\"M1429.38 1466.95 Q1432.73 1467.66 1434.61 1469.93 Q1436.5 1472.2 1436.5 1475.53 Q1436.5 1480.65 1432.99 1483.45 Q1429.47 1486.25 1422.99 1486.25 Q1420.81 1486.25 1418.5 1485.81 Q1416.2 1485.39 1413.75 1484.54 L1413.75 1480.02 Q1415.69 1481.16 1418.01 1481.74 Q1420.32 1482.32 1422.85 1482.32 Q1427.25 1482.32 1429.54 1480.58 Q1431.85 1478.84 1431.85 1475.53 Q1431.85 1472.48 1429.7 1470.77 Q1427.57 1469.03 1423.75 1469.03 L1419.72 1469.03 L1419.72 1465.19 L1423.94 1465.19 Q1427.38 1465.19 1429.21 1463.82 Q1431.04 1462.43 1431.04 1459.84 Q1431.04 1457.18 1429.14 1455.77 Q1427.27 1454.33 1423.75 1454.33 Q1421.83 1454.33 1419.63 1454.75 Q1417.43 1455.16 1414.79 1456.04 L1414.79 1451.88 Q1417.45 1451.14 1419.77 1450.77 Q1422.11 1450.39 1424.17 1450.39 Q1429.49 1450.39 1432.59 1452.83 Q1435.69 1455.23 1435.69 1459.35 Q1435.69 1462.22 1434.05 1464.21 Q1432.41 1466.18 1429.38 1466.95 Z\" fill=\"#000000\" fill-rule=\"nonzero\" fill-opacity=\"1\" /><path clip-path=\"url(#clip640)\" d=\"M1455.37 1454.1 Q1451.76 1454.1 1449.93 1457.66 Q1448.13 1461.2 1448.13 1468.33 Q1448.13 1475.44 1449.93 1479.01 Q1451.76 1482.55 1455.37 1482.55 Q1459 1482.55 1460.81 1479.01 Q1462.64 1475.44 1462.64 1468.33 Q1462.64 1461.2 1460.81 1457.66 Q1459 1454.1 1455.37 1454.1 M1455.37 1450.39 Q1461.18 1450.39 1464.24 1455 Q1467.32 1459.58 1467.32 1468.33 Q1467.32 1477.06 1464.24 1481.67 Q1461.18 1486.25 1455.37 1486.25 Q1449.56 1486.25 1446.48 1481.67 Q1443.43 1477.06 1443.43 1468.33 Q1443.43 1459.58 1446.48 1455 Q1449.56 1450.39 1455.37 1450.39 Z\" fill=\"#000000\" fill-rule=\"nonzero\" fill-opacity=\"1\" /><path clip-path=\"url(#clip640)\" d=\"M1834.14 1455.09 L1822.33 1473.54 L1834.14 1473.54 L1834.14 1455.09 M1832.91 1451.02 L1838.79 1451.02 L1838.79 1473.54 L1843.72 1473.54 L1843.72 1477.43 L1838.79 1477.43 L1838.79 1485.58 L1834.14 1485.58 L1834.14 1477.43 L1818.53 1477.43 L1818.53 1472.92 L1832.91 1451.02 Z\" fill=\"#000000\" fill-rule=\"nonzero\" fill-opacity=\"1\" /><path clip-path=\"url(#clip640)\" d=\"M1861.45 1454.1 Q1857.84 1454.1 1856.01 1457.66 Q1854.21 1461.2 1854.21 1468.33 Q1854.21 1475.44 1856.01 1479.01 Q1857.84 1482.55 1861.45 1482.55 Q1865.09 1482.55 1866.89 1479.01 Q1868.72 1475.44 1868.72 1468.33 Q1868.72 1461.2 1866.89 1457.66 Q1865.09 1454.1 1861.45 1454.1 M1861.45 1450.39 Q1867.26 1450.39 1870.32 1455 Q1873.4 1459.58 1873.4 1468.33 Q1873.4 1477.06 1870.32 1481.67 Q1867.26 1486.25 1861.45 1486.25 Q1855.64 1486.25 1852.56 1481.67 Q1849.51 1477.06 1849.51 1468.33 Q1849.51 1459.58 1852.56 1455 Q1855.64 1450.39 1861.45 1450.39 Z\" fill=\"#000000\" fill-rule=\"nonzero\" fill-opacity=\"1\" /><path clip-path=\"url(#clip640)\" d=\"M2226.1 1451.02 L2244.45 1451.02 L2244.45 1454.96 L2230.38 1454.96 L2230.38 1463.43 Q2231.4 1463.08 2232.42 1462.92 Q2233.43 1462.73 2234.45 1462.73 Q2240.24 1462.73 2243.62 1465.9 Q2247 1469.08 2247 1474.49 Q2247 1480.07 2243.53 1483.17 Q2240.06 1486.25 2233.74 1486.25 Q2231.56 1486.25 2229.29 1485.88 Q2227.05 1485.51 2224.64 1484.77 L2224.64 1480.07 Q2226.72 1481.2 2228.94 1481.76 Q2231.17 1482.32 2233.64 1482.32 Q2237.65 1482.32 2239.99 1480.21 Q2242.32 1478.1 2242.32 1474.49 Q2242.32 1470.88 2239.99 1468.77 Q2237.65 1466.67 2233.64 1466.67 Q2231.77 1466.67 2229.89 1467.08 Q2228.04 1467.5 2226.1 1468.38 L2226.1 1451.02 Z\" fill=\"#000000\" fill-rule=\"nonzero\" fill-opacity=\"1\" /><path clip-path=\"url(#clip640)\" d=\"M2266.21 1454.1 Q2262.6 1454.1 2260.77 1457.66 Q2258.97 1461.2 2258.97 1468.33 Q2258.97 1475.44 2260.77 1479.01 Q2262.6 1482.55 2266.21 1482.55 Q2269.85 1482.55 2271.65 1479.01 Q2273.48 1475.44 2273.48 1468.33 Q2273.48 1461.2 2271.65 1457.66 Q2269.85 1454.1 2266.21 1454.1 M2266.21 1450.39 Q2272.02 1450.39 2275.08 1455 Q2278.16 1459.58 2278.16 1468.33 Q2278.16 1477.06 2275.08 1481.67 Q2272.02 1486.25 2266.21 1486.25 Q2260.4 1486.25 2257.32 1481.67 Q2254.27 1477.06 2254.27 1468.33 Q2254.27 1459.58 2257.32 1455 Q2260.4 1450.39 2266.21 1450.39 Z\" fill=\"#000000\" fill-rule=\"nonzero\" fill-opacity=\"1\" /><path clip-path=\"url(#clip640)\" d=\"M1184.53 1520.52 L1214.58 1520.52 L1214.58 1525.93 L1190.96 1525.93 L1190.96 1540 L1213.59 1540 L1213.59 1545.41 L1190.96 1545.41 L1190.96 1562.63 L1215.15 1562.63 L1215.15 1568.04 L1184.53 1568.04 L1184.53 1520.52 Z\" fill=\"#000000\" fill-rule=\"nonzero\" fill-opacity=\"1\" /><path clip-path=\"url(#clip640)\" d=\"M1231.13 1562.7 L1231.13 1581.6 L1225.24 1581.6 L1225.24 1532.4 L1231.13 1532.4 L1231.13 1537.81 Q1232.97 1534.62 1235.77 1533.1 Q1238.61 1531.54 1242.52 1531.54 Q1249.01 1531.54 1253.06 1536.69 Q1257.13 1541.85 1257.13 1550.25 Q1257.13 1558.65 1253.06 1563.81 Q1249.01 1568.97 1242.52 1568.97 Q1238.61 1568.97 1235.77 1567.44 Q1232.97 1565.88 1231.13 1562.7 M1251.05 1550.25 Q1251.05 1543.79 1248.38 1540.13 Q1245.74 1536.44 1241.09 1536.44 Q1236.44 1536.44 1233.77 1540.13 Q1231.13 1543.79 1231.13 1550.25 Q1231.13 1556.71 1233.77 1560.4 Q1236.44 1564.07 1241.09 1564.07 Q1245.74 1564.07 1248.38 1560.4 Q1251.05 1556.71 1251.05 1550.25 Z\" fill=\"#000000\" fill-rule=\"nonzero\" fill-opacity=\"1\" /><path clip-path=\"url(#clip640)\" d=\"M1280.65 1536.5 Q1275.94 1536.5 1273.2 1540.19 Q1270.47 1543.85 1270.47 1550.25 Q1270.47 1556.65 1273.17 1560.34 Q1275.91 1564 1280.65 1564 Q1285.33 1564 1288.07 1560.31 Q1290.8 1556.62 1290.8 1550.25 Q1290.8 1543.92 1288.07 1540.23 Q1285.33 1536.5 1280.65 1536.5 M1280.65 1531.54 Q1288.29 1531.54 1292.65 1536.5 Q1297.01 1541.47 1297.01 1550.25 Q1297.01 1559 1292.65 1564 Q1288.29 1568.97 1280.65 1568.97 Q1272.98 1568.97 1268.62 1564 Q1264.29 1559 1264.29 1550.25 Q1264.29 1541.47 1268.62 1536.5 Q1272.98 1531.54 1280.65 1531.54 Z\" fill=\"#000000\" fill-rule=\"nonzero\" fill-opacity=\"1\" /><path clip-path=\"url(#clip640)\" d=\"M1332.37 1533.76 L1332.37 1539.24 Q1329.89 1537.87 1327.38 1537.2 Q1324.89 1536.5 1322.35 1536.5 Q1316.65 1536.5 1313.5 1540.13 Q1310.35 1543.73 1310.35 1550.25 Q1310.35 1556.78 1313.5 1560.4 Q1316.65 1564 1322.35 1564 Q1324.89 1564 1327.38 1563.33 Q1329.89 1562.63 1332.37 1561.26 L1332.37 1566.68 Q1329.92 1567.82 1327.28 1568.39 Q1324.67 1568.97 1321.71 1568.97 Q1313.66 1568.97 1308.92 1563.91 Q1304.17 1558.85 1304.17 1550.25 Q1304.17 1541.53 1308.95 1536.53 Q1313.75 1531.54 1322.09 1531.54 Q1324.8 1531.54 1327.38 1532.11 Q1329.95 1532.65 1332.37 1533.76 Z\" fill=\"#000000\" fill-rule=\"nonzero\" fill-opacity=\"1\" /><path clip-path=\"url(#clip640)\" d=\"M1372.19 1546.53 L1372.19 1568.04 L1366.33 1568.04 L1366.33 1546.72 Q1366.33 1541.66 1364.36 1539.14 Q1362.39 1536.63 1358.44 1536.63 Q1353.7 1536.63 1350.96 1539.65 Q1348.22 1542.68 1348.22 1547.9 L1348.22 1568.04 L1342.34 1568.04 L1342.34 1518.52 L1348.22 1518.52 L1348.22 1537.93 Q1350.32 1534.72 1353.16 1533.13 Q1356.02 1531.54 1359.75 1531.54 Q1365.89 1531.54 1369.04 1535.36 Q1372.19 1539.14 1372.19 1546.53 Z\" fill=\"#000000\" fill-rule=\"nonzero\" fill-opacity=\"1\" /><polyline clip-path=\"url(#clip642)\" style=\"stroke:#000000; stroke-linecap:round; stroke-linejoin:round; stroke-width:2; stroke-opacity:0.1; fill:none\" points=\"203.964,1107.17 2352.76,1107.17 \"/>\n",
       "<polyline clip-path=\"url(#clip642)\" style=\"stroke:#000000; stroke-linecap:round; stroke-linejoin:round; stroke-width:2; stroke-opacity:0.1; fill:none\" points=\"203.964,761.419 2352.76,761.419 \"/>\n",
       "<polyline clip-path=\"url(#clip642)\" style=\"stroke:#000000; stroke-linecap:round; stroke-linejoin:round; stroke-width:2; stroke-opacity:0.1; fill:none\" points=\"203.964,415.663 2352.76,415.663 \"/>\n",
       "<polyline clip-path=\"url(#clip642)\" style=\"stroke:#000000; stroke-linecap:round; stroke-linejoin:round; stroke-width:2; stroke-opacity:0.1; fill:none\" points=\"203.964,69.9076 2352.76,69.9076 \"/>\n",
       "<polyline clip-path=\"url(#clip640)\" style=\"stroke:#000000; stroke-linecap:round; stroke-linejoin:round; stroke-width:4; stroke-opacity:1; fill:none\" points=\"203.964,1423.18 203.964,47.2441 \"/>\n",
       "<polyline clip-path=\"url(#clip640)\" style=\"stroke:#000000; stroke-linecap:round; stroke-linejoin:round; stroke-width:4; stroke-opacity:1; fill:none\" points=\"2352.76,1423.18 2352.76,47.2441 \"/>\n",
       "<polyline clip-path=\"url(#clip640)\" style=\"stroke:#000000; stroke-linecap:round; stroke-linejoin:round; stroke-width:4; stroke-opacity:1; fill:none\" points=\"203.964,1107.17 222.861,1107.17 \"/>\n",
       "<polyline clip-path=\"url(#clip640)\" style=\"stroke:#000000; stroke-linecap:round; stroke-linejoin:round; stroke-width:4; stroke-opacity:1; fill:none\" points=\"203.964,761.419 222.861,761.419 \"/>\n",
       "<polyline clip-path=\"url(#clip640)\" style=\"stroke:#000000; stroke-linecap:round; stroke-linejoin:round; stroke-width:4; stroke-opacity:1; fill:none\" points=\"203.964,415.663 222.861,415.663 \"/>\n",
       "<polyline clip-path=\"url(#clip640)\" style=\"stroke:#000000; stroke-linecap:round; stroke-linejoin:round; stroke-width:4; stroke-opacity:1; fill:none\" points=\"203.964,69.9076 222.861,69.9076 \"/>\n",
       "<path clip-path=\"url(#clip640)\" d=\"M147.061 1089.89 L165.417 1089.89 L165.417 1093.83 L151.343 1093.83 L151.343 1102.3 Q152.362 1101.95 153.38 1101.79 Q154.399 1101.61 155.417 1101.61 Q161.204 1101.61 164.584 1104.78 Q167.964 1107.95 167.964 1113.37 Q167.964 1118.94 164.491 1122.05 Q161.019 1125.13 154.7 1125.13 Q152.524 1125.13 150.255 1124.75 Q148.01 1124.38 145.603 1123.64 L145.603 1118.94 Q147.686 1120.08 149.908 1120.63 Q152.13 1121.19 154.607 1121.19 Q158.612 1121.19 160.95 1119.08 Q163.288 1116.98 163.288 1113.37 Q163.288 1109.76 160.95 1107.65 Q158.612 1105.54 154.607 1105.54 Q152.732 1105.54 150.857 1105.96 Q149.005 1106.38 147.061 1107.26 L147.061 1089.89 Z\" fill=\"#000000\" fill-rule=\"nonzero\" fill-opacity=\"1\" /><path clip-path=\"url(#clip640)\" d=\"M116.668 774.763 L124.306 774.763 L124.306 748.398 L115.996 750.064 L115.996 745.805 L124.26 744.139 L128.936 744.139 L128.936 774.763 L136.575 774.763 L136.575 778.699 L116.668 778.699 L116.668 774.763 Z\" fill=\"#000000\" fill-rule=\"nonzero\" fill-opacity=\"1\" /><path clip-path=\"url(#clip640)\" d=\"M156.019 747.217 Q152.408 747.217 150.579 750.782 Q148.774 754.324 148.774 761.453 Q148.774 768.56 150.579 772.125 Q152.408 775.666 156.019 775.666 Q159.653 775.666 161.459 772.125 Q163.288 768.56 163.288 761.453 Q163.288 754.324 161.459 750.782 Q159.653 747.217 156.019 747.217 M156.019 743.514 Q161.829 743.514 164.885 748.12 Q167.964 752.703 167.964 761.453 Q167.964 770.18 164.885 774.787 Q161.829 779.37 156.019 779.37 Q150.209 779.37 147.13 774.787 Q144.075 770.18 144.075 761.453 Q144.075 752.703 147.13 748.12 Q150.209 743.514 156.019 743.514 Z\" fill=\"#000000\" fill-rule=\"nonzero\" fill-opacity=\"1\" /><path clip-path=\"url(#clip640)\" d=\"M117.663 429.008 L125.302 429.008 L125.302 402.642 L116.992 404.309 L116.992 400.05 L125.255 398.383 L129.931 398.383 L129.931 429.008 L137.57 429.008 L137.57 432.943 L117.663 432.943 L117.663 429.008 Z\" fill=\"#000000\" fill-rule=\"nonzero\" fill-opacity=\"1\" /><path clip-path=\"url(#clip640)\" d=\"M147.061 398.383 L165.417 398.383 L165.417 402.318 L151.343 402.318 L151.343 410.79 Q152.362 410.443 153.38 410.281 Q154.399 410.096 155.417 410.096 Q161.204 410.096 164.584 413.267 Q167.964 416.439 167.964 421.855 Q167.964 427.434 164.491 430.536 Q161.019 433.614 154.7 433.614 Q152.524 433.614 150.255 433.244 Q148.01 432.874 145.603 432.133 L145.603 427.434 Q147.686 428.568 149.908 429.124 Q152.13 429.679 154.607 429.679 Q158.612 429.679 160.95 427.573 Q163.288 425.466 163.288 421.855 Q163.288 418.244 160.95 416.138 Q158.612 414.031 154.607 414.031 Q152.732 414.031 150.857 414.448 Q149.005 414.864 147.061 415.744 L147.061 398.383 Z\" fill=\"#000000\" fill-rule=\"nonzero\" fill-opacity=\"1\" /><path clip-path=\"url(#clip640)\" d=\"M119.885 83.2524 L136.204 83.2524 L136.204 87.1876 L114.26 87.1876 L114.26 83.2524 Q116.922 80.4978 121.505 75.8682 Q126.112 71.2155 127.292 69.8729 Q129.538 67.3497 130.417 65.6136 Q131.32 63.8544 131.32 62.1646 Q131.32 59.41 129.376 57.6739 Q127.455 55.9378 124.353 55.9378 Q122.154 55.9378 119.7 56.7016 Q117.269 57.4655 114.492 59.0164 L114.492 54.2943 Q117.316 53.16 119.769 52.5813 Q122.223 52.0026 124.26 52.0026 Q129.63 52.0026 132.825 54.6878 Q136.019 57.3729 136.019 61.8637 Q136.019 63.9933 135.209 65.9146 Q134.422 67.8127 132.316 70.4053 Q131.737 71.0766 128.635 74.2941 Q125.533 77.4886 119.885 83.2524 Z\" fill=\"#000000\" fill-rule=\"nonzero\" fill-opacity=\"1\" /><path clip-path=\"url(#clip640)\" d=\"M156.019 55.7063 Q152.408 55.7063 150.579 59.2711 Q148.774 62.8127 148.774 69.9423 Q148.774 77.0488 150.579 80.6136 Q152.408 84.1552 156.019 84.1552 Q159.653 84.1552 161.459 80.6136 Q163.288 77.0488 163.288 69.9423 Q163.288 62.8127 161.459 59.2711 Q159.653 55.7063 156.019 55.7063 M156.019 52.0026 Q161.829 52.0026 164.885 56.6091 Q167.964 61.1924 167.964 69.9423 Q167.964 78.6691 164.885 83.2756 Q161.829 87.8589 156.019 87.8589 Q150.209 87.8589 147.13 83.2756 Q144.075 78.6691 144.075 69.9423 Q144.075 61.1924 147.13 56.6091 Q150.209 52.0026 156.019 52.0026 Z\" fill=\"#000000\" fill-rule=\"nonzero\" fill-opacity=\"1\" /><path clip-path=\"url(#clip640)\" d=\"M16.4842 801.909 L16.4842 795.479 L58.5933 795.479 L58.5933 772.34 L64.0042 772.34 L64.0042 801.909 L16.4842 801.909 Z\" fill=\"#000000\" fill-rule=\"nonzero\" fill-opacity=\"1\" /><path clip-path=\"url(#clip640)\" d=\"M32.4621 753.179 Q32.4621 757.89 36.1542 760.627 Q39.8145 763.364 46.212 763.364 Q52.6095 763.364 56.3017 760.659 Q59.9619 757.922 59.9619 753.179 Q59.9619 748.5 56.2698 745.763 Q52.5777 743.026 46.212 743.026 Q39.8781 743.026 36.186 745.763 Q32.4621 748.5 32.4621 753.179 M27.4968 753.179 Q27.4968 745.54 32.4621 741.18 Q37.4273 736.819 46.212 736.819 Q54.9649 736.819 59.9619 741.18 Q64.9272 745.54 64.9272 753.179 Q64.9272 760.85 59.9619 765.21 Q54.9649 769.539 46.212 769.539 Q37.4273 769.539 32.4621 765.21 Q27.4968 760.85 27.4968 753.179 Z\" fill=\"#000000\" fill-rule=\"nonzero\" fill-opacity=\"1\" /><path clip-path=\"url(#clip640)\" d=\"M29.4065 704.386 L34.9447 704.386 Q33.6716 706.869 33.035 709.542 Q32.3984 712.216 32.3984 715.08 Q32.3984 719.441 33.7352 721.637 Q35.072 723.801 37.7456 723.801 Q39.7826 723.801 40.9603 722.242 Q42.1061 720.682 43.1565 715.972 L43.6021 713.966 Q44.9389 707.728 47.3897 705.118 Q49.8086 702.476 54.1691 702.476 Q59.1344 702.476 62.0308 706.423 Q64.9272 710.338 64.9272 717.213 Q64.9272 720.078 64.3543 723.197 Q63.8132 726.284 62.6992 729.722 L56.6518 729.722 Q58.3387 726.475 59.198 723.324 Q60.0256 720.173 60.0256 717.086 Q60.0256 712.948 58.6251 710.72 Q57.1929 708.492 54.6147 708.492 Q52.2276 708.492 50.9545 710.115 Q49.6813 711.707 48.5037 717.149 L48.0262 719.186 Q46.8804 724.629 44.5251 727.048 Q42.138 729.467 38.0002 729.467 Q32.9713 729.467 30.2341 725.902 Q27.4968 722.337 27.4968 715.781 Q27.4968 712.534 27.9743 709.67 Q28.4517 706.805 29.4065 704.386 Z\" fill=\"#000000\" fill-rule=\"nonzero\" fill-opacity=\"1\" /><path clip-path=\"url(#clip640)\" d=\"M29.4065 670.425 L34.9447 670.425 Q33.6716 672.908 33.035 675.581 Q32.3984 678.255 32.3984 681.119 Q32.3984 685.48 33.7352 687.676 Q35.072 689.84 37.7456 689.84 Q39.7826 689.84 40.9603 688.281 Q42.1061 686.721 43.1565 682.011 L43.6021 680.005 Q44.9389 673.767 47.3897 671.157 Q49.8086 668.515 54.1691 668.515 Q59.1344 668.515 62.0308 672.462 Q64.9272 676.377 64.9272 683.252 Q64.9272 686.116 64.3543 689.236 Q63.8132 692.323 62.6992 695.761 L56.6518 695.761 Q58.3387 692.514 59.198 689.363 Q60.0256 686.212 60.0256 683.125 Q60.0256 678.987 58.6251 676.759 Q57.1929 674.531 54.6147 674.531 Q52.2276 674.531 50.9545 676.154 Q49.6813 677.746 48.5037 683.188 L48.0262 685.225 Q46.8804 690.668 44.5251 693.087 Q42.138 695.506 38.0002 695.506 Q32.9713 695.506 30.2341 691.941 Q27.4968 688.376 27.4968 681.82 Q27.4968 678.573 27.9743 675.709 Q28.4517 672.844 29.4065 670.425 Z\" fill=\"#000000\" fill-rule=\"nonzero\" fill-opacity=\"1\" /><polyline clip-path=\"url(#clip642)\" style=\"stroke:#009af9; stroke-linecap:round; stroke-linejoin:round; stroke-width:8; stroke-opacity:1; fill:none\" points=\"264.778,86.1857 305.322,216.151 345.865,331.815 386.408,434.523 426.951,525.578 467.495,606.226 508.038,677.642 548.581,740.923 589.124,797.073 629.668,847.005 670.211,891.535 710.754,931.379 751.297,967.164 791.841,999.428 832.384,1028.63 872.927,1055.17 913.47,1079.37 954.014,1101.52 994.557,1121.86 1035.1,1140.6 1075.64,1157.91 1116.19,1173.94 1156.73,1188.83 1197.27,1202.68 1237.82,1215.6 1278.36,1227.68 1318.9,1238.99 1359.45,1249.6 1399.99,1259.57 1440.53,1268.95 1481.08,1277.79 1521.62,1286.13 1562.16,1294.01 1602.71,1301.46 1643.25,1308.52 1683.79,1315.21 1724.34,1321.56 1764.88,1327.58 1805.42,1333.31 1845.97,1338.76 1886.51,1343.94 1927.05,1348.88 1967.6,1353.58 2008.14,1358.07 2048.68,1362.34 2089.22,1366.43 2129.77,1370.32 2170.31,1374.04 2210.85,1377.6 2251.4,1380.99 2291.94,1384.24 \"/>\n",
       "</svg>\n"
      ]
     },
     "execution_count": 17,
     "metadata": {},
     "output_type": "execute_result"
    }
   ],
   "source": [
    "plot(loss_train, legend=nothing, framestyle=:box, linewidth=2)\n",
    "ylabel!(\"Loss\")\n",
    "xlabel!(\"Epoch\")"
   ]
  },
  {
   "cell_type": "code",
   "execution_count": 18,
   "id": "209bb1c6",
   "metadata": {},
   "outputs": [
    {
     "name": "stdout",
     "output_type": "stream",
     "text": [
      "Ground-truth epsilon: 1.2\n",
      "Estimate epsilon:     1.2080478779242816\n",
      "Ground-truth sigma: 2.5\n",
      "Estimate sigma:     2.4111487270718515\n"
     ]
    }
   ],
   "source": [
    "println(\"Ground-truth epsilon: \", epsilon_target)\n",
    "println(\"Estimate epsilon:     \", m.P[1])\n",
    "\n",
    "println(\"Ground-truth sigma: \", sigma_target)\n",
    "println(\"Estimate sigma:     \", m.P[2])"
   ]
  }
 ],
 "metadata": {
  "kernelspec": {
   "display_name": "Julia 1.9.2",
   "language": "julia",
   "name": "julia-1.9"
  },
  "language_info": {
   "file_extension": ".jl",
   "mimetype": "application/julia",
   "name": "julia",
   "version": "1.9.2"
  }
 },
 "nbformat": 4,
 "nbformat_minor": 5
}
